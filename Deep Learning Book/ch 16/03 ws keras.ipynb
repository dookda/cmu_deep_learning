{
 "cells": [
  {
   "cell_type": "markdown",
   "id": "0034c48b-a3da-420a-a40f-f0143d161190",
   "metadata": {
    "id": "0034c48b-a3da-420a-a40f-f0143d161190"
   },
   "source": [
    "# ws 03 Keras Embedding"
   ]
  },
  {
   "cell_type": "code",
   "execution_count": null,
   "id": "1c2e2e74-67e7-477d-a23b-fc6323718180",
   "metadata": {
    "colab": {
     "base_uri": "https://localhost:8080/"
    },
    "id": "1c2e2e74-67e7-477d-a23b-fc6323718180",
    "outputId": "2448f991-1095-4906-c48b-d8f5c3172ace"
   },
   "outputs": [],
   "source": [
    "from keras.preprocessing.text import Tokenizer\n",
    "\n",
    "\n",
    "s1 = 'CNN is good.'        \n",
    "s2 = 'python is easy and good.'\n",
    "s3 = 'So good so happy enjoy with Python.'\n",
    "\n",
    "sentences = [s1, s2, s3]\n",
    "sentences"
   ]
  },
  {
   "cell_type": "code",
   "execution_count": null,
   "id": "481f57cf-8269-4e59-817e-f293d742a41f",
   "metadata": {
    "id": "481f57cf-8269-4e59-817e-f293d742a41f"
   },
   "outputs": [],
   "source": [
    "tk = Tokenizer() \n",
    "\n",
    "tk.fit_on_texts(sentences)"
   ]
  },
  {
   "cell_type": "code",
   "execution_count": null,
   "id": "14fe79ff-f114-4f97-82d0-f4ae2f105f3f",
   "metadata": {
    "colab": {
     "base_uri": "https://localhost:8080/"
    },
    "id": "14fe79ff-f114-4f97-82d0-f4ae2f105f3f",
    "outputId": "91962f24-6219-4e54-8271-bf749a621314"
   },
   "outputs": [],
   "source": [
    "tk.document_count "
   ]
  },
  {
   "cell_type": "code",
   "execution_count": null,
   "id": "47578796-c5a5-43d4-992c-23792e1ef77b",
   "metadata": {
    "colab": {
     "base_uri": "https://localhost:8080/"
    },
    "id": "47578796-c5a5-43d4-992c-23792e1ef77b",
    "outputId": "7fd1cb72-04cc-4b6d-c1aa-0c1a50274660"
   },
   "outputs": [],
   "source": [
    "tk.word_docs "
   ]
  },
  {
   "cell_type": "code",
   "execution_count": null,
   "id": "8d87650f-9739-4939-95c5-3e4bfff38597",
   "metadata": {
    "colab": {
     "base_uri": "https://localhost:8080/"
    },
    "id": "8d87650f-9739-4939-95c5-3e4bfff38597",
    "outputId": "5e8914a4-2188-4365-9dc8-4f20011bc824"
   },
   "outputs": [],
   "source": [
    "tk.word_counts  "
   ]
  },
  {
   "cell_type": "code",
   "execution_count": null,
   "id": "5386c7af-81c4-4734-aff5-8fd7fb77e0e7",
   "metadata": {
    "colab": {
     "base_uri": "https://localhost:8080/"
    },
    "id": "5386c7af-81c4-4734-aff5-8fd7fb77e0e7",
    "outputId": "7ec24ecb-00e4-4a69-867b-ec7ed8fc73e2"
   },
   "outputs": [],
   "source": [
    "tk.word_counts.items()"
   ]
  },
  {
   "cell_type": "code",
   "execution_count": null,
   "id": "187dd7bd-77bc-431a-a055-1606346e97de",
   "metadata": {
    "id": "187dd7bd-77bc-431a-a055-1606346e97de",
    "outputId": "96d31728-908d-45dc-f69e-ad76fba15636"
   },
   "outputs": [],
   "source": [
    "tk.word_index"
   ]
  },
  {
   "cell_type": "code",
   "execution_count": null,
   "id": "ba69ca8c-5193-4179-9a07-f5666213a360",
   "metadata": {
    "id": "ba69ca8c-5193-4179-9a07-f5666213a360",
    "outputId": "f0e2f1f5-6ebc-4ca3-9860-2957bd56b5fd"
   },
   "outputs": [],
   "source": [
    "tk.word_index['is']"
   ]
  },
  {
   "cell_type": "code",
   "execution_count": null,
   "id": "b7e552ad-82c4-4d82-8929-e575d296041a",
   "metadata": {
    "id": "b7e552ad-82c4-4d82-8929-e575d296041a",
    "outputId": "fa594c51-abde-4c08-f142-aeec3f2359d7"
   },
   "outputs": [],
   "source": [
    "tk.word_index['good']"
   ]
  },
  {
   "cell_type": "code",
   "execution_count": null,
   "id": "db75bd40-a492-458c-9a53-a30564e5b2d9",
   "metadata": {
    "id": "db75bd40-a492-458c-9a53-a30564e5b2d9",
    "outputId": "bd88a5c3-b97b-442d-9e7e-4be65f19f6c4"
   },
   "outputs": [],
   "source": [
    "sents_enc = tk.texts_to_sequences(sentences)\n",
    "sents_enc"
   ]
  },
  {
   "cell_type": "code",
   "execution_count": null,
   "id": "3a7044d2-1c19-4610-87d1-f676996b8429",
   "metadata": {
    "id": "3a7044d2-1c19-4610-87d1-f676996b8429",
    "outputId": "c6a92acd-2c67-4d69-85c9-bd357d0a6add"
   },
   "outputs": [],
   "source": [
    "from keras.preprocessing.sequence import pad_sequences\n",
    "\n",
    "max_len = 6  # max column len\n",
    "\n",
    "sents_pad = pad_sequences(sents_enc, truncating='post', \n",
    "                          padding='post', maxlen=max_len)\n",
    "print(sents_pad)"
   ]
  },
  {
   "cell_type": "code",
   "execution_count": null,
   "id": "c97aec07-7411-415b-a7bb-25aff7c7b202",
   "metadata": {
    "id": "c97aec07-7411-415b-a7bb-25aff7c7b202",
    "outputId": "dbd5dbd2-cb7d-4b43-c80f-134be07f9a52"
   },
   "outputs": [],
   "source": [
    "print(s1)\n",
    "tk.texts_to_sequences([s1])"
   ]
  },
  {
   "cell_type": "code",
   "execution_count": null,
   "id": "d8192db4-f496-4e48-98cc-ddd8f2a48601",
   "metadata": {
    "id": "d8192db4-f496-4e48-98cc-ddd8f2a48601",
    "outputId": "c105bb53-2f8e-499c-fbc1-923a313b6e58"
   },
   "outputs": [],
   "source": [
    "print(s2)\n",
    "tk.texts_to_sequences([s2])"
   ]
  },
  {
   "cell_type": "code",
   "execution_count": null,
   "id": "34ac3085-bb16-4ab8-895d-505a5e7f7769",
   "metadata": {
    "id": "34ac3085-bb16-4ab8-895d-505a5e7f7769",
    "outputId": "7a17e08d-ad75-44e5-dbd3-3a3b5f8af787"
   },
   "outputs": [],
   "source": [
    "for i in sentences:\n",
    "    print(i)\n",
    "    print(tk.texts_to_sequences([i]))"
   ]
  },
  {
   "cell_type": "code",
   "execution_count": null,
   "id": "8d5573a4-3857-4e14-a0d9-5e252845612f",
   "metadata": {
    "id": "8d5573a4-3857-4e14-a0d9-5e252845612f",
    "outputId": "90c1a504-fe6b-4239-b556-059d6d43d91b"
   },
   "outputs": [],
   "source": [
    "\n",
    "print('[', end ='')\n",
    "for i,lst in enumerate(sents_enc):\n",
    "    if i == 0:\n",
    "        print(f'{lst},')\n",
    "    else:\n",
    "        if i == 1:\n",
    "            print(f' {lst},')\n",
    "        else:\n",
    "            print(f' {lst}]')\n"
   ]
  },
  {
   "cell_type": "markdown",
   "id": "d4fea472-4b72-4c6b-b2ea-bb7136fff961",
   "metadata": {
    "id": "d4fea472-4b72-4c6b-b2ea-bb7136fff961"
   },
   "source": [
    "## Decode"
   ]
  },
  {
   "cell_type": "code",
   "execution_count": null,
   "id": "687e23c1-9b7e-48ae-91db-1243d118f90b",
   "metadata": {
    "id": "687e23c1-9b7e-48ae-91db-1243d118f90b",
    "outputId": "644f9011-31ea-40f7-a579-a578baaed730"
   },
   "outputs": [],
   "source": [
    "tk.sequences_to_texts(sents_enc)"
   ]
  },
  {
   "cell_type": "code",
   "execution_count": null,
   "id": "eeaa5b1a-1b95-412a-80c5-0b93420a76c7",
   "metadata": {
    "id": "eeaa5b1a-1b95-412a-80c5-0b93420a76c7",
    "outputId": "ebfbe4f5-d1a4-462c-ba4e-76bd95547045"
   },
   "outputs": [],
   "source": [
    "tk.sequences_to_texts(sents_pad)"
   ]
  },
  {
   "cell_type": "code",
   "execution_count": null,
   "id": "2b30b311-b9e3-4fde-89b7-19bf239bc4a0",
   "metadata": {
    "id": "2b30b311-b9e3-4fde-89b7-19bf239bc4a0",
    "outputId": "9f5010df-89fc-4b01-d5e9-d5cd9a3e319c"
   },
   "outputs": [],
   "source": [
    "# word_index = unique tokens\n",
    "# vocab_size = len(tk.word_index)+1\n",
    "# vocab_size      # no of words (vocab)"
   ]
  },
  {
   "cell_type": "markdown",
   "id": "529a0477-0124-48e4-b277-53493dc66fa8",
   "metadata": {
    "id": "529a0477-0124-48e4-b277-53493dc66fa8"
   },
   "source": [
    "## Model - Embedding Keras"
   ]
  },
  {
   "cell_type": "code",
   "execution_count": null,
   "id": "87320ea3-666c-4103-a7cf-1df90fdcda26",
   "metadata": {
    "id": "87320ea3-666c-4103-a7cf-1df90fdcda26",
    "outputId": "15b652ed-a7c3-42ad-f8a4-173f9d4265e2"
   },
   "outputs": [],
   "source": [
    "from keras.models import Sequential\n",
    "from keras.layers import Embedding \n",
    "\n",
    "vocab_size = len(tk.word_index) + 1\n",
    "\n",
    "print(vocab_size)\n",
    "\n",
    "embed_len = 5\n",
    "\n",
    "model = Sequential()\n",
    "model.add(Embedding(vocab_size, embed_len, input_length=pad_len))\n",
    "model.compile(optimizer='adam', loss='binary_crossentropy', metrics=['accuracy'])\n",
    "\n",
    "model.summary()  "
   ]
  },
  {
   "cell_type": "code",
   "execution_count": null,
   "id": "80c1c182-2b13-4c25-a0e8-38959ef78da2",
   "metadata": {
    "id": "80c1c182-2b13-4c25-a0e8-38959ef78da2",
    "outputId": "d954a5ea-82c2-4952-9382-1f011d8d39b9"
   },
   "outputs": [],
   "source": [
    "vectors = model.predict(sents_pad)\n",
    "\n",
    "print(vectors.round(3)) "
   ]
  },
  {
   "cell_type": "code",
   "execution_count": null,
   "id": "66cfa961-72ff-4313-a573-c21b7d6615f8",
   "metadata": {
    "id": "66cfa961-72ff-4313-a573-c21b7d6615f8",
    "outputId": "1a33c75c-57b8-4e0a-c18d-2c6dbf7b41d7"
   },
   "outputs": [],
   "source": [
    "vectors.shape"
   ]
  },
  {
   "cell_type": "code",
   "execution_count": null,
   "id": "06424e7e-4714-4e60-ac34-b8e3750eac40",
   "metadata": {
    "id": "06424e7e-4714-4e60-ac34-b8e3750eac40",
    "outputId": "ec2a8bf1-efa3-460a-8faf-4433d41249d3"
   },
   "outputs": [],
   "source": [
    "print(vectors[0][0].round(3))\n",
    "# output[0].round(3)"
   ]
  },
  {
   "cell_type": "code",
   "execution_count": null,
   "id": "d8b6ca2c-9803-46c9-a089-dcd02eba64fc",
   "metadata": {
    "id": "d8b6ca2c-9803-46c9-a089-dcd02eba64fc",
    "outputId": "5cfe139d-0d12-4590-9260-29486ae97d5a"
   },
   "outputs": [],
   "source": [
    "vectors[1][0].round(3)"
   ]
  },
  {
   "cell_type": "code",
   "execution_count": null,
   "id": "55320e77-4bc9-4af5-9b1d-cd2fdf2a07b5",
   "metadata": {
    "id": "55320e77-4bc9-4af5-9b1d-cd2fdf2a07b5",
    "outputId": "2d312888-1a7c-4b2b-f680-3bf92e7b74ee"
   },
   "outputs": [],
   "source": [
    "print('sentence   word   Vector')\n",
    "print('----------------------------------------------------')\n",
    "for i, sents in enumerate(vectors):   \n",
    "    for j, word_v in enumerate(sents):\n",
    "        words = tk.sequences_to_texts(sents_pad)[i].split()  \n",
    "        if j < len(words):\n",
    "            print(f'{i+1:6} {words[j]:>8} {word_v.round(3)}')  \n",
    "        else:\n",
    "            print(f'{i+1:6} {\"\":>8} {word_v.round(3)}')      "
   ]
  },
  {
   "cell_type": "code",
   "execution_count": null,
   "id": "4b8ae665-ee40-421b-9d74-bede6a8042c0",
   "metadata": {
    "id": "4b8ae665-ee40-421b-9d74-bede6a8042c0",
    "outputId": "148410d3-e360-47d2-dcaf-85eb7b5ab2bd"
   },
   "outputs": [],
   "source": [
    "tk.word_index.keys()\n"
   ]
  },
  {
   "cell_type": "markdown",
   "id": "7a0c777e-dd44-4b86-900a-0eddb2476073",
   "metadata": {
    "id": "0aef2003-e977-4c2a-b27a-9f8d7d6fb100"
   },
   "source": [
    "## ws 04, see \"01 ws word2vec\""
   ]
  },
  {
   "cell_type": "code",
   "execution_count": null,
   "id": "6d40e8bd-2fad-4c00-9235-937ea71b758d",
   "metadata": {},
   "outputs": [],
   "source": []
  }
 ],
 "metadata": {
  "colab": {
   "name": "keras embed and Word2vec 1.ipynb",
   "provenance": [],
   "toc_visible": true
  },
  "kernelspec": {
   "display_name": "Python 3 (ipykernel)",
   "language": "python",
   "name": "python3"
  },
  "language_info": {
   "codemirror_mode": {
    "name": "ipython",
    "version": 3
   },
   "file_extension": ".py",
   "mimetype": "text/x-python",
   "name": "python",
   "nbconvert_exporter": "python",
   "pygments_lexer": "ipython3",
   "version": "3.9.7"
  }
 },
 "nbformat": 4,
 "nbformat_minor": 5
}
