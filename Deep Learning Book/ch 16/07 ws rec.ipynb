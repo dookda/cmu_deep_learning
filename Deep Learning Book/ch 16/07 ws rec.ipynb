{
 "cells": [
  {
   "cell_type": "markdown",
   "id": "dc973245-baf2-483c-8ce1-cb63e60d942d",
   "metadata": {},
   "source": [
    "# ws 07\n",
    "\n",
    "- download xls data (Online Retail.xlxs)  from : https://archive.ics.uci.edu/ml/machine-learning-databases/00352/"
   ]
  },
  {
   "cell_type": "code",
   "execution_count": null,
   "id": "01adbe62-aaf6-4983-b959-bffa72ee2b18",
   "metadata": {},
   "outputs": [],
   "source": [
    "!pip install tqdm\n",
    "!pip install openpyxl"
   ]
  },
  {
   "cell_type": "code",
   "execution_count": null,
   "id": "5518100d-d841-469d-a9d0-7120410a6ac8",
   "metadata": {},
   "outputs": [],
   "source": [
    "import pandas as pd\n",
    "import numpy as np\n",
    "\n",
    "import matplotlib.pyplot as plt\n",
    "from tqdm import tqdm \n",
    "from gensim.models import Word2Vec \n",
    "from gensim.models.callbacks import CallbackAny2Vec   "
   ]
  },
  {
   "cell_type": "code",
   "execution_count": null,
   "id": "4f307dd0-7449-4cc6-b094-be4ceec01805",
   "metadata": {},
   "outputs": [],
   "source": [
    "cols = 'a:d, g' #['a:d,']\n",
    "\n",
    "df = pd.read_excel('Online Retail.xlsx', usecols=cols, \n",
    "                   dtype={'CustomerID':str,'InvoiceNo':str})  "
   ]
  },
  {
   "cell_type": "code",
   "execution_count": null,
   "id": "3954d82f-c1d8-4a32-b7a0-600982f16a42",
   "metadata": {},
   "outputs": [],
   "source": [
    "df = pd.read_excel('Online Retail.xlsx')"
   ]
  },
  {
   "cell_type": "markdown",
   "id": "5d0817fe-3bdc-4e9f-8265-a8112287f94c",
   "metadata": {},
   "source": [
    "# Explore"
   ]
  },
  {
   "cell_type": "code",
   "execution_count": null,
   "id": "f1a30f38-dc96-4b1a-8123-a152b82e48cd",
   "metadata": {},
   "outputs": [],
   "source": [
    "df.head()"
   ]
  },
  {
   "cell_type": "code",
   "execution_count": null,
   "id": "7c840e6d-3822-4deb-a232-065bbb03ca14",
   "metadata": {},
   "outputs": [],
   "source": [
    "df.sample(5)"
   ]
  },
  {
   "cell_type": "code",
   "execution_count": null,
   "id": "8ed0e4b4-36fd-4251-805a-d1557bb44c62",
   "metadata": {},
   "outputs": [],
   "source": [
    "df.tail()"
   ]
  },
  {
   "cell_type": "code",
   "execution_count": null,
   "id": "6e75b9ff-1b46-4886-9469-41dd74608e4b",
   "metadata": {},
   "outputs": [],
   "source": [
    "df[df.Quantity < 0].count()\n",
    "df.groupby('Quantity').size()"
   ]
  },
  {
   "cell_type": "code",
   "execution_count": null,
   "id": "aaae1f19-3264-4ae9-9d2d-d6e299d56f72",
   "metadata": {},
   "outputs": [],
   "source": [
    "df[df.Quantity < -100].sort_values('Quantity', ascending=True).head()"
   ]
  },
  {
   "cell_type": "code",
   "execution_count": null,
   "id": "965c6a4e-8331-42b6-8ae0-460c2dca8ad6",
   "metadata": {},
   "outputs": [],
   "source": [
    "df.dtypes"
   ]
  },
  {
   "cell_type": "code",
   "execution_count": null,
   "id": "538b091e-88cd-48a0-a649-07d29d8264e1",
   "metadata": {},
   "outputs": [],
   "source": [
    "df.describe().round(2)"
   ]
  },
  {
   "cell_type": "code",
   "execution_count": null,
   "id": "7bd1811a-741a-4ce3-aea9-f91dfd0910b0",
   "metadata": {},
   "outputs": [],
   "source": [
    "df.shape"
   ]
  },
  {
   "cell_type": "code",
   "execution_count": null,
   "id": "27587567-c1eb-4fe7-902e-6df18e3782b9",
   "metadata": {},
   "outputs": [],
   "source": [
    "df.CustomerID.value_counts().sort_values(ascending=False).head(10)"
   ]
  },
  {
   "cell_type": "code",
   "execution_count": null,
   "id": "2a1457e6-7b60-46f0-a4cd-b8b44b6bf5b0",
   "metadata": {},
   "outputs": [],
   "source": [
    "df.groupby('CustomerID').count().sort_values('InvoiceNo',\n",
    "                                             ascending=False).InvoiceNo.head(10)"
   ]
  },
  {
   "cell_type": "code",
   "execution_count": null,
   "id": "4ec0f33e-a8ea-4b7c-bdd9-f4e5786a0b3c",
   "metadata": {},
   "outputs": [],
   "source": [
    "df.InvoiceNo.value_counts().sort_values(ascending=False).head(10)"
   ]
  },
  {
   "cell_type": "code",
   "execution_count": null,
   "id": "ae0b5904-d897-49c8-9ef2-fe2eebf4b32c",
   "metadata": {},
   "outputs": [],
   "source": [
    "df.isnull().sum()"
   ]
  },
  {
   "cell_type": "code",
   "execution_count": null,
   "id": "50b4f53d-63c3-445c-9b14-e532d0ebae0a",
   "metadata": {},
   "outputs": [],
   "source": [
    "df.groupby('InvoiceNo').size()"
   ]
  },
  {
   "cell_type": "code",
   "execution_count": null,
   "id": "ab2eec01-2672-46a3-a49c-fddb89052a2d",
   "metadata": {},
   "outputs": [],
   "source": [
    "df.groupby('CustomerID').size()"
   ]
  },
  {
   "cell_type": "markdown",
   "id": "e7380fd8-3fd0-4113-8e8b-794e14b080cb",
   "metadata": {},
   "source": [
    "# Preprocess"
   ]
  },
  {
   "cell_type": "code",
   "execution_count": null,
   "id": "00c453ed-7efc-44f9-89f0-d1ed4402854a",
   "metadata": {},
   "outputs": [],
   "source": [
    "df[df.Quantity < 0].count() \n"
   ]
  },
  {
   "cell_type": "code",
   "execution_count": null,
   "id": "9c3c9edb-f6db-4393-94fd-97fc9934bddc",
   "metadata": {},
   "outputs": [],
   "source": [
    "df = df[df.Quantity > 0] \n",
    "df.shape"
   ]
  },
  {
   "cell_type": "code",
   "execution_count": null,
   "id": "0ee953e3-f08b-442f-88e8-61ee72478f57",
   "metadata": {},
   "outputs": [],
   "source": [
    "df[df.Quantity < 1].count()"
   ]
  },
  {
   "cell_type": "code",
   "execution_count": null,
   "id": "66bca278-11c6-4263-ae1e-738aa7e64ce0",
   "metadata": {},
   "outputs": [],
   "source": [
    "df.isnull().sum()"
   ]
  },
  {
   "cell_type": "code",
   "execution_count": null,
   "id": "8da4e3ba-ca36-4a66-a6e2-f9c801ca0330",
   "metadata": {},
   "outputs": [],
   "source": [
    "df['CustomerID'] = df['CustomerID'].astype(str)\n",
    "df['StockCode'] = df['StockCode'].astype(str)\n",
    "df['InvoiceNo'] = df['InvoiceNo'].astype(str)"
   ]
  },
  {
   "cell_type": "code",
   "execution_count": null,
   "id": "61238c58-5ef0-40ec-a921-8c163c8db3db",
   "metadata": {},
   "outputs": [],
   "source": [
    "df.dtypes"
   ]
  },
  {
   "cell_type": "code",
   "execution_count": null,
   "id": "6ac46079-b6de-4cb4-8551-6a6f6b11e160",
   "metadata": {},
   "outputs": [],
   "source": [
    "df.head()"
   ]
  },
  {
   "cell_type": "markdown",
   "id": "839c070b-540d-4fc6-964e-f2081b276fc4",
   "metadata": {},
   "source": [
    "check invoice"
   ]
  },
  {
   "cell_type": "code",
   "execution_count": null,
   "id": "79420a0e-3c1b-4950-9d85-921bc3fb1a40",
   "metadata": {},
   "outputs": [],
   "source": [
    "df_invo1 = df.groupby('InvoiceNo').count().Quantity.sort_values()\n",
    "df_invo1"
   ]
  },
  {
   "cell_type": "code",
   "execution_count": null,
   "id": "9adc7adb-d09e-405b-a3cb-f11eb3582ce7",
   "metadata": {},
   "outputs": [],
   "source": [
    "frame = {'InvoiceNo': df_invo1.index , 'Count': df_invo1.values }\n",
    "  \n",
    "res = pd.DataFrame(frame)\n",
    "invoices_small = res[res.Count <= 1].InvoiceNo.tolist()\n",
    "invoices_small[:10]"
   ]
  },
  {
   "cell_type": "code",
   "execution_count": null,
   "id": "4f49c869-8057-4b79-967c-2c1dac76a786",
   "metadata": {},
   "outputs": [],
   "source": [
    "df = df[df.InvoiceNo.apply(lambda x: x not in invoices_small)]  "
   ]
  },
  {
   "cell_type": "code",
   "execution_count": null,
   "id": "fa793124-8f91-4358-bc5e-0b244adcf796",
   "metadata": {},
   "outputs": [],
   "source": [
    "df.shape"
   ]
  },
  {
   "cell_type": "code",
   "execution_count": null,
   "id": "6831eab9-f417-4444-ad21-7969fdd23ac1",
   "metadata": {},
   "outputs": [],
   "source": [
    "df.dtypes"
   ]
  },
  {
   "cell_type": "code",
   "execution_count": null,
   "id": "989707c8-6add-4253-8865-67d06581fd88",
   "metadata": {},
   "outputs": [],
   "source": [
    "df.groupby('InvoiceNo').size().sort_values()"
   ]
  },
  {
   "cell_type": "code",
   "execution_count": null,
   "id": "02b7a489-ae50-475f-9cc5-0f022d05af21",
   "metadata": {},
   "outputs": [],
   "source": [
    "df.head()"
   ]
  },
  {
   "cell_type": "markdown",
   "id": "a5798290-684a-4c56-9bf2-5f524ae174b0",
   "metadata": {},
   "source": [
    "prepare dataset using InvoiceNo"
   ]
  },
  {
   "cell_type": "code",
   "execution_count": null,
   "id": "eec95211-86af-403c-a8bc-a45e69397b92",
   "metadata": {},
   "outputs": [],
   "source": [
    "customers = df.InvoiceNo.unique().tolist()\n",
    "print(len(customers))\n",
    "customers[:6]"
   ]
  },
  {
   "cell_type": "code",
   "execution_count": null,
   "id": "7963c7e7-c4e6-436b-8809-79b4fa7f3280",
   "metadata": {},
   "outputs": [],
   "source": [
    "# import random\n",
    "# random.shuffle(customers)\n",
    "\n",
    "customers_train = [customers[i] for i in range(round(0.9*len(customers)))]\n",
    "\n",
    "train_df = df[df['InvoiceNo'].isin(customers_train)]  \n",
    "validation_df = df[~df['InvoiceNo'].isin(customers_train)]"
   ]
  },
  {
   "cell_type": "code",
   "execution_count": null,
   "id": "4d64667d-798e-4477-b1e3-deff22bf2460",
   "metadata": {},
   "outputs": [],
   "source": [
    "customers_train[:8]"
   ]
  },
  {
   "cell_type": "code",
   "execution_count": null,
   "id": "8d727ca3-86d9-4f46-a020-d5c5567e90b5",
   "metadata": {},
   "outputs": [],
   "source": [
    "train_df.head()"
   ]
  },
  {
   "cell_type": "code",
   "execution_count": null,
   "id": "9c0e44a3-2e28-4d37-a3dd-e07e74c2cf8e",
   "metadata": {},
   "outputs": [],
   "source": [
    "purchases_train = []\n",
    "\n",
    "# for i in customers_train:\n",
    "for i in tqdm(customers_train):\n",
    "    temp = train_df[train_df.InvoiceNo == i][\"StockCode\"].tolist()\n",
    "    purchases_train.append(temp)"
   ]
  },
  {
   "cell_type": "markdown",
   "id": "66c6ad6b-dc68-4e33-8701-94b0ebfe8a60",
   "metadata": {},
   "source": [
    "Train"
   ]
  },
  {
   "cell_type": "code",
   "execution_count": null,
   "id": "e6555c3a-92d7-4b22-8510-b1a80bff2d65",
   "metadata": {},
   "outputs": [],
   "source": [
    "from IPython.display import clear_output\n",
    "\n",
    "class MonitorCallback(CallbackAny2Vec):\n",
    "    def __init__(self):\n",
    "        self.epoch = 0\n",
    "        clear_output(wait=True)\n",
    "        print('Start ...')\n",
    "\n",
    "    def on_epoch_begin(self, model):\n",
    "        pass\n",
    "#         print(\"Epoch #{} start\".format(self.epoch))\n",
    "\n",
    "    def on_epoch_end(self, model):\n",
    "        clear_output(wait=True)\n",
    "        print('Epoch #{}/{} '.format(self.epoch+1, model.epochs) )#\n",
    "        self.epoch += 1\n",
    "\n",
    "monitor = MonitorCallback() \n",
    "\n",
    "\n",
    "model = Word2Vec(purchases_train, vector_size=50, window=5, \n",
    "                 sg=1, workers=4, epochs=40, callbacks=[monitor])\n"
   ]
  },
  {
   "cell_type": "code",
   "execution_count": null,
   "id": "734589aa-f700-4e6f-a5ed-7099d60920fa",
   "metadata": {},
   "outputs": [],
   "source": [
    "model.save(\"amazon_store.model\")\n"
   ]
  },
  {
   "cell_type": "code",
   "execution_count": null,
   "id": "67d78bc0-e855-4c43-a816-5856bea88e1c",
   "metadata": {},
   "outputs": [],
   "source": [
    "print(model)"
   ]
  },
  {
   "cell_type": "code",
   "execution_count": null,
   "id": "8368468b-7e59-4198-801f-b816bce83823",
   "metadata": {},
   "outputs": [],
   "source": [
    "model.wv.index_to_key[:6]"
   ]
  },
  {
   "cell_type": "code",
   "execution_count": null,
   "id": "b374ccab-d788-476c-affe-44ec31d01b52",
   "metadata": {},
   "outputs": [],
   "source": [
    "model.wv['22423']"
   ]
  },
  {
   "cell_type": "code",
   "execution_count": null,
   "id": "526ad8df-2a2f-42e3-be5d-ab5df432545b",
   "metadata": {},
   "outputs": [],
   "source": [
    "len(purchases_train)"
   ]
  },
  {
   "cell_type": "code",
   "execution_count": null,
   "id": "cb252f21-20be-4dd0-b262-8b2b92617f4a",
   "metadata": {},
   "outputs": [],
   "source": [
    "\n",
    "model.wv.most_similar('22613', topn=5) "
   ]
  },
  {
   "cell_type": "code",
   "execution_count": null,
   "id": "9577a2f7-1044-477d-8689-44d50a1f2833",
   "metadata": {},
   "outputs": [],
   "source": [
    "products = train_df[[\"StockCode\", \"Description\"]]\n",
    "\n",
    "# products.drop_duplicates(inplace=True, subset='StockCode', keep=\"last\")"
   ]
  },
  {
   "cell_type": "code",
   "execution_count": null,
   "id": "095b1e88-3f33-4a5c-9981-dc5788beacf1",
   "metadata": {},
   "outputs": [],
   "source": [
    "products[:5]"
   ]
  },
  {
   "cell_type": "code",
   "execution_count": null,
   "id": "dc1f645b-6738-4175-bbf9-6c04a2677053",
   "metadata": {},
   "outputs": [],
   "source": [
    "products_dict = products.groupby('StockCode')['Description'].apply(list).to_dict()\n",
    "\n",
    "products_dict['22613']"
   ]
  },
  {
   "cell_type": "code",
   "execution_count": null,
   "id": "2f756408-90af-4cb8-9a2b-7d65a21d9ac9",
   "metadata": {},
   "outputs": [],
   "source": [
    "sku_now = '22613' \n",
    "\n",
    "similars = model.wv.most_similar(sku_now, topn=7) # \n",
    "\n",
    "print('Shopping:', sku_now, products_dict[sku_now][0])\n",
    "print('--------------------------------------------')\n",
    "\n",
    "for i in similars:\n",
    "    if i[1] > 0.6:\n",
    "        print('{:6} {:36} {:.3f}'.format(i[0], products_dict[i[0]][0], i[1]))"
   ]
  },
  {
   "cell_type": "code",
   "execution_count": null,
   "id": "0ff19496-6f8a-471d-89bb-d5342b462fda",
   "metadata": {},
   "outputs": [],
   "source": [
    "sks = ['84997B','22630']\n",
    "similars = model.wv.most_similar(sks, topn=5) #  \n",
    "\n",
    "print('Shopping:', sks, products_dict[sks[0]],\n",
    "      products_dict[sks[1]] )\n",
    "print('--------------------------------------------')\n",
    "\n",
    "for i in similars:\n",
    "    if i[1] > 0.6:\n",
    "        print('{:6} {:36} {:.3f}'.format(i[0], products_dict[i[0]][0], i[1]))\n"
   ]
  },
  {
   "cell_type": "code",
   "execution_count": null,
   "id": "7883400d-8eba-4c36-9c4a-59e4fce539e0",
   "metadata": {},
   "outputs": [],
   "source": [
    "products_dict['22534']\n",
    "products_dict['23355']"
   ]
  },
  {
   "cell_type": "code",
   "execution_count": null,
   "id": "bc7e9d22-b635-4877-844b-1f09401ed1c4",
   "metadata": {},
   "outputs": [],
   "source": [
    "try:\n",
    "    vec_cameroon = model.wv['man']\n",
    "except KeyError:\n",
    "    print(\"This word does not appear in this model\")"
   ]
  },
  {
   "cell_type": "markdown",
   "id": "3c32007e-9356-4ab5-b917-017805c59162",
   "metadata": {},
   "source": [
    "## Plot"
   ]
  },
  {
   "cell_type": "code",
   "execution_count": null,
   "id": "61ed8916-d998-4346-8626-865f5b8fec01",
   "metadata": {},
   "outputs": [],
   "source": [
    "labels = np.asarray(model.wv.index_to_key) \n",
    "labels.shape"
   ]
  },
  {
   "cell_type": "code",
   "execution_count": null,
   "id": "afacabf0-f193-44e0-98db-3e278ff31d48",
   "metadata": {},
   "outputs": [],
   "source": [
    "labels[:10]"
   ]
  },
  {
   "cell_type": "code",
   "execution_count": null,
   "id": "16f285c2-268d-4f8e-85c7-6858083d2287",
   "metadata": {},
   "outputs": [],
   "source": [
    "vectors = np.asarray(model.wv.vectors)\n",
    "vectors.shape"
   ]
  },
  {
   "cell_type": "code",
   "execution_count": null,
   "id": "29dc749e-d599-4058-9937-6d772584b014",
   "metadata": {},
   "outputs": [],
   "source": [
    "from sklearn.decomposition import PCA\n",
    "\n",
    "lst_chk = ['22613','20780','23355','71053','90191','82482','15036','15044C'] \n",
    "\n",
    "pca = PCA(n_components=2)\n",
    "result = pca.fit_transform(vectors)\n",
    "\n",
    "plt.figure(figsize=(6.5+0, 4.5+0))\n",
    "plt.scatter(result[:, 0], result[:, 1], s=10, alpha=.8, c='c')\n",
    "\n",
    "for i, label in enumerate(labels):\n",
    "    if label in lst_chk:\n",
    "        plt.scatter(result[i][0], result[i][1], s=40, c='b')\n",
    "        plt.annotate(label, xy=(result[i, 0]+.01, result[i, 1]+.01))\n",
    "\n",
    "plt.tight_layout()\n",
    "plt.show()"
   ]
  },
  {
   "cell_type": "code",
   "execution_count": null,
   "id": "0dfe2abc-b26a-4c1a-af0b-4b9876508ee6",
   "metadata": {},
   "outputs": [],
   "source": []
  }
 ],
 "metadata": {
  "kernelspec": {
   "display_name": "Python 3 (ipykernel)",
   "language": "python",
   "name": "python3"
  },
  "language_info": {
   "codemirror_mode": {
    "name": "ipython",
    "version": 3
   },
   "file_extension": ".py",
   "mimetype": "text/x-python",
   "name": "python",
   "nbconvert_exporter": "python",
   "pygments_lexer": "ipython3",
   "version": "3.9.7"
  }
 },
 "nbformat": 4,
 "nbformat_minor": 5
}
