{
 "cells": [
  {
   "cell_type": "markdown",
   "metadata": {
    "id": "id04pqaCl1g2"
   },
   "source": [
    "# ws 05 Tokenize"
   ]
  },
  {
   "cell_type": "markdown",
   "metadata": {
    "id": "LxjyrKlNl_Fn",
    "tags": []
   },
   "source": [
    "## deepcut"
   ]
  },
  {
   "cell_type": "code",
   "execution_count": null,
   "metadata": {
    "colab": {
     "base_uri": "https://localhost:8080/"
    },
    "executionInfo": {
     "elapsed": 4226,
     "status": "ok",
     "timestamp": 1634336101271,
     "user": {
      "displayName": "JKob San",
      "photoUrl": "https://lh3.googleusercontent.com/a-/AOh14GgnClMV_IVnXVunt7D1mXXMatSQTrEGp72MrhCIeQ=s64",
      "userId": "15910273739366067110"
     },
     "user_tz": -420
    },
    "id": "ZDi-uQooljVw",
    "outputId": "40531528-48a0-4d74-c598-9fe6d76c4cb4",
    "tags": []
   },
   "outputs": [],
   "source": [
    "!pip install -q deepcut"
   ]
  },
  {
   "cell_type": "code",
   "execution_count": null,
   "metadata": {
    "colab": {
     "base_uri": "https://localhost:8080/"
    },
    "executionInfo": {
     "elapsed": 339,
     "status": "ok",
     "timestamp": 1634339555335,
     "user": {
      "displayName": "JKob San",
      "photoUrl": "https://lh3.googleusercontent.com/a-/AOh14GgnClMV_IVnXVunt7D1mXXMatSQTrEGp72MrhCIeQ=s64",
      "userId": "15910273739366067110"
     },
     "user_tz": -420
    },
    "id": "OIIR8xTglWtH",
    "outputId": "5fb52ba7-4143-4b5e-b9d0-1d6dd4532596"
   },
   "outputs": [],
   "source": [
    "import deepcut\n",
    "sentence = 'สาวสาวตากลมนั่งตากลมเขียนโปรแกรมในประเทศไทย'\n",
    "word_tk = deepcut.tokenize(sentence)\n",
    "\n",
    "print(word_tk)"
   ]
  },
  {
   "cell_type": "markdown",
   "metadata": {
    "id": "n9L_52Rdl97v"
   },
   "source": [
    "# pythainlp"
   ]
  },
  {
   "cell_type": "code",
   "execution_count": null,
   "metadata": {
    "colab": {
     "base_uri": "https://localhost:8080/",
     "height": 474
    },
    "executionInfo": {
     "elapsed": 13016,
     "status": "ok",
     "timestamp": 1634339572877,
     "user": {
      "displayName": "JKob San",
      "photoUrl": "https://lh3.googleusercontent.com/a-/AOh14GgnClMV_IVnXVunt7D1mXXMatSQTrEGp72MrhCIeQ=s64",
      "userId": "15910273739366067110"
     },
     "user_tz": -420
    },
    "id": "A5Gto-holxm3",
    "outputId": "98839c0e-f3d1-492a-ea89-f0c9c83e396e"
   },
   "outputs": [],
   "source": [
    "!pip install pythainlp"
   ]
  },
  {
   "cell_type": "code",
   "execution_count": null,
   "metadata": {
    "colab": {
     "base_uri": "https://localhost:8080/"
    },
    "executionInfo": {
     "elapsed": 2740,
     "status": "ok",
     "timestamp": 1634339575600,
     "user": {
      "displayName": "JKob San",
      "photoUrl": "https://lh3.googleusercontent.com/a-/AOh14GgnClMV_IVnXVunt7D1mXXMatSQTrEGp72MrhCIeQ=s64",
      "userId": "15910273739366067110"
     },
     "user_tz": -420
    },
    "id": "nvnjyamzmwbF",
    "outputId": "2afb9aca-9bb7-4b6c-9eb1-4b86d464ea17"
   },
   "outputs": [],
   "source": [
    "import pythainlp\n",
    "\n",
    "word_tk = pythainlp.tokenize.word_tokenize(sentence, engine='deepcut')\n",
    "print(word_tk)"
   ]
  },
  {
   "cell_type": "markdown",
   "metadata": {
    "id": "s99__DyTn0tl"
   },
   "source": [
    "# attacut"
   ]
  },
  {
   "cell_type": "code",
   "execution_count": null,
   "metadata": {
    "colab": {
     "base_uri": "https://localhost:8080/"
    },
    "executionInfo": {
     "elapsed": 5829,
     "status": "ok",
     "timestamp": 1634339584632,
     "user": {
      "displayName": "JKob San",
      "photoUrl": "https://lh3.googleusercontent.com/a-/AOh14GgnClMV_IVnXVunt7D1mXXMatSQTrEGp72MrhCIeQ=s64",
      "userId": "15910273739366067110"
     },
     "user_tz": -420
    },
    "id": "kyZ7nbbMnUlZ",
    "outputId": "20ffc0a2-fa58-499c-972b-31c8b341fb71"
   },
   "outputs": [],
   "source": [
    "!pip install attacut"
   ]
  },
  {
   "cell_type": "code",
   "execution_count": null,
   "metadata": {
    "colab": {
     "base_uri": "https://localhost:8080/"
    },
    "executionInfo": {
     "elapsed": 348,
     "status": "ok",
     "timestamp": 1634340157520,
     "user": {
      "displayName": "JKob San",
      "photoUrl": "https://lh3.googleusercontent.com/a-/AOh14GgnClMV_IVnXVunt7D1mXXMatSQTrEGp72MrhCIeQ=s64",
      "userId": "15910273739366067110"
     },
     "user_tz": -420
    },
    "id": "MawruoOjn3XZ",
    "outputId": "f33af671-52ab-4431-ecfd-f163fc569353"
   },
   "outputs": [],
   "source": [
    "from attacut import tokenize\n",
    "\n",
    "sentence = 'สาวสาวตากลมนั่งตากลมเขียนโปรแกรมในประเทศไทย'\n",
    "word_tk = tokenize(sentence)\n",
    "\n",
    "print(word_tk)"
   ]
  },
  {
   "cell_type": "code",
   "execution_count": null,
   "metadata": {
    "colab": {
     "base_uri": "https://localhost:8080/"
    },
    "executionInfo": {
     "elapsed": 317,
     "status": "ok",
     "timestamp": 1634339714584,
     "user": {
      "displayName": "JKob San",
      "photoUrl": "https://lh3.googleusercontent.com/a-/AOh14GgnClMV_IVnXVunt7D1mXXMatSQTrEGp72MrhCIeQ=s64",
      "userId": "15910273739366067110"
     },
     "user_tz": -420
    },
    "id": "CAZAYB_yoD0t",
    "outputId": "15766a4b-9597-411c-9ee4-2e261b000b5b"
   },
   "outputs": [],
   "source": [
    "word_tk.index('ตา')"
   ]
  },
  {
   "cell_type": "code",
   "execution_count": null,
   "metadata": {
    "colab": {
     "base_uri": "https://localhost:8080/"
    },
    "executionInfo": {
     "elapsed": 317,
     "status": "ok",
     "timestamp": 1634339777256,
     "user": {
      "displayName": "JKob San",
      "photoUrl": "https://lh3.googleusercontent.com/a-/AOh14GgnClMV_IVnXVunt7D1mXXMatSQTrEGp72MrhCIeQ=s64",
      "userId": "15910273739366067110"
     },
     "user_tz": -420
    },
    "id": "IzSjddlJMP2W",
    "outputId": "6c5c8b52-5635-4d9f-df47-1bb34a28c60d"
   },
   "outputs": [],
   "source": [
    "word_tk_unique = np.unique(word_tk)\n",
    "word_tk_unique.tolist()"
   ]
  },
  {
   "cell_type": "code",
   "execution_count": null,
   "metadata": {
    "colab": {
     "base_uri": "https://localhost:8080/"
    },
    "executionInfo": {
     "elapsed": 5,
     "status": "ok",
     "timestamp": 1634339779394,
     "user": {
      "displayName": "JKob San",
      "photoUrl": "https://lh3.googleusercontent.com/a-/AOh14GgnClMV_IVnXVunt7D1mXXMatSQTrEGp72MrhCIeQ=s64",
      "userId": "15910273739366067110"
     },
     "user_tz": -420
    },
    "id": "zz4PLleMDrmR",
    "outputId": "268eb9f5-b659-4463-b519-ece98cebfb72"
   },
   "outputs": [],
   "source": [
    "dict_th = {}\n",
    "def create_thdict(token):\n",
    "    for idx, wd in enumerate(token):\n",
    "        dict_th[wd] = idx+1\n",
    "\n",
    "word_tk_unique.sort()\n",
    "create_thdict(word_tk_unique)\n",
    "dict_th"
   ]
  },
  {
   "cell_type": "code",
   "execution_count": null,
   "metadata": {
    "colab": {
     "base_uri": "https://localhost:8080/",
     "height": 35
    },
    "executionInfo": {
     "elapsed": 320,
     "status": "ok",
     "timestamp": 1634339799991,
     "user": {
      "displayName": "JKob San",
      "photoUrl": "https://lh3.googleusercontent.com/a-/AOh14GgnClMV_IVnXVunt7D1mXXMatSQTrEGp72MrhCIeQ=s64",
      "userId": "15910273739366067110"
     },
     "user_tz": -420
    },
    "id": "P8TyZ7ASK7K7",
    "outputId": "9ba6ee17-c50a-4589-9d2b-56df3dc1a1a6"
   },
   "outputs": [],
   "source": [
    "sentence"
   ]
  },
  {
   "cell_type": "code",
   "execution_count": null,
   "metadata": {
    "colab": {
     "base_uri": "https://localhost:8080/"
    },
    "executionInfo": {
     "elapsed": 331,
     "status": "ok",
     "timestamp": 1634339821857,
     "user": {
      "displayName": "JKob San",
      "photoUrl": "https://lh3.googleusercontent.com/a-/AOh14GgnClMV_IVnXVunt7D1mXXMatSQTrEGp72MrhCIeQ=s64",
      "userId": "15910273739366067110"
     },
     "user_tz": -420
    },
    "id": "PJvhJaWsN4TS",
    "outputId": "ef279291-7c86-4353-96b4-57575b0a74d7"
   },
   "outputs": [],
   "source": [
    "word_enc = []\n",
    "for wdi in word_tk:\n",
    "    word_enc.append(dict_th[wdi])\n",
    "\n",
    "word_enc"
   ]
  },
  {
   "cell_type": "code",
   "execution_count": null,
   "metadata": {
    "id": "k7tVgevoNYCF"
   },
   "outputs": [],
   "source": []
  }
 ],
 "metadata": {
  "colab": {
   "name": "Tokenize_Th.ipynb",
   "provenance": [],
   "toc_visible": true
  },
  "kernelspec": {
   "display_name": "Python 3 (ipykernel)",
   "language": "python",
   "name": "python3"
  },
  "language_info": {
   "codemirror_mode": {
    "name": "ipython",
    "version": 3
   },
   "file_extension": ".py",
   "mimetype": "text/x-python",
   "name": "python",
   "nbconvert_exporter": "python",
   "pygments_lexer": "ipython3",
   "version": "3.9.7"
  }
 },
 "nbformat": 4,
 "nbformat_minor": 4
}
