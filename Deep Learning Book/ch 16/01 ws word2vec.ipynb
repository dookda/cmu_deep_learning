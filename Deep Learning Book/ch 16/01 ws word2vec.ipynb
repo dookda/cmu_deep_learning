{
 "cells": [
  {
   "cell_type": "markdown",
   "metadata": {
    "id": "Xkf244BTRIn0"
   },
   "source": [
    "# ws 01 "
   ]
  },
  {
   "cell_type": "code",
   "execution_count": null,
   "metadata": {
    "colab": {
     "base_uri": "https://localhost:8080/"
    },
    "executionInfo": {
     "elapsed": 655,
     "status": "ok",
     "timestamp": 1638626017489,
     "user": {
      "displayName": "JKob San",
      "photoUrl": "https://lh3.googleusercontent.com/a-/AOh14GgnClMV_IVnXVunt7D1mXXMatSQTrEGp72MrhCIeQ=s64",
      "userId": "15910273739366067110"
     },
     "user_tz": -420
    },
    "id": "U-8RnUVzRpOY",
    "outputId": "80883916-ae51-48ce-ccd9-a1a18642676e"
   },
   "outputs": [],
   "source": [
    "import numpy as np\n",
    "import gensim\n",
    "\n",
    "gensim.__version__ , np.__version__"
   ]
  },
  {
   "cell_type": "code",
   "execution_count": null,
   "metadata": {
    "colab": {
     "base_uri": "https://localhost:8080/",
     "height": 329
    },
    "executionInfo": {
     "elapsed": 7809,
     "status": "ok",
     "timestamp": 1638626030833,
     "user": {
      "displayName": "JKob San",
      "photoUrl": "https://lh3.googleusercontent.com/a-/AOh14GgnClMV_IVnXVunt7D1mXXMatSQTrEGp72MrhCIeQ=s64",
      "userId": "15910273739366067110"
     },
     "user_tz": -420
    },
    "id": "s6WLNGHkPeIH",
    "outputId": "7a40d827-3b51-4e94-a418-ee1e19c4e708"
   },
   "outputs": [],
   "source": [
    "!pip install --upgrade gensim"
   ]
  },
  {
   "cell_type": "code",
   "execution_count": null,
   "metadata": {
    "colab": {
     "base_uri": "https://localhost:8080/"
    },
    "executionInfo": {
     "elapsed": 22701,
     "status": "ok",
     "timestamp": 1634118685626,
     "user": {
      "displayName": "JKob San",
      "photoUrl": "https://lh3.googleusercontent.com/a-/AOh14GgnClMV_IVnXVunt7D1mXXMatSQTrEGp72MrhCIeQ=s64",
      "userId": "15910273739366067110"
     },
     "user_tz": -420
    },
    "id": "uR4BlWYDQ-tJ",
    "outputId": "ba935d9c-7f57-4c41-a5fb-a84439f606d5"
   },
   "outputs": [],
   "source": [
    "from google.colab import drive\n",
    "drive.mount('/content/drive')\n"
   ]
  },
  {
   "cell_type": "code",
   "execution_count": null,
   "metadata": {
    "colab": {
     "base_uri": "https://localhost:8080/"
    },
    "executionInfo": {
     "elapsed": 900,
     "status": "ok",
     "timestamp": 1634118689444,
     "user": {
      "displayName": "JKob San",
      "photoUrl": "https://lh3.googleusercontent.com/a-/AOh14GgnClMV_IVnXVunt7D1mXXMatSQTrEGp72MrhCIeQ=s64",
      "userId": "15910273739366067110"
     },
     "user_tz": -420
    },
    "id": "OE00I8lMTxfW",
    "outputId": "17d851cc-d600-4406-8671-0db9939c149d"
   },
   "outputs": [],
   "source": [
    "%ls '/content/drive/MyDrive/Colab Notebooks/datasets'"
   ]
  },
  {
   "cell_type": "markdown",
   "metadata": {
    "id": "9ubFbpp1WCd7",
    "tags": []
   },
   "source": [
    "### Google news 300"
   ]
  },
  {
   "cell_type": "code",
   "execution_count": null,
   "metadata": {
    "colab": {
     "base_uri": "https://localhost:8080/"
    },
    "executionInfo": {
     "elapsed": 826056,
     "status": "ok",
     "timestamp": 1634174624975,
     "user": {
      "displayName": "JKob San",
      "photoUrl": "https://lh3.googleusercontent.com/a-/AOh14GgnClMV_IVnXVunt7D1mXXMatSQTrEGp72MrhCIeQ=s64",
      "userId": "15910273739366067110"
     },
     "user_tz": -420
    },
    "id": "ZgitJV-XTeTX",
    "outputId": "e6e52375-e2e4-44df-c164-25c85b206b10"
   },
   "outputs": [],
   "source": [
    "# Google news 300\n",
    "import gensim.downloader as api\n",
    "wv = api.load('word2vec-google-news-300')"
   ]
  },
  {
   "cell_type": "code",
   "execution_count": null,
   "metadata": {
    "colab": {
     "base_uri": "https://localhost:8080/"
    },
    "executionInfo": {
     "elapsed": 313,
     "status": "ok",
     "timestamp": 1634110959503,
     "user": {
      "displayName": "JKob San",
      "photoUrl": "https://lh3.googleusercontent.com/a-/AOh14GgnClMV_IVnXVunt7D1mXXMatSQTrEGp72MrhCIeQ=s64",
      "userId": "15910273739366067110"
     },
     "user_tz": -420
    },
    "id": "YVmm18b7YCNw",
    "outputId": "013c8bff-ddaf-4ab3-d5c1-6368011f55c0"
   },
   "outputs": [],
   "source": [
    "wv.vector_size"
   ]
  },
  {
   "cell_type": "code",
   "execution_count": null,
   "metadata": {
    "colab": {
     "base_uri": "https://localhost:8080/"
    },
    "executionInfo": {
     "elapsed": 8,
     "status": "ok",
     "timestamp": 1633847673075,
     "user": {
      "displayName": "JKob San",
      "photoUrl": "https://lh3.googleusercontent.com/a-/AOh14GgnClMV_IVnXVunt7D1mXXMatSQTrEGp72MrhCIeQ=s64",
      "userId": "15910273739366067110"
     },
     "user_tz": -420
    },
    "id": "FEy3ZIc-UiIT",
    "outputId": "8a6082ff-eee4-4626-c8ac-c0ad54fc3719"
   },
   "outputs": [],
   "source": [
    "wv['dog'].shape"
   ]
  },
  {
   "cell_type": "code",
   "execution_count": null,
   "metadata": {
    "id": "W9z7ivxIi8ni"
   },
   "outputs": [],
   "source": [
    "wv['dog']"
   ]
  },
  {
   "cell_type": "code",
   "execution_count": null,
   "metadata": {
    "colab": {
     "base_uri": "https://localhost:8080/"
    },
    "executionInfo": {
     "elapsed": 330,
     "status": "ok",
     "timestamp": 1634106683912,
     "user": {
      "displayName": "JKob San",
      "photoUrl": "https://lh3.googleusercontent.com/a-/AOh14GgnClMV_IVnXVunt7D1mXXMatSQTrEGp72MrhCIeQ=s64",
      "userId": "15910273739366067110"
     },
     "user_tz": -420
    },
    "id": "VvcSPOAQcZrE",
    "outputId": "48672338-680c-49e5-dd83-fa166b91f30b"
   },
   "outputs": [],
   "source": [
    "wvl['Thailand'].shape"
   ]
  },
  {
   "cell_type": "code",
   "execution_count": null,
   "metadata": {
    "colab": {
     "base_uri": "https://localhost:8080/"
    },
    "executionInfo": {
     "elapsed": 298,
     "status": "ok",
     "timestamp": 1634110982232,
     "user": {
      "displayName": "JKob San",
      "photoUrl": "https://lh3.googleusercontent.com/a-/AOh14GgnClMV_IVnXVunt7D1mXXMatSQTrEGp72MrhCIeQ=s64",
      "userId": "15910273739366067110"
     },
     "user_tz": -420
    },
    "id": "vl1tDyO8QXJT",
    "outputId": "ca7d2c05-29f8-401f-b744-23d5e1d22b57"
   },
   "outputs": [],
   "source": [
    "for index, word in enumerate(wv.index_to_key):\n",
    "    if index == 15:\n",
    "        break\n",
    "    print(index, word)"
   ]
  },
  {
   "cell_type": "code",
   "execution_count": null,
   "metadata": {
    "colab": {
     "base_uri": "https://localhost:8080/"
    },
    "executionInfo": {
     "elapsed": 352,
     "status": "ok",
     "timestamp": 1633402900185,
     "user": {
      "displayName": "JKob San",
      "photoUrl": "https://lh3.googleusercontent.com/a-/AOh14GgnClMV_IVnXVunt7D1mXXMatSQTrEGp72MrhCIeQ=s64",
      "userId": "15910273739366067110"
     },
     "user_tz": -420
    },
    "id": "t0K_zJFUcp0y",
    "outputId": "46750c99-c0d7-4ded-f052-f810cb9d86db"
   },
   "outputs": [],
   "source": [
    "try:\n",
    "    vec = wv['deep learn']\n",
    "except KeyError:\n",
    "    print(\"This word does not appear in this model\")"
   ]
  },
  {
   "cell_type": "code",
   "execution_count": null,
   "metadata": {
    "colab": {
     "base_uri": "https://localhost:8080/"
    },
    "executionInfo": {
     "elapsed": 304,
     "status": "ok",
     "timestamp": 1634111001582,
     "user": {
      "displayName": "JKob San",
      "photoUrl": "https://lh3.googleusercontent.com/a-/AOh14GgnClMV_IVnXVunt7D1mXXMatSQTrEGp72MrhCIeQ=s64",
      "userId": "15910273739366067110"
     },
     "user_tz": -420
    },
    "id": "B8T2Q6eeWFRT",
    "outputId": "edb16cb8-ccad-4995-d2f0-9f09948f2386"
   },
   "outputs": [],
   "source": [
    "wv.most_similar('car',topn=8)"
   ]
  },
  {
   "cell_type": "code",
   "execution_count": null,
   "metadata": {
    "colab": {
     "base_uri": "https://localhost:8080/"
    },
    "executionInfo": {
     "elapsed": 886,
     "status": "ok",
     "timestamp": 1633335141889,
     "user": {
      "displayName": "JKob San",
      "photoUrl": "https://lh3.googleusercontent.com/a-/AOh14GgnClMV_IVnXVunt7D1mXXMatSQTrEGp72MrhCIeQ=s64",
      "userId": "15910273739366067110"
     },
     "user_tz": -420
    },
    "id": "qfwDYMbZW6rs",
    "outputId": "fa873b4c-d824-4f4a-c424-35a1759ba38f"
   },
   "outputs": [],
   "source": [
    "wv.most_similar(positive=['car', 'minivan'], topn=5)"
   ]
  },
  {
   "cell_type": "code",
   "execution_count": null,
   "metadata": {
    "colab": {
     "base_uri": "https://localhost:8080/"
    },
    "executionInfo": {
     "elapsed": 329,
     "status": "ok",
     "timestamp": 1634106731059,
     "user": {
      "displayName": "JKob San",
      "photoUrl": "https://lh3.googleusercontent.com/a-/AOh14GgnClMV_IVnXVunt7D1mXXMatSQTrEGp72MrhCIeQ=s64",
      "userId": "15910273739366067110"
     },
     "user_tz": -420
    },
    "id": "lKW_A0vvW6br",
    "outputId": "2de385bc-ec85-4157-dfc7-d02cabc0597c"
   },
   "outputs": [],
   "source": [
    "vec = model['king'] - model['man'] + model['woman']\n",
    "wv.similar_by_vector(vec, topn=8)"
   ]
  },
  {
   "cell_type": "code",
   "execution_count": null,
   "metadata": {
    "colab": {
     "base_uri": "https://localhost:8080/"
    },
    "executionInfo": {
     "elapsed": 882,
     "status": "ok",
     "timestamp": 1633335925048,
     "user": {
      "displayName": "JKob San",
      "photoUrl": "https://lh3.googleusercontent.com/a-/AOh14GgnClMV_IVnXVunt7D1mXXMatSQTrEGp72MrhCIeQ=s64",
      "userId": "15910273739366067110"
     },
     "user_tz": -420
    },
    "id": "9lx-XEE-XkSC",
    "outputId": "1a41e009-985d-422e-9d12-7baa0a162082"
   },
   "outputs": [],
   "source": [
    "vec = model['vehicle'] + model['wing'] + model['fly']\n",
    "wv.similar_by_vector(vec, topn=8)"
   ]
  },
  {
   "cell_type": "code",
   "execution_count": null,
   "metadata": {
    "colab": {
     "base_uri": "https://localhost:8080/",
     "height": 35
    },
    "executionInfo": {
     "elapsed": 322,
     "status": "ok",
     "timestamp": 1634119181226,
     "user": {
      "displayName": "JKob San",
      "photoUrl": "https://lh3.googleusercontent.com/a-/AOh14GgnClMV_IVnXVunt7D1mXXMatSQTrEGp72MrhCIeQ=s64",
      "userId": "15910273739366067110"
     },
     "user_tz": -420
    },
    "id": "7KLSdLl0kFmh",
    "outputId": "773acf07-6bae-41ef-f840-591f79054752"
   },
   "outputs": [],
   "source": [
    "words = ['movie','song','book','music']\n",
    "wv.doesnt_match(words)"
   ]
  },
  {
   "cell_type": "markdown",
   "metadata": {
    "id": "3DQ7tuYQWKqw",
    "tags": []
   },
   "source": [
    "# ws 02 GloVe"
   ]
  },
  {
   "cell_type": "code",
   "execution_count": null,
   "metadata": {
    "colab": {
     "base_uri": "https://localhost:8080/"
    },
    "executionInfo": {
     "elapsed": 54946,
     "status": "ok",
     "timestamp": 1638628090086,
     "user": {
      "displayName": "JKob San",
      "photoUrl": "https://lh3.googleusercontent.com/a-/AOh14GgnClMV_IVnXVunt7D1mXXMatSQTrEGp72MrhCIeQ=s64",
      "userId": "15910273739366067110"
     },
     "user_tz": -420
    },
    "id": "iLUkVv5th7cI",
    "outputId": "9abdc26d-6ff2-47f4-9d51-070448ffa78b"
   },
   "outputs": [],
   "source": [
    "import gensim.downloader as api\n",
    "\n",
    "model = api.load('glove-twitter-50')  \n",
    "model"
   ]
  },
  {
   "cell_type": "code",
   "execution_count": null,
   "metadata": {
    "colab": {
     "base_uri": "https://localhost:8080/"
    },
    "executionInfo": {
     "elapsed": 296,
     "status": "ok",
     "timestamp": 1638628240014,
     "user": {
      "displayName": "JKob San",
      "photoUrl": "https://lh3.googleusercontent.com/a-/AOh14GgnClMV_IVnXVunt7D1mXXMatSQTrEGp72MrhCIeQ=s64",
      "userId": "15910273739366067110"
     },
     "user_tz": -420
    },
    "id": "rqjhy8URwwRy",
    "outputId": "f667e7f7-477b-4be7-8557-113f28968453"
   },
   "outputs": [],
   "source": [
    "len(model.index_to_key)"
   ]
  },
  {
   "cell_type": "code",
   "execution_count": null,
   "metadata": {
    "colab": {
     "base_uri": "https://localhost:8080/"
    },
    "executionInfo": {
     "elapsed": 6,
     "status": "ok",
     "timestamp": 1638628242241,
     "user": {
      "displayName": "JKob San",
      "photoUrl": "https://lh3.googleusercontent.com/a-/AOh14GgnClMV_IVnXVunt7D1mXXMatSQTrEGp72MrhCIeQ=s64",
      "userId": "15910273739366067110"
     },
     "user_tz": -420
    },
    "id": "yQujtwB9xYcL",
    "outputId": "3f0229d7-ecfe-4065-b50b-65a113fc6af5"
   },
   "outputs": [],
   "source": [
    "model.vector_size"
   ]
  },
  {
   "cell_type": "code",
   "execution_count": null,
   "metadata": {
    "colab": {
     "base_uri": "https://localhost:8080/"
    },
    "executionInfo": {
     "elapsed": 284,
     "status": "ok",
     "timestamp": 1638628246263,
     "user": {
      "displayName": "JKob San",
      "photoUrl": "https://lh3.googleusercontent.com/a-/AOh14GgnClMV_IVnXVunt7D1mXXMatSQTrEGp72MrhCIeQ=s64",
      "userId": "15910273739366067110"
     },
     "user_tz": -420
    },
    "id": "F9xKtEJiw3-Z",
    "outputId": "4e0d72fa-6f1c-4d4f-9084-d683a9bc53fc"
   },
   "outputs": [],
   "source": [
    "model.most_similar('car',topn=8)"
   ]
  },
  {
   "cell_type": "code",
   "execution_count": null,
   "metadata": {
    "colab": {
     "base_uri": "https://localhost:8080/"
    },
    "executionInfo": {
     "elapsed": 377,
     "status": "ok",
     "timestamp": 1638626827359,
     "user": {
      "displayName": "JKob San",
      "photoUrl": "https://lh3.googleusercontent.com/a-/AOh14GgnClMV_IVnXVunt7D1mXXMatSQTrEGp72MrhCIeQ=s64",
      "userId": "15910273739366067110"
     },
     "user_tz": -420
    },
    "id": "hMOWYbPKxPDI",
    "outputId": "9bfc4dce-001b-4c01-a3d0-f81bc6a28aa5"
   },
   "outputs": [],
   "source": [
    "for index, word in enumerate(model.index_to_key):\n",
    "    if index == 15:\n",
    "        break\n",
    "    print(index, word)"
   ]
  },
  {
   "cell_type": "code",
   "execution_count": null,
   "metadata": {
    "colab": {
     "base_uri": "https://localhost:8080/"
    },
    "executionInfo": {
     "elapsed": 114332,
     "status": "ok",
     "timestamp": 1638626198018,
     "user": {
      "displayName": "JKob San",
      "photoUrl": "https://lh3.googleusercontent.com/a-/AOh14GgnClMV_IVnXVunt7D1mXXMatSQTrEGp72MrhCIeQ=s64",
      "userId": "15910273739366067110"
     },
     "user_tz": -420
    },
    "id": "w52dzVwAkyA3",
    "outputId": "e39ece03-73ab-497b-8b79-190e688bff90"
   },
   "outputs": [],
   "source": [
    "import gensim.downloader as api\n",
    "\n",
    "wv = api.load('glove-wiki-gigaword-100')   # 128 MB  400000 words\n",
    "wv"
   ]
  },
  {
   "cell_type": "code",
   "execution_count": null,
   "metadata": {
    "colab": {
     "base_uri": "https://localhost:8080/"
    },
    "executionInfo": {
     "elapsed": 471,
     "status": "ok",
     "timestamp": 1638626341849,
     "user": {
      "displayName": "JKob San",
      "photoUrl": "https://lh3.googleusercontent.com/a-/AOh14GgnClMV_IVnXVunt7D1mXXMatSQTrEGp72MrhCIeQ=s64",
      "userId": "15910273739366067110"
     },
     "user_tz": -420
    },
    "id": "a7cRbWIPi3zo",
    "outputId": "e3a11b7d-ddf6-4b87-9cb6-7956a3e59004"
   },
   "outputs": [],
   "source": [
    "wv.similar_by_word('movie')\n",
    "wv.similar_by_word('horrible')"
   ]
  },
  {
   "cell_type": "code",
   "execution_count": null,
   "metadata": {
    "colab": {
     "base_uri": "https://localhost:8080/"
    },
    "executionInfo": {
     "elapsed": 533,
     "status": "ok",
     "timestamp": 1638626345293,
     "user": {
      "displayName": "JKob San",
      "photoUrl": "https://lh3.googleusercontent.com/a-/AOh14GgnClMV_IVnXVunt7D1mXXMatSQTrEGp72MrhCIeQ=s64",
      "userId": "15910273739366067110"
     },
     "user_tz": -420
    },
    "id": "BxfQmKjzjK_t",
    "outputId": "8123629c-d209-46c2-826c-289b222209b6"
   },
   "outputs": [],
   "source": [
    "len(wv.index_to_key)"
   ]
  },
  {
   "cell_type": "code",
   "execution_count": null,
   "metadata": {
    "colab": {
     "base_uri": "https://localhost:8080/"
    },
    "executionInfo": {
     "elapsed": 321,
     "status": "ok",
     "timestamp": 1634119148135,
     "user": {
      "displayName": "JKob San",
      "photoUrl": "https://lh3.googleusercontent.com/a-/AOh14GgnClMV_IVnXVunt7D1mXXMatSQTrEGp72MrhCIeQ=s64",
      "userId": "15910273739366067110"
     },
     "user_tz": -420
    },
    "id": "sttMOeGvjVtL",
    "outputId": "afba29a6-1375-4808-e8bd-cf1644530e40"
   },
   "outputs": [],
   "source": [
    "wv.most_similar('crap',topn=8)"
   ]
  },
  {
   "cell_type": "code",
   "execution_count": null,
   "metadata": {
    "colab": {
     "base_uri": "https://localhost:8080/"
    },
    "executionInfo": {
     "elapsed": 11,
     "status": "ok",
     "timestamp": 1634119206987,
     "user": {
      "displayName": "JKob San",
      "photoUrl": "https://lh3.googleusercontent.com/a-/AOh14GgnClMV_IVnXVunt7D1mXXMatSQTrEGp72MrhCIeQ=s64",
      "userId": "15910273739366067110"
     },
     "user_tz": -420
    },
    "id": "3st9Qgh0Z3UD",
    "outputId": "7abfbe9a-3550-4e37-c501-c0c5fec0e779"
   },
   "outputs": [],
   "source": [
    "vec = wv['thai'] + wv['food']\n",
    "wv.similar_by_vector(vec, topn=8)"
   ]
  },
  {
   "cell_type": "markdown",
   "metadata": {
    "id": "yVODm9L3_XWF"
   },
   "source": [
    "# ws 04 TH"
   ]
  },
  {
   "cell_type": "code",
   "execution_count": null,
   "metadata": {
    "id": "8syeLJIlAz2Z"
   },
   "outputs": [],
   "source": [
    "from gensim.models import Word2Vec\n",
    "model = Word2Vec.load(\n",
    "    'http://www.arts.chula.ac.th/ling/wp-content/uploads/TNCc5model.bin').wv\n"
   ]
  },
  {
   "cell_type": "code",
   "execution_count": null,
   "metadata": {
    "colab": {
     "base_uri": "https://localhost:8080/"
    },
    "executionInfo": {
     "elapsed": 410,
     "status": "ok",
     "timestamp": 1633849322324,
     "user": {
      "displayName": "JKob San",
      "photoUrl": "https://lh3.googleusercontent.com/a-/AOh14GgnClMV_IVnXVunt7D1mXXMatSQTrEGp72MrhCIeQ=s64",
      "userId": "15910273739366067110"
     },
     "user_tz": -420
    },
    "id": "sazAtJaqD_zD",
    "outputId": "73549cc2-0b85-4eea-ba55-d3da648ee47c"
   },
   "outputs": [],
   "source": [
    "model.vector_size"
   ]
  },
  {
   "cell_type": "code",
   "execution_count": null,
   "metadata": {
    "colab": {
     "base_uri": "https://localhost:8080/"
    },
    "executionInfo": {
     "elapsed": 441,
     "status": "ok",
     "timestamp": 1633848069239,
     "user": {
      "displayName": "JKob San",
      "photoUrl": "https://lh3.googleusercontent.com/a-/AOh14GgnClMV_IVnXVunt7D1mXXMatSQTrEGp72MrhCIeQ=s64",
      "userId": "15910273739366067110"
     },
     "user_tz": -420
    },
    "id": "haZooOlaDkN-",
    "outputId": "e988dbf8-3cfb-4db5-d98c-ed58d9d175bd"
   },
   "outputs": [],
   "source": [
    "len(model.index_to_key)"
   ]
  },
  {
   "cell_type": "code",
   "execution_count": null,
   "metadata": {
    "colab": {
     "base_uri": "https://localhost:8080/"
    },
    "executionInfo": {
     "elapsed": 324,
     "status": "ok",
     "timestamp": 1633840629644,
     "user": {
      "displayName": "JKob San",
      "photoUrl": "https://lh3.googleusercontent.com/a-/AOh14GgnClMV_IVnXVunt7D1mXXMatSQTrEGp72MrhCIeQ=s64",
      "userId": "15910273739366067110"
     },
     "user_tz": -420
    },
    "id": "GS-tHGuffWU7",
    "outputId": "37ee922b-9ee4-4ce7-ccd7-da480896733a"
   },
   "outputs": [],
   "source": [
    "model.most_similar('หมา')"
   ]
  },
  {
   "cell_type": "code",
   "execution_count": null,
   "metadata": {
    "colab": {
     "base_uri": "https://localhost:8080/"
    },
    "executionInfo": {
     "elapsed": 325,
     "status": "ok",
     "timestamp": 1633840635193,
     "user": {
      "displayName": "JKob San",
      "photoUrl": "https://lh3.googleusercontent.com/a-/AOh14GgnClMV_IVnXVunt7D1mXXMatSQTrEGp72MrhCIeQ=s64",
      "userId": "15910273739366067110"
     },
     "user_tz": -420
    },
    "id": "HVLFwXCEDgAf",
    "outputId": "31fd97ae-4475-4dc1-fcb0-f97025c945fa"
   },
   "outputs": [],
   "source": [
    "model.most_similar('อาเจียน')"
   ]
  },
  {
   "cell_type": "code",
   "execution_count": null,
   "metadata": {
    "colab": {
     "base_uri": "https://localhost:8080/"
    },
    "executionInfo": {
     "elapsed": 430,
     "status": "ok",
     "timestamp": 1633849609968,
     "user": {
      "displayName": "JKob San",
      "photoUrl": "https://lh3.googleusercontent.com/a-/AOh14GgnClMV_IVnXVunt7D1mXXMatSQTrEGp72MrhCIeQ=s64",
      "userId": "15910273739366067110"
     },
     "user_tz": -420
    },
    "id": "W6QIbxZRfddE",
    "outputId": "725ec537-4225-4bea-e8c3-f56a602fa42c"
   },
   "outputs": [],
   "source": [
    "# model.most_similar('พ่อค้า', topn=5)\n",
    "model.most_similar('รับประทาน', topn=5)"
   ]
  },
  {
   "cell_type": "code",
   "execution_count": null,
   "metadata": {
    "colab": {
     "base_uri": "https://localhost:8080/"
    },
    "executionInfo": {
     "elapsed": 310,
     "status": "ok",
     "timestamp": 1633841262094,
     "user": {
      "displayName": "JKob San",
      "photoUrl": "https://lh3.googleusercontent.com/a-/AOh14GgnClMV_IVnXVunt7D1mXXMatSQTrEGp72MrhCIeQ=s64",
      "userId": "15910273739366067110"
     },
     "user_tz": -420
    },
    "id": "vesITFoZge-m",
    "outputId": "d233d5e6-aeb3-43f5-d45a-6fa8fcb3c1b7"
   },
   "outputs": [],
   "source": [
    "model.most_similar('ทารก')"
   ]
  },
  {
   "cell_type": "code",
   "execution_count": null,
   "metadata": {
    "colab": {
     "base_uri": "https://localhost:8080/"
    },
    "executionInfo": {
     "elapsed": 408,
     "status": "ok",
     "timestamp": 1633849785385,
     "user": {
      "displayName": "JKob San",
      "photoUrl": "https://lh3.googleusercontent.com/a-/AOh14GgnClMV_IVnXVunt7D1mXXMatSQTrEGp72MrhCIeQ=s64",
      "userId": "15910273739366067110"
     },
     "user_tz": -420
    },
    "id": "IZsYEnEOiGda",
    "outputId": "979c8f27-e516-44bd-ceee-d8d8d6c7bf9e"
   },
   "outputs": [],
   "source": [
    "model.similarity('รถ','ยานพาหนะ')  # ฟอง"
   ]
  },
  {
   "cell_type": "code",
   "execution_count": null,
   "metadata": {
    "colab": {
     "base_uri": "https://localhost:8080/"
    },
    "executionInfo": {
     "elapsed": 379,
     "status": "ok",
     "timestamp": 1633841630586,
     "user": {
      "displayName": "JKob San",
      "photoUrl": "https://lh3.googleusercontent.com/a-/AOh14GgnClMV_IVnXVunt7D1mXXMatSQTrEGp72MrhCIeQ=s64",
      "userId": "15910273739366067110"
     },
     "user_tz": -420
    },
    "id": "MP0Hg51hh3aA",
    "outputId": "43a7dffb-bb0f-4ddf-abb7-7319085c6805"
   },
   "outputs": [],
   "source": [
    "pairs = [\n",
    "    ('รถ', 'ยานพาหนะ'),   \n",
    "    ('รถ', 'เครื่องบิน'),   \n",
    "    ('รถ', 'ข้าวโพด'),     \n",
    "    ('ปลูก', 'ข้าวโพด'),        \n",
    "]\n",
    "for w1, w2 in pairs:\n",
    "    print('%r\\t%r\\t%.2f' % (w1, w2, model.similarity(w1, w2)))"
   ]
  },
  {
   "cell_type": "code",
   "execution_count": null,
   "metadata": {
    "colab": {
     "base_uri": "https://localhost:8080/",
     "height": 35
    },
    "executionInfo": {
     "elapsed": 343,
     "status": "ok",
     "timestamp": 1633841912808,
     "user": {
      "displayName": "JKob San",
      "photoUrl": "https://lh3.googleusercontent.com/a-/AOh14GgnClMV_IVnXVunt7D1mXXMatSQTrEGp72MrhCIeQ=s64",
      "userId": "15910273739366067110"
     },
     "user_tz": -420
    },
    "id": "-0VyUJGUjr_v",
    "outputId": "88cb5b53-3b58-408c-9312-3b2cfc57b91f"
   },
   "outputs": [],
   "source": [
    "model.doesnt_match(['หนัง','เพลง','หนังสือ','ดนตรี'])"
   ]
  },
  {
   "cell_type": "markdown",
   "metadata": {
    "id": "FSghsWaCfh-M"
   },
   "source": []
  }
 ],
 "metadata": {
  "accelerator": "GPU",
  "colab": {
   "authorship_tag": "ABX9TyMFGpOTNYxQ+dLRrTk9+RwT",
   "name": "text word2vec embed matrix.ipynb",
   "provenance": [],
   "toc_visible": true
  },
  "kernelspec": {
   "display_name": "Python 3 (ipykernel)",
   "language": "python",
   "name": "python3"
  },
  "language_info": {
   "codemirror_mode": {
    "name": "ipython",
    "version": 3
   },
   "file_extension": ".py",
   "mimetype": "text/x-python",
   "name": "python",
   "nbconvert_exporter": "python",
   "pygments_lexer": "ipython3",
   "version": "3.9.7"
  }
 },
 "nbformat": 4,
 "nbformat_minor": 4
}
