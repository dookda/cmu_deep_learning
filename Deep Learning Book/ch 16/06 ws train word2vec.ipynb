{
 "cells": [
  {
   "cell_type": "markdown",
   "id": "4c0669a2-eff4-4260-a6d5-71cac0f54f8b",
   "metadata": {},
   "source": [
    "# WS 06"
   ]
  },
  {
   "cell_type": "code",
   "execution_count": null,
   "id": "c9106b9f-9234-48e1-99fb-92e7c52f1af5",
   "metadata": {},
   "outputs": [],
   "source": [
    "import gensim\n",
    "gensim.__version__"
   ]
  },
  {
   "cell_type": "code",
   "execution_count": null,
   "id": "7bc01791-62d0-436c-91f8-cd0f99e2f25b",
   "metadata": {},
   "outputs": [],
   "source": [
    "!pip install --upgrade gensim"
   ]
  },
  {
   "cell_type": "code",
   "execution_count": null,
   "id": "bde95f18-63fc-47da-9d59-3dbe768ceb95",
   "metadata": {},
   "outputs": [],
   "source": [
    "from gensim.models import Word2Vec\n",
    "from gensim.utils import tokenize\n",
    "from gensim.parsing.preprocessing import remove_stopwords "
   ]
  },
  {
   "cell_type": "code",
   "execution_count": null,
   "id": "5d6e4a79-2a79-4960-9e3b-c695b098c35c",
   "metadata": {},
   "outputs": [],
   "source": [
    "s1 = 'CNN is great. ' \n",
    "s2 = 'Python is a good language. ' \n",
    "s3 = 'You can learn CNN using Python. '\n",
    "\n",
    "sents = s1 + s2 + s3  \n",
    "sents"
   ]
  },
  {
   "cell_type": "code",
   "execution_count": null,
   "id": "10d1627a-c8b5-4ca2-b6b8-d3642677f326",
   "metadata": {},
   "outputs": [],
   "source": [
    "sents = remove_stopwords(sents)\n",
    "\n",
    "sents_tk = [list(tokenize(sents, deacc = True))]\n",
    "sents_tk"
   ]
  },
  {
   "cell_type": "code",
   "execution_count": null,
   "id": "03828893-c3b5-4c48-8eef-d3c470df7f4c",
   "metadata": {},
   "outputs": [],
   "source": [
    "model = Word2Vec(sents_tk, vector_size=5, window=1, \n",
    "                 min_count=1, sg=0, workers=4, epochs=40)\n",
    "\n",
    "print(model)"
   ]
  },
  {
   "cell_type": "code",
   "execution_count": null,
   "id": "3aac97ca-1d64-4fe3-8388-555a8ccdc03d",
   "metadata": {},
   "outputs": [],
   "source": [
    "for index, word in enumerate(model.wv.index_to_key):\n",
    "    if index == 10:\n",
    "        break\n",
    "    print(index, word)"
   ]
  },
  {
   "cell_type": "code",
   "execution_count": null,
   "id": "229f7dfa-9422-47b0-8fce-421f37d39576",
   "metadata": {},
   "outputs": [],
   "source": [
    "model.wv.most_similar('good') "
   ]
  },
  {
   "cell_type": "code",
   "execution_count": null,
   "id": "bc7e9d22-b635-4877-844b-1f09401ed1c4",
   "metadata": {},
   "outputs": [],
   "source": [
    "try:\n",
    "    vec_cameroon = model.wv['man']\n",
    "except KeyError:\n",
    "    print(\"This word does not appear in this model\")"
   ]
  },
  {
   "cell_type": "code",
   "execution_count": null,
   "id": "b30895ba-ad2d-4f99-b78d-03ab2cba0e0e",
   "metadata": {},
   "outputs": [],
   "source": [
    "pairs = [\n",
    "    ('good', 'great'),\n",
    "    ('CNN', 'great'),  \n",
    "    ('CNN', 'good'),  \n",
    "    ('learn', 'Python'),\n",
    "    ('language', 'You')]    \n",
    "\n",
    "for w1, w2 in pairs:\n",
    "    print('{:>8}  {:8} {:6.3f}' .format(w1, w2, model.wv.similarity(w1, w2)))"
   ]
  },
  {
   "cell_type": "code",
   "execution_count": null,
   "id": "95dee2a7-2ede-412e-98cc-a1659954528d",
   "metadata": {},
   "outputs": [],
   "source": [
    "model.save('myword2vec.model')"
   ]
  },
  {
   "cell_type": "code",
   "execution_count": null,
   "id": "2ad1965a-63ba-4fe6-a948-3d907acdf496",
   "metadata": {},
   "outputs": [],
   "source": [
    "\n",
    "trained_model = Word2Vec.load('myword2vec.model')\n",
    "trained_model.wv.most_similar('good') "
   ]
  },
  {
   "cell_type": "markdown",
   "id": "39564a78-d960-4e9b-a355-0d5f19367a08",
   "metadata": {},
   "source": [
    "## plot"
   ]
  },
  {
   "cell_type": "code",
   "execution_count": null,
   "id": "d7b0a7bd-8a2e-4bc9-a8dc-e3792ff9bc7a",
   "metadata": {},
   "outputs": [],
   "source": [
    "import numpy as np\n",
    "import matplotlib.pyplot as plt\n",
    "\n",
    "labels = np.asarray(model.wv.index_to_key)  \n",
    "labels.shape"
   ]
  },
  {
   "cell_type": "code",
   "execution_count": null,
   "id": "e5371d52-930b-49e2-8141-ae1a5a1f3e86",
   "metadata": {},
   "outputs": [],
   "source": [
    "print(labels)"
   ]
  },
  {
   "cell_type": "code",
   "execution_count": null,
   "id": "85dd7a8d-2653-4820-81e1-da5eaf7b9233",
   "metadata": {},
   "outputs": [],
   "source": [
    "vectors = np.asarray(model.wv.vectors)\n",
    "vectors.shape"
   ]
  },
  {
   "cell_type": "code",
   "execution_count": null,
   "id": "2d023eb5-4016-465e-bfc4-f2b7d9d27322",
   "metadata": {},
   "outputs": [],
   "source": [
    "print(vectors[0].round(3))"
   ]
  },
  {
   "cell_type": "code",
   "execution_count": null,
   "id": "b82af412-a581-4310-b273-5f1c74331cd5",
   "metadata": {},
   "outputs": [],
   "source": [
    "print(vectors.round(3))"
   ]
  },
  {
   "cell_type": "code",
   "execution_count": null,
   "id": "bb452e25-630a-4b61-a0c6-76cb873d073e",
   "metadata": {},
   "outputs": [],
   "source": [
    "sents"
   ]
  },
  {
   "cell_type": "code",
   "execution_count": null,
   "id": "ab7b5221-c371-4e45-bd40-777b26d7906f",
   "metadata": {},
   "outputs": [],
   "source": [
    "from sklearn.decomposition import PCA\n",
    "\n",
    "plt.figure(figsize=(4.8, 3.2))\n",
    "\n",
    "pca = PCA(n_components=2)\n",
    "result = pca.fit_transform(vectors)\n",
    "\n",
    "plt.scatter(result[:, 0], result[:, 1])\n",
    "\n",
    "for i, label in enumerate(labels):\n",
    "    plt.annotate(label, xy=(result[i, 0]+.005, result[i, 1]+.005))\n",
    "\n",
    "plt.show()"
   ]
  },
  {
   "cell_type": "code",
   "execution_count": null,
   "id": "bda11089-02a9-4caf-aa2c-1d2ff2c23917",
   "metadata": {},
   "outputs": [],
   "source": []
  }
 ],
 "metadata": {
  "kernelspec": {
   "display_name": "Python 3 (ipykernel)",
   "language": "python",
   "name": "python3"
  },
  "language_info": {
   "codemirror_mode": {
    "name": "ipython",
    "version": 3
   },
   "file_extension": ".py",
   "mimetype": "text/x-python",
   "name": "python",
   "nbconvert_exporter": "python",
   "pygments_lexer": "ipython3",
   "version": "3.9.7"
  }
 },
 "nbformat": 4,
 "nbformat_minor": 5
}
