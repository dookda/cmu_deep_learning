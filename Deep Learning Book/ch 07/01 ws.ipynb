{
 "cells": [
  {
   "cell_type": "markdown",
   "id": "9ffc2e9e-80d7-4a3d-8468-21de820ee520",
   "metadata": {},
   "source": [
    "## ws 01 MSE "
   ]
  },
  {
   "cell_type": "code",
   "execution_count": null,
   "id": "75113681-e926-499b-9d38-ac65177c55f9",
   "metadata": {},
   "outputs": [],
   "source": [
    "from sklearn.metrics import mean_squared_error"
   ]
  },
  {
   "cell_type": "code",
   "execution_count": null,
   "id": "b402afeb-86be-4168-a899-b548b9bcabf5",
   "metadata": {},
   "outputs": [],
   "source": [
    "y_true = [0, 0, 1, 1]  # \n",
    "y_pred = [0, 0, 0, 0] \n",
    "\n",
    "mean_squared_error(y_true, y_pred)"
   ]
  },
  {
   "cell_type": "code",
   "execution_count": null,
   "id": "a8238742-e7d1-4753-80a0-3f707ddeb53e",
   "metadata": {},
   "outputs": [],
   "source": [
    "(0 + 0 + 1**2 + 1**2)/4"
   ]
  },
  {
   "cell_type": "code",
   "execution_count": null,
   "id": "b5fcb017-716d-49d8-aa0d-bf4551382f8d",
   "metadata": {},
   "outputs": [],
   "source": [
    "y_true = [0, 0, 1, 1]  # \n",
    "y_pred = [0, 0, 1, 1] \n",
    "\n",
    "mean_squared_error(y_true, y_pred)"
   ]
  },
  {
   "cell_type": "markdown",
   "id": "dfbbc48d-6e38-4978-bea1-f31056e8d751",
   "metadata": {},
   "source": [
    "## ws 02"
   ]
  },
  {
   "cell_type": "code",
   "execution_count": null,
   "id": "1fe932ba-c60e-490f-8d7f-f05d7b1923de",
   "metadata": {},
   "outputs": [],
   "source": [
    "import numpy as np\n",
    "import tensorflow as tf\n",
    "\n",
    "y_true = [0, 0, 1, 1]  # \n",
    "y_pred = [0, 0, 1, 1]  \n",
    "\n",
    "# y_true = [0, 0, 1, 1]  # 3.8562371730804443\n",
    "# y_pred = [0, 0, 1, 0]\n",
    "\n",
    "# y_true = [0, 0, 1, 1] # 7.712474346160889\n",
    "# y_pred = [0, 0, 0, 0]\n",
    "\n",
    "y_true = [0, 0, 1, 1]  # 15.424948692321777\n",
    "y_pred = [1, 1, 0, 0]\n",
    "\n",
    "y_pred = np.array(y_pred).astype('float')\n",
    "\n",
    "bce = tf.keras.losses.BinaryCrossentropy() \n",
    "bce(y_true, y_pred).numpy()"
   ]
  },
  {
   "cell_type": "code",
   "execution_count": null,
   "id": "ec4a1273-721e-46dd-bba2-2ff1d12f19fb",
   "metadata": {},
   "outputs": [],
   "source": [
    "import matplotlib.pyplot as plt\n",
    "\n",
    "def cross_entropy_loss(yHat, y):\n",
    "    if y == 1:\n",
    "        return -np.log(yHat)\n",
    "    else:\n",
    "        return -np.log(1 - yHat)\n",
    "    \n",
    "\n",
    "y_pred = np.arange(0.01, 0.999, 0.01)\n",
    "\n",
    "cost_1 = cross_entropy_loss(y_pred, 1)\n",
    "cost_0 = cross_entropy_loss(y_pred, 0)\n",
    "\n",
    "# Plot the cross entropy loss\n",
    "\n",
    "plt.plot(y_pred, cost_1, label='Actual (y_true) = 1', c='b', ls='-', lw=2)\n",
    "plt.plot(y_pred, cost_0, label='Actual (y_true) = 0', c='r',ls='--', lw=2)\n",
    "\n",
    "plt.xlabel('Predicted')\n",
    "plt.ylabel('Loss')\n",
    "plt.legend(loc='best')\n",
    "plt.tight_layout()\n",
    "plt.show()    "
   ]
  },
  {
   "cell_type": "code",
   "execution_count": null,
   "id": "82dd7234-dbbd-4b9c-b9bb-11b2ec4a41f2",
   "metadata": {},
   "outputs": [],
   "source": []
  }
 ],
 "metadata": {
  "kernelspec": {
   "display_name": "Python 3 (ipykernel)",
   "language": "python",
   "name": "python3"
  },
  "language_info": {
   "codemirror_mode": {
    "name": "ipython",
    "version": 3
   },
   "file_extension": ".py",
   "mimetype": "text/x-python",
   "name": "python",
   "nbconvert_exporter": "python",
   "pygments_lexer": "ipython3",
   "version": "3.9.7"
  }
 },
 "nbformat": 4,
 "nbformat_minor": 5
}
