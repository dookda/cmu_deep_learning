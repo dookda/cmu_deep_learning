{
 "cells": [
  {
   "cell_type": "markdown",
   "id": "6a77b9ad-dee2-4b17-97a3-3f58f8e02d7b",
   "metadata": {},
   "source": [
    "# ws 04"
   ]
  },
  {
   "cell_type": "code",
   "execution_count": null,
   "id": "52976467-a9e0-4151-8294-c494524166b4",
   "metadata": {},
   "outputs": [],
   "source": [
    "import numpy as np  \n",
    "import matplotlib.pyplot as plt  \n",
    "import seaborn as sns  \n",
    "\n",
    "sns.set_style('darkgrid')\n",
    "np.random.seed(seed=1) \n",
    "\n",
    "x = np.random.uniform(0, 1, 12) \n",
    "\n",
    "def f(x): \n",
    "    return 2 * x + 0 #+ 0  \n",
    "\n",
    "noise = 0.15 \n",
    "noise = np.random.randn(x.shape[0]) * noise\n",
    "\n",
    "y = f(x) + noise  "
   ]
  },
  {
   "cell_type": "code",
   "execution_count": null,
   "id": "8bc47591-95ed-43bb-9f1c-76fc4b6dcfa4",
   "metadata": {},
   "outputs": [],
   "source": [
    "x.shape , y.shape"
   ]
  },
  {
   "cell_type": "code",
   "execution_count": null,
   "id": "b67e0c93-a6c4-42ac-8b27-9692c3f2eed7",
   "metadata": {},
   "outputs": [],
   "source": [
    "plt.scatter(x, y, marker='o', s=50, label='data point')\n",
    "\n",
    "plt.plot([0, .7], [f(0),1.4], 'g--', lw=1, label='$f(x)$')\n",
    "plt.xlabel('x (advertisment)')\n",
    "plt.ylabel('y (profit)')\n",
    "\n",
    "plt.title('Profit')\n",
    "plt.legend(loc=2)\n",
    "plt.show()"
   ]
  },
  {
   "cell_type": "code",
   "execution_count": null,
   "id": "4f93b968-34fd-4eba-963b-437ad3f608a5",
   "metadata": {},
   "outputs": [],
   "source": [
    "def neuron(x, w):\n",
    "    return w*x + 0\n",
    "\n",
    "def loss_mse(y_pred, y_true):\n",
    "    return np.mean((y_true - y_pred)**2)"
   ]
  },
  {
   "cell_type": "code",
   "execution_count": null,
   "id": "bff20cab-c567-4bef-8cce-a5a2afe84e95",
   "metadata": {},
   "outputs": [],
   "source": [
    "ws = np.linspace(0, 4, num=50) \n",
    "\n",
    "loss_ws = [loss_mse(neuron(x,w), y) for w in ws]\n",
    "\n",
    "plt.plot(ws, loss_ws, 'r--', lw=2, label='Cost function (MSE)')\n",
    "\n",
    "plt.xlabel('$w$', fontsize=12)\n",
    "plt.ylabel('Cost (Loss)', fontsize=12)\n",
    "plt.title('Cost function')\n",
    "plt.legend()\n",
    "plt.show()"
   ]
  },
  {
   "cell_type": "code",
   "execution_count": null,
   "id": "527244ac-19a2-4a6c-beba-2f19c69f15a3",
   "metadata": {},
   "outputs": [],
   "source": [
    "from sklearn import linear_model\n",
    "lm = linear_model.LinearRegression()\n",
    "X = x.reshape(-1, 1)\n",
    "\n",
    "lm.fit(X, y)\n",
    "\n",
    "print(lm.coef_, lm.intercept_)  # w and b"
   ]
  },
  {
   "cell_type": "code",
   "execution_count": null,
   "id": "a8e3f178-10ba-45c9-8f9e-278c94f33ec1",
   "metadata": {},
   "outputs": [],
   "source": [
    "def gradient(w, x, y_true):\n",
    "    y_pred = neuron(x, w)\n",
    "    return 2 * x * (y_pred - y_true) # use this\n",
    "\n",
    "\n",
    "def delta_w(w_k, x, y, learning_rate):\n",
    "    \"\"\"Update function delta w\"\"\"\n",
    "    return learning_rate * np.mean(gradient(w_k, x, y))\n",
    "\n",
    "# w = np.random.rand()\n",
    "w = 0.08 \n",
    "learning_rate = .9 \n",
    "\n",
    "no_of_iterations = 3 \n",
    "\n",
    "history_loss = [(w, loss_mse(neuron(x, w), y))] \n",
    "for i in range(no_of_iterations):\n",
    "    dw = delta_w(w, x, y, learning_rate)  \n",
    "    w = w - dw  \n",
    "    history_loss.append((w, loss_mse(neuron(x, w), y)))  \n",
    "\n",
    "\n",
    "for i in range(0, len(history_loss)):\n",
    "    print('{} -> w: {:.2f} \\t loss: {} '.format(i, history_loss[i][0], history_loss[i][1]))\n"
   ]
  },
  {
   "cell_type": "code",
   "execution_count": null,
   "id": "0f0673b5-a45a-407d-ad79-2bd55943d336",
   "metadata": {},
   "outputs": [],
   "source": [
    "plt.plot(ws, loss_ws, 'r--', label='Cost function (MSE)') \n",
    "\n",
    "for i in range(0, len(history_loss)-1):\n",
    "    w1, c1 = history_loss[i]\n",
    "    w2, c2 = history_loss[i+1]\n",
    "    plt.plot(w1, c1, 'bo')\n",
    "    plt.plot([w1, w2],[c1, c2], 'b-')\n",
    "    plt.text(w1, c1+0.02, f'${i+1}$', ha='right' )\n",
    "plt.plot(w2, c2, 'bo', label='$w(k)$')\n",
    "plt.text(w2, c2+0.02, f'${i+2}$', ha='right')\n",
    "\n",
    "plt.xlabel('$w$', fontsize=12)\n",
    "plt.ylabel('Cost (Loss)', fontsize=12)\n",
    "plt.title('Gradient descent on Cost function')\n",
    "\n",
    "plt.legend(loc=1)\n",
    "plt.show()"
   ]
  },
  {
   "cell_type": "markdown",
   "id": "45ae89f0-c669-4916-9ed9-08a9879412cd",
   "metadata": {},
   "source": [
    "WS 07 see \"02 ws 03\""
   ]
  }
 ],
 "metadata": {
  "kernelspec": {
   "display_name": "Python 3 (ipykernel)",
   "language": "python",
   "name": "python3"
  },
  "language_info": {
   "codemirror_mode": {
    "name": "ipython",
    "version": 3
   },
   "file_extension": ".py",
   "mimetype": "text/x-python",
   "name": "python",
   "nbconvert_exporter": "python",
   "pygments_lexer": "ipython3",
   "version": "3.9.7"
  }
 },
 "nbformat": 4,
 "nbformat_minor": 5
}
