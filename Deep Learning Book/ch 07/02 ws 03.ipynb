{
 "cells": [
  {
   "cell_type": "markdown",
   "id": "ba5f402f-d3e8-447e-8498-f8b708b1736a",
   "metadata": {},
   "source": [
    "# ws 03"
   ]
  },
  {
   "cell_type": "code",
   "execution_count": null,
   "id": "29a1d907-fac6-4d78-8ba9-015c63f414d5",
   "metadata": {},
   "outputs": [],
   "source": [
    "from sklearn.datasets import make_blobs\n",
    "import matplotlib.pyplot as plt\n",
    "import seaborn as sns\n",
    "import pandas as pd\n",
    "import numpy as np"
   ]
  },
  {
   "cell_type": "code",
   "execution_count": null,
   "id": "5001b42b-1c95-4df3-b1ad-2153ca255500",
   "metadata": {},
   "outputs": [],
   "source": [
    "X, y = make_blobs(n_samples=1000, centers=5, n_features=2, cluster_std=1.1, random_state=1)\n"
   ]
  },
  {
   "cell_type": "code",
   "execution_count": null,
   "id": "b323de2a-79fe-47d8-8ee8-4531dd1a7dea",
   "metadata": {},
   "outputs": [],
   "source": [
    "X_df = pd.DataFrame(X, columns=['weight', 'height'])\n",
    "y_df = pd.DataFrame(y, columns=['class'])\n",
    "\n",
    "df = pd.concat([X_df, y_df], axis=1)\n",
    "\n",
    "target_map = {0:'horse', 1:'bird', 2:'fish', 3:'cat',4:'dog'}  # \n",
    "df['class'] = df['class'].map(target_map)\n",
    "\n",
    "# df.head()\n",
    "df.sample(5, random_state=100)"
   ]
  },
  {
   "cell_type": "code",
   "execution_count": null,
   "id": "4af17b71-428a-414b-accb-b9554fc24df7",
   "metadata": {},
   "outputs": [],
   "source": [
    "sns.scatterplot(x='weight', y='height', data=df, s=70,\n",
    "                hue=df['class'], style=df['class'])\n",
    "\n",
    "plt.xticks([])\n",
    "plt.yticks([])\n",
    "plt.show()"
   ]
  },
  {
   "cell_type": "code",
   "execution_count": null,
   "id": "7d0fbe0f-2efb-4abe-b007-b615a7b8ed70",
   "metadata": {},
   "outputs": [],
   "source": [
    "class_names, y = np.unique(df['class'], return_inverse=True)\n",
    "class_names"
   ]
  },
  {
   "cell_type": "code",
   "execution_count": null,
   "id": "ae087d88-33ea-4e71-8232-654b43ddcc49",
   "metadata": {},
   "outputs": [],
   "source": [
    "X = df.drop('class', axis=1)\n",
    "X.head()"
   ]
  },
  {
   "cell_type": "code",
   "execution_count": null,
   "id": "9aab4e5f-1555-48db-8bfb-48a0f7d3ad39",
   "metadata": {},
   "outputs": [],
   "source": [
    "from sklearn.preprocessing import StandardScaler\n",
    "\n",
    "sc = StandardScaler()\n",
    "X_sc = sc.fit_transform(X)\n",
    "X_sc[:4]"
   ]
  },
  {
   "cell_type": "code",
   "execution_count": null,
   "id": "61f1a130-c501-4d39-84a7-718a5c4abf80",
   "metadata": {},
   "outputs": [],
   "source": [
    "from sklearn.model_selection import train_test_split\n",
    "\n",
    "X_train, X_test, y_train, y_test = train_test_split(X_sc, y, test_size=0.25, random_state=1) #\n",
    "\n",
    "X_train.shape, X_test.shape"
   ]
  },
  {
   "cell_type": "code",
   "execution_count": null,
   "id": "3e095cb5-0fa3-4096-bb06-73cf02eac9ef",
   "metadata": {},
   "outputs": [],
   "source": [
    "from tensorflow.keras import Sequential\n",
    "from tensorflow.keras.layers import Dense \n",
    "\n",
    "model = Sequential()\n",
    "\n",
    "model.add(Dense(5100, activation='relu', input_shape=(2,)))  \n",
    "\n",
    "model.add(Dense(5, activation='softmax'))"
   ]
  },
  {
   "cell_type": "code",
   "execution_count": null,
   "id": "359db90b-18e1-42e8-ab72-6d4fd08b15f6",
   "metadata": {},
   "outputs": [],
   "source": [
    "model.summary()"
   ]
  },
  {
   "cell_type": "code",
   "execution_count": null,
   "id": "83c90f4d-c220-4c59-b79e-8baf537df824",
   "metadata": {},
   "outputs": [],
   "source": [
    "model.compile(loss='sparse_categorical_crossentropy', optimizer='adam', \n",
    "             metrics=['accuracy'])"
   ]
  },
  {
   "cell_type": "code",
   "execution_count": null,
   "id": "2633849c-1e74-4278-aab8-ea40d4107a3d",
   "metadata": {},
   "outputs": [],
   "source": [
    "history = model.fit(X_train, y_train, epochs=50, batch_size=32, verbose=1, validation_split=0.25) # no1"
   ]
  },
  {
   "cell_type": "code",
   "execution_count": null,
   "id": "f7f870b4-b776-4c1e-ab26-6a30cb6d0071",
   "metadata": {},
   "outputs": [],
   "source": [
    "score = model.evaluate(X_test, y_test, verbose=0)\n",
    "print(\"Test loss:\", score[0])\n",
    "print(\"Test accuracy:\", score[1])"
   ]
  },
  {
   "cell_type": "code",
   "execution_count": null,
   "id": "a8686130-db96-4d6c-9cbb-6ef647194657",
   "metadata": {},
   "outputs": [],
   "source": [
    "y_pred = model.predict(X_test)\n",
    "\n",
    "y_pred[:4]\n",
    "y_pred[:4].round(3)"
   ]
  },
  {
   "cell_type": "code",
   "execution_count": null,
   "id": "8f6e7c7e-6ffd-4325-84f8-3191265f54e4",
   "metadata": {},
   "outputs": [],
   "source": [
    "y_pred_cat = np.argmax(y_pred, axis=1)\n",
    "y_pred_cat[:4]"
   ]
  },
  {
   "cell_type": "code",
   "execution_count": null,
   "id": "2cd34033-5641-43f4-8afb-58789d914e90",
   "metadata": {},
   "outputs": [],
   "source": [
    "df_hist = pd.DataFrame.from_dict(history.history)\n",
    "\n",
    "df_hist['loss'].plot(style='b--', label='Trainning')\n",
    "df_hist['val_loss'].plot(style='r-', label='Validation')\n",
    "plt.xlabel('Epoch')\n",
    "plt.ylabel('Loss')\n",
    "\n",
    "\n",
    "plt.legend()\n",
    "plt.title('Loss')\n",
    "\n",
    "plt.show()"
   ]
  },
  {
   "cell_type": "code",
   "execution_count": null,
   "id": "53c62af5-6fa1-44e6-b6a6-55353b5a2838",
   "metadata": {},
   "outputs": [],
   "source": [
    "df_hist['accuracy'].plot(style='b--', label='Trainning')\n",
    "df_hist['val_accuracy'].plot(label='Test')\n",
    "\n",
    "plt.title('Model Accuracy')\n",
    "plt.ylabel('accuracy')\n",
    "plt.xlabel('epoch')\n",
    "plt.legend()\n",
    "\n",
    "plt.show()"
   ]
  },
  {
   "cell_type": "code",
   "execution_count": null,
   "id": "4d6309d9-3b31-4327-b025-5ca758cdd810",
   "metadata": {},
   "outputs": [],
   "source": [
    "class Onehot2Int(object):\n",
    "    def __init__(self, model):\n",
    "        self.model = model\n",
    "\n",
    "    def predict(self, X):\n",
    "        y_pred = self.model.predict(X)\n",
    "        return np.argmax(y_pred, axis=1)\n",
    "\n",
    "model_no_ohe = Onehot2Int(model)    "
   ]
  },
  {
   "cell_type": "code",
   "execution_count": null,
   "id": "0f64d7d9-d0b6-45c7-9453-d58af104b0ca",
   "metadata": {},
   "outputs": [],
   "source": [
    "from mlxtend.plotting import plot_decision_regions\n",
    "\n",
    "ax = plot_decision_regions(X_train, y_train, clf=model_no_ohe,\n",
    "                          zoom_factor=1.)\n",
    "\n",
    "handles, labels = ax.get_legend_handles_labels()\n",
    "ax.legend(handles, class_names, framealpha=0.5)\n",
    "\n",
    "plt.title('Model Regions') \n",
    "plt.xticks([])\n",
    "plt.yticks([])\n",
    "plt.xlabel('weight')\n",
    "plt.ylabel('height')\n",
    "plt.show()"
   ]
  },
  {
   "cell_type": "markdown",
   "id": "b3aac055-904a-4228-a9b2-d85e19d409c5",
   "metadata": {},
   "source": [
    "# ws 08"
   ]
  },
  {
   "cell_type": "code",
   "execution_count": null,
   "id": "7ba43b70-2a87-48e4-ad3c-23df77ce04b0",
   "metadata": {},
   "outputs": [],
   "source": [
    "model.compile(loss='sparse_categorical_crossentropy', \n",
    "              optimizer='SGD', \n",
    "             metrics=['accuracy'])"
   ]
  },
  {
   "cell_type": "code",
   "execution_count": null,
   "id": "f8463fdc-0f5c-4759-9810-0b1d908bff25",
   "metadata": {},
   "outputs": [],
   "source": [
    "import tensorflow as tf\n",
    "opt = tf.keras.optimizers.SGD(learning_rate=0.01, momentum=0.9)\n",
    "model.compile(loss='sparse_categorical_crossentropy', \n",
    "              optimizer=opt, \n",
    "             metrics=['accuracy'])"
   ]
  },
  {
   "cell_type": "code",
   "execution_count": null,
   "id": "dc6943f5-2418-4803-a197-d448113ba20f",
   "metadata": {},
   "outputs": [],
   "source": [
    "model.compile(loss='sparse_categorical_crossentropy', optimizer='RMSprop', \n",
    "             metrics=['accuracy'])"
   ]
  },
  {
   "cell_type": "markdown",
   "id": "96f0392f-940c-4fff-8ae6-a33e318d9bc6",
   "metadata": {},
   "source": [
    "# ws 09"
   ]
  },
  {
   "cell_type": "code",
   "execution_count": null,
   "id": "b70aa545-b384-4630-9a09-635a612e0a90",
   "metadata": {},
   "outputs": [],
   "source": [
    "X, y = make_blobs(n_samples=300, centers=5, n_features=2, cluster_std=1.5, random_state=1)\n"
   ]
  },
  {
   "cell_type": "markdown",
   "id": "43d29d5b-5d4c-4a16-86fa-ccdc76492064",
   "metadata": {},
   "source": [
    "# ws 10"
   ]
  },
  {
   "cell_type": "code",
   "execution_count": null,
   "id": "fbed37cb-b1da-4d1d-b5b3-0122fd9beacb",
   "metadata": {},
   "outputs": [],
   "source": [
    "from tensorflow.keras.regularizers import l1, l2, l1_l2\n",
    "\n",
    "model = Sequential()\n",
    "\n",
    "model.add(Dense(256, activation='relu', kernel_regularizer=l1(0.001), input_shape=(2,)))  \n",
    "model.add(Dense(128, activation='relu', kernel_regularizer=l1(0.001)))  # \n",
    "model.add(Dense(64, activation='relu', kernel_regularizer=l1(0.001)))  # \n",
    "\n",
    "model.add(Dense(5, activation='softmax'))"
   ]
  },
  {
   "cell_type": "markdown",
   "id": "bc4ad9ac-1829-44f0-a2a3-aa9a185adc56",
   "metadata": {},
   "source": [
    "# ws 11"
   ]
  },
  {
   "cell_type": "code",
   "execution_count": null,
   "id": "d12e6c54-265c-4fec-8403-9452c5435bad",
   "metadata": {},
   "outputs": [],
   "source": [
    "model = Sequential()\n",
    "\n",
    "model.add(Dense(256, activation='relu', kernel_regularizer=l2(0.001), input_shape=(2,)))  \n",
    "model.add(Dense(128, activation='relu', kernel_regularizer=l2(0.001)))  \n",
    "model.add(Dense(64, activation='relu', kernel_regularizer=l2(0.001)))  \n",
    "\n",
    "model.add(Dense(5, activation='softmax'))"
   ]
  },
  {
   "cell_type": "markdown",
   "id": "0ac86f6a-d1bf-4057-b8a7-2227d612e936",
   "metadata": {},
   "source": [
    "# ws 12"
   ]
  },
  {
   "cell_type": "code",
   "execution_count": null,
   "id": "4c752996-3cd1-4680-a747-5cbeb3f8a7cb",
   "metadata": {},
   "outputs": [],
   "source": [
    "model = Sequential()\n",
    "\n",
    "model.add(Dense(256, activation='relu', kernel_regularizer=l2(0.01), input_shape=(2,)))  #.001\n",
    "model.add(Dropout(.4))\n",
    "model.add(Dense(128, activation='relu', kernel_regularizer=l2(0.01)))  #\n",
    "model.add(Dropout(.4))\n",
    "model.add(Dense(64, activation='relu', kernel_regularizer=l2(0.01)))  # \n",
    "model.add(Dropout(.4))\n",
    "\n",
    "model.add(Dense(5, activation='softmax'))"
   ]
  },
  {
   "cell_type": "markdown",
   "id": "fc6cc101-9007-44f0-985f-cd1a4a4e8a9e",
   "metadata": {},
   "source": [
    "# ws 13"
   ]
  },
  {
   "cell_type": "code",
   "execution_count": null,
   "id": "d664aad1-2c72-44e4-af99-1c6f82584066",
   "metadata": {},
   "outputs": [],
   "source": [
    "from tensorflow.keras.callbacks import EarlyStopping\n",
    "\n",
    "es = EarlyStopping(monitor='val_loss', verbose=1, patience=20) # \n",
    "\n",
    "from tensorflow.keras.models import Sequential\n",
    "from tensorflow.keras.layers import Dense, Dropout\n",
    "\n",
    "model = Sequential()\n",
    "\n",
    "model.add(Dense(256, activation='relu', input_shape=(2,)))   # \n",
    "model.add(Dense(128, activation='relu'))  # \n",
    "model.add(Dense(64, activation='relu'))  # \n",
    "\n",
    "model.add(Dense(5, activation='softmax'))\n",
    "\n",
    "model.compile(loss='sparse_categorical_crossentropy', optimizer='adam', \n",
    "             metrics=['accuracy'])\n",
    "\n",
    "history = model.fit(X_train, y_train, batch_size=256, validation_data=(X_test, y_test), \n",
    "                    epochs=1000, verbose=0, callbacks=[es])"
   ]
  },
  {
   "cell_type": "markdown",
   "id": "03bf705a-7a70-4e27-8817-408692656de7",
   "metadata": {},
   "source": [
    "# ws14"
   ]
  },
  {
   "cell_type": "code",
   "execution_count": null,
   "id": "0e961725-1539-4937-a016-e41f011e6839",
   "metadata": {},
   "outputs": [],
   "source": [
    "from tensorflow.keras.callbacks import EarlyStopping\n",
    "from tensorflow.keras.callbacks import ModelCheckpoint\n",
    "\n",
    "\n",
    "es = EarlyStopping(monitor='val_loss', verbose=1, patience=20)\n",
    "mc = ModelCheckpoint('best_model.h5', monitor='val_accuracy', verbose=1, save_best_only=True) # mode='auto'\n",
    "\n",
    "from tensorflow.keras.models import Sequential\n",
    "from tensorflow.keras.layers import Dense, Dropout\n",
    "\n",
    "model = Sequential()\n",
    "\n",
    "\n",
    "model.add(Dense(256, activation='relu', input_shape=(2,))) \n",
    "model.add(Dense(128, activation='relu'))\n",
    "model.add(Dense(64, activation='relu'))  \n",
    "\n",
    "model.add(Dense(5, activation='softmax'))\n",
    "model.summary()"
   ]
  },
  {
   "cell_type": "code",
   "execution_count": null,
   "id": "10925525-c078-4981-96b7-aaa15e84f93e",
   "metadata": {},
   "outputs": [],
   "source": []
  }
 ],
 "metadata": {
  "kernelspec": {
   "display_name": "Python 3 (ipykernel)",
   "language": "python",
   "name": "python3"
  },
  "language_info": {
   "codemirror_mode": {
    "name": "ipython",
    "version": 3
   },
   "file_extension": ".py",
   "mimetype": "text/x-python",
   "name": "python",
   "nbconvert_exporter": "python",
   "pygments_lexer": "ipython3",
   "version": "3.9.7"
  }
 },
 "nbformat": 4,
 "nbformat_minor": 5
}
