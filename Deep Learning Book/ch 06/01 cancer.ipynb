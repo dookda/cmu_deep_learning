{
 "cells": [
  {
   "cell_type": "markdown",
   "id": "296a98f5-4a2d-495c-bd06-937342ab6845",
   "metadata": {},
   "source": [
    "# WS 01"
   ]
  },
  {
   "cell_type": "code",
   "execution_count": null,
   "id": "143cdd2c-534a-495d-ad7a-ca10b0b33a79",
   "metadata": {},
   "outputs": [],
   "source": [
    "from sklearn.datasets import load_breast_cancer\n",
    "import numpy as np\n",
    "import pandas as pd\n",
    "import matplotlib.pyplot as plt\n",
    "import seaborn as sns\n",
    "\n",
    "cancer = load_breast_cancer()"
   ]
  },
  {
   "cell_type": "code",
   "execution_count": null,
   "id": "1b904197-a299-4a1b-b3c3-24747f29b120",
   "metadata": {},
   "outputs": [],
   "source": [
    "cancer.keys()"
   ]
  },
  {
   "cell_type": "code",
   "execution_count": null,
   "id": "feccd802-963a-413d-a42d-67a059133dc4",
   "metadata": {},
   "outputs": [],
   "source": [
    "cancer.target_names"
   ]
  },
  {
   "cell_type": "code",
   "execution_count": null,
   "id": "f22356a7-388f-4b62-aa29-c5c920f74397",
   "metadata": {},
   "outputs": [],
   "source": [
    "df = pd.DataFrame(cancer.data[:,0:2], columns=cancer.feature_names[0:2])\n",
    "\n",
    "df['class'] = cancer.target\n",
    "\n",
    "df.sample(5, random_state=1)\n",
    "# df.head()"
   ]
  },
  {
   "cell_type": "markdown",
   "id": "bcd512ab-7ba7-45e1-8344-48f997b66faf",
   "metadata": {},
   "source": [
    "convert class to string"
   ]
  },
  {
   "cell_type": "code",
   "execution_count": null,
   "id": "69720103-f4f0-4cab-bf90-407f7778b44f",
   "metadata": {},
   "outputs": [],
   "source": [
    "# df['class'] = np.where(df['class']==0, 'yes', 'no')  \n",
    "# df['class'] = np.where(df['class']==0, 'malignant', 'benign') \n",
    "\n",
    "target_map = {0:'malignant', 1:'benign'}  # same\n",
    "df['class'] = df['class'].map(target_map)\n",
    "\n",
    "# df.head()\n",
    "df.sample(5, random_state=1)"
   ]
  },
  {
   "cell_type": "code",
   "execution_count": null,
   "id": "bfaa226a-beb2-4b18-adfb-03add9cfdee2",
   "metadata": {},
   "outputs": [],
   "source": [
    "df.head()\n",
    "# df.tail()"
   ]
  },
  {
   "cell_type": "code",
   "execution_count": null,
   "id": "16c8290a-d7a1-4216-bf2d-b0bf624bd9aa",
   "metadata": {},
   "outputs": [],
   "source": [
    "df.isnull().sum()"
   ]
  },
  {
   "cell_type": "code",
   "execution_count": null,
   "id": "3bbd3804-2efb-4961-8b3b-80caf0a35742",
   "metadata": {},
   "outputs": [],
   "source": [
    "plt.figure(figsize=(5.2, 4))\n",
    "\n",
    "sns.scatterplot(x='mean radius', y='mean texture', data=df, hue='class', style='class', \n",
    "                alpha=0.9, edgecolor='w', s=80)\n",
    "\n",
    "plt.show()"
   ]
  },
  {
   "cell_type": "code",
   "execution_count": null,
   "id": "5befed1d-4a90-4b74-bd49-3af9f60e4cf7",
   "metadata": {},
   "outputs": [],
   "source": [
    "class_names, y = np.unique(df['class'], return_inverse=True)\n",
    "class_names"
   ]
  },
  {
   "cell_type": "code",
   "execution_count": null,
   "id": "90c6052b-79e6-427d-9f4f-1eda55786227",
   "metadata": {},
   "outputs": [],
   "source": [
    "y[40:50]"
   ]
  },
  {
   "cell_type": "code",
   "execution_count": null,
   "id": "fb99f391-05e0-4cde-834b-c814fc3dc32b",
   "metadata": {},
   "outputs": [],
   "source": [
    "X = df.drop('class', axis=1)\n",
    "X.head()"
   ]
  },
  {
   "cell_type": "code",
   "execution_count": null,
   "id": "a223e656-2692-44d3-9d6b-98060281f395",
   "metadata": {},
   "outputs": [],
   "source": [
    "# y = df['class']\n",
    "np.unique(y)\n",
    "y[:5]"
   ]
  },
  {
   "cell_type": "code",
   "execution_count": null,
   "id": "29599edf-8b2f-42d9-9194-7243021107bd",
   "metadata": {},
   "outputs": [],
   "source": [
    "from sklearn.preprocessing import StandardScaler\n",
    "\n",
    "sc = StandardScaler()\n",
    "X_sc = sc.fit_transform(X)\n",
    "X_sc[:5]"
   ]
  },
  {
   "cell_type": "code",
   "execution_count": null,
   "id": "2eb6efec-9978-4c4b-9513-ea81c5ca1081",
   "metadata": {},
   "outputs": [],
   "source": [
    "fig, (ax1, ax2) = plt.subplots(ncols=2, figsize=(8, 3.5))\n",
    "\n",
    "ax1.set_title('Before StandardScale (Raw data)')\n",
    "sns.kdeplot(df['mean radius'], fill=True, ax=ax1)\n",
    "sns.kdeplot(df['mean texture'], fill=True, ax=ax1)\n",
    "\n",
    "ax2.set_title('After StandardScale')\n",
    "sns.kdeplot(X_sc[:,0], fill=True, ax=ax2)\n",
    "sns.kdeplot(X_sc[:,1], fill=True, ax=ax2)\n",
    "sns.kdeplot(df['mean texture'], fill=True, ax=ax1)\n",
    "\n",
    "plt.show()"
   ]
  },
  {
   "cell_type": "code",
   "execution_count": null,
   "id": "51e093ee-ca1c-482b-9f89-0043ccb03461",
   "metadata": {},
   "outputs": [],
   "source": [
    "plt.scatter(X_sc[:,0][y==0], X_sc[:,1][y==0], marker='x')\n",
    "plt.scatter(X_sc[:,0][y==1], X_sc[:,1][y==1], edgecolor='w', s=50)\n",
    "plt.show()"
   ]
  },
  {
   "cell_type": "code",
   "execution_count": null,
   "id": "9b315a9f-2be0-4046-9fc7-c6d051de47ff",
   "metadata": {},
   "outputs": [],
   "source": [
    "from sklearn.model_selection import train_test_split\n",
    "\n",
    "X_train, X_test, y_train, y_test = train_test_split(X_sc, y, test_size=0.25, random_state=1) #\n",
    "\n",
    "X_train.shape, X_test.shape"
   ]
  },
  {
   "cell_type": "code",
   "execution_count": null,
   "id": "92c98428-9d06-4664-ac54-77bb76d47966",
   "metadata": {},
   "outputs": [],
   "source": [
    "y_train.shape, y_test.shape "
   ]
  },
  {
   "cell_type": "code",
   "execution_count": null,
   "id": "8dfbcd71-319f-4de1-bff4-f961747e156f",
   "metadata": {},
   "outputs": [],
   "source": [
    "X_train[:5]"
   ]
  },
  {
   "cell_type": "code",
   "execution_count": null,
   "id": "afeef49a-af9f-4044-bcfd-bcfdb7524b40",
   "metadata": {},
   "outputs": [],
   "source": [
    "y_train[:5]"
   ]
  },
  {
   "cell_type": "markdown",
   "id": "0db7ceba-63c1-479a-a57b-7b0721d4b0e3",
   "metadata": {},
   "source": [
    "# ws 02"
   ]
  },
  {
   "cell_type": "code",
   "execution_count": null,
   "id": "66968c46-3d8e-4198-ac31-b234c1228c36",
   "metadata": {},
   "outputs": [],
   "source": [
    "from tensorflow.keras import Sequential\n",
    "from tensorflow.keras.layers import Dense \n",
    "\n",
    "model = Sequential()\n",
    "\n",
    "model.add(Dense(32, activation='relu', input_shape=(2,)))  \n",
    "\n",
    "model.add(Dense(1, activation='sigmoid')) # "
   ]
  },
  {
   "cell_type": "code",
   "execution_count": null,
   "id": "3359b6fc-e9a0-40ac-ab0b-c2664b5f30d5",
   "metadata": {},
   "outputs": [],
   "source": [
    "input_size = X_train.shape[-1]\n",
    "input_size"
   ]
  },
  {
   "cell_type": "code",
   "execution_count": null,
   "id": "9f6ee1e0-e720-4e7f-be67-1ca5a9c78d90",
   "metadata": {},
   "outputs": [],
   "source": [
    "# input_size = X_train.shape[-1]\n",
    "# model = Sequential([\n",
    "#     Dense(32, activation='relu', input_shape=(input_size,)),\n",
    "#     Dense(1, activation='sigmoid')\n",
    "# ])"
   ]
  },
  {
   "cell_type": "markdown",
   "id": "2a772266-646e-4d14-9b87-daf3511c24de",
   "metadata": {},
   "source": [
    "## Functional model"
   ]
  },
  {
   "cell_type": "raw",
   "id": "743091cf-6d4c-450a-909b-6292844f244e",
   "metadata": {},
   "source": [
    "(input: 2-dimensional vectors)\n",
    "       ↧\n",
    "[Dense (32 units, relu activation)]\n",
    "       ↧\n",
    "[Dense (1 unit, sigmoid activation)]\n",
    "       ↧\n",
    "(output: probability 2 classes)"
   ]
  },
  {
   "cell_type": "code",
   "execution_count": null,
   "id": "120922a7-267c-40ed-a759-5a357391e87e",
   "metadata": {},
   "outputs": [],
   "source": [
    "from tensorflow.keras.layers import Dense, Input\n",
    "from tensorflow.keras import Model\n",
    "\n",
    "inputs = Input(shape=(2,))\n",
    "\n",
    "x = Dense(32, activation=\"relu\")(inputs)\n",
    "\n",
    "outputs = Dense(1, activation=\"relu\")(x)\n",
    "\n",
    "model = Model(inputs=inputs, outputs=outputs, name=\"my_model\")\n",
    "model.summary()"
   ]
  },
  {
   "cell_type": "code",
   "execution_count": null,
   "id": "0eff0b77-5b0d-4277-baf5-39c8503ec6c6",
   "metadata": {},
   "outputs": [],
   "source": [
    "model.summary()"
   ]
  },
  {
   "cell_type": "code",
   "execution_count": null,
   "id": "5c9b2ca3-e401-4fa9-b56f-4f90c4db8874",
   "metadata": {},
   "outputs": [],
   "source": [
    "model.output_shape"
   ]
  },
  {
   "cell_type": "code",
   "execution_count": null,
   "id": "64295e02-18ca-48da-962b-87f3982676a2",
   "metadata": {
    "tags": []
   },
   "outputs": [],
   "source": [
    "model.get_config()"
   ]
  },
  {
   "cell_type": "code",
   "execution_count": null,
   "id": "4a476110-35e7-4b84-8621-c9805e1c7fd4",
   "metadata": {},
   "outputs": [],
   "source": [
    "model.compile(loss='binary_crossentropy',\n",
    "              optimizer='adam',\n",
    "              metrics=['accuracy'])"
   ]
  },
  {
   "cell_type": "markdown",
   "id": "eaa38368-3093-4771-ae39-31fe63b9d10a",
   "metadata": {},
   "source": [
    "## Train"
   ]
  },
  {
   "cell_type": "code",
   "execution_count": null,
   "id": "10350a66-bcb9-47a6-b2aa-12164913377d",
   "metadata": {},
   "outputs": [],
   "source": [
    "import time\n",
    "\n",
    "start = time.time()\n",
    "\n",
    "history = model.fit(X_train, y_train, epochs=20, verbose=1, batch_size=32, validation_split=0.25)\n",
    "\n",
    "end = time.time()\n",
    "\n",
    "print(f\"Runtime of the program is {end - start} secs\")\n",
    "print(\"Time Taken: {:.3f} secs\".format(end - start))"
   ]
  },
  {
   "cell_type": "code",
   "execution_count": null,
   "id": "70265107-2a2b-4688-82ab-dd3055d93c51",
   "metadata": {},
   "outputs": [],
   "source": [
    "score = model.evaluate(X_test, y_test, verbose=0)\n",
    "print(\"Test loss:\", score[0])\n",
    "print(\"Test accuracy:\", score[1])"
   ]
  },
  {
   "cell_type": "code",
   "execution_count": null,
   "id": "ed554d9f-bc9d-4a82-885e-138c08686395",
   "metadata": {},
   "outputs": [],
   "source": [
    "y_pred_pr = model.predict(X_test)\n",
    "y_pred_pr[:4]"
   ]
  },
  {
   "cell_type": "code",
   "execution_count": null,
   "id": "ffb02d0d-8a8f-460c-a8da-2414771080f9",
   "metadata": {},
   "outputs": [],
   "source": [
    "y_pred = (y_pred_pr > 0.5).astype(int)  \n",
    "# y_pred = np.where(y_pred_pr > .5, 1,0)\n",
    "\n",
    "y_pred[:4]"
   ]
  },
  {
   "cell_type": "code",
   "execution_count": null,
   "id": "2fe3eb88-f194-4cbe-9919-7bf230ce6f32",
   "metadata": {},
   "outputs": [],
   "source": [
    "from sklearn.metrics import classification_report, confusion_matrix\n",
    "\n",
    "print('Score->',score[1])\n",
    "\n",
    "print(classification_report(y_test, y_pred))\n",
    "print(confusion_matrix(y_test, y_pred))"
   ]
  },
  {
   "cell_type": "code",
   "execution_count": null,
   "id": "cb73ad86-391c-4a69-a307-4d9778161451",
   "metadata": {},
   "outputs": [],
   "source": [
    "df_hist = pd.DataFrame.from_dict(history.history)\n",
    "history.params\n",
    "history.history.keys()"
   ]
  },
  {
   "cell_type": "code",
   "execution_count": null,
   "id": "a0af7f7e-6b5c-47b7-9060-e8e38c04e480",
   "metadata": {},
   "outputs": [],
   "source": [
    "plt.figure(figsize=(4.7, 3.5))\n",
    "\n",
    "df_hist['loss'].plot(style='b--', label='Trainning')\n",
    "df_hist['val_loss'].plot(style='r-', label='Test')\n",
    "plt.xlabel('Epoch')\n",
    "plt.ylabel('Loss')\n",
    "\n",
    "plt.legend()\n",
    "plt.title('Loss')\n",
    "plt.show()"
   ]
  },
  {
   "cell_type": "code",
   "execution_count": null,
   "id": "72a03d4a-b5c1-45b6-a1db-7d9d1c6b6150",
   "metadata": {},
   "outputs": [],
   "source": [
    "plt.figure(figsize=(4.7, 3.5))\n",
    "\n",
    "df_hist['accuracy'].plot(style='b--', label='Trainning')\n",
    "df_hist['val_accuracy'].plot(label='Test')\n",
    "\n",
    "plt.title('Model Accuracy')\n",
    "plt.ylabel('accuracy')\n",
    "plt.xlabel('epoch')\n",
    "plt.legend()\n",
    "plt.tight_layout() \n",
    "\n",
    "plt.show()"
   ]
  },
  {
   "cell_type": "markdown",
   "id": "e16f7046-27f6-48cb-83e8-07d37b7b8366",
   "metadata": {},
   "source": [
    "## Tensor board"
   ]
  },
  {
   "cell_type": "code",
   "execution_count": null,
   "id": "bccc3643-43d6-43c3-b0e3-e671d4ce19b1",
   "metadata": {},
   "outputs": [],
   "source": [
    "# from keras.callbacks import TensorBoard\n",
    "\n",
    "# history = model.fit(X_train, y_train, epochs=30, verbose=0, \n",
    "#                     batch_size=32, validation_split=0.25,\n",
    "#                    callbacks=[TensorBoard(log_dir='./log')])  \n"
   ]
  },
  {
   "cell_type": "code",
   "execution_count": null,
   "id": "8bcc2f07-39b2-499e-bcaa-5fb287259a64",
   "metadata": {},
   "outputs": [],
   "source": [
    "# %load_ext tensorboard\n",
    "# # %reload_ext tensorboard\n",
    "# %tensorboard --logdir ./log"
   ]
  },
  {
   "cell_type": "code",
   "execution_count": null,
   "id": "f6d8c1fc-026a-47d1-9a80-8ac54a70b52d",
   "metadata": {},
   "outputs": [],
   "source": [
    "\n",
    "from mlxtend.plotting import plot_decision_regions\n",
    "\n",
    "ax = plot_decision_regions(X_test, y_test, clf=model)\n",
    "\n",
    "handles, labels = ax.get_legend_handles_labels()\n",
    "ax.legend(handles, class_names, framealpha=0.5)\n",
    "\n",
    "plt.title('Breast Cancer:') \n",
    "plt.xticks([])\n",
    "plt.yticks([])\n",
    "plt.xlabel('mean radius')\n",
    "plt.ylabel('mean texture')\n",
    "\n",
    "plt.show()"
   ]
  },
  {
   "cell_type": "markdown",
   "id": "bb71ecd7-8edb-4aba-bd37-a0c1af2d2ccc",
   "metadata": {},
   "source": [
    "## Predict"
   ]
  },
  {
   "cell_type": "code",
   "execution_count": null,
   "id": "b49502ca-bb61-4c8e-80a7-9d98ca2fc1aa",
   "metadata": {},
   "outputs": [],
   "source": [
    "# X_new = [[16.4, 14.1]] #\n",
    "X_new = [[16.4, 14.1],  # \n",
    "         [18.5, 15.1]] #\n",
    "\n",
    "# X_new = X[104:110]\n",
    "\n",
    "X_new_sc = sc.transform(X_new)\n",
    "X_new_sc"
   ]
  },
  {
   "cell_type": "code",
   "execution_count": null,
   "id": "f27a255f-5eec-4bbb-84c7-040c828c0a14",
   "metadata": {},
   "outputs": [],
   "source": [
    "y_pred_pr = model.predict(X_new_sc)\n",
    "y_pred = (y_pred_pr > 0.5).astype(int) \n",
    "\n",
    "print(class_names[y_pred])"
   ]
  },
  {
   "cell_type": "code",
   "execution_count": null,
   "id": "fe501b9a-4227-4eba-81d6-953139003ebc",
   "metadata": {},
   "outputs": [],
   "source": [
    "y_pred = y_pred.reshape(1,-1)[0] \n",
    "\n",
    "from mlxtend.plotting import plot_decision_regions\n",
    "\n",
    "ax = plot_decision_regions(X_test, y_test, clf=model)\n",
    "\n",
    "handles, labels = ax.get_legend_handles_labels()\n",
    "ax.legend(handles, class_names, framealpha=0.5)\n",
    "\n",
    "plt.title('Breast Cancer: New data points')\n",
    "plt.xticks([])\n",
    "plt.yticks([])\n",
    "plt.xlabel('mean radius')\n",
    "plt.ylabel('mean texture')\n",
    "\n",
    "plt.scatter(X_new_sc[:,0][y_pred==0], X_new_sc[:,1][y_pred==0], marker='s', s=180)\n",
    "plt.scatter(X_new_sc[:,0][y_pred==1], X_new_sc[:,1][y_pred==1], marker='^', s=350) # \n",
    "\n",
    "plt.show()"
   ]
  },
  {
   "cell_type": "markdown",
   "id": "2705320f-ab6f-413b-b642-1389f6079ae9",
   "metadata": {},
   "source": [
    "# ws 03"
   ]
  },
  {
   "cell_type": "code",
   "execution_count": null,
   "id": "c56cadc9-9671-41f3-a6f8-63be4007e2ea",
   "metadata": {},
   "outputs": [],
   "source": [
    "model.save('./mymodel.h5')"
   ]
  },
  {
   "cell_type": "code",
   "execution_count": null,
   "id": "ba0e2751-526d-451b-a157-28707dabd3cb",
   "metadata": {},
   "outputs": [],
   "source": [
    "model.save('./mymodel1')"
   ]
  },
  {
   "cell_type": "markdown",
   "id": "73f41662-eb5d-4272-8924-8142fccc3c18",
   "metadata": {},
   "source": [
    "# ws 04 "
   ]
  },
  {
   "cell_type": "code",
   "execution_count": null,
   "id": "e198a3bb-3e6c-4b61-89e3-417278a0362b",
   "metadata": {},
   "outputs": [],
   "source": [
    "import pickle\n",
    "pickle.dump(sc, open('./scaler.pkl','wb'))"
   ]
  },
  {
   "cell_type": "code",
   "execution_count": null,
   "id": "97e2f873-a95c-4e7a-b10a-f69eeca21c3d",
   "metadata": {},
   "outputs": [],
   "source": [
    "file_name = \"classname.pkl\"\n",
    "\n",
    "open_file = open(file_name, \"wb\")\n",
    "pickle.dump(class_names, open_file)\n",
    "open_file.close()"
   ]
  },
  {
   "cell_type": "markdown",
   "id": "be6934b7-17e3-49ca-8c33-10abf7033e7b",
   "metadata": {},
   "source": [
    "# ws 05"
   ]
  },
  {
   "cell_type": "code",
   "execution_count": null,
   "id": "0b839ee7-53c4-482f-8c6a-714e08c6380c",
   "metadata": {},
   "outputs": [],
   "source": [
    "from tensorflow.keras.models import load_model\n",
    "\n",
    "my_model = load_model('./mymodel.h5') "
   ]
  },
  {
   "cell_type": "code",
   "execution_count": null,
   "id": "f6989e65-56a3-4e38-ab42-e837186b0e5f",
   "metadata": {},
   "outputs": [],
   "source": [
    "my_model.summary()"
   ]
  },
  {
   "cell_type": "code",
   "execution_count": null,
   "id": "3fdcb3a9-2d4a-444f-9b50-974bbd681676",
   "metadata": {},
   "outputs": [],
   "source": [
    "from tensorflow.keras.models import load_model\n",
    "\n",
    "new_model = load_model('./mymodel1')"
   ]
  },
  {
   "cell_type": "code",
   "execution_count": null,
   "id": "d5df0261-5353-4315-a7c2-f8f6cce8245f",
   "metadata": {
    "tags": []
   },
   "outputs": [],
   "source": [
    "model = new_model"
   ]
  },
  {
   "cell_type": "code",
   "execution_count": null,
   "id": "4f4ade13-0687-4a91-834f-70857d207352",
   "metadata": {
    "tags": []
   },
   "outputs": [],
   "source": [
    "# List all weight tensors \n",
    "model.get_weights()"
   ]
  },
  {
   "cell_type": "code",
   "execution_count": null,
   "id": "71e3fca2-6a2d-45ee-b7ab-f031b971d44e",
   "metadata": {
    "tags": []
   },
   "outputs": [],
   "source": [
    "import pickle\n",
    "sc2 = pickle.load(open('./scaler.pkl','rb'))"
   ]
  },
  {
   "cell_type": "code",
   "execution_count": null,
   "id": "9cf127df-7e44-4d05-89b7-fa03be4e415d",
   "metadata": {
    "tags": []
   },
   "outputs": [],
   "source": [
    "file_name = \"classname.pkl\"\n",
    "open_file = open(file_name, \"rb\")\n",
    "class_names = pickle.load(open_file)\n",
    "open_file.close()\n",
    "\n",
    "class_names"
   ]
  },
  {
   "cell_type": "code",
   "execution_count": null,
   "id": "492488c8-64ff-4659-9514-c05efcc751a3",
   "metadata": {
    "tags": []
   },
   "outputs": [],
   "source": [
    "X_new = [[16.4, 14.1]] # \n",
    "X_new = [[16.4, 14.1],  # \n",
    "         [18.5, 15.1],\n",
    "         [17.7, 18.7]] #\n",
    "\n",
    "X_new_sc = sc2.transform(X_new)"
   ]
  },
  {
   "cell_type": "code",
   "execution_count": null,
   "id": "28dc048f-fe36-499a-94e4-c2fa3c90c79e",
   "metadata": {
    "tags": []
   },
   "outputs": [],
   "source": [
    "y_pred_pr = my_model.predict(X_new_sc)\n",
    "y_pred = (y_pred_pr > 0.5).astype(int) \n",
    "y_pred"
   ]
  },
  {
   "cell_type": "code",
   "execution_count": null,
   "id": "204ddebf-344d-43a9-bd95-918917aa5fbd",
   "metadata": {
    "tags": []
   },
   "outputs": [],
   "source": [
    "print(class_names[y_pred])"
   ]
  },
  {
   "cell_type": "code",
   "execution_count": null,
   "id": "5dbb263e-5e6e-48ea-9cef-d1a607d71794",
   "metadata": {
    "tags": []
   },
   "outputs": [],
   "source": [
    "import matplotlib.pyplot as plt\n",
    "from mlxtend.plotting import plot_decision_regions\n",
    "\n",
    "y = y_pred.reshape(1, -1)[0]\n",
    "\n",
    "ax = plot_decision_regions(X_new_sc, y, clf=my_model)\n",
    "\n",
    "handles, labels = ax.get_legend_handles_labels()\n",
    "ax.legend(handles, class_names, framealpha=0.5)\n",
    "\n",
    "plt.title('Breast Cancer (from saved model)') \n",
    "# plt.xticks([])\n",
    "plt.yticks([])\n",
    "plt.xlabel('mean radius')\n",
    "plt.ylabel('mean texture')\n",
    "\n",
    "plt.scatter(X_new_sc[:,0][y==0], X_new_sc[:,1][y==0], marker='s', s=150, c='b')\n",
    "plt.scatter(X_new_sc[:,0][y==1], X_new_sc[:,1][y==1], marker='^', s=150, c='r')\n",
    "plt.show()"
   ]
  }
 ],
 "metadata": {
  "kernelspec": {
   "display_name": "Python 3 (ipykernel)",
   "language": "python",
   "name": "python3"
  },
  "language_info": {
   "codemirror_mode": {
    "name": "ipython",
    "version": 3
   },
   "file_extension": ".py",
   "mimetype": "text/x-python",
   "name": "python",
   "nbconvert_exporter": "python",
   "pygments_lexer": "ipython3",
   "version": "3.9.7"
  }
 },
 "nbformat": 4,
 "nbformat_minor": 5
}
