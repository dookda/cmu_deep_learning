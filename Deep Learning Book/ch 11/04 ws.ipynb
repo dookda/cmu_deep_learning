{
 "cells": [
  {
   "cell_type": "markdown",
   "id": "cace0c7e-d8e1-433d-9b8c-6628755c50c2",
   "metadata": {
    "id": "cace0c7e-d8e1-433d-9b8c-6628755c50c2"
   },
   "source": [
    "# ws04"
   ]
  },
  {
   "cell_type": "code",
   "execution_count": null,
   "id": "0547bb07-9537-46b6-947d-b866cc886ca5",
   "metadata": {
    "colab": {
     "base_uri": "https://localhost:8080/"
    },
    "executionInfo": {
     "elapsed": 4515,
     "status": "ok",
     "timestamp": 1637054704995,
     "user": {
      "displayName": "JKob San",
      "photoUrl": "https://lh3.googleusercontent.com/a-/AOh14GgnClMV_IVnXVunt7D1mXXMatSQTrEGp72MrhCIeQ=s64",
      "userId": "15910273739366067110"
     },
     "user_tz": -420
    },
    "id": "0547bb07-9537-46b6-947d-b866cc886ca5",
    "outputId": "4b4d3859-dccf-49ba-e919-68ac4b6b134d"
   },
   "outputs": [],
   "source": [
    "!nvidia-smi"
   ]
  },
  {
   "cell_type": "code",
   "execution_count": null,
   "id": "5806e04c-1607-438c-a145-ec862436dc2d",
   "metadata": {
    "colab": {
     "base_uri": "https://localhost:8080/"
    },
    "executionInfo": {
     "elapsed": 27508,
     "status": "ok",
     "timestamp": 1637054759292,
     "user": {
      "displayName": "JKob San",
      "photoUrl": "https://lh3.googleusercontent.com/a-/AOh14GgnClMV_IVnXVunt7D1mXXMatSQTrEGp72MrhCIeQ=s64",
      "userId": "15910273739366067110"
     },
     "user_tz": -420
    },
    "id": "5806e04c-1607-438c-a145-ec862436dc2d",
    "outputId": "a11468d1-f68f-4d26-fb9a-dd52e27adb2a"
   },
   "outputs": [],
   "source": [
    "import torch\n",
    "\n",
    "print(f\"Setup complete. Using torch {torch.__version__}\")\n",
    "print(f\"{torch.cuda.get_device_properties(0).name if torch.cuda.is_available() else 'CPU'}\")"
   ]
  },
  {
   "cell_type": "code",
   "execution_count": null,
   "id": "37ccd7f9-98fd-4672-b007-f7405cb0bb41",
   "metadata": {
    "colab": {
     "base_uri": "https://localhost:8080/",
     "height": 486,
     "referenced_widgets": [
      "eb7a6d472bba4eeeb3340f5cd5094a61",
      "a8c1d3e861f84a84a99140c213c63e74",
      "830b9acca91640f0b05b6e255c1dc4a5",
      "c8f3872a545d42ad9e777351fba9e40d",
      "4238041a1fcd4208a93002552d9fc554",
      "b5bc3794268e4818bf441f43bf393428",
      "be7d0621713f46dbb4dde6839743663f",
      "a81e504e4e8943c996a746b64b7d71a5",
      "538815eed20146ed8733fb16d76fb641",
      "d83e8dac3b204d5c84c4ccec9a0410d6",
      "fd0b159d292040e09ee998d53a4a7bc3"
     ]
    },
    "executionInfo": {
     "elapsed": 7772,
     "status": "ok",
     "timestamp": 1637054779761,
     "user": {
      "displayName": "JKob San",
      "photoUrl": "https://lh3.googleusercontent.com/a-/AOh14GgnClMV_IVnXVunt7D1mXXMatSQTrEGp72MrhCIeQ=s64",
      "userId": "15910273739366067110"
     },
     "user_tz": -420
    },
    "id": "37ccd7f9-98fd-4672-b007-f7405cb0bb41",
    "outputId": "e5fa08f5-3a13-4436-c814-1d014b63616d"
   },
   "outputs": [],
   "source": [
    "model = torch.hub.load('ultralytics/yolov5', 'yolov5s', pretrained=True)\n",
    "\n",
    "img_uri = 'https://ultralytics.com/images/bus.jpg'\n",
    "\n",
    "results = model(img_uri)\n",
    "\n",
    "results.print()"
   ]
  },
  {
   "cell_type": "code",
   "execution_count": null,
   "id": "2d693ff9-185e-4232-94bd-4c942f07581b",
   "metadata": {
    "colab": {
     "base_uri": "https://localhost:8080/"
    },
    "executionInfo": {
     "elapsed": 1042,
     "status": "ok",
     "timestamp": 1637054787352,
     "user": {
      "displayName": "JKob San",
      "photoUrl": "https://lh3.googleusercontent.com/a-/AOh14GgnClMV_IVnXVunt7D1mXXMatSQTrEGp72MrhCIeQ=s64",
      "userId": "15910273739366067110"
     },
     "user_tz": -420
    },
    "id": "2d693ff9-185e-4232-94bd-4c942f07581b",
    "outputId": "68e62d0f-700c-445e-82af-d6979e45b240"
   },
   "outputs": [],
   "source": [
    "results = model(img_uri)\n",
    "results.print()"
   ]
  },
  {
   "cell_type": "code",
   "execution_count": null,
   "id": "b007dba0-3af3-4c7c-9650-fbbef38fe4b5",
   "metadata": {
    "colab": {
     "base_uri": "https://localhost:8080/",
     "height": 203
    },
    "executionInfo": {
     "elapsed": 404,
     "status": "ok",
     "timestamp": 1637054789907,
     "user": {
      "displayName": "JKob San",
      "photoUrl": "https://lh3.googleusercontent.com/a-/AOh14GgnClMV_IVnXVunt7D1mXXMatSQTrEGp72MrhCIeQ=s64",
      "userId": "15910273739366067110"
     },
     "user_tz": -420
    },
    "id": "b007dba0-3af3-4c7c-9650-fbbef38fe4b5",
    "outputId": "1d18a09d-3384-4545-df3e-6915fed33c0f"
   },
   "outputs": [],
   "source": [
    "results.pandas().xyxy[0]  "
   ]
  },
  {
   "cell_type": "code",
   "execution_count": null,
   "id": "0385d219-b560-484c-aa3f-fc2389fec09e",
   "metadata": {
    "colab": {
     "base_uri": "https://localhost:8080/"
    },
    "executionInfo": {
     "elapsed": 11,
     "status": "ok",
     "timestamp": 1637054793365,
     "user": {
      "displayName": "JKob San",
      "photoUrl": "https://lh3.googleusercontent.com/a-/AOh14GgnClMV_IVnXVunt7D1mXXMatSQTrEGp72MrhCIeQ=s64",
      "userId": "15910273739366067110"
     },
     "user_tz": -420
    },
    "id": "0385d219-b560-484c-aa3f-fc2389fec09e",
    "outputId": "3a513675-2f31-4fbb-b7e1-6990a4f54d0d"
   },
   "outputs": [],
   "source": [
    "results.xyxy[0]  \n",
    "print(results.pandas().xyxy[0][0:1].xmin)\n",
    "print(results.pandas().xyxy[0][0:1].ymin)"
   ]
  },
  {
   "cell_type": "code",
   "execution_count": null,
   "id": "022ca900-aa9c-49ae-a37d-fdf39eab6513",
   "metadata": {
    "colab": {
     "base_uri": "https://localhost:8080/"
    },
    "executionInfo": {
     "elapsed": 416,
     "status": "ok",
     "timestamp": 1637054800765,
     "user": {
      "displayName": "JKob San",
      "photoUrl": "https://lh3.googleusercontent.com/a-/AOh14GgnClMV_IVnXVunt7D1mXXMatSQTrEGp72MrhCIeQ=s64",
      "userId": "15910273739366067110"
     },
     "user_tz": -420
    },
    "id": "022ca900-aa9c-49ae-a37d-fdf39eab6513",
    "outputId": "155958a3-9b64-42ed-a96f-8f0942cca0e1"
   },
   "outputs": [],
   "source": [
    "results.xyxy[0]  # img1 predictions (tensor)"
   ]
  },
  {
   "cell_type": "code",
   "execution_count": null,
   "id": "12064cc3-7de8-4077-8d28-f67990ebabb4",
   "metadata": {
    "colab": {
     "base_uri": "https://localhost:8080/",
     "height": 1000,
     "output_embedded_package_id": "1d8mkjeblTia6JU7LhaRCqXtDEqf7TTDp"
    },
    "executionInfo": {
     "elapsed": 6104,
     "status": "ok",
     "timestamp": 1637054809479,
     "user": {
      "displayName": "JKob San",
      "photoUrl": "https://lh3.googleusercontent.com/a-/AOh14GgnClMV_IVnXVunt7D1mXXMatSQTrEGp72MrhCIeQ=s64",
      "userId": "15910273739366067110"
     },
     "user_tz": -420
    },
    "id": "12064cc3-7de8-4077-8d28-f67990ebabb4",
    "outputId": "2b14de60-5ffd-46ac-d303-49a3c9728826"
   },
   "outputs": [],
   "source": [
    "from urllib.request import urlopen\n",
    "from PIL import Image\n",
    "\n",
    "img = Image.open(urlopen(img_uri))\n",
    "img"
   ]
  },
  {
   "cell_type": "code",
   "execution_count": null,
   "id": "63ad3b44-b91d-4114-94d6-9e833341d73f",
   "metadata": {
    "colab": {
     "base_uri": "https://localhost:8080/",
     "height": 286
    },
    "executionInfo": {
     "elapsed": 1099,
     "status": "ok",
     "timestamp": 1637055011551,
     "user": {
      "displayName": "JKob San",
      "photoUrl": "https://lh3.googleusercontent.com/a-/AOh14GgnClMV_IVnXVunt7D1mXXMatSQTrEGp72MrhCIeQ=s64",
      "userId": "15910273739366067110"
     },
     "user_tz": -420
    },
    "id": "63ad3b44-b91d-4114-94d6-9e833341d73f",
    "outputId": "87147964-91ff-477d-d11f-25844c1e5939"
   },
   "outputs": [],
   "source": [
    "# on colab and jupyter on pc\n",
    "%matplotlib inline  \n",
    "from PIL import Image, ImageFont, ImageDraw \n",
    "from matplotlib.pyplot import imshow\n",
    "\n",
    "i = 0 \n",
    "p1 = (results.pandas().xyxy[0][i:i+1].xmin, results.pandas().xyxy[0][i:i+1].ymin)\n",
    "p2 = (results.pandas().xyxy[0][i:i+1].xmax, results.pandas().xyxy[0][i:i+1].ymax)\n",
    "\n",
    "draw = ImageDraw.Draw(img, \"RGBA\")\n",
    "draw.rectangle((p1, p2), outline=(200, 255, 200, 200), width=8)\n",
    "\n",
    "# font = ImageFont.truetype('Humor-Sans.ttf', 50)   # --------------------- COLAB\n",
    "# font = ImageFont.truetype('C:\\Windows\\Fonts\\Arial.ttf',50)   # ---------------- PC\n",
    "conf = results.pandas().xyxy[0][i:i+1].confidence[i]\n",
    "conf_txt = ' {:.1f}%'.format(conf * 100)\n",
    "label = results.pandas().xyxy[0][i:i+1].name[i] + conf_txt\n",
    "\n",
    "draw.text((p1[0]+10,p1[1]), label, align =\"left\")   # Colab\n",
    "\n",
    "imshow(img)"
   ]
  },
  {
   "cell_type": "code",
   "execution_count": 1,
   "id": "53c133e3-216d-44f7-94c0-dfd7b00b8f4a",
   "metadata": {
    "id": "53c133e3-216d-44f7-94c0-dfd7b00b8f4a"
   },
   "outputs": [],
   "source": [
    "# ws 05 is the same as ws 04"
   ]
  },
  {
   "cell_type": "code",
   "execution_count": null,
   "id": "1bf63bd4-84f9-421d-8ede-37ab0376ff44",
   "metadata": {},
   "outputs": [],
   "source": []
  }
 ],
 "metadata": {
  "colab": {
   "name": "yolo5 colab and pc.ipynb",
   "provenance": [],
   "toc_visible": true
  },
  "kernelspec": {
   "display_name": "Python 3 (ipykernel)",
   "language": "python",
   "name": "python3"
  },
  "language_info": {
   "codemirror_mode": {
    "name": "ipython",
    "version": 3
   },
   "file_extension": ".py",
   "mimetype": "text/x-python",
   "name": "python",
   "nbconvert_exporter": "python",
   "pygments_lexer": "ipython3",
   "version": "3.9.7"
  },
  "widgets": {
   "application/vnd.jupyter.widget-state+json": {
    "4238041a1fcd4208a93002552d9fc554": {
     "model_module": "@jupyter-widgets/controls",
     "model_module_version": "1.5.0",
     "model_name": "HTMLModel",
     "state": {
      "_dom_classes": [],
      "_model_module": "@jupyter-widgets/controls",
      "_model_module_version": "1.5.0",
      "_model_name": "HTMLModel",
      "_view_count": null,
      "_view_module": "@jupyter-widgets/controls",
      "_view_module_version": "1.5.0",
      "_view_name": "HTMLView",
      "description": "",
      "description_tooltip": null,
      "layout": "IPY_MODEL_fd0b159d292040e09ee998d53a4a7bc3",
      "placeholder": "​",
      "style": "IPY_MODEL_d83e8dac3b204d5c84c4ccec9a0410d6",
      "value": " 14.0M/14.0M [00:00&lt;00:00, 56.9MB/s]"
     }
    },
    "538815eed20146ed8733fb16d76fb641": {
     "model_module": "@jupyter-widgets/base",
     "model_module_version": "1.2.0",
     "model_name": "LayoutModel",
     "state": {
      "_model_module": "@jupyter-widgets/base",
      "_model_module_version": "1.2.0",
      "_model_name": "LayoutModel",
      "_view_count": null,
      "_view_module": "@jupyter-widgets/base",
      "_view_module_version": "1.2.0",
      "_view_name": "LayoutView",
      "align_content": null,
      "align_items": null,
      "align_self": null,
      "border": null,
      "bottom": null,
      "display": null,
      "flex": null,
      "flex_flow": null,
      "grid_area": null,
      "grid_auto_columns": null,
      "grid_auto_flow": null,
      "grid_auto_rows": null,
      "grid_column": null,
      "grid_gap": null,
      "grid_row": null,
      "grid_template_areas": null,
      "grid_template_columns": null,
      "grid_template_rows": null,
      "height": null,
      "justify_content": null,
      "justify_items": null,
      "left": null,
      "margin": null,
      "max_height": null,
      "max_width": null,
      "min_height": null,
      "min_width": null,
      "object_fit": null,
      "object_position": null,
      "order": null,
      "overflow": null,
      "overflow_x": null,
      "overflow_y": null,
      "padding": null,
      "right": null,
      "top": null,
      "visibility": null,
      "width": null
     }
    },
    "830b9acca91640f0b05b6e255c1dc4a5": {
     "model_module": "@jupyter-widgets/controls",
     "model_module_version": "1.5.0",
     "model_name": "HTMLModel",
     "state": {
      "_dom_classes": [],
      "_model_module": "@jupyter-widgets/controls",
      "_model_module_version": "1.5.0",
      "_model_name": "HTMLModel",
      "_view_count": null,
      "_view_module": "@jupyter-widgets/controls",
      "_view_module_version": "1.5.0",
      "_view_name": "HTMLView",
      "description": "",
      "description_tooltip": null,
      "layout": "IPY_MODEL_be7d0621713f46dbb4dde6839743663f",
      "placeholder": "​",
      "style": "IPY_MODEL_b5bc3794268e4818bf441f43bf393428",
      "value": "100%"
     }
    },
    "a81e504e4e8943c996a746b64b7d71a5": {
     "model_module": "@jupyter-widgets/controls",
     "model_module_version": "1.5.0",
     "model_name": "ProgressStyleModel",
     "state": {
      "_model_module": "@jupyter-widgets/controls",
      "_model_module_version": "1.5.0",
      "_model_name": "ProgressStyleModel",
      "_view_count": null,
      "_view_module": "@jupyter-widgets/base",
      "_view_module_version": "1.2.0",
      "_view_name": "StyleView",
      "bar_color": null,
      "description_width": ""
     }
    },
    "a8c1d3e861f84a84a99140c213c63e74": {
     "model_module": "@jupyter-widgets/base",
     "model_module_version": "1.2.0",
     "model_name": "LayoutModel",
     "state": {
      "_model_module": "@jupyter-widgets/base",
      "_model_module_version": "1.2.0",
      "_model_name": "LayoutModel",
      "_view_count": null,
      "_view_module": "@jupyter-widgets/base",
      "_view_module_version": "1.2.0",
      "_view_name": "LayoutView",
      "align_content": null,
      "align_items": null,
      "align_self": null,
      "border": null,
      "bottom": null,
      "display": null,
      "flex": null,
      "flex_flow": null,
      "grid_area": null,
      "grid_auto_columns": null,
      "grid_auto_flow": null,
      "grid_auto_rows": null,
      "grid_column": null,
      "grid_gap": null,
      "grid_row": null,
      "grid_template_areas": null,
      "grid_template_columns": null,
      "grid_template_rows": null,
      "height": null,
      "justify_content": null,
      "justify_items": null,
      "left": null,
      "margin": null,
      "max_height": null,
      "max_width": null,
      "min_height": null,
      "min_width": null,
      "object_fit": null,
      "object_position": null,
      "order": null,
      "overflow": null,
      "overflow_x": null,
      "overflow_y": null,
      "padding": null,
      "right": null,
      "top": null,
      "visibility": null,
      "width": null
     }
    },
    "b5bc3794268e4818bf441f43bf393428": {
     "model_module": "@jupyter-widgets/controls",
     "model_module_version": "1.5.0",
     "model_name": "DescriptionStyleModel",
     "state": {
      "_model_module": "@jupyter-widgets/controls",
      "_model_module_version": "1.5.0",
      "_model_name": "DescriptionStyleModel",
      "_view_count": null,
      "_view_module": "@jupyter-widgets/base",
      "_view_module_version": "1.2.0",
      "_view_name": "StyleView",
      "description_width": ""
     }
    },
    "be7d0621713f46dbb4dde6839743663f": {
     "model_module": "@jupyter-widgets/base",
     "model_module_version": "1.2.0",
     "model_name": "LayoutModel",
     "state": {
      "_model_module": "@jupyter-widgets/base",
      "_model_module_version": "1.2.0",
      "_model_name": "LayoutModel",
      "_view_count": null,
      "_view_module": "@jupyter-widgets/base",
      "_view_module_version": "1.2.0",
      "_view_name": "LayoutView",
      "align_content": null,
      "align_items": null,
      "align_self": null,
      "border": null,
      "bottom": null,
      "display": null,
      "flex": null,
      "flex_flow": null,
      "grid_area": null,
      "grid_auto_columns": null,
      "grid_auto_flow": null,
      "grid_auto_rows": null,
      "grid_column": null,
      "grid_gap": null,
      "grid_row": null,
      "grid_template_areas": null,
      "grid_template_columns": null,
      "grid_template_rows": null,
      "height": null,
      "justify_content": null,
      "justify_items": null,
      "left": null,
      "margin": null,
      "max_height": null,
      "max_width": null,
      "min_height": null,
      "min_width": null,
      "object_fit": null,
      "object_position": null,
      "order": null,
      "overflow": null,
      "overflow_x": null,
      "overflow_y": null,
      "padding": null,
      "right": null,
      "top": null,
      "visibility": null,
      "width": null
     }
    },
    "c8f3872a545d42ad9e777351fba9e40d": {
     "model_module": "@jupyter-widgets/controls",
     "model_module_version": "1.5.0",
     "model_name": "FloatProgressModel",
     "state": {
      "_dom_classes": [],
      "_model_module": "@jupyter-widgets/controls",
      "_model_module_version": "1.5.0",
      "_model_name": "FloatProgressModel",
      "_view_count": null,
      "_view_module": "@jupyter-widgets/controls",
      "_view_module_version": "1.5.0",
      "_view_name": "ProgressView",
      "bar_style": "success",
      "description": "",
      "description_tooltip": null,
      "layout": "IPY_MODEL_538815eed20146ed8733fb16d76fb641",
      "max": 14698491,
      "min": 0,
      "orientation": "horizontal",
      "style": "IPY_MODEL_a81e504e4e8943c996a746b64b7d71a5",
      "value": 14698491
     }
    },
    "d83e8dac3b204d5c84c4ccec9a0410d6": {
     "model_module": "@jupyter-widgets/controls",
     "model_module_version": "1.5.0",
     "model_name": "DescriptionStyleModel",
     "state": {
      "_model_module": "@jupyter-widgets/controls",
      "_model_module_version": "1.5.0",
      "_model_name": "DescriptionStyleModel",
      "_view_count": null,
      "_view_module": "@jupyter-widgets/base",
      "_view_module_version": "1.2.0",
      "_view_name": "StyleView",
      "description_width": ""
     }
    },
    "eb7a6d472bba4eeeb3340f5cd5094a61": {
     "model_module": "@jupyter-widgets/controls",
     "model_module_version": "1.5.0",
     "model_name": "HBoxModel",
     "state": {
      "_dom_classes": [],
      "_model_module": "@jupyter-widgets/controls",
      "_model_module_version": "1.5.0",
      "_model_name": "HBoxModel",
      "_view_count": null,
      "_view_module": "@jupyter-widgets/controls",
      "_view_module_version": "1.5.0",
      "_view_name": "HBoxView",
      "box_style": "",
      "children": [
       "IPY_MODEL_830b9acca91640f0b05b6e255c1dc4a5",
       "IPY_MODEL_c8f3872a545d42ad9e777351fba9e40d",
       "IPY_MODEL_4238041a1fcd4208a93002552d9fc554"
      ],
      "layout": "IPY_MODEL_a8c1d3e861f84a84a99140c213c63e74"
     }
    },
    "fd0b159d292040e09ee998d53a4a7bc3": {
     "model_module": "@jupyter-widgets/base",
     "model_module_version": "1.2.0",
     "model_name": "LayoutModel",
     "state": {
      "_model_module": "@jupyter-widgets/base",
      "_model_module_version": "1.2.0",
      "_model_name": "LayoutModel",
      "_view_count": null,
      "_view_module": "@jupyter-widgets/base",
      "_view_module_version": "1.2.0",
      "_view_name": "LayoutView",
      "align_content": null,
      "align_items": null,
      "align_self": null,
      "border": null,
      "bottom": null,
      "display": null,
      "flex": null,
      "flex_flow": null,
      "grid_area": null,
      "grid_auto_columns": null,
      "grid_auto_flow": null,
      "grid_auto_rows": null,
      "grid_column": null,
      "grid_gap": null,
      "grid_row": null,
      "grid_template_areas": null,
      "grid_template_columns": null,
      "grid_template_rows": null,
      "height": null,
      "justify_content": null,
      "justify_items": null,
      "left": null,
      "margin": null,
      "max_height": null,
      "max_width": null,
      "min_height": null,
      "min_width": null,
      "object_fit": null,
      "object_position": null,
      "order": null,
      "overflow": null,
      "overflow_x": null,
      "overflow_y": null,
      "padding": null,
      "right": null,
      "top": null,
      "visibility": null,
      "width": null
     }
    }
   }
  }
 },
 "nbformat": 4,
 "nbformat_minor": 5
}
