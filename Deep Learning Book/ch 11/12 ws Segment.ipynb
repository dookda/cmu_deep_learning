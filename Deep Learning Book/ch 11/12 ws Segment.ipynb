{
 "cells": [
  {
   "cell_type": "markdown",
   "id": "d61ee166-a2f7-4de2-a7ef-aa12086fd0a3",
   "metadata": {},
   "source": [
    "# ws 12"
   ]
  },
  {
   "cell_type": "markdown",
   "id": "220c67e5-ad5c-454a-bcc5-73e5589b877f",
   "metadata": {},
   "source": [
    "dataset at https://www.robots.ox.ac.uk/~vgg/data/pets/\n",
    "\n",
    "open Python code at https://colab.research.google.com/github/keras-team/keras-io/blob/master/examples/vision/ipynb/oxford_pets_image_segmentation.ipynb"
   ]
  },
  {
   "cell_type": "code",
   "execution_count": null,
   "id": "1784a297-4599-47f5-be40-722ae9c965ac",
   "metadata": {},
   "outputs": [],
   "source": [
    "import numpy as np\n",
    "import matplotlib.pyplot as plt \n",
    "from tensorflow.keras.models import load_model\n",
    "from PIL import Image, ImageOps\n",
    "from IPython.display import Image, display\n",
    "\n",
    "from tensorflow.keras.preprocessing.image import load_img, img_to_array\n",
    "from tensorflow.keras.preprocessing.image import array_to_img \n",
    "\n",
    "from tensorflow.image import rgb_to_grayscale"
   ]
  },
  {
   "cell_type": "code",
   "execution_count": null,
   "id": "3d3fc6dc-3ec9-44ba-88c1-7f107fa24c1d",
   "metadata": {},
   "outputs": [],
   "source": [
    "model = load_model('oxford_segmentation40.h5') # from colab\n",
    "\n",
    "# model.summary()\n",
    "\n",
    "input_shape = model.get_config()['layers'][0]['config']['batch_input_shape']\n",
    "print(input_shape)\n",
    "print('model input shape: ', model.get_config()['layers'][0]['config']['batch_input_shape'])"
   ]
  },
  {
   "cell_type": "code",
   "execution_count": null,
   "id": "2d50def3-9ae6-42e7-9b4a-a57882ba91c0",
   "metadata": {},
   "outputs": [],
   "source": [
    "in_shape = (160, 160, 3) \n",
    "\n",
    "img = load_img('dog010-2.jpg', target_size=in_shape)\n",
    "\n",
    "\n",
    "print('max pixel value=',np.min(img),np.max(img))  \n",
    "img_test = np.expand_dims(img, axis=0)\n",
    "print('shape=',img_test.shape)\n",
    "\n",
    "pred_mask = model.predict(img_test)[0]  \n",
    "\n",
    "mask = np.argmax(pred_mask, axis=-1) \n",
    "mask = np.expand_dims(mask, axis=-1)  \n",
    "\n",
    "mask_img = ImageOps.autocontrast(array_to_img(mask))\n",
    "\n",
    "display(img, mask_img)\n",
    "display(array_to_img(pred_mask))"
   ]
  }
 ],
 "metadata": {
  "kernelspec": {
   "display_name": "Python 3 (ipykernel)",
   "language": "python",
   "name": "python3"
  },
  "language_info": {
   "codemirror_mode": {
    "name": "ipython",
    "version": 3
   },
   "file_extension": ".py",
   "mimetype": "text/x-python",
   "name": "python",
   "nbconvert_exporter": "python",
   "pygments_lexer": "ipython3",
   "version": "3.9.7"
  }
 },
 "nbformat": 4,
 "nbformat_minor": 5
}
