{
 "cells": [
  {
   "cell_type": "markdown",
   "id": "faecd8c4-f691-4f6c-8b4f-94ac38e701c3",
   "metadata": {},
   "source": [
    "# ws 08"
   ]
  },
  {
   "cell_type": "markdown",
   "id": "337075ef-89bb-4f94-9fca-46130eb1d4af",
   "metadata": {},
   "source": [
    "- download - \n",
    "https://kaggle.com/ultralytics/coco128"
   ]
  },
  {
   "cell_type": "markdown",
   "id": "d53e6ecc-92b3-4faa-9de1-d853e8cbc512",
   "metadata": {},
   "source": [
    "# ws 09 , 10\n",
    "use ws 06"
   ]
  },
  {
   "cell_type": "code",
   "execution_count": null,
   "id": "1efd08cf-11eb-456c-bfe6-86641c5ff6c4",
   "metadata": {},
   "outputs": [],
   "source": []
  }
 ],
 "metadata": {
  "kernelspec": {
   "display_name": "Python 3 (ipykernel)",
   "language": "python",
   "name": "python3"
  },
  "language_info": {
   "codemirror_mode": {
    "name": "ipython",
    "version": 3
   },
   "file_extension": ".py",
   "mimetype": "text/x-python",
   "name": "python",
   "nbconvert_exporter": "python",
   "pygments_lexer": "ipython3",
   "version": "3.9.7"
  }
 },
 "nbformat": 4,
 "nbformat_minor": 5
}
