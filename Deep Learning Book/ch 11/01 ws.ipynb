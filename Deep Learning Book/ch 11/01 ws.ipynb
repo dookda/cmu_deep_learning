{
 "cells": [
  {
   "cell_type": "markdown",
   "id": "e196ded0-429b-40bf-bf1d-c95ce769d0cd",
   "metadata": {},
   "source": [
    "# ws 01"
   ]
  },
  {
   "cell_type": "code",
   "execution_count": null,
   "id": "56906d58-4ac7-439e-8ca0-628b2882109b",
   "metadata": {},
   "outputs": [],
   "source": [
    "import numpy as np\n",
    "import cv2\n",
    "\n",
    "cv2.__version__"
   ]
  },
  {
   "cell_type": "code",
   "execution_count": null,
   "id": "8db186a2-fbac-40f3-8ea9-9ca313864f73",
   "metadata": {},
   "outputs": [],
   "source": [
    "net = cv2.dnn.readNet(\"yolov3.weights\", \"yolov3.cfg\") #  \n",
    "classes = []\n",
    "with open(\"coco.names\", \"r\") as f:\n",
    "    classes = [line.strip() for line in f.readlines()]\n",
    "\n",
    "# print(classes)    \n",
    "layer_names = net.getLayerNames()\n",
    "\n",
    "output_layers = [layer_names[i[0] - 1] for i in net.getUnconnectedOutLayers()]"
   ]
  },
  {
   "cell_type": "code",
   "execution_count": null,
   "id": "1e511046-4d65-4b83-a620-1a2493022a25",
   "metadata": {},
   "outputs": [],
   "source": [
    "len(classes)"
   ]
  },
  {
   "cell_type": "code",
   "execution_count": null,
   "id": "83673287-e39a-4b11-afab-b74557985aab",
   "metadata": {},
   "outputs": [],
   "source": [
    "classes[:10]\n",
    "classes"
   ]
  },
  {
   "cell_type": "code",
   "execution_count": null,
   "id": "450a1aeb-6c12-4a14-ab2f-2208c6dc4853",
   "metadata": {},
   "outputs": [],
   "source": [
    "colors = np.random.uniform(0, 255, size=(len(classes), 3))"
   ]
  },
  {
   "cell_type": "code",
   "execution_count": null,
   "id": "d9494f99-f846-497f-bd6a-38d94032f174",
   "metadata": {},
   "outputs": [],
   "source": [
    "img = cv2.imread(\"city2.jpg\")\n",
    "\n",
    "img = cv2.resize(img, None, fx=0.9, fy=0.9)\n",
    "height, width, channels = img.shape\n",
    "img.shape"
   ]
  },
  {
   "cell_type": "code",
   "execution_count": null,
   "id": "5aea576a-4d46-43e0-bfe2-cf0fe21b7b29",
   "metadata": {},
   "outputs": [],
   "source": [
    "import time\n",
    "start = time.time()\n",
    "\n",
    "img_size = (320, 320) \n",
    "\n",
    "blob = cv2.dnn.blobFromImage(img, 1/255, img_size, (0, 0, 0), True, crop=False)\n",
    "net.setInput(blob)\n",
    "outputs = net.forward(output_layers)\n",
    "\n",
    "end = time.time()\n",
    "\n",
    "print(\"Time Taken: {:.2f} secs\".format(end - start))"
   ]
  },
  {
   "cell_type": "code",
   "execution_count": null,
   "id": "56483077-8034-46b2-91d4-5439920138fa",
   "metadata": {},
   "outputs": [],
   "source": [
    "class_ids = []\n",
    "confidences = []\n",
    "boxes = []\n",
    "for out in outputs:\n",
    "    for detection in out:\n",
    "        scores = detection[5:]\n",
    "        class_id = np.argmax(scores)\n",
    "        confidence = scores[class_id]\n",
    "        if confidence > 0.5: # \n",
    "            # Object detected\n",
    "            center_x = int(detection[0] * width)\n",
    "            center_y = int(detection[1] * height)\n",
    "            w = int(detection[2] * width)\n",
    "            h = int(detection[3] * height)\n",
    "\n",
    "            x = int(center_x - w / 2)\n",
    "            y = int(center_y - h / 2)\n",
    "\n",
    "            boxes.append([x, y, w, h])\n",
    "            confidences.append(float(confidence))\n",
    "            class_ids.append(class_id)\n",
    "            \n",
    "indices = cv2.dnn.NMSBoxes(boxes, confidences, 0.5, 0.4)"
   ]
  },
  {
   "cell_type": "code",
   "execution_count": null,
   "id": "289a7ffd-5658-4cf0-9a32-3c754310db45",
   "metadata": {},
   "outputs": [],
   "source": [
    "font = cv2.FONT_HERSHEY_SIMPLEX # font = cv2.FONT_HERSHEY_PLAIN\n",
    "text_color = (255,255,255)\n",
    "\n",
    "for i in range(len(boxes)):\n",
    "    if i in indices:\n",
    "        x, y, w, h = boxes[i]\n",
    "        label = str(classes[class_ids[i]])\n",
    "        conf =  confidences[i] \n",
    "        label = '{} {:.1f}%'.format(label, conf*100)\n",
    "        \n",
    "        color = colors[i]\n",
    "\n",
    "        if class_ids[i] == 7: \n",
    "            color=(115,48,30)\n",
    "        elif class_ids[i]==1:\n",
    "            color=(255,0,55)\n",
    "        elif class_ids[i]==16:\n",
    "            color=(2,245,55)            \n",
    "            \n",
    "        t_size = cv2.getTextSize(label, font, 1 , 1)[0] \n",
    "       \n",
    "        cv2.rectangle(img, (x, y), (x + w, y + h), color, 2) \n",
    "\n",
    "           \n",
    "        c2 = x + int(t_size[0]*0.8), y - int(t_size[1]*1.2) \n",
    "        \n",
    "        cv2.rectangle(img, (x,y-2), c2, color, -1) \n",
    "        cv2.putText(img, label, (x, y-2), font, 0.7 , text_color, 3) \n",
    "\n",
    "cv2.imshow(\"Mywindow\", img)\n",
    "cv2.waitKey(0)\n",
    "cv2.destroyAllWindows()"
   ]
  },
  {
   "cell_type": "markdown",
   "id": "97d5f5ed-3ed3-411d-8413-2dd876318bf7",
   "metadata": {
    "tags": []
   },
   "source": [
    "# ws 02 "
   ]
  },
  {
   "cell_type": "code",
   "execution_count": null,
   "id": "cd464ee1-deef-408a-8dfd-68fc756c1c9a",
   "metadata": {
    "tags": []
   },
   "outputs": [],
   "source": [
    "import cv2\n",
    "import numpy as np\n",
    "\n",
    "colorGreen = (0,255,0)\n",
    "img_size = (320, 320)\n",
    "confThreshold = 0.5\n",
    "nmsThreshold = 0.4\n",
    "scale = 0.75  \n",
    "\n",
    "# cap = cv2.VideoCapture(0) # \n",
    "# cap.set(3, 920) #\n",
    "# cap.set(4, 520) #\n",
    "\n",
    "cap = cv2.VideoCapture('vdo.mp4')  # \n",
    "\n",
    "if (not(cap.isOpened())):  \n",
    "    print(\"Could not open the Cam/VDO file\") \n",
    "\n",
    "classesFile = 'coco.names'\n",
    "classNames = []\n",
    "\n",
    "    \n",
    "with open(\"coco.names\", \"r\") as f:\n",
    "    classNames = [line.strip() for line in f.readlines()]\n",
    "    \n",
    "\n",
    "modelConfiguration = 'yolov3.cfg'\n",
    "modelWeights = 'yolov3.weights'\n",
    "\n",
    "\n",
    "net = cv2.dnn.readNetFromDarknet(modelConfiguration, modelWeights)\n",
    "\n",
    "\n",
    "layerNames = net.getLayerNames()\n",
    "\n",
    "outputNames = [layerNames[i[0]-1] for i in net.getUnconnectedOutLayers()]\n",
    "\n",
    "def locateObjects(outputs,img):\n",
    "    hT, wT, cT = img.shape\n",
    "    bbox = []\n",
    "    classIds = []\n",
    "    confs = []\n",
    "\n",
    "    for output in outputs:\n",
    "        for det in output:\n",
    "            scores = det[5:]\n",
    "            classId = np.argmax(scores)\n",
    "            confidence = scores[classId]\n",
    "            if confidence > confThreshold:\n",
    "                w,h = int(det[2]* wT), int(det[3]*hT)\n",
    "                x,y = int((det[0]*wT)-w/2), int((det[1]*hT)-h/2)\n",
    "                bbox.append([x,y,w,h])\n",
    "                classIds.append(classId)\n",
    "                confs.append(float(confidence))\n",
    "\n",
    "    indices = cv2.dnn.NMSBoxes(bbox, confs, confThreshold, nmsThreshold)\n",
    "\n",
    "    for i in indices:\n",
    "        i = i[0]\n",
    "        box = bbox[i]\n",
    "        x,y,w,h = box[0], box[1], box[2], box[3]\n",
    "        cv2.rectangle(img, (x,y),(x+w,y+h),colorGreen,2)\n",
    "        label = str(classNames[classIds[i]])\n",
    "        label = '{} {:.1f}%'.format(label, confs[i]*100)\n",
    "        cv2.putText(img, label,\n",
    "                    (x,y-8), cv2.FONT_HERSHEY_SIMPLEX, 1.1,colorGreen,2)\n",
    "\n",
    "       \n",
    "# Main Loop        \n",
    "while (cap.isOpened()): # True:\n",
    "    success, img = cap.read()  # img = frame\n",
    "\n",
    "    \n",
    "    blob = cv2.dnn.blobFromImage(img, 0.00392, img_size, (0,0,0), crop=False) \n",
    "    net.setInput(blob)\n",
    "\n",
    "    outputs = net.forward(outputNames)\n",
    "\n",
    "    locateObjects(outputs, img)\n",
    "\n",
    "    cv2.imshow('Mywindow', img)\n",
    "    \n",
    "    #cv2.waitKey(0)\n",
    "#     if cv2.waitKey(1) & 0xFF == 27:  # ESC to exit\n",
    "    if cv2.waitKey(1) == 27: \n",
    "        break\n",
    "\n",
    "cap.release()  \n",
    "cv2.destroyAllWindows()   # Closes all the frames    "
   ]
  },
  {
   "cell_type": "code",
   "execution_count": null,
   "id": "80302e30-ca5f-4b4e-acd6-ee8c98eddb5d",
   "metadata": {},
   "outputs": [],
   "source": []
  }
 ],
 "metadata": {
  "kernelspec": {
   "display_name": "Python 3 (ipykernel)",
   "language": "python",
   "name": "python3"
  },
  "language_info": {
   "codemirror_mode": {
    "name": "ipython",
    "version": 3
   },
   "file_extension": ".py",
   "mimetype": "text/x-python",
   "name": "python",
   "nbconvert_exporter": "python",
   "pygments_lexer": "ipython3",
   "version": "3.9.7"
  }
 },
 "nbformat": 4,
 "nbformat_minor": 5
}
