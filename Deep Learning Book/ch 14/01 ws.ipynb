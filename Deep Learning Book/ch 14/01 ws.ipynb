{
 "cells": [
  {
   "cell_type": "markdown",
   "metadata": {
    "id": "ydSfPau8O96-"
   },
   "source": [
    "# 01"
   ]
  },
  {
   "cell_type": "code",
   "execution_count": null,
   "metadata": {
    "colab": {
     "base_uri": "https://localhost:8080/"
    },
    "executionInfo": {
     "elapsed": 360,
     "status": "ok",
     "timestamp": 1635559365590,
     "user": {
      "displayName": "InterMedia",
      "photoUrl": "https://lh3.googleusercontent.com/a/default-user=s64",
      "userId": "14142613053779683115"
     },
     "user_tz": -420
    },
    "id": "9uWUYpWbw7_K",
    "outputId": "1c2f9837-910b-4e28-a862-6ccc3486500f"
   },
   "outputs": [],
   "source": [
    "!nvidia-smi"
   ]
  },
  {
   "cell_type": "code",
   "execution_count": null,
   "metadata": {
    "executionInfo": {
     "elapsed": 724,
     "status": "ok",
     "timestamp": 1635559371289,
     "user": {
      "displayName": "InterMedia",
      "photoUrl": "https://lh3.googleusercontent.com/a/default-user=s64",
      "userId": "14142613053779683115"
     },
     "user_tz": -420
    },
    "id": "_TQzxTcmO7V9"
   },
   "outputs": [],
   "source": [
    "import numpy as np\n",
    "import math\n",
    "import matplotlib.pyplot as plt\n",
    "\n",
    "from keras.datasets.fashion_mnist import load_data\n",
    "from tensorflow.keras.optimizers import Adam\n",
    "\n",
    "from tensorflow.keras.models import Sequential\n",
    "from tensorflow.keras.layers import Dense, Conv2D, Conv2DTranspose #, BatchNormalization \n",
    "from tensorflow.keras.layers import LeakyReLU\n",
    "\n",
    "# Dis\n",
    "from tensorflow.keras.layers import Flatten, Reshape, Dropout\n",
    "\n",
    "# Gan\n",
    "from tensorflow.keras.layers import Input\n",
    "from tensorflow.keras.models import Model"
   ]
  },
  {
   "cell_type": "code",
   "execution_count": null,
   "metadata": {
    "executionInfo": {
     "elapsed": 504,
     "status": "ok",
     "timestamp": 1635559403093,
     "user": {
      "displayName": "InterMedia",
      "photoUrl": "https://lh3.googleusercontent.com/a/default-user=s64",
      "userId": "14142613053779683115"
     },
     "user_tz": -420
    },
    "id": "S_b8zWxqJT6G"
   },
   "outputs": [],
   "source": [
    "noise_dim = 100  \n",
    "\n",
    "batch_size = 64 \n",
    "\n",
    "epochs = 100\n",
    "\n",
    "img_rows, img_cols, channels = 28, 28, 1\n",
    "\n",
    "optimizer = Adam(0.0002, 0.5)\n",
    "np.random.seed(10)"
   ]
  },
  {
   "cell_type": "markdown",
   "metadata": {
    "id": "G2HY9NEPMZVO"
   },
   "source": [
    "## Load data"
   ]
  },
  {
   "cell_type": "code",
   "execution_count": null,
   "metadata": {
    "colab": {
     "base_uri": "https://localhost:8080/"
    },
    "executionInfo": {
     "elapsed": 846,
     "status": "ok",
     "timestamp": 1635562842533,
     "user": {
      "displayName": "InterMedia",
      "photoUrl": "https://lh3.googleusercontent.com/a/default-user=s64",
      "userId": "14142613053779683115"
     },
     "user_tz": -420
    },
    "id": "7H6_xoBHJHKe",
    "outputId": "60f389f6-697f-408d-8d52-e20b833a94e3"
   },
   "outputs": [],
   "source": [
    "(x_train, y_train), (_, _) = load_data() \n",
    "\n",
    "x_train = (x_train.astype(np.float32) - 127.5) / 127.5    \n",
    "\n",
    "print(x_train.shape)\n",
    "\n",
    "x_train = np.expand_dims(x_train, axis=-1)\n",
    "print(x_train.shape)\n",
    "print('min max:', np.min(x_train), np.max(x_train))"
   ]
  },
  {
   "cell_type": "code",
   "execution_count": null,
   "metadata": {
    "colab": {
     "base_uri": "https://localhost:8080/"
    },
    "executionInfo": {
     "elapsed": 317,
     "status": "ok",
     "timestamp": 1635562846269,
     "user": {
      "displayName": "InterMedia",
      "photoUrl": "https://lh3.googleusercontent.com/a/default-user=s64",
      "userId": "14142613053779683115"
     },
     "user_tz": -420
    },
    "id": "z8s9kjIyQtGz",
    "outputId": "74569d97-2ef2-4bcd-e133-79f963118467"
   },
   "outputs": [],
   "source": [
    "n_samples = 6000\n",
    "\n",
    "x_train = x_train[np.where(y_train <= 2)[0]][:n_samples]\n",
    "x_train.shape"
   ]
  },
  {
   "cell_type": "code",
   "execution_count": null,
   "metadata": {
    "colab": {
     "base_uri": "https://localhost:8080/"
    },
    "executionInfo": {
     "elapsed": 12,
     "status": "ok",
     "timestamp": 1635562847467,
     "user": {
      "displayName": "InterMedia",
      "photoUrl": "https://lh3.googleusercontent.com/a/default-user=s64",
      "userId": "14142613053779683115"
     },
     "user_tz": -420
    },
    "id": "7bxLl88juOps",
    "outputId": "385b99e5-2433-48db-c8ff-af36e67b0ef0"
   },
   "outputs": [],
   "source": [
    "steps_per_epoch = math.ceil(n_samples / batch_size)\n",
    "print('number of batches:', steps_per_epoch)"
   ]
  },
  {
   "cell_type": "code",
   "execution_count": null,
   "metadata": {
    "colab": {
     "base_uri": "https://localhost:8080/",
     "height": 195
    },
    "executionInfo": {
     "elapsed": 910,
     "status": "ok",
     "timestamp": 1635562849774,
     "user": {
      "displayName": "InterMedia",
      "photoUrl": "https://lh3.googleusercontent.com/a/default-user=s64",
      "userId": "14142613053779683115"
     },
     "user_tz": -420
    },
    "id": "vqXFfCadq7sl",
    "outputId": "98f06e6c-019c-4136-ce22-26a0612cc9a5"
   },
   "outputs": [],
   "source": [
    "def visual_multi(i):\n",
    "    nplots = 16\n",
    "    fig = plt.figure(figsize=(12, 3)) \n",
    "    for j in range(nplots):\n",
    "        plt.subplot(2, 8, j+1)\n",
    "        plt.imshow(np.squeeze(x_train[i+j]), cmap=plt.cm.gray_r)\n",
    "        plt.xticks([]); plt.yticks([])\n",
    "    plt.show()\n",
    "\n",
    "visual_multi(0)"
   ]
  },
  {
   "cell_type": "code",
   "execution_count": null,
   "metadata": {
    "colab": {
     "base_uri": "https://localhost:8080/",
     "height": 265
    },
    "executionInfo": {
     "elapsed": 520,
     "status": "ok",
     "timestamp": 1635562851600,
     "user": {
      "displayName": "InterMedia",
      "photoUrl": "https://lh3.googleusercontent.com/a/default-user=s64",
      "userId": "14142613053779683115"
     },
     "user_tz": -420
    },
    "id": "aZvm9xkWqJ1W",
    "outputId": "b2245adc-4917-42aa-cfb7-8cfd8b45bc43"
   },
   "outputs": [],
   "source": [
    "image = x_train[1]\n",
    "plt.imshow(image.reshape((img_rows, img_cols)), cmap=plt.cm.gray_r)\n",
    "plt.show()"
   ]
  },
  {
   "cell_type": "markdown",
   "metadata": {
    "id": "zbFIrsJ4Sb-P"
   },
   "source": [
    "### Generator"
   ]
  },
  {
   "cell_type": "code",
   "execution_count": null,
   "metadata": {
    "executionInfo": {
     "elapsed": 314,
     "status": "ok",
     "timestamp": 1635566301504,
     "user": {
      "displayName": "InterMedia",
      "photoUrl": "https://lh3.googleusercontent.com/a/default-user=s64",
      "userId": "14142613053779683115"
     },
     "user_tz": -420
    },
    "id": "JbAlpjlChC5H"
   },
   "outputs": [],
   "source": [
    "def create_generator():\n",
    "    generator = Sequential()\n",
    "    \n",
    "    d = 7\n",
    "    generator.add(Dense(d*d*128, input_dim=noise_dim))\n",
    "    generator.add(LeakyReLU(0.2))  \n",
    "    \n",
    "    generator.add(Reshape((d, d, 128)))\n",
    "    \n",
    "    generator.add(Conv2DTranspose(128, (4, 4), strides=2, padding='same'))\n",
    "    generator.add(LeakyReLU(0.2))\n",
    "\n",
    "    generator.add(Conv2DTranspose(128/2, (4, 4), strides=2, padding='same'))\n",
    "    generator.add(LeakyReLU(0.2))\n",
    "    \n",
    "    generator.add(Conv2D(channels, (3, 3), padding='same', activation='tanh')) \n",
    "\n",
    "    generator.compile(loss='binary_crossentropy', optimizer=optimizer)  \n",
    "    return generator"
   ]
  },
  {
   "cell_type": "markdown",
   "metadata": {
    "id": "-pz0nMcJSfIt"
   },
   "source": [
    "### Discrim"
   ]
  },
  {
   "cell_type": "code",
   "execution_count": null,
   "metadata": {
    "executionInfo": {
     "elapsed": 318,
     "status": "ok",
     "timestamp": 1635564047623,
     "user": {
      "displayName": "InterMedia",
      "photoUrl": "https://lh3.googleusercontent.com/a/default-user=s64",
      "userId": "14142613053779683115"
     },
     "user_tz": -420
    },
    "id": "TsR62pPQhavx"
   },
   "outputs": [],
   "source": [
    "def create_discriminator():\n",
    "    discriminator = Sequential()\n",
    "    \n",
    "    discriminator.add(Conv2D(64, (3, 3), padding='same', input_shape=(img_cols, img_rows, channels)))\n",
    "    discriminator.add(LeakyReLU(0.2))\n",
    "    \n",
    "    discriminator.add(Conv2D(128, (3, 3), strides=2, padding='same'))\n",
    "    discriminator.add(LeakyReLU(0.2))\n",
    "    \n",
    "    discriminator.add(Flatten())\n",
    "    discriminator.add(Dropout(0.4))\n",
    "    discriminator.add(Dense(1, activation='sigmoid')) \n",
    "    \n",
    "    discriminator.compile(loss='binary_crossentropy', optimizer=optimizer) \n",
    "    return discriminator"
   ]
  },
  {
   "cell_type": "markdown",
   "metadata": {
    "id": "n9d6OSuWSh3p"
   },
   "source": [
    "## GAN"
   ]
  },
  {
   "cell_type": "code",
   "execution_count": null,
   "metadata": {
    "executionInfo": {
     "elapsed": 295,
     "status": "ok",
     "timestamp": 1635566309420,
     "user": {
      "displayName": "InterMedia",
      "photoUrl": "https://lh3.googleusercontent.com/a/default-user=s64",
      "userId": "14142613053779683115"
     },
     "user_tz": -420
    },
    "id": "HOCc0RrgQqHr"
   },
   "outputs": [],
   "source": [
    "discriminator = create_discriminator()\n",
    "generator = create_generator()\n",
    "\n",
    "discriminator.trainable = False\n",
    "\n",
    "gan_input = Input(shape=(noise_dim,))\n",
    "fake_image = generator(gan_input)\n",
    "\n",
    "gan_output = discriminator(fake_image)\n",
    "\n",
    "gan = Model(gan_input, gan_output)\n",
    "gan.compile(loss='binary_crossentropy', optimizer=optimizer)"
   ]
  },
  {
   "cell_type": "code",
   "execution_count": null,
   "metadata": {
    "colab": {
     "base_uri": "https://localhost:8080/"
    },
    "executionInfo": {
     "elapsed": 305,
     "status": "ok",
     "timestamp": 1635566934552,
     "user": {
      "displayName": "InterMedia",
      "photoUrl": "https://lh3.googleusercontent.com/a/default-user=s64",
      "userId": "14142613053779683115"
     },
     "user_tz": -420
    },
    "id": "zpAEHGlm0umj",
    "outputId": "8c8f0315-5404-4ac1-bcb2-45e431313ef3"
   },
   "outputs": [],
   "source": [
    "generator.summary()\n",
    "discriminator.summary()\n",
    "gan.summary()"
   ]
  },
  {
   "cell_type": "code",
   "execution_count": null,
   "metadata": {
    "colab": {
     "base_uri": "https://localhost:8080/",
     "height": 282
    },
    "executionInfo": {
     "elapsed": 731,
     "status": "ok",
     "timestamp": 1635564053677,
     "user": {
      "displayName": "InterMedia",
      "photoUrl": "https://lh3.googleusercontent.com/a/default-user=s64",
      "userId": "14142613053779683115"
     },
     "user_tz": -420
    },
    "id": "Cdsj-ha0auYy",
    "outputId": "e2353e37-cf81-4b8f-9ce1-cd24af6dcb33"
   },
   "outputs": [],
   "source": [
    "noise = np.random.normal(0, 1, size=(1, noise_dim))\n",
    "image = generator.predict(noise)\n",
    "\n",
    "plt.imshow(image.reshape((img_rows, img_cols)), cmap='gray')\n",
    "plt.show()"
   ]
  },
  {
   "cell_type": "code",
   "execution_count": null,
   "metadata": {
    "executionInfo": {
     "elapsed": 5,
     "status": "ok",
     "timestamp": 1635564055062,
     "user": {
      "displayName": "InterMedia",
      "photoUrl": "https://lh3.googleusercontent.com/a/default-user=s64",
      "userId": "14142613053779683115"
     },
     "user_tz": -420
    },
    "id": "kzpbun4JVGsV"
   },
   "outputs": [],
   "source": [
    "def show_images(noise, size_fig):\n",
    "    generated_images = generator.predict(noise)  \n",
    "    plt.figure(figsize=(size_fig[1], size_fig[0]))\n",
    "    \n",
    "    for i, image in enumerate(generated_images):\n",
    "        plt.subplot(size_fig[0], size_fig[1], i+1)\n",
    "        if channels == 1:\n",
    "            plt.imshow(image.reshape((img_rows, img_cols)), cmap=plt.cm.gray_r)        \n",
    "        else:\n",
    "            plt.imshow(image.reshape((img_rows, img_cols, channels)))\n",
    "        plt.axis('off')\n",
    "\n",
    "    plt.show()"
   ]
  },
  {
   "cell_type": "code",
   "execution_count": null,
   "metadata": {
    "colab": {
     "base_uri": "https://localhost:8080/",
     "height": 1000,
     "output_embedded_package_id": "1qNPtSTLJpbTCQDpE02NaPNtu-r7i2jfq"
    },
    "executionInfo": {
     "elapsed": 591362,
     "status": "ok",
     "timestamp": 1635566914227,
     "user": {
      "displayName": "InterMedia",
      "photoUrl": "https://lh3.googleusercontent.com/a/default-user=s64",
      "userId": "14142613053779683115"
     },
     "user_tz": -420
    },
    "id": "zGikZgzNR56Y",
    "outputId": "2259e764-e1bb-409c-c3a7-d276819107d8"
   },
   "outputs": [],
   "source": [
    "\n",
    "from tqdm import tqdm\n",
    "for epoch in range(epochs):\n",
    "    for batch in tqdm(range(steps_per_epoch)):\n",
    "        noise = np.random.normal(0, 1, size=(batch_size, noise_dim))\n",
    "        fake_x = generator.predict(noise)\n",
    "\n",
    "        real_x = x_train[np.random.randint(0, x_train.shape[0], size=batch_size)]\n",
    "        x = np.concatenate((real_x, fake_x))\n",
    "\n",
    "        disc_y = np.zeros(2*batch_size)\n",
    "        disc_y[:batch_size] = 0.9\n",
    "\n",
    "        d_loss = discriminator.train_on_batch(x, disc_y)\n",
    "\n",
    "        y_gen = np.ones(batch_size)\n",
    "        g_loss = gan.train_on_batch(noise, y_gen)\n",
    "\n",
    "    print(f'Epoch: {epoch+1}/{epochs} \\t Discriminator Loss: {d_loss:.3f} \\\n",
    "  Generator Loss: {g_loss:.3f}')\n",
    "\n",
    "    dsp_img = (3, 5)\n",
    "    noise = np.random.normal(0, 1, size=(dsp_img[0]*dsp_img[1], noise_dim))\n",
    "    show_images(noise, dsp_img)"
   ]
  },
  {
   "cell_type": "code",
   "execution_count": null,
   "metadata": {
    "colab": {
     "base_uri": "https://localhost:8080/",
     "height": 585
    },
    "executionInfo": {
     "elapsed": 3545,
     "status": "ok",
     "timestamp": 1635563992141,
     "user": {
      "displayName": "InterMedia",
      "photoUrl": "https://lh3.googleusercontent.com/a/default-user=s64",
      "userId": "14142613053779683115"
     },
     "user_tz": -420
    },
    "id": "W_SV28rfSO2o",
    "outputId": "226f5fe2-c755-4e1a-b56e-a044507425ef"
   },
   "outputs": [],
   "source": [
    "noise = np.random.normal(0, 1, size=(64, noise_dim))\n",
    "show_images(noise, (8, 8))"
   ]
  },
  {
   "cell_type": "code",
   "execution_count": null,
   "metadata": {
    "id": "SfqB_ykO-_YE"
   },
   "outputs": [],
   "source": []
  }
 ],
 "metadata": {
  "accelerator": "GPU",
  "colab": {
   "name": "DCGAN_1 colab.ipynb",
   "provenance": [],
   "toc_visible": true
  },
  "kernelspec": {
   "display_name": "Python 3 (ipykernel)",
   "language": "python",
   "name": "python3"
  },
  "language_info": {
   "codemirror_mode": {
    "name": "ipython",
    "version": 3
   },
   "file_extension": ".py",
   "mimetype": "text/x-python",
   "name": "python",
   "nbconvert_exporter": "python",
   "pygments_lexer": "ipython3",
   "version": "3.9.7"
  }
 },
 "nbformat": 4,
 "nbformat_minor": 4
}
