{
 "cells": [
  {
   "cell_type": "markdown",
   "metadata": {
    "id": "C2jtiHA8a4zc"
   },
   "source": [
    "# ws 02\n",
    "\n",
    "**Author:** [fchollet](https://twitter.com/fchollet)<br>\n",
    "\n",
    "you can open this code on https://keras.io/examples/generative/dcgan_overriding_train_step/\n"
   ]
  },
  {
   "cell_type": "code",
   "execution_count": null,
   "metadata": {
    "colab": {
     "base_uri": "https://localhost:8080/"
    },
    "executionInfo": {
     "elapsed": 21,
     "status": "ok",
     "timestamp": 1638925378696,
     "user": {
      "displayName": "JKob San",
      "photoUrl": "https://lh3.googleusercontent.com/a-/AOh14GgnClMV_IVnXVunt7D1mXXMatSQTrEGp72MrhCIeQ=s64",
      "userId": "15910273739366067110"
     },
     "user_tz": -420
    },
    "id": "Tn0cuh5S_dU6",
    "outputId": "8d853828-18d0-49d7-978e-458566a07e5f"
   },
   "outputs": [],
   "source": [
    "!nvidia-smi"
   ]
  },
  {
   "cell_type": "code",
   "execution_count": null,
   "metadata": {
    "colab": {
     "base_uri": "https://localhost:8080/"
    },
    "executionInfo": {
     "elapsed": 5941,
     "status": "ok",
     "timestamp": 1638925394755,
     "user": {
      "displayName": "JKob San",
      "photoUrl": "https://lh3.googleusercontent.com/a-/AOh14GgnClMV_IVnXVunt7D1mXXMatSQTrEGp72MrhCIeQ=s64",
      "userId": "15910273739366067110"
     },
     "user_tz": -420
    },
    "id": "FDI059aSCxiv",
    "outputId": "5be1f455-09e1-4bc9-d75f-4afbf9ee789e"
   },
   "outputs": [],
   "source": [
    "import tensorflow as tf\n",
    "physical_devices = tf.config.list_physical_devices('GPU')\n",
    "print(\"Num GPUs:\", len(physical_devices))\n",
    "\n",
    "print(tf.test.gpu_device_name())"
   ]
  },
  {
   "cell_type": "code",
   "execution_count": null,
   "metadata": {
    "executionInfo": {
     "elapsed": 311,
     "status": "ok",
     "timestamp": 1638925396858,
     "user": {
      "displayName": "JKob San",
      "photoUrl": "https://lh3.googleusercontent.com/a-/AOh14GgnClMV_IVnXVunt7D1mXXMatSQTrEGp72MrhCIeQ=s64",
      "userId": "15910273739366067110"
     },
     "user_tz": -420
    },
    "id": "YPCxVFMNa4zi"
   },
   "outputs": [],
   "source": [
    "import tensorflow as tf\n",
    "from tensorflow import keras\n",
    "from tensorflow.keras import layers\n",
    "import numpy as np\n",
    "import matplotlib.pyplot as plt\n",
    "import os\n",
    "import gdown\n",
    "from zipfile import ZipFile"
   ]
  },
  {
   "cell_type": "markdown",
   "metadata": {
    "id": "6zRxkY8Ca4zk"
   },
   "source": [
    "## Prepare CelebA data"
   ]
  },
  {
   "cell_type": "code",
   "execution_count": null,
   "metadata": {
    "executionInfo": {
     "elapsed": 79644,
     "status": "ok",
     "timestamp": 1638925480801,
     "user": {
      "displayName": "JKob San",
      "photoUrl": "https://lh3.googleusercontent.com/a-/AOh14GgnClMV_IVnXVunt7D1mXXMatSQTrEGp72MrhCIeQ=s64",
      "userId": "15910273739366067110"
     },
     "user_tz": -420
    },
    "id": "AWmP8Yv9a4zl"
   },
   "outputs": [],
   "source": [
    "os.makedirs(\"celeba_gan\")\n",
    "\n",
    "url = \"https://drive.google.com/uc?id=1O7m1010EJjLE5QxLZiM9Fpjs7Oj6e684\" \n",
    "output = \"celeba_gan/data.zip\"\n",
    "gdown.download(url, output, quiet=True)\n",
    "\n",
    "with ZipFile(\"celeba_gan/data.zip\", \"r\") as zipobj:\n",
    "    zipobj.extractall(\"celeba_gan\")"
   ]
  },
  {
   "cell_type": "markdown",
   "metadata": {
    "id": "GIFTQrGZa4zl"
   },
   "source": [
    "Create a dataset from our folder, and rescale the images to the [0-1] range:"
   ]
  },
  {
   "cell_type": "code",
   "execution_count": null,
   "metadata": {
    "colab": {
     "base_uri": "https://localhost:8080/"
    },
    "executionInfo": {
     "elapsed": 6101,
     "status": "ok",
     "timestamp": 1638926231006,
     "user": {
      "displayName": "JKob San",
      "photoUrl": "https://lh3.googleusercontent.com/a-/AOh14GgnClMV_IVnXVunt7D1mXXMatSQTrEGp72MrhCIeQ=s64",
      "userId": "15910273739366067110"
     },
     "user_tz": -420
    },
    "id": "v_zkKBv0a4zm",
    "outputId": "d5da893b-2f48-4204-d8c3-6fafb0710b55"
   },
   "outputs": [],
   "source": [
    "dataset = keras.preprocessing.image_dataset_from_directory(\n",
    "    \"celeba_gan\", label_mode=None, image_size=(64, 64), batch_size=32\n",
    ")\n",
    "dataset = dataset.map(lambda x: x / 255.0)"
   ]
  },
  {
   "cell_type": "markdown",
   "metadata": {
    "id": "qIprQqVca4zn"
   },
   "source": [
    "Let's display a sample image:"
   ]
  },
  {
   "cell_type": "code",
   "execution_count": null,
   "metadata": {
    "colab": {
     "base_uri": "https://localhost:8080/",
     "height": 248
    },
    "executionInfo": {
     "elapsed": 759,
     "status": "ok",
     "timestamp": 1638926243779,
     "user": {
      "displayName": "JKob San",
      "photoUrl": "https://lh3.googleusercontent.com/a-/AOh14GgnClMV_IVnXVunt7D1mXXMatSQTrEGp72MrhCIeQ=s64",
      "userId": "15910273739366067110"
     },
     "user_tz": -420
    },
    "id": "U6DgVKaZa4zo",
    "outputId": "20f3ed4a-bc1c-4412-cfd4-8903e3a7060d"
   },
   "outputs": [],
   "source": [
    "for x in dataset:\n",
    "    plt.axis(\"off\")\n",
    "    plt.imshow((x.numpy() * 255).astype(\"int32\")[0])\n",
    "    break"
   ]
  },
  {
   "cell_type": "code",
   "execution_count": null,
   "metadata": {
    "colab": {
     "base_uri": "https://localhost:8080/",
     "height": 194
    },
    "executionInfo": {
     "elapsed": 1613,
     "status": "ok",
     "timestamp": 1638926255676,
     "user": {
      "displayName": "JKob San",
      "photoUrl": "https://lh3.googleusercontent.com/a-/AOh14GgnClMV_IVnXVunt7D1mXXMatSQTrEGp72MrhCIeQ=s64",
      "userId": "15910273739366067110"
     },
     "user_tz": -420
    },
    "id": "DBZaCSDOgBXX",
    "outputId": "cd4ebcaf-c22c-4aad-dd45-225b3891fe88"
   },
   "outputs": [],
   "source": [
    "def plotImages(images_arr):\n",
    "    fig, axes = plt.subplots(1, 4, figsize=(10,10))\n",
    "    for img, ax in zip(images_arr, axes):\n",
    "        ax.imshow(img)\n",
    "        \n",
    "    plt.tight_layout()\n",
    "    plt.show()\n",
    "\n",
    "iterator = iter(dataset)\n",
    "img_samples = next(iterator)[:4]\n",
    "plotImages(img_samples)"
   ]
  },
  {
   "cell_type": "markdown",
   "metadata": {
    "id": "5wwswvoXa4zp"
   },
   "source": [
    "## Create the discriminator"
   ]
  },
  {
   "cell_type": "code",
   "execution_count": null,
   "metadata": {
    "colab": {
     "base_uri": "https://localhost:8080/"
    },
    "executionInfo": {
     "elapsed": 705,
     "status": "ok",
     "timestamp": 1638926260835,
     "user": {
      "displayName": "JKob San",
      "photoUrl": "https://lh3.googleusercontent.com/a-/AOh14GgnClMV_IVnXVunt7D1mXXMatSQTrEGp72MrhCIeQ=s64",
      "userId": "15910273739366067110"
     },
     "user_tz": -420
    },
    "id": "SKRIiB7wa4zp",
    "outputId": "ac926094-d429-4169-ca72-e539a8005f6c"
   },
   "outputs": [],
   "source": [
    "discriminator = keras.Sequential(\n",
    "    [\n",
    "        keras.Input(shape=(64, 64, 3)),\n",
    "        layers.Conv2D(64, kernel_size=4, strides=2, padding=\"same\"),\n",
    "        layers.LeakyReLU(alpha=0.2),\n",
    "        layers.Conv2D(128, kernel_size=4, strides=2, padding=\"same\"),\n",
    "        layers.LeakyReLU(alpha=0.2),\n",
    "        layers.Conv2D(128, kernel_size=4, strides=2, padding=\"same\"),\n",
    "        layers.LeakyReLU(alpha=0.2),\n",
    "        layers.Flatten(),\n",
    "        layers.Dropout(0.2),\n",
    "        layers.Dense(1, activation=\"sigmoid\"),\n",
    "    ],\n",
    "    name=\"discriminator\",\n",
    ")\n",
    "discriminator.summary()"
   ]
  },
  {
   "cell_type": "markdown",
   "metadata": {
    "id": "jhPc5eB6a4zq"
   },
   "source": [
    "## Create the generator\n"
   ]
  },
  {
   "cell_type": "code",
   "execution_count": null,
   "metadata": {
    "colab": {
     "base_uri": "https://localhost:8080/"
    },
    "executionInfo": {
     "elapsed": 295,
     "status": "ok",
     "timestamp": 1638926265474,
     "user": {
      "displayName": "JKob San",
      "photoUrl": "https://lh3.googleusercontent.com/a-/AOh14GgnClMV_IVnXVunt7D1mXXMatSQTrEGp72MrhCIeQ=s64",
      "userId": "15910273739366067110"
     },
     "user_tz": -420
    },
    "id": "1OPvpUX7a4zq",
    "outputId": "0a36ca93-cf7e-4446-d40f-e1d20cd7bcab"
   },
   "outputs": [],
   "source": [
    "latent_dim = 128\n",
    "\n",
    "generator = keras.Sequential(\n",
    "    [\n",
    "        keras.Input(shape=(latent_dim,)),\n",
    "        layers.Dense(8 * 8 * 128),\n",
    "        layers.Reshape((8, 8, 128)),\n",
    "        layers.Conv2DTranspose(128, kernel_size=4, strides=2, padding=\"same\"),\n",
    "        layers.LeakyReLU(alpha=0.2),\n",
    "        layers.Conv2DTranspose(256, kernel_size=4, strides=2, padding=\"same\"),\n",
    "        layers.LeakyReLU(alpha=0.2),\n",
    "        layers.Conv2DTranspose(512, kernel_size=4, strides=2, padding=\"same\"),\n",
    "        layers.LeakyReLU(alpha=0.2),\n",
    "        layers.Conv2D(3, kernel_size=5, padding=\"same\", activation=\"sigmoid\"),\n",
    "    ],\n",
    "    name=\"generator\",\n",
    ")\n",
    "generator.summary()"
   ]
  },
  {
   "cell_type": "code",
   "execution_count": null,
   "metadata": {
    "executionInfo": {
     "elapsed": 300,
     "status": "ok",
     "timestamp": 1638926270872,
     "user": {
      "displayName": "JKob San",
      "photoUrl": "https://lh3.googleusercontent.com/a-/AOh14GgnClMV_IVnXVunt7D1mXXMatSQTrEGp72MrhCIeQ=s64",
      "userId": "15910273739366067110"
     },
     "user_tz": -420
    },
    "id": "qzl2THXHa4zs"
   },
   "outputs": [],
   "source": [
    "# GAN\n",
    "class GAN(keras.Model):\n",
    "    def __init__(self, discriminator, generator, latent_dim):\n",
    "        super(GAN, self).__init__()\n",
    "        self.discriminator = discriminator\n",
    "        self.generator = generator\n",
    "        self.latent_dim = latent_dim\n",
    "\n",
    "    def compile(self, d_optimizer, g_optimizer, loss_fn):\n",
    "        super(GAN, self).compile()\n",
    "        self.d_optimizer = d_optimizer\n",
    "        self.g_optimizer = g_optimizer\n",
    "        self.loss_fn = loss_fn\n",
    "        self.d_loss_metric = keras.metrics.Mean(name=\"d_loss\")\n",
    "        self.g_loss_metric = keras.metrics.Mean(name=\"g_loss\")\n",
    "\n",
    "    @property\n",
    "    def metrics(self):\n",
    "        return [self.d_loss_metric, self.g_loss_metric]\n",
    "\n",
    "    def train_step(self, real_images):\n",
    "        # Sample random points in the latent space\n",
    "        batch_size = tf.shape(real_images)[0]\n",
    "        random_latent_vectors = tf.random.normal(shape=(batch_size, self.latent_dim))\n",
    "\n",
    "        # Decode them to fake images\n",
    "        generated_images = self.generator(random_latent_vectors)\n",
    "\n",
    "        # Combine them with real images\n",
    "        combined_images = tf.concat([generated_images, real_images], axis=0)\n",
    "\n",
    "        # Assemble labels discriminating real from fake images\n",
    "        labels = tf.concat(\n",
    "            [tf.ones((batch_size, 1)), tf.zeros((batch_size, 1))], axis=0\n",
    "        )\n",
    "        # Add random noise to the labels - important trick!\n",
    "        labels += 0.05 * tf.random.uniform(tf.shape(labels))\n",
    "\n",
    "        # Train the discriminator\n",
    "        with tf.GradientTape() as tape:\n",
    "            predictions = self.discriminator(combined_images)\n",
    "            d_loss = self.loss_fn(labels, predictions)\n",
    "        grads = tape.gradient(d_loss, self.discriminator.trainable_weights)\n",
    "        self.d_optimizer.apply_gradients(\n",
    "            zip(grads, self.discriminator.trainable_weights)\n",
    "        )\n",
    "\n",
    "        # Sample random points in the latent space\n",
    "        random_latent_vectors = tf.random.normal(shape=(batch_size, self.latent_dim))\n",
    "\n",
    "        # Assemble labels that say \"all real images\"\n",
    "        misleading_labels = tf.zeros((batch_size, 1))\n",
    "\n",
    "        # Train the generator (note that we should *not* update the weights\n",
    "        # of the discriminator)!\n",
    "        with tf.GradientTape() as tape:\n",
    "            predictions = self.discriminator(self.generator(random_latent_vectors))\n",
    "            g_loss = self.loss_fn(misleading_labels, predictions)\n",
    "        grads = tape.gradient(g_loss, self.generator.trainable_weights)\n",
    "        self.g_optimizer.apply_gradients(zip(grads, self.generator.trainable_weights))\n",
    "\n",
    "        # Update metrics\n",
    "        self.d_loss_metric.update_state(d_loss)\n",
    "        self.g_loss_metric.update_state(g_loss)\n",
    "        return {\n",
    "            \"d_loss\": self.d_loss_metric.result(),\n",
    "            \"g_loss\": self.g_loss_metric.result(),\n",
    "        }\n"
   ]
  },
  {
   "cell_type": "markdown",
   "metadata": {
    "id": "ITNB9-Jxa4zt"
   },
   "source": [
    "## callback periodically saves generated images"
   ]
  },
  {
   "cell_type": "code",
   "execution_count": null,
   "metadata": {
    "executionInfo": {
     "elapsed": 293,
     "status": "ok",
     "timestamp": 1638926276674,
     "user": {
      "displayName": "JKob San",
      "photoUrl": "https://lh3.googleusercontent.com/a-/AOh14GgnClMV_IVnXVunt7D1mXXMatSQTrEGp72MrhCIeQ=s64",
      "userId": "15910273739366067110"
     },
     "user_tz": -420
    },
    "id": "XahRIueja4zt"
   },
   "outputs": [],
   "source": [
    "class GANMonitor(keras.callbacks.Callback):\n",
    "    def __init__(self, num_img=3, latent_dim=128):\n",
    "        self.num_img = num_img\n",
    "        self.latent_dim = latent_dim\n",
    "\n",
    "    def on_epoch_end(self, epoch, logs=None):\n",
    "        random_latent_vectors = tf.random.normal(shape=(self.num_img, self.latent_dim))\n",
    "        generated_images = self.model.generator(random_latent_vectors)\n",
    "        generated_images *= 255\n",
    "        generated_images.numpy()\n",
    "        for i in range(self.num_img):\n",
    "            img = keras.preprocessing.image.array_to_img(generated_images[i])\n",
    "            img.save(\"generated_img_%03d_%d.png\" % (epoch, i))\n"
   ]
  },
  {
   "cell_type": "markdown",
   "metadata": {
    "id": "dioF1LFIa4zt"
   },
   "source": [
    "## Train the end-to-end model"
   ]
  },
  {
   "cell_type": "code",
   "execution_count": null,
   "metadata": {
    "colab": {
     "base_uri": "https://localhost:8080/"
    },
    "executionInfo": {
     "elapsed": 4385895,
     "status": "ok",
     "timestamp": 1638930973596,
     "user": {
      "displayName": "JKob San",
      "photoUrl": "https://lh3.googleusercontent.com/a-/AOh14GgnClMV_IVnXVunt7D1mXXMatSQTrEGp72MrhCIeQ=s64",
      "userId": "15910273739366067110"
     },
     "user_tz": -420
    },
    "id": "rjjY8Avna4zu",
    "outputId": "3786f00d-249f-4248-beb7-883a5c8f0b27"
   },
   "outputs": [],
   "source": [
    "epochs = 1  # \n",
    "\n",
    "gan = GAN(discriminator=discriminator, generator=generator, latent_dim=latent_dim)\n",
    "gan.compile(\n",
    "    d_optimizer=keras.optimizers.Adam(learning_rate=0.0001),\n",
    "    g_optimizer=keras.optimizers.Adam(learning_rate=0.0001),\n",
    "    loss_fn=keras.losses.BinaryCrossentropy(),\n",
    ")\n",
    "\n",
    "gan.fit(\n",
    "    dataset, epochs=epochs, callbacks=[GANMonitor(num_img=10, latent_dim=latent_dim)]\n",
    ")"
   ]
  },
  {
   "cell_type": "code",
   "execution_count": null,
   "metadata": {
    "id": "stVC_2yPbphg"
   },
   "outputs": [],
   "source": []
  }
 ],
 "metadata": {
  "accelerator": "GPU",
  "colab": {
   "collapsed_sections": [],
   "name": "DCGAN Celeb 2.ipynb",
   "provenance": [
    {
     "file_id": "https://github.com/keras-team/keras-io/blob/master/examples/generative/ipynb/dcgan_overriding_train_step.ipynb",
     "timestamp": 1635567516055
    }
   ]
  },
  "kernelspec": {
   "display_name": "Python 3 (ipykernel)",
   "language": "python",
   "name": "python3"
  },
  "language_info": {
   "codemirror_mode": {
    "name": "ipython",
    "version": 3
   },
   "file_extension": ".py",
   "mimetype": "text/x-python",
   "name": "python",
   "nbconvert_exporter": "python",
   "pygments_lexer": "ipython3",
   "version": "3.9.7"
  }
 },
 "nbformat": 4,
 "nbformat_minor": 4
}
