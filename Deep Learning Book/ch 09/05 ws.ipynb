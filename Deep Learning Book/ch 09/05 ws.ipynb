{
 "cells": [
  {
   "cell_type": "markdown",
   "id": "64e98026-4c11-4c36-9a28-beb70d4088dd",
   "metadata": {},
   "source": [
    "# ws 05"
   ]
  },
  {
   "cell_type": "code",
   "execution_count": null,
   "id": "a38c0fae-dbbc-49a7-897b-755e9cdc11db",
   "metadata": {},
   "outputs": [],
   "source": [
    "import numpy as np\n",
    "import matplotlib.pyplot as plt\n",
    "\n",
    "from tensorflow.keras.applications.resnet50 import ResNet50\n",
    "from keras.preprocessing.image import load_img, img_to_array\n",
    "from tensorflow.keras.applications.resnet50 import preprocess_input, decode_predictions\n",
    "\n",
    "model = ResNet50(weights='imagenet')\n",
    "\n",
    "model.summary()"
   ]
  },
  {
   "cell_type": "code",
   "execution_count": null,
   "id": "86cfba93-01c4-49f4-8ac0-d7ffb2bca313",
   "metadata": {},
   "outputs": [],
   "source": [
    "image = load_img('dog0010-2.jpg', target_size=(224, 224))\n",
    "\n",
    "plt.imshow(image)\n",
    "plt.tight_layout()"
   ]
  },
  {
   "cell_type": "code",
   "execution_count": null,
   "id": "e6c9495e-23f3-4f5c-a45c-79f60203fb1d",
   "metadata": {},
   "outputs": [],
   "source": [
    "image = img_to_array(image)\n",
    "print('min max (before) =', image.min(), image.max())\n",
    "\n",
    "image = np.expand_dims(image, axis=0)\n",
    "\n",
    "image = preprocess_input(image)\n",
    "print('min max (after) =', image.min(), image.max())\n",
    "\n",
    "plt.imshow(image[0])"
   ]
  },
  {
   "cell_type": "code",
   "execution_count": null,
   "id": "a546c32a-e152-4f2e-a2d0-36d4acc88d7d",
   "metadata": {},
   "outputs": [],
   "source": [
    "def predict(img_fname):\n",
    "    img = image.load_img(img_fname, target_size=(224, 224))\n",
    "    x = image.img_to_array(img)\n",
    "    x = np.expand_dims(x, axis=0)\n",
    "    x = preprocess_input(x)\n",
    "    \n",
    "    print('min max ',np.min(x), np.max(x))\n",
    "    preds = model.predict(x)\n",
    "    print('Predicted:', decode_predictions(preds, top=5)[0])\n",
    "    plt.imshow(img)"
   ]
  },
  {
   "cell_type": "code",
   "execution_count": null,
   "id": "e2f8187a-36b2-4813-8460-4f4ba1414d3d",
   "metadata": {},
   "outputs": [],
   "source": [
    "pred = model.predict(image)\n",
    "\n",
    "pred_decode = decode_predictions(pred)[0][0]\n",
    "pred_decode"
   ]
  },
  {
   "cell_type": "code",
   "execution_count": null,
   "id": "ca6a88cd-5991-44de-9996-166a2bc27004",
   "metadata": {},
   "outputs": [],
   "source": []
  }
 ],
 "metadata": {
  "kernelspec": {
   "display_name": "Python 3 (ipykernel)",
   "language": "python",
   "name": "python3"
  },
  "language_info": {
   "codemirror_mode": {
    "name": "ipython",
    "version": 3
   },
   "file_extension": ".py",
   "mimetype": "text/x-python",
   "name": "python",
   "nbconvert_exporter": "python",
   "pygments_lexer": "ipython3",
   "version": "3.9.7"
  }
 },
 "nbformat": 4,
 "nbformat_minor": 5
}
