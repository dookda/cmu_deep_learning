{
 "cells": [
  {
   "cell_type": "markdown",
   "id": "154e9fdc-07f1-4adb-a054-32ed4363565e",
   "metadata": {},
   "source": [
    "# ws 04"
   ]
  },
  {
   "cell_type": "code",
   "execution_count": null,
   "id": "e3d9d809-2000-445a-8eda-5b1e5d56d55b",
   "metadata": {},
   "outputs": [],
   "source": [
    "import numpy as np  \n",
    "import matplotlib.pyplot as plt\n",
    "from keras.applications.vgg16 import VGG16\n",
    "from keras.preprocessing.image import load_img, img_to_array\n",
    "from keras.applications.vgg16 import VGG16, preprocess_input, decode_predictions\n",
    "\n",
    "# model = VGG16()  \n",
    "model = VGG16(weights='imagenet')  \n",
    "\n",
    "model.summary()   # summarize the model"
   ]
  },
  {
   "cell_type": "code",
   "execution_count": null,
   "id": "014d1f12-1ce4-4ec1-ac8f-b65eb50f8b85",
   "metadata": {},
   "outputs": [],
   "source": [
    "image = load_img('dog0010-2.jpg', target_size=(224, 224))\n",
    "\n",
    "plt.imshow(image)"
   ]
  },
  {
   "cell_type": "code",
   "execution_count": null,
   "id": "601c5fc4-d182-44f0-9273-cc23123511a5",
   "metadata": {},
   "outputs": [],
   "source": [
    "image = img_to_array(image)\n",
    "print('min max (before) =', image.min(), image.max())\n",
    "\n",
    "image = np.expand_dims(image, axis=0)\n",
    "\n",
    "\n",
    "image = preprocess_input(image)\n",
    "print('min max (after) =', image.min(), image.max())\n",
    "\n",
    "plt.imshow(image[0])"
   ]
  },
  {
   "cell_type": "code",
   "execution_count": null,
   "id": "ac15da41-28f6-41e6-bbd6-4b4d2a3a531e",
   "metadata": {},
   "outputs": [],
   "source": [
    "image.shape"
   ]
  },
  {
   "cell_type": "code",
   "execution_count": null,
   "id": "fa0382fd-b645-4d9f-8874-ffc0774647db",
   "metadata": {},
   "outputs": [],
   "source": [
    "pred = model.predict(image)\n",
    "\n",
    "pred_decode = decode_predictions(pred, top=3)[0]\n",
    "pred_decode"
   ]
  },
  {
   "cell_type": "code",
   "execution_count": null,
   "id": "d90e3eae-6bba-4da7-9f29-f0bae8ba59b6",
   "metadata": {},
   "outputs": [],
   "source": [
    "def predict(img_fname):\n",
    "    img = load_img(img_fname, target_size=(224, 224))\n",
    "    plt.imshow(img)\n",
    "    img = img_to_array(img)\n",
    "    img = np.expand_dims(img, axis=0)\n",
    "    img = preprocess_input(img)\n",
    "    \n",
    "    pred = model.predict(img)\n",
    "    pred_decode = decode_predictions(pred, top=3)[0]\n",
    "\n",
    "    print('Predicted: {} {:.2f}%'.format(pred_decode[0][1], pred_decode[0][2] * 100))\n",
    "    for i in pred_decode:\n",
    "        print('{:17} {:6.3f}'.format(i[1],i[2]))"
   ]
  },
  {
   "cell_type": "code",
   "execution_count": null,
   "id": "caa8752e-b75e-493f-b920-186bb9dbdb8c",
   "metadata": {},
   "outputs": [],
   "source": [
    "predict('dog010-2.jpg')"
   ]
  },
  {
   "cell_type": "code",
   "execution_count": null,
   "id": "88f7e704-c96f-42ed-8849-c5c57246955e",
   "metadata": {},
   "outputs": [],
   "source": []
  }
 ],
 "metadata": {
  "kernelspec": {
   "display_name": "Python 3 (ipykernel)",
   "language": "python",
   "name": "python3"
  },
  "language_info": {
   "codemirror_mode": {
    "name": "ipython",
    "version": 3
   },
   "file_extension": ".py",
   "mimetype": "text/x-python",
   "name": "python",
   "nbconvert_exporter": "python",
   "pygments_lexer": "ipython3",
   "version": "3.9.7"
  }
 },
 "nbformat": 4,
 "nbformat_minor": 5
}
