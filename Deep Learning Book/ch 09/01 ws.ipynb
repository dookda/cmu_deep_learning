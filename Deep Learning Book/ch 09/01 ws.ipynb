{
 "cells": [
  {
   "cell_type": "markdown",
   "id": "b271787c-03eb-4b27-a1fe-13c8f489c1c5",
   "metadata": {},
   "source": [
    "# WS 01"
   ]
  },
  {
   "cell_type": "code",
   "execution_count": null,
   "id": "e300983c-7431-4438-86e5-75e3dffd09b1",
   "metadata": {},
   "outputs": [],
   "source": [
    "import numpy as np\n",
    "from tensorflow.keras.datasets.mnist import load_data\n",
    "\n",
    "(X_train, y_train), (X_test, y_test) = load_data()"
   ]
  },
  {
   "cell_type": "code",
   "execution_count": null,
   "id": "678444ce-b1cd-4ea6-bd39-733ad78e5dab",
   "metadata": {},
   "outputs": [],
   "source": [
    "print(X_train.shape)\n",
    "print(X_test.shape)"
   ]
  },
  {
   "cell_type": "code",
   "execution_count": null,
   "id": "eaff61f1-0e9f-4b39-b400-4333ed324071",
   "metadata": {},
   "outputs": [],
   "source": [
    "print(y_train.shape)\n",
    "print(y_test.shape)"
   ]
  },
  {
   "cell_type": "code",
   "execution_count": null,
   "id": "1a0b839d-2272-4a3b-9e41-4cc933cd5fce",
   "metadata": {},
   "outputs": [],
   "source": [
    "X_test.shape , y_test.shape"
   ]
  },
  {
   "cell_type": "code",
   "execution_count": null,
   "id": "b298802d-8999-4c6d-ac65-df5d1bd85c5f",
   "metadata": {},
   "outputs": [],
   "source": [
    "X_train[0][:, 7:20]\n",
    "X_train[0,:, 7:20]"
   ]
  },
  {
   "cell_type": "code",
   "execution_count": null,
   "id": "2399d264-98a6-416a-a6bb-ecb4e4b78bee",
   "metadata": {},
   "outputs": [],
   "source": [
    "y_train[0:10]"
   ]
  },
  {
   "cell_type": "code",
   "execution_count": null,
   "id": "fac4b23c-4caf-4058-b15d-15334d7c490f",
   "metadata": {},
   "outputs": [],
   "source": [
    "np.min(X_train), np.max(X_train)"
   ]
  },
  {
   "cell_type": "code",
   "execution_count": null,
   "id": "948bd45d-b6ac-43a9-a3c9-38b3142c6c46",
   "metadata": {},
   "outputs": [],
   "source": [
    "np.isnan(X_train).sum()"
   ]
  },
  {
   "cell_type": "code",
   "execution_count": null,
   "id": "d21c5eb1-24ad-4723-8e70-f7090a0de8a6",
   "metadata": {},
   "outputs": [],
   "source": [
    "print(np.unique(y_train))"
   ]
  },
  {
   "cell_type": "code",
   "execution_count": null,
   "id": "e38d6c1f-885a-4356-8efe-72137aa27e1d",
   "metadata": {},
   "outputs": [],
   "source": [
    "import pandas as pd\n",
    "\n",
    "label,count = np.unique(y_train, return_counts=True)\n",
    "label,count\n",
    "df_train_labels = pd.DataFrame({'Label':label, 'Count':count})\n",
    "df_train_labels\n",
    "\n",
    "df_train_labels.plot.bar()"
   ]
  },
  {
   "cell_type": "code",
   "execution_count": null,
   "id": "4a99ea9f-d547-45d0-9fb4-fba49a0501e4",
   "metadata": {},
   "outputs": [],
   "source": [
    "import matplotlib.pyplot as plt\n",
    "\n",
    "img = X_train[0]\n",
    "plt.imshow(img, cmap=plt.cm.gray_r) # inverse black bg\n",
    "\n",
    "plt.show()"
   ]
  },
  {
   "cell_type": "code",
   "execution_count": null,
   "id": "c8789260-cfcb-42e9-bdf5-d16c6deeb6f4",
   "metadata": {},
   "outputs": [],
   "source": [
    "def visual_multi(i):\n",
    "    nplots = 40\n",
    "    fig = plt.figure(figsize=(8, 4))\n",
    "    for j in range(nplots):\n",
    "        plt.subplot(4, 10, j+1)\n",
    "        plt.imshow(X_train[i+j], cmap=plt.cm.gray_r)\n",
    "        plt.title(y_train[i+j])\n",
    "\n",
    "    plt.show()\n",
    "\n",
    "visual_multi(0)"
   ]
  },
  {
   "cell_type": "code",
   "execution_count": null,
   "id": "ee13e85f-701e-4bf6-b288-04d71debe80a",
   "metadata": {},
   "outputs": [],
   "source": [
    "print(X_train.shape)\n",
    "print(X_test.shape) #X_train.shape"
   ]
  },
  {
   "cell_type": "code",
   "execution_count": null,
   "id": "fb9808a3-707c-427a-ba1b-19f6342d8149",
   "metadata": {},
   "outputs": [],
   "source": [
    "\n",
    "X_train = np.expand_dims(X_train, -1) # \n",
    "X_test = np.expand_dims(X_test, -1)"
   ]
  },
  {
   "cell_type": "code",
   "execution_count": null,
   "id": "53e0a35a-8111-4c0a-ae46-315fed5e5bf6",
   "metadata": {},
   "outputs": [],
   "source": [
    "X_train = X_train.astype('float32') / 255.0\n",
    "X_test = X_test.astype('float32') / 255.0\n"
   ]
  },
  {
   "cell_type": "code",
   "execution_count": null,
   "id": "55c9c458-0d18-47c5-84c4-f9495d20e80e",
   "metadata": {},
   "outputs": [],
   "source": [
    "np.min(X_train), np.max(X_train)"
   ]
  },
  {
   "cell_type": "code",
   "execution_count": null,
   "id": "2eaf2251-7406-4f78-87ca-2746aaeb2213",
   "metadata": {},
   "outputs": [],
   "source": [
    "X_train[0,10,10:15]"
   ]
  },
  {
   "cell_type": "markdown",
   "id": "1c90060c-13f8-45e3-9b35-d6d606d03e3e",
   "metadata": {},
   "source": [
    "## select samples"
   ]
  },
  {
   "cell_type": "code",
   "execution_count": null,
   "id": "f49f1c43-a308-4229-9d57-47f80a853651",
   "metadata": {},
   "outputs": [],
   "source": [
    "num_samples = 10000\n",
    "\n",
    "X_train = X_train[:num_samples]\n",
    "y_train = y_train[:num_samples]"
   ]
  },
  {
   "cell_type": "code",
   "execution_count": null,
   "id": "67e385d4-e51c-4e62-8a43-aaaa07045651",
   "metadata": {},
   "outputs": [],
   "source": [
    "X_train.shape"
   ]
  },
  {
   "cell_type": "code",
   "execution_count": null,
   "id": "cf6b1080-20e9-4c60-9d6e-d701a0806de5",
   "metadata": {},
   "outputs": [],
   "source": [
    "# import warnings\n",
    "# warnings.filterwarnings(\"ignore\")\n",
    "import matplotlib.pyplot as plt\n",
    "\n",
    "import seaborn as sns\n",
    "\n",
    "sns.countplot(y_test)\n",
    "\n",
    "plt.show()\n",
    "del sns#, warnings"
   ]
  },
  {
   "cell_type": "code",
   "execution_count": null,
   "id": "389e793d-3427-42da-9106-3a71b0145723",
   "metadata": {},
   "outputs": [],
   "source": [
    "print('Train: X={}, y={}'.format(X_train.shape, y_train.shape))\n",
    "print('Test: X={}, y={}'.format(X_test.shape, y_test.shape))"
   ]
  },
  {
   "cell_type": "markdown",
   "id": "f2e6dad5-d8cf-4e3b-b8b9-421ac752276b",
   "metadata": {},
   "source": [
    "# model "
   ]
  },
  {
   "cell_type": "code",
   "execution_count": null,
   "id": "a050c1a0-072c-46fd-bd14-69829fd09b7e",
   "metadata": {},
   "outputs": [],
   "source": [
    "num_classes = len(np.unique(y_train))\n",
    "num_classes"
   ]
  },
  {
   "cell_type": "code",
   "execution_count": null,
   "id": "2967103f-5ddf-4b6e-bfd2-24b166e02dae",
   "metadata": {},
   "outputs": [],
   "source": [
    "X_train = np.pad(X_train, ((0,0),(2,2),(2,2),(0,0)), 'constant')\n",
    "X_test = np.pad(X_test, ((0,0),(2,2),(2,2),(0,0)), 'constant')"
   ]
  },
  {
   "cell_type": "code",
   "execution_count": null,
   "id": "7e6f93a8-5260-4567-b948-32061538a873",
   "metadata": {},
   "outputs": [],
   "source": [
    "in_shape = X_train.shape[1:]\n",
    "in_shape"
   ]
  },
  {
   "cell_type": "code",
   "execution_count": null,
   "id": "31eda112-ae1b-467c-b1d1-76e4cc2669a3",
   "metadata": {},
   "outputs": [],
   "source": [
    "from tensorflow.keras import Sequential\n",
    "from tensorflow.keras.layers import Dense, Conv2D, AveragePooling2D, Flatten, Dropout # MaxPool2D, \n",
    "\n",
    "model = Sequential()\n",
    "model.add(Conv2D(6, (5,5), activation='tanh', input_shape=in_shape)) \n",
    "model.add(AveragePooling2D((2, 2)))\n",
    "\n",
    "model.add(Conv2D(16, (5,5), activation='tanh')) \n",
    "model.add(AveragePooling2D((2, 2)))\n",
    "\n",
    "model.add(Conv2D(120, (5,5), activation='tanh')) \n",
    "\n",
    "model.add(Flatten())\n",
    "model.add(Dense(84, activation='tanh')) \n",
    "\n",
    "model.add(Dense(num_classes, activation='softmax'))"
   ]
  },
  {
   "cell_type": "code",
   "execution_count": null,
   "id": "30565b23-8ce1-45c7-b43c-7593d67700a1",
   "metadata": {},
   "outputs": [],
   "source": [
    "model.summary()"
   ]
  },
  {
   "cell_type": "code",
   "execution_count": null,
   "id": "957341d8-b3bd-48bb-840d-5df1f8a888a0",
   "metadata": {},
   "outputs": [],
   "source": [
    "model.compile(optimizer='adam', loss='sparse_categorical_crossentropy', \n",
    "              metrics=['accuracy'])\n",
    "\n",
    "import time\n",
    "start = time.time()\n",
    "history = model.fit(X_train, y_train, epochs=20, batch_size=128, verbose=1, validation_data=(X_test,y_test))\n",
    "\n",
    "end = time.time()\n",
    "\n",
    "print(\"Time Taken: {:.2f} minutes\".format((end - start)/60))"
   ]
  },
  {
   "cell_type": "code",
   "execution_count": null,
   "id": "a2e331c6-adb6-4171-8a1e-9af7437a335f",
   "metadata": {},
   "outputs": [],
   "source": [
    "score = model.evaluate(X_test, y_test, verbose=0)\n",
    "print('Accuracy: {:.3f}'.format(score[1]))"
   ]
  },
  {
   "cell_type": "code",
   "execution_count": null,
   "id": "42aa6284-5073-4616-a2cd-3db9c65ba072",
   "metadata": {},
   "outputs": [],
   "source": [
    "plt.figure(figsize=(4.7, 3.5))\n",
    "plt.plot(history.history['loss'], color='b', label=\"Training\")\n",
    "plt.plot(history.history['val_loss'], 'r--', label=\"validation\")\n",
    "plt.title('Loss')\n",
    "plt.legend()\n",
    "plt.show()"
   ]
  },
  {
   "cell_type": "code",
   "execution_count": null,
   "id": "0261612e-b134-4afa-866f-347ce2c1c698",
   "metadata": {},
   "outputs": [],
   "source": []
  }
 ],
 "metadata": {
  "kernelspec": {
   "display_name": "Python 3 (ipykernel)",
   "language": "python",
   "name": "python3"
  },
  "language_info": {
   "codemirror_mode": {
    "name": "ipython",
    "version": 3
   },
   "file_extension": ".py",
   "mimetype": "text/x-python",
   "name": "python",
   "nbconvert_exporter": "python",
   "pygments_lexer": "ipython3",
   "version": "3.9.7"
  }
 },
 "nbformat": 4,
 "nbformat_minor": 5
}
