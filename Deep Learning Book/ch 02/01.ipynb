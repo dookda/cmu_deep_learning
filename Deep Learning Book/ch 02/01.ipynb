{
 "cells": [
  {
   "cell_type": "code",
   "execution_count": null,
   "id": "aca0d1a0-72ac-45ad-bb35-b98fd9cb4ddb",
   "metadata": {
    "colab": {
     "base_uri": "https://localhost:8080/"
    },
    "executionInfo": {
     "elapsed": 432,
     "status": "ok",
     "timestamp": 1636281960703,
     "user": {
      "displayName": "JKob San",
      "photoUrl": "https://lh3.googleusercontent.com/a-/AOh14GgnClMV_IVnXVunt7D1mXXMatSQTrEGp72MrhCIeQ=s64",
      "userId": "15910273739366067110"
     },
     "user_tz": -420
    },
    "id": "aca0d1a0-72ac-45ad-bb35-b98fd9cb4ddb",
    "outputId": "ccff0692-c1ce-4ca6-aab8-3fb1a5456c9c"
   },
   "outputs": [],
   "source": [
    "!nvidia-smi"
   ]
  },
  {
   "cell_type": "code",
   "execution_count": null,
   "id": "e5a64d7a-83db-4731-a051-c911d0e9c8ca",
   "metadata": {
    "colab": {
     "base_uri": "https://localhost:8080/"
    },
    "executionInfo": {
     "elapsed": 837,
     "status": "ok",
     "timestamp": 1636282018322,
     "user": {
      "displayName": "JKob San",
      "photoUrl": "https://lh3.googleusercontent.com/a-/AOh14GgnClMV_IVnXVunt7D1mXXMatSQTrEGp72MrhCIeQ=s64",
      "userId": "15910273739366067110"
     },
     "user_tz": -420
    },
    "id": "e5a64d7a-83db-4731-a051-c911d0e9c8ca",
    "outputId": "3eb00234-8af8-41d9-c422-dd241947378d"
   },
   "outputs": [
    {
     "name": "stdout",
     "output_type": "stream",
     "text": [
      "Num GPUs Available:  1\n"
     ]
    }
   ],
   "source": [
    "import tensorflow as tf\n",
    "print(\"Num GPUs Available: \", \n",
    "      len(tf.config.experimental.list_physical_devices('GPU')))"
   ]
  },
  {
   "cell_type": "code",
   "execution_count": null,
   "id": "da25d16a-738c-4e6c-82fe-c22da3d46fe7",
   "metadata": {
    "id": "cf48d52a-acd8-483c-8331-6a08bc118024"
   },
   "outputs": [],
   "source": [
    "from google.colab import drive\n",
    "drive.mount('/content/drive')"
   ]
  },
  {
   "cell_type": "code",
   "execution_count": null,
   "id": "8449513a-cbbe-4092-aff2-ba2475589fb1",
   "metadata": {
    "id": "cf48d52a-acd8-483c-8331-6a08bc118024"
   },
   "outputs": [],
   "source": [
    "ls '/content/drive/'"
   ]
  },
  {
   "cell_type": "code",
   "execution_count": null,
   "id": "6fbbc728-f287-4137-ae8f-dbec3485b966",
   "metadata": {
    "id": "cf48d52a-acd8-483c-8331-6a08bc118024"
   },
   "outputs": [],
   "source": [
    "# upload\n",
    "from google.colab import files\n",
    "\n",
    "uploaded = files.upload()\n",
    "\n",
    "!ls "
   ]
  },
  {
   "cell_type": "code",
   "execution_count": null,
   "id": "f471c078-d3f3-4f67-aa27-9de93bf4a78f",
   "metadata": {
    "id": "cf48d52a-acd8-483c-8331-6a08bc118024"
   },
   "outputs": [],
   "source": [
    "import pandas as pd\n",
    "df = pd.read_csv('simple_loan.csv')  # csv file\n",
    "df.head()"
   ]
  },
  {
   "cell_type": "code",
   "execution_count": null,
   "id": "3ea7367f-2d43-46ad-b269-26da7bcfdef2",
   "metadata": {
    "id": "cf48d52a-acd8-483c-8331-6a08bc118024"
   },
   "outputs": [],
   "source": [
    "import pandas as pd\n",
    "\n",
    "filename = list(uploaded.keys())[0]   # upload csv file\n",
    "df = pd.read_csv(filename)  \n",
    "df.head()"
   ]
  },
  {
   "cell_type": "code",
   "execution_count": null,
   "id": "6cbef9bd-7a63-4896-a159-7341cebbddff",
   "metadata": {
    "id": "cf48d52a-acd8-483c-8331-6a08bc118024"
   },
   "outputs": [],
   "source": [
    "!gdown --id '1obyYig......'"
   ]
  },
  {
   "cell_type": "code",
   "execution_count": null,
   "id": "b24c476b-25be-44d2-a5a0-29e704e6c89d",
   "metadata": {
    "id": "cf48d52a-acd8-483c-8331-6a08bc118024"
   },
   "outputs": [],
   "source": [
    "!pip uninstall mtcnn -y"
   ]
  },
  {
   "cell_type": "code",
   "execution_count": null,
   "id": "23e5eeb9-6077-4eef-9207-72bc4d82724e",
   "metadata": {
    "id": "cf48d52a-acd8-483c-8331-6a08bc118024"
   },
   "outputs": [],
   "source": [
    "!pip install -r requirements.txt"
   ]
  },
  {
   "cell_type": "code",
   "execution_count": null,
   "id": "8177cf9a-cf5c-427b-ace8-d00461e9ea27",
   "metadata": {
    "id": "cf48d52a-acd8-483c-8331-6a08bc118024"
   },
   "outputs": [],
   "source": []
  }
 ],
 "metadata": {
  "colab": {
   "name": "check devices.ipynb",
   "provenance": [],
   "toc_visible": true
  },
  "kernelspec": {
   "display_name": "Python 3 (ipykernel)",
   "language": "python",
   "name": "python3"
  },
  "language_info": {
   "codemirror_mode": {
    "name": "ipython",
    "version": 3
   },
   "file_extension": ".py",
   "mimetype": "text/x-python",
   "name": "python",
   "nbconvert_exporter": "python",
   "pygments_lexer": "ipython3",
   "version": "3.9.7"
  }
 },
 "nbformat": 4,
 "nbformat_minor": 5
}
