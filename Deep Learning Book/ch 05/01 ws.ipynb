{
 "cells": [
  {
   "cell_type": "markdown",
   "metadata": {},
   "source": [
    "# WS 01 02"
   ]
  },
  {
   "cell_type": "code",
   "execution_count": null,
   "metadata": {},
   "outputs": [],
   "source": [
    "import numpy as np\n",
    "\n",
    "X = [[0, 0], \n",
    "     [0, 1], \n",
    "     [1, 0], \n",
    "     [1, 1]]\n",
    "\n",
    "X_train = np.array(X) \n",
    "\n",
    "y = [0, 0, 0, 1] \n",
    "# y = [0, 1, 1, 1] \n",
    "# y = [0, 1, 1, 0] \n",
    "y_train = np.array(y)"
   ]
  },
  {
   "cell_type": "code",
   "execution_count": null,
   "metadata": {},
   "outputs": [],
   "source": [
    "from sklearn.linear_model import Perceptron\n",
    "\n",
    "# model = Perceptron(tol=1e-3, random_state=0, verbose=False)\n",
    "model = Perceptron(tol=1e-3, random_state=0, verbose=True)\n",
    "model.fit(X_train, y_train)\n",
    "\n",
    "print('score:', model.score(X_train, y_train)) \n",
    "print('predicted:', model.predict(X_train))\n",
    "print('target:   ', np.array(y))"
   ]
  },
  {
   "cell_type": "code",
   "execution_count": null,
   "metadata": {},
   "outputs": [],
   "source": [
    "print('weight [w1 w2] =',model.coef_[0]) \n",
    "print('w0 (bias) =',model.intercept_[0])"
   ]
  },
  {
   "cell_type": "code",
   "execution_count": null,
   "metadata": {},
   "outputs": [],
   "source": []
  }
 ],
 "metadata": {
  "kernelspec": {
   "display_name": "Python 3 (ipykernel)",
   "language": "python",
   "name": "python3"
  },
  "language_info": {
   "codemirror_mode": {
    "name": "ipython",
    "version": 3
   },
   "file_extension": ".py",
   "mimetype": "text/x-python",
   "name": "python",
   "nbconvert_exporter": "python",
   "pygments_lexer": "ipython3",
   "version": "3.9.7"
  }
 },
 "nbformat": 4,
 "nbformat_minor": 4
}
