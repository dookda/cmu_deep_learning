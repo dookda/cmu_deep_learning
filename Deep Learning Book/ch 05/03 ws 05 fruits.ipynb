{
 "cells": [
  {
   "cell_type": "markdown",
   "id": "6774f218-907b-4e0d-8c61-380eebc2a5ff",
   "metadata": {},
   "source": [
    "# WS 05"
   ]
  },
  {
   "cell_type": "code",
   "execution_count": null,
   "id": "c6036186-e645-4ef1-a017-110292ed6758",
   "metadata": {},
   "outputs": [],
   "source": [
    "import numpy as np\n",
    "import pandas as pd\n",
    "import seaborn as sns\n",
    "import matplotlib.pyplot as plt"
   ]
  },
  {
   "cell_type": "code",
   "execution_count": null,
   "id": "287b1062-29a6-4cba-840e-952cdefb347b",
   "metadata": {},
   "outputs": [],
   "source": [
    "df = pd.read_csv('../datasets/fruit2class.csv')\n",
    "\n",
    "df.sample(7)\n",
    "\n",
    "df.sample(6,random_state=1)"
   ]
  },
  {
   "cell_type": "code",
   "execution_count": null,
   "id": "ea2a8982-b98d-40a0-ae85-9babf5df435e",
   "metadata": {},
   "outputs": [],
   "source": [
    "df.isnull().sum()"
   ]
  },
  {
   "cell_type": "code",
   "execution_count": null,
   "id": "3b043571-dc29-4309-844e-a19554d9a61e",
   "metadata": {},
   "outputs": [],
   "source": [
    "df.target.unique()"
   ]
  },
  {
   "cell_type": "code",
   "execution_count": null,
   "id": "4e802f0a-16f2-4d90-9007-997c92aae015",
   "metadata": {},
   "outputs": [],
   "source": [
    "sns.scatterplot(x='m', y='d', data=df, hue='target', style='target',s=140)#, palette='Set1') \n",
    "\n",
    "plt.show()"
   ]
  },
  {
   "cell_type": "code",
   "execution_count": null,
   "id": "4c27164d-75bf-45fd-9723-3d5db9cad714",
   "metadata": {},
   "outputs": [],
   "source": [
    "X = df.drop('target', axis=1)\n",
    "y = df.target"
   ]
  },
  {
   "cell_type": "code",
   "execution_count": null,
   "id": "35094d0e-1181-4878-b628-8c8e51a8b640",
   "metadata": {},
   "outputs": [],
   "source": [
    "from sklearn.preprocessing import StandardScaler\n",
    "sc = StandardScaler()\n",
    "\n",
    "X_train = sc.fit_transform(X)\n",
    "\n",
    "y_train = y"
   ]
  },
  {
   "cell_type": "code",
   "execution_count": null,
   "id": "c4635d6f-ef84-4931-b04e-4546329e9642",
   "metadata": {},
   "outputs": [],
   "source": [
    "df_sc = pd.DataFrame(X_train, columns=['d','m'])\n",
    "df_sc['target'] = y_train\n",
    "df_sc.head(8)\n",
    "df_sc.sample(6,random_state=1)"
   ]
  },
  {
   "cell_type": "code",
   "execution_count": null,
   "id": "de6c2695-418a-428e-8bb0-0f599fe8bfa4",
   "metadata": {},
   "outputs": [],
   "source": [
    "# df.sample(6,random_state=1)"
   ]
  },
  {
   "cell_type": "code",
   "execution_count": null,
   "id": "1a8bb93b-a9c6-46c7-bd4d-531322d27e80",
   "metadata": {},
   "outputs": [],
   "source": [
    "from sklearn.neural_network import MLPClassifier\n",
    "\n",
    "hidden = 100\n",
    "\n",
    "model = MLPClassifier(random_state=1) \n",
    "\n",
    "model.fit(X_train, y_train)\n",
    "\n",
    "print('score: {:.4f}'.format(model.score(X_train, y_train)))\n",
    "print('score:', model.score(X_train, y_train).round(4)) \n",
    "print('actual y: ', np.array(y))\n",
    "print('predicted:', model.predict(X_train)) "
   ]
  },
  {
   "cell_type": "code",
   "execution_count": null,
   "id": "3a611832-996c-402d-aa4e-a07b0971d39e",
   "metadata": {},
   "outputs": [],
   "source": [
    "from sklearn.metrics import classification_report, confusion_matrix\n",
    "\n",
    "y_predict = model.predict(X_train)\n",
    "\n",
    "print('Score -> {:.4f}' . format(model.score(X_train, y_train)))\n",
    "# print(classification_report(y_train, y_predict))\n",
    "print(confusion_matrix(y_train, y_predict))"
   ]
  },
  {
   "cell_type": "code",
   "execution_count": null,
   "id": "083f5dd4-1656-4d5f-bdd7-bbb8973d1ac4",
   "metadata": {},
   "outputs": [],
   "source": [
    "from mlxtend.plotting import plot_decision_regions\n",
    "\n",
    "plt.figure(figsize=(4.5, 3.5))\n",
    "plot_decision_regions(X_train, np.array(y_train), clf=model, legend=2) \n",
    "\n",
    "plt.title('MLP: 2 Classes (hidden layer: {})'.format(hidden))\n",
    "plt.xticks([])\n",
    "plt.yticks([])\n",
    "plt.xlabel('m (gram)')\n",
    "plt.ylabel('d (diameter)')\n",
    "\n",
    "plt.show()"
   ]
  },
  {
   "cell_type": "code",
   "execution_count": null,
   "id": "8cadd015-b8d1-4fbd-862e-e745d06e971b",
   "metadata": {},
   "outputs": [],
   "source": [
    "[coef.shape for coef in model.coefs_]"
   ]
  },
  {
   "cell_type": "code",
   "execution_count": null,
   "id": "191ad85a-a2ea-4433-ac50-1b1f80180254",
   "metadata": {},
   "outputs": [],
   "source": [
    "plt.figure(figsize=(5,3))\n",
    "plt.title('Loss curve')\n",
    "plt.xlabel('Iteration')\n",
    "plt.plot(model.loss_curve_)\n",
    "plt.tight_layout()\n",
    "plt.show()"
   ]
  },
  {
   "cell_type": "markdown",
   "id": "198fe308-b5f1-4c5d-a92d-9d7fec2cbba9",
   "metadata": {},
   "source": [
    "# ws 06 3 cls"
   ]
  },
  {
   "cell_type": "code",
   "execution_count": null,
   "id": "432a8659-0bd2-48dd-b675-d909632e4f81",
   "metadata": {},
   "outputs": [],
   "source": [
    "df = pd.read_csv('../datasets/fruit3class.csv')\n",
    "\n",
    "df.sample(7)\n",
    "\n",
    "df.sample(6,random_state=1)"
   ]
  },
  {
   "cell_type": "code",
   "execution_count": null,
   "id": "4f92c697-4375-44b5-90e8-c7f1e501e3b4",
   "metadata": {},
   "outputs": [],
   "source": [
    "sns.scatterplot(x='m', y='d', data=df, hue='target', style='target',s=140)#, palette='Set1') \n",
    "\n",
    "plt.show()"
   ]
  },
  {
   "cell_type": "code",
   "execution_count": null,
   "id": "496f7c62-3b85-476d-86bd-a457d94a4789",
   "metadata": {},
   "outputs": [],
   "source": [
    "X = df.drop('target', axis=1)\n",
    "y = df.target"
   ]
  },
  {
   "cell_type": "code",
   "execution_count": null,
   "id": "de3a15d2-6107-46d9-b071-18442431c492",
   "metadata": {},
   "outputs": [],
   "source": [
    "from sklearn.preprocessing import StandardScaler\n",
    "sc = StandardScaler()\n",
    "\n",
    "X_train = sc.fit_transform(X)\n",
    "\n",
    "y_train = y"
   ]
  },
  {
   "cell_type": "code",
   "execution_count": null,
   "id": "a9513414-9772-4bb5-9cd7-1dcf80299219",
   "metadata": {},
   "outputs": [],
   "source": [
    "from sklearn.neural_network import MLPClassifier\n",
    "\n",
    "hidden = 100\n",
    "\n",
    "model = MLPClassifier(random_state=1) \n",
    "\n",
    "model.fit(X_train, y_train)\n",
    "\n",
    "print('score: {:.4f}'.format(model.score(X_train, y_train)))\n",
    "print('score:', model.score(X_train, y_train).round(4)) \n",
    "print('actual y: ', np.array(y))\n",
    "print('predicted:', model.predict(X_train)) "
   ]
  },
  {
   "cell_type": "code",
   "execution_count": null,
   "id": "a2f6b37e-ab08-409a-8417-06b3cc1ba035",
   "metadata": {},
   "outputs": [],
   "source": [
    "# plot code is the same as above"
   ]
  },
  {
   "cell_type": "code",
   "execution_count": null,
   "id": "6049e195-4689-4fd6-b9f0-1c4b9817b836",
   "metadata": {},
   "outputs": [],
   "source": [
    "from mlxtend.plotting import plot_decision_regions\n",
    "\n",
    "plt.figure(figsize=(4.5, 3.5))\n",
    "plot_decision_regions(X_train, np.array(y_train), clf=model, legend=2) \n",
    "\n",
    "plt.title('MLP: 2 Classes (hidden layer: {})'.format(hidden))\n",
    "plt.xticks([])\n",
    "plt.yticks([])\n",
    "plt.xlabel('m (gram)')\n",
    "plt.ylabel('d (diameter)')\n",
    "\n",
    "plt.show()"
   ]
  },
  {
   "cell_type": "markdown",
   "id": "cb3ffd3d-fdcd-43fb-ae0e-6f4bdf6553c8",
   "metadata": {},
   "source": [
    "# Predict"
   ]
  },
  {
   "cell_type": "code",
   "execution_count": null,
   "id": "c3397b61-6b91-496c-84ad-435d612564c9",
   "metadata": {},
   "outputs": [],
   "source": [
    "X_new = [8.4, 5]\n",
    "X_new = [[8.4, 5.2], \n",
    "         [6.8 , 4.2]]\n",
    "X_new"
   ]
  },
  {
   "cell_type": "code",
   "execution_count": null,
   "id": "e8155f1f-3c8f-497e-9a49-105caf9deb3e",
   "metadata": {},
   "outputs": [],
   "source": [
    "X_new_sc = sc.transform(X_new)\n",
    "X_new_sc"
   ]
  },
  {
   "cell_type": "code",
   "execution_count": null,
   "id": "ca2b3b0d-0955-4549-8f98-c2701efae09e",
   "metadata": {},
   "outputs": [],
   "source": [
    "model.predict(X_new_sc)"
   ]
  },
  {
   "cell_type": "code",
   "execution_count": null,
   "id": "035fd296-f0fc-46a3-9dc1-f7f3dc341e7b",
   "metadata": {},
   "outputs": [],
   "source": [
    "plt.figure(figsize=(4.5, 3.5))\n",
    "plot_decision_regions(X_train, np.array(y_train), clf=model,\n",
    "                      legend=2)\n",
    "\n",
    "plt.title('MLP: Prediction') \n",
    "plt.xticks([])\n",
    "plt.yticks([])\n",
    "plt.xlabel('m (gram)')\n",
    "plt.ylabel('d (diameter)')\n",
    "\n",
    "plt.scatter(X_new_sc[:,0], X_new_sc[:,1], marker='o', s=120, c='r')\n",
    "plt.show()"
   ]
  },
  {
   "cell_type": "code",
   "execution_count": null,
   "id": "4c9bd8ae-12c2-4d02-bffe-8c60a222bfab",
   "metadata": {},
   "outputs": [],
   "source": []
  }
 ],
 "metadata": {
  "kernelspec": {
   "display_name": "Python 3 (ipykernel)",
   "language": "python",
   "name": "python3"
  },
  "language_info": {
   "codemirror_mode": {
    "name": "ipython",
    "version": 3
   },
   "file_extension": ".py",
   "mimetype": "text/x-python",
   "name": "python",
   "nbconvert_exporter": "python",
   "pygments_lexer": "ipython3",
   "version": "3.9.7"
  }
 },
 "nbformat": 4,
 "nbformat_minor": 5
}
