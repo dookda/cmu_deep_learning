{
 "cells": [
  {
   "cell_type": "markdown",
   "id": "514b47ac",
   "metadata": {
    "id": "0034c48b-a3da-420a-a40f-f0143d161190"
   },
   "source": [
    "# ws 01\n",
    "- no need to download IMDb dataset\n",
    "- but, if you want to see the db, just click - https://ai.stanford.edu/~amaas/data/sentiment/"
   ]
  },
  {
   "cell_type": "code",
   "execution_count": null,
   "id": "25eee674",
   "metadata": {
    "colab": {
     "base_uri": "https://localhost:8080/",
     "height": 35
    },
    "executionInfo": {
     "elapsed": 2886,
     "status": "ok",
     "timestamp": 1634366359226,
     "user": {
      "displayName": "JKob San",
      "photoUrl": "https://lh3.googleusercontent.com/a-/AOh14GgnClMV_IVnXVunt7D1mXXMatSQTrEGp72MrhCIeQ=s64",
      "userId": "15910273739366067110"
     },
     "user_tz": -420
    },
    "id": "174a3fed-8334-4eb5-9dcd-7d8392215596",
    "outputId": "ce2fccb6-6834-4269-f262-167e3e166cfc"
   },
   "outputs": [],
   "source": [
    "import numpy as np\n",
    "from keras.preprocessing.sequence import pad_sequences\n",
    "from keras.models import Sequential\n",
    "from keras.layers import Embedding, LSTM, Bidirectional, GRU, Dense\n",
    "\n",
    "from keras.datasets import imdb\n",
    "np.__version__ "
   ]
  },
  {
   "cell_type": "code",
   "execution_count": null,
   "id": "61a26759",
   "metadata": {
    "colab": {
     "base_uri": "https://localhost:8080/"
    },
    "executionInfo": {
     "elapsed": 6137,
     "status": "ok",
     "timestamp": 1634366368202,
     "user": {
      "displayName": "JKob San",
      "photoUrl": "https://lh3.googleusercontent.com/a-/AOh14GgnClMV_IVnXVunt7D1mXXMatSQTrEGp72MrhCIeQ=s64",
      "userId": "15910273739366067110"
     },
     "user_tz": -420
    },
    "id": "368b8f20-4cba-40fc-8516-7cb0d6f54d51",
    "outputId": "8580f840-9e11-464b-fd24-92647f983f77"
   },
   "outputs": [],
   "source": [
    "(X_train, y_train), (X_test, y_test) = imdb.load_data()"
   ]
  },
  {
   "cell_type": "code",
   "execution_count": null,
   "id": "59ea2c32-a560-4539-8b99-ac6c69654f1f",
   "metadata": {
    "colab": {
     "base_uri": "https://localhost:8080/"
    },
    "executionInfo": {
     "elapsed": 428,
     "status": "ok",
     "timestamp": 1634341554522,
     "user": {
      "displayName": "JKob San",
      "photoUrl": "https://lh3.googleusercontent.com/a-/AOh14GgnClMV_IVnXVunt7D1mXXMatSQTrEGp72MrhCIeQ=s64",
      "userId": "15910273739366067110"
     },
     "user_tz": -420
    },
    "id": "7b0841ea-2175-439f-b251-8e96fe40b0ad",
    "outputId": "21a9809b-0998-4d9c-e4e5-24807dbd5e82"
   },
   "outputs": [],
   "source": [
    "print(X_train)"
   ]
  },
  {
   "cell_type": "code",
   "execution_count": null,
   "id": "4e48f803-889a-4e97-83eb-a3fc2ebd879c",
   "metadata": {
    "colab": {
     "base_uri": "https://localhost:8080/"
    },
    "executionInfo": {
     "elapsed": 428,
     "status": "ok",
     "timestamp": 1634341554522,
     "user": {
      "displayName": "JKob San",
      "photoUrl": "https://lh3.googleusercontent.com/a-/AOh14GgnClMV_IVnXVunt7D1mXXMatSQTrEGp72MrhCIeQ=s64",
      "userId": "15910273739366067110"
     },
     "user_tz": -420
    },
    "id": "7b0841ea-2175-439f-b251-8e96fe40b0ad",
    "outputId": "21a9809b-0998-4d9c-e4e5-24807dbd5e82"
   },
   "outputs": [],
   "source": [
    "print(y_train[:15])"
   ]
  },
  {
   "cell_type": "code",
   "execution_count": null,
   "id": "9c634d4c-2a16-4349-a1b1-97ef9ebdfb68",
   "metadata": {
    "colab": {
     "base_uri": "https://localhost:8080/"
    },
    "executionInfo": {
     "elapsed": 428,
     "status": "ok",
     "timestamp": 1634341554522,
     "user": {
      "displayName": "JKob San",
      "photoUrl": "https://lh3.googleusercontent.com/a-/AOh14GgnClMV_IVnXVunt7D1mXXMatSQTrEGp72MrhCIeQ=s64",
      "userId": "15910273739366067110"
     },
     "user_tz": -420
    },
    "id": "7b0841ea-2175-439f-b251-8e96fe40b0ad",
    "outputId": "21a9809b-0998-4d9c-e4e5-24807dbd5e82"
   },
   "outputs": [],
   "source": [
    "X_train.shape"
   ]
  },
  {
   "cell_type": "code",
   "execution_count": null,
   "id": "d73bf754",
   "metadata": {
    "colab": {
     "base_uri": "https://localhost:8080/"
    },
    "executionInfo": {
     "elapsed": 12,
     "status": "ok",
     "timestamp": 1634341556997,
     "user": {
      "displayName": "JKob San",
      "photoUrl": "https://lh3.googleusercontent.com/a-/AOh14GgnClMV_IVnXVunt7D1mXXMatSQTrEGp72MrhCIeQ=s64",
      "userId": "15910273739366067110"
     },
     "user_tz": -420
    },
    "id": "7c565e06-2086-4292-a85c-78ebf84007ec",
    "outputId": "da45da8b-13df-4451-ed79-eaa251a783c5"
   },
   "outputs": [],
   "source": [
    "X_test.shape"
   ]
  },
  {
   "cell_type": "code",
   "execution_count": null,
   "id": "4b33febe",
   "metadata": {
    "colab": {
     "base_uri": "https://localhost:8080/"
    },
    "executionInfo": {
     "elapsed": 547,
     "status": "ok",
     "timestamp": 1634341559797,
     "user": {
      "displayName": "JKob San",
      "photoUrl": "https://lh3.googleusercontent.com/a-/AOh14GgnClMV_IVnXVunt7D1mXXMatSQTrEGp72MrhCIeQ=s64",
      "userId": "15910273739366067110"
     },
     "user_tz": -420
    },
    "id": "48189713-98d3-4ffa-8e93-e97fc371dbb6",
    "outputId": "556447ab-22b8-4a31-be91-c66243774759"
   },
   "outputs": [],
   "source": [
    "y_train.shape"
   ]
  },
  {
   "cell_type": "code",
   "execution_count": null,
   "id": "b3468e71",
   "metadata": {
    "colab": {
     "base_uri": "https://localhost:8080/"
    },
    "executionInfo": {
     "elapsed": 404,
     "status": "ok",
     "timestamp": 1634341565209,
     "user": {
      "displayName": "JKob San",
      "photoUrl": "https://lh3.googleusercontent.com/a-/AOh14GgnClMV_IVnXVunt7D1mXXMatSQTrEGp72MrhCIeQ=s64",
      "userId": "15910273739366067110"
     },
     "user_tz": -420
    },
    "id": "178f4469-3699-45c8-8e41-4b0f6d766c2f",
    "outputId": "e8d4d70b-5b0a-494e-a639-704c128bcb54"
   },
   "outputs": [],
   "source": [
    "cls, count = np.unique(y_train, return_counts=True)\n",
    "print(cls)\n",
    "print(count)"
   ]
  },
  {
   "cell_type": "code",
   "execution_count": null,
   "id": "941ed6d5",
   "metadata": {
    "colab": {
     "base_uri": "https://localhost:8080/"
    },
    "executionInfo": {
     "elapsed": 392,
     "status": "ok",
     "timestamp": 1634341570384,
     "user": {
      "displayName": "JKob San",
      "photoUrl": "https://lh3.googleusercontent.com/a-/AOh14GgnClMV_IVnXVunt7D1mXXMatSQTrEGp72MrhCIeQ=s64",
      "userId": "15910273739366067110"
     },
     "user_tz": -420
    },
    "id": "4c7f4d72-fe1f-4ac4-8e9e-0b53969686fe",
    "outputId": "bae28e56-8915-4b2c-fb2c-aae858bca812"
   },
   "outputs": [],
   "source": [
    "cls, count = np.unique(y_test, return_counts=True)\n",
    "print(cls)\n",
    "print(count)"
   ]
  },
  {
   "cell_type": "code",
   "execution_count": null,
   "id": "f64eafd7",
   "metadata": {
    "colab": {
     "base_uri": "https://localhost:8080/",
     "height": 318
    },
    "executionInfo": {
     "elapsed": 1399,
     "status": "ok",
     "timestamp": 1634341575384,
     "user": {
      "displayName": "JKob San",
      "photoUrl": "https://lh3.googleusercontent.com/a-/AOh14GgnClMV_IVnXVunt7D1mXXMatSQTrEGp72MrhCIeQ=s64",
      "userId": "15910273739366067110"
     },
     "user_tz": -420
    },
    "id": "45e0753f-835b-4565-84a1-72836d4c6240",
    "outputId": "a507fc21-23df-4db0-d867-96072af55781"
   },
   "outputs": [],
   "source": [
    "import matplotlib.pyplot as plt\n",
    "import seaborn as sns\n",
    "\n",
    "sns.countplot(y_train)\n",
    "\n",
    "plt.show()\n",
    "del sns"
   ]
  },
  {
   "cell_type": "code",
   "execution_count": null,
   "id": "b04f6811",
   "metadata": {
    "id": "07809778-4eec-4458-abc8-a359706383a4",
    "outputId": "495fb455-eca4-469d-ef11-4f2ac7be7e3d"
   },
   "outputs": [],
   "source": [
    "y_train[:15]"
   ]
  },
  {
   "cell_type": "code",
   "execution_count": null,
   "id": "f1be6688",
   "metadata": {
    "id": "66f2394d-dce0-4a06-9151-ec656d840ccb",
    "outputId": "f2c97245-b260-42f9-d483-be0d1c26c452"
   },
   "outputs": [],
   "source": [
    "X_train[0][:15]"
   ]
  },
  {
   "cell_type": "code",
   "execution_count": null,
   "id": "feb9a1fc",
   "metadata": {
    "id": "afd5887d-71a2-468a-ba29-be3cb0dbd846",
    "outputId": "3ee65142-51d9-4717-b331-533ff5cf3bc4"
   },
   "outputs": [],
   "source": [
    "print(X_train[0])"
   ]
  },
  {
   "cell_type": "code",
   "execution_count": null,
   "id": "4c5f7b35",
   "metadata": {
    "colab": {
     "base_uri": "https://localhost:8080/",
     "height": 204
    },
    "executionInfo": {
     "elapsed": 385,
     "status": "ok",
     "timestamp": 1634366468972,
     "user": {
      "displayName": "JKob San",
      "photoUrl": "https://lh3.googleusercontent.com/a-/AOh14GgnClMV_IVnXVunt7D1mXXMatSQTrEGp72MrhCIeQ=s64",
      "userId": "15910273739366067110"
     },
     "user_tz": -420
    },
    "id": "a38983ad-ed5a-42ec-aeff-c11168a55d3c",
    "outputId": "ced37857-195c-41fc-812c-31452a5c9224"
   },
   "outputs": [],
   "source": [
    "index = imdb.get_word_index()\n",
    "reverse_index = dict([(value, key) for (key, value) in index.items()]) \n",
    "\n",
    "decoded = \" \".join([reverse_index.get(i - 3, \"#\") for i in X_train[0]] )\n",
    "\n",
    "decoded"
   ]
  },
  {
   "cell_type": "code",
   "execution_count": null,
   "id": "98125920",
   "metadata": {
    "colab": {
     "base_uri": "https://localhost:8080/"
    },
    "executionInfo": {
     "elapsed": 2306,
     "status": "ok",
     "timestamp": 1634366614528,
     "user": {
      "displayName": "JKob San",
      "photoUrl": "https://lh3.googleusercontent.com/a-/AOh14GgnClMV_IVnXVunt7D1mXXMatSQTrEGp72MrhCIeQ=s64",
      "userId": "15910273739366067110"
     },
     "user_tz": -420
    },
    "id": "33cff436-4b66-469e-84f5-9c2dfaed5e26",
    "outputId": "fa85a1fc-3f82-4368-b904-a29ad2613004"
   },
   "outputs": [],
   "source": [
    "data = np.concatenate((X_train, X_test), axis=0)\n",
    "targets = np.concatenate((y_train, y_test), axis=0)\n",
    "\n",
    "print(\"Categories:\", np.unique(targets))\n",
    "print(\"Number of unique words:\", len(np.unique(np.hstack(data))))\n",
    "\n",
    "\n",
    "sents_len = [len(i) for i in data]\n",
    "print(\"Average Review length:\", np.mean(sents_len))\n",
    "print(\"Standard Deviation:\", round(np.std(sents_len)))\n",
    "print('Min length:', np.min(sents_len))\n",
    "print('Max length:', np.max(sents_len))"
   ]
  },
  {
   "cell_type": "code",
   "execution_count": null,
   "id": "d4aff06f",
   "metadata": {
    "colab": {
     "base_uri": "https://localhost:8080/",
     "height": 295
    },
    "executionInfo": {
     "elapsed": 379,
     "status": "ok",
     "timestamp": 1634366617643,
     "user": {
      "displayName": "JKob San",
      "photoUrl": "https://lh3.googleusercontent.com/a-/AOh14GgnClMV_IVnXVunt7D1mXXMatSQTrEGp72MrhCIeQ=s64",
      "userId": "15910273739366067110"
     },
     "user_tz": -420
    },
    "id": "pxpQcC62W3sw",
    "outputId": "be8967d8-6d3b-4167-a85a-026bc2a1fe20"
   },
   "outputs": [],
   "source": [
    "import pandas as pd\n",
    "\n",
    "df = pd.DataFrame(sents_len, columns=['words'])\n",
    "# df.head()\n",
    "df.describe().round(2)"
   ]
  },
  {
   "cell_type": "code",
   "execution_count": null,
   "id": "9682c473",
   "metadata": {
    "colab": {
     "base_uri": "https://localhost:8080/",
     "height": 281
    },
    "executionInfo": {
     "elapsed": 1192,
     "status": "ok",
     "timestamp": 1634366660845,
     "user": {
      "displayName": "JKob San",
      "photoUrl": "https://lh3.googleusercontent.com/a-/AOh14GgnClMV_IVnXVunt7D1mXXMatSQTrEGp72MrhCIeQ=s64",
      "userId": "15910273739366067110"
     },
     "user_tz": -420
    },
    "id": "bGcfAiLNX47x",
    "outputId": "d66edca2-308b-4d38-bf0b-552f06635791"
   },
   "outputs": [],
   "source": [
    "import matplotlib.pyplot as plt\n",
    "df.hist(bins=40)"
   ]
  },
  {
   "cell_type": "markdown",
   "id": "091e6f77",
   "metadata": {
    "id": "57bf6ee2-5151-4ace-8af5-f79f1bf621d9"
   },
   "source": [
    "Prepare"
   ]
  },
  {
   "cell_type": "code",
   "execution_count": null,
   "id": "3b909149",
   "metadata": {
    "colab": {
     "base_uri": "https://localhost:8080/"
    },
    "executionInfo": {
     "elapsed": 533,
     "status": "ok",
     "timestamp": 1634343733448,
     "user": {
      "displayName": "JKob San",
      "photoUrl": "https://lh3.googleusercontent.com/a-/AOh14GgnClMV_IVnXVunt7D1mXXMatSQTrEGp72MrhCIeQ=s64",
      "userId": "15910273739366067110"
     },
     "user_tz": -420
    },
    "id": "843586d2-e454-4bf3-8d89-127b4a625d80",
    "outputId": "0d693004-1a5a-4007-d58d-76f082574dc5"
   },
   "outputs": [],
   "source": [
    "max_len = 250 \n",
    "\n",
    "X_train = pad_sequences(X_train, truncating='post', padding='post', maxlen=max_len)\n",
    "X_test = pad_sequences(X_test, truncating='post', padding='post', maxlen=max_len)\n",
    "\n",
    "X_train[0].shape"
   ]
  },
  {
   "cell_type": "markdown",
   "id": "59e2fb73",
   "metadata": {
    "id": "cc84388d-eb76-4e0a-9365-856f7626c590"
   },
   "source": [
    " model"
   ]
  },
  {
   "cell_type": "code",
   "execution_count": null,
   "id": "881f9d4c",
   "metadata": {
    "colab": {
     "base_uri": "https://localhost:8080/"
    },
    "executionInfo": {
     "elapsed": 912,
     "status": "ok",
     "timestamp": 1634343738513,
     "user": {
      "displayName": "JKob San",
      "photoUrl": "https://lh3.googleusercontent.com/a-/AOh14GgnClMV_IVnXVunt7D1mXXMatSQTrEGp72MrhCIeQ=s64",
      "userId": "15910273739366067110"
     },
     "user_tz": -420
    },
    "id": "33e2cf83-aa05-445f-aee2-0eecb20af180",
    "outputId": "f64ab3c8-f661-4dac-af0a-2a449c99841b"
   },
   "outputs": [],
   "source": [
    "X_train.shape"
   ]
  },
  {
   "cell_type": "code",
   "execution_count": null,
   "id": "2f8360da",
   "metadata": {
    "colab": {
     "base_uri": "https://localhost:8080/"
    },
    "executionInfo": {
     "elapsed": 1194,
     "status": "ok",
     "timestamp": 1634343776269,
     "user": {
      "displayName": "JKob San",
      "photoUrl": "https://lh3.googleusercontent.com/a-/AOh14GgnClMV_IVnXVunt7D1mXXMatSQTrEGp72MrhCIeQ=s64",
      "userId": "15910273739366067110"
     },
     "user_tz": -420
    },
    "id": "2b7543c2-df61-4f3e-b949-371324d6bfcd",
    "outputId": "473f9b5f-6472-4465-b0a0-8a6119a117e4"
   },
   "outputs": [],
   "source": [
    "vocab_len = 90000\n",
    "embed_size = 100 \n",
    "\n",
    "\n",
    "model=Sequential()\n",
    "model.add(Embedding(vocab_len, embed_size, input_shape=(X_train.shape[1],)))\n",
    "\n",
    "model.add(Bidirectional(GRU(units=128, activation='tanh')))\n",
    "model.add(Dense(units=1, activation='sigmoid'))\n",
    "model.summary()"
   ]
  },
  {
   "cell_type": "code",
   "execution_count": null,
   "id": "de26ff15",
   "metadata": {
    "id": "ba110dd4-2cab-44d1-8a6a-505f8a0d0b5b"
   },
   "outputs": [],
   "source": [
    "model.compile(optimizer='adam', loss='binary_crossentropy', metrics=['accuracy']) "
   ]
  },
  {
   "cell_type": "code",
   "execution_count": null,
   "id": "0b520610",
   "metadata": {
    "colab": {
     "base_uri": "https://localhost:8080/"
    },
    "executionInfo": {
     "elapsed": 325720,
     "status": "ok",
     "timestamp": 1634344106286,
     "user": {
      "displayName": "JKob San",
      "photoUrl": "https://lh3.googleusercontent.com/a-/AOh14GgnClMV_IVnXVunt7D1mXXMatSQTrEGp72MrhCIeQ=s64",
      "userId": "15910273739366067110"
     },
     "user_tz": -420
    },
    "id": "53667280-1671-4f72-b5fa-0996cd9cd8ca",
    "outputId": "81b2891a-73d8-4101-9952-12abc3b00ee7"
   },
   "outputs": [],
   "source": [
    "history = model.fit(X_train, y_train, epochs=10, batch_size=128,\n",
    "                    verbose=1, validation_data=(X_test, y_test))"
   ]
  },
  {
   "cell_type": "code",
   "execution_count": null,
   "id": "45a2e7ae",
   "metadata": {
    "colab": {
     "base_uri": "https://localhost:8080/"
    },
    "executionInfo": {
     "elapsed": 34946,
     "status": "ok",
     "timestamp": 1634343123237,
     "user": {
      "displayName": "JKob San",
      "photoUrl": "https://lh3.googleusercontent.com/a-/AOh14GgnClMV_IVnXVunt7D1mXXMatSQTrEGp72MrhCIeQ=s64",
      "userId": "15910273739366067110"
     },
     "user_tz": -420
    },
    "id": "03f6e622-5658-4c96-acdc-cf28cba627e2",
    "outputId": "f768ce82-5d07-4a1d-db25-ce7ee0e746ab"
   },
   "outputs": [],
   "source": [
    "loss, acurracy = model.evaluate(X_test, y_test)\n",
    "print(\"Test accuracy: {:.3f}\".format(acurracy))"
   ]
  },
  {
   "cell_type": "code",
   "execution_count": null,
   "id": "534265d9",
   "metadata": {
    "colab": {
     "base_uri": "https://localhost:8080/",
     "height": 261
    },
    "executionInfo": {
     "elapsed": 1251,
     "status": "ok",
     "timestamp": 1634344116330,
     "user": {
      "displayName": "JKob San",
      "photoUrl": "https://lh3.googleusercontent.com/a-/AOh14GgnClMV_IVnXVunt7D1mXXMatSQTrEGp72MrhCIeQ=s64",
      "userId": "15910273739366067110"
     },
     "user_tz": -420
    },
    "id": "9f274ff2-7cc8-4239-9429-d82a7e1154fd",
    "outputId": "62ea0d6d-6d20-4cef-a566-1446b192af65"
   },
   "outputs": [],
   "source": [
    "import matplotlib.pyplot as plt\n",
    "\n",
    "plt.figure(figsize=(10, 3.5))\n",
    "plt.subplot(1, 2, 1)\n",
    "plt.title('Loss')\n",
    "plt.plot(history.history['loss'], label='Training Loss')\n",
    "plt.plot(history.history['val_loss'],'r', lw=3.2, label='Validation loss')\n",
    "plt.legend()\n",
    "\n",
    "plt.subplot(1, 2, 2)\n",
    "plt.title('Accuracy')\n",
    "plt.plot(history.history['accuracy'], label='Training')\n",
    "plt.plot(history.history['val_accuracy'], 'r', lw=3.2, label='Validation')\n",
    "plt.legend()\n",
    "plt.show()"
   ]
  },
  {
   "cell_type": "code",
   "execution_count": null,
   "id": "fee6e9e1",
   "metadata": {
    "id": "0aef2003-e977-4c2a-b27a-9f8d7d6fb100"
   },
   "outputs": [],
   "source": []
  }
 ],
 "metadata": {
  "colab": {
   "name": "Sentiment IMDB data_imdb.ipynb",
   "version": ""
  },
  "kernelspec": {
   "display_name": "Python 3 (ipykernel)",
   "language": "python",
   "name": "python3"
  },
  "language_info": {
   "codemirror_mode": {
    "name": "ipython",
    "version": 3
   },
   "file_extension": ".py",
   "mimetype": "text/x-python",
   "name": "python",
   "nbconvert_exporter": "python",
   "pygments_lexer": "ipython3",
   "version": "3.9.7"
  }
 },
 "nbformat": 4,
 "nbformat_minor": 5
}
