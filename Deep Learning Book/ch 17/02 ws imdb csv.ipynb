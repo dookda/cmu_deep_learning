{
 "cells": [
  {
   "cell_type": "markdown",
   "metadata": {
    "id": "Xkf244BTRIn0"
   },
   "source": [
    "# ws 02 IMDB csv\n",
    "\n",
    "- download csv - https://www.kaggle.com/lakshmi25npathi/imdb-dataset-of-50k-movie-reviews/version/1\n"
   ]
  },
  {
   "cell_type": "code",
   "execution_count": null,
   "metadata": {
    "colab": {
     "base_uri": "https://localhost:8080/"
    },
    "executionInfo": {
     "elapsed": 415,
     "status": "ok",
     "timestamp": 1634955517775,
     "user": {
      "displayName": "JKob San",
      "photoUrl": "https://lh3.googleusercontent.com/a-/AOh14GgnClMV_IVnXVunt7D1mXXMatSQTrEGp72MrhCIeQ=s64",
      "userId": "15910273739366067110"
     },
     "user_tz": -420
    },
    "id": "U-8RnUVzRpOY",
    "outputId": "144e8767-69b7-4b71-990e-8e469deb12fe"
   },
   "outputs": [],
   "source": [
    "import numpy as np\n",
    "import pandas as pd\n",
    "import gensim\n",
    "from keras.preprocessing.text import Tokenizer\n",
    "from keras.preprocessing.sequence import pad_sequences\n",
    "from keras.models import Sequential\n",
    "from keras.layers import Embedding, Bidirectional, GRU, LSTM, Dense\n",
    "\n",
    "gensim.__version__ , np.__version__"
   ]
  },
  {
   "cell_type": "code",
   "execution_count": null,
   "metadata": {
    "colab": {
     "base_uri": "https://localhost:8080/"
    },
    "executionInfo": {
     "elapsed": 3306,
     "status": "ok",
     "timestamp": 1634955495824,
     "user": {
      "displayName": "JKob San",
      "photoUrl": "https://lh3.googleusercontent.com/a-/AOh14GgnClMV_IVnXVunt7D1mXXMatSQTrEGp72MrhCIeQ=s64",
      "userId": "15910273739366067110"
     },
     "user_tz": -420
    },
    "id": "s6WLNGHkPeIH",
    "outputId": "c3571dad-25fe-42cf-9c54-25eba7c08073"
   },
   "outputs": [],
   "source": [
    "!pip install --upgrade gensim"
   ]
  },
  {
   "cell_type": "markdown",
   "metadata": {
    "id": "1u8B1GRndwp7"
   },
   "source": [
    "## Load pre-trained"
   ]
  },
  {
   "cell_type": "code",
   "execution_count": null,
   "metadata": {
    "colab": {
     "base_uri": "https://localhost:8080/"
    },
    "executionInfo": {
     "elapsed": 115377,
     "status": "ok",
     "timestamp": 1634364064032,
     "user": {
      "displayName": "JKob San",
      "photoUrl": "https://lh3.googleusercontent.com/a-/AOh14GgnClMV_IVnXVunt7D1mXXMatSQTrEGp72MrhCIeQ=s64",
      "userId": "15910273739366067110"
     },
     "user_tz": -420
    },
    "id": "w52dzVwAkyA3",
    "outputId": "21eceaf3-fb7d-46fd-ab7e-7cf20c06e83f"
   },
   "outputs": [],
   "source": [
    "import gensim.downloader as api\n",
    "\n",
    "wv = api.load('glove-wiki-gigaword-100')   \n",
    "wv"
   ]
  },
  {
   "cell_type": "code",
   "execution_count": null,
   "metadata": {
    "colab": {
     "base_uri": "https://localhost:8080/"
    },
    "executionInfo": {
     "elapsed": 326,
     "status": "ok",
     "timestamp": 1634364122343,
     "user": {
      "displayName": "JKob San",
      "photoUrl": "https://lh3.googleusercontent.com/a-/AOh14GgnClMV_IVnXVunt7D1mXXMatSQTrEGp72MrhCIeQ=s64",
      "userId": "15910273739366067110"
     },
     "user_tz": -420
    },
    "id": "i56eFK59_lBp",
    "outputId": "eea3ee01-e8b7-4172-d76c-197989b1eb06"
   },
   "outputs": [],
   "source": [
    "len(wv.index_to_key)"
   ]
  },
  {
   "cell_type": "code",
   "execution_count": null,
   "metadata": {
    "colab": {
     "base_uri": "https://localhost:8080/"
    },
    "executionInfo": {
     "elapsed": 312,
     "status": "ok",
     "timestamp": 1634364124500,
     "user": {
      "displayName": "JKob San",
      "photoUrl": "https://lh3.googleusercontent.com/a-/AOh14GgnClMV_IVnXVunt7D1mXXMatSQTrEGp72MrhCIeQ=s64",
      "userId": "15910273739366067110"
     },
     "user_tz": -420
    },
    "id": "rRRI2NFf_pq6",
    "outputId": "3e9a3817-0b0c-4398-88dd-3c5a536a0739"
   },
   "outputs": [],
   "source": [
    "wv.vector_size"
   ]
  },
  {
   "cell_type": "code",
   "execution_count": null,
   "metadata": {
    "colab": {
     "base_uri": "https://localhost:8080/"
    },
    "executionInfo": {
     "elapsed": 323,
     "status": "ok",
     "timestamp": 1634364127296,
     "user": {
      "displayName": "JKob San",
      "photoUrl": "https://lh3.googleusercontent.com/a-/AOh14GgnClMV_IVnXVunt7D1mXXMatSQTrEGp72MrhCIeQ=s64",
      "userId": "15910273739366067110"
     },
     "user_tz": -420
    },
    "id": "-WqjD2AKlqPp",
    "outputId": "33a98a6a-3891-4a96-b19a-c0d181ed1df7"
   },
   "outputs": [],
   "source": [
    "wv.similar_by_word('horrible')"
   ]
  },
  {
   "cell_type": "code",
   "execution_count": null,
   "metadata": {
    "colab": {
     "base_uri": "https://localhost:8080/"
    },
    "executionInfo": {
     "elapsed": 356,
     "status": "ok",
     "timestamp": 1634345614285,
     "user": {
      "displayName": "JKob San",
      "photoUrl": "https://lh3.googleusercontent.com/a-/AOh14GgnClMV_IVnXVunt7D1mXXMatSQTrEGp72MrhCIeQ=s64",
      "userId": "15910273739366067110"
     },
     "user_tz": -420
    },
    "id": "a7cRbWIPi3zo",
    "outputId": "38985074-a9d4-476d-d023-13a3eb2bc99d"
   },
   "outputs": [],
   "source": [
    "wv.similar_by_word('movie')"
   ]
  },
  {
   "cell_type": "code",
   "execution_count": null,
   "metadata": {
    "colab": {
     "base_uri": "https://localhost:8080/"
    },
    "executionInfo": {
     "elapsed": 424,
     "status": "ok",
     "timestamp": 1634345616867,
     "user": {
      "displayName": "JKob San",
      "photoUrl": "https://lh3.googleusercontent.com/a-/AOh14GgnClMV_IVnXVunt7D1mXXMatSQTrEGp72MrhCIeQ=s64",
      "userId": "15910273739366067110"
     },
     "user_tz": -420
    },
    "id": "sttMOeGvjVtL",
    "outputId": "cad0ad5f-8476-4e4e-c68b-219a993f225f"
   },
   "outputs": [],
   "source": [
    "wv.most_similar('crap',topn=8)"
   ]
  },
  {
   "cell_type": "markdown",
   "metadata": {},
   "source": [
    " Upload CSV"
   ]
  },
  {
   "cell_type": "code",
   "execution_count": null,
   "metadata": {
    "colab": {
     "base_uri": "https://localhost:8080/",
     "height": 90,
     "resources": {
      "http://localhost:8080/nbextensions/google.colab/files.js": {
       "data": "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",
       "headers": [
        [
         "content-type",
         "application/javascript"
        ]
       ],
       "ok": true,
       "status": 200,
       "status_text": ""
      }
     }
    },
    "executionInfo": {
     "elapsed": 852341,
     "status": "ok",
     "timestamp": 1634369317000,
     "user": {
      "displayName": "JKob San",
      "photoUrl": "https://lh3.googleusercontent.com/a-/AOh14GgnClMV_IVnXVunt7D1mXXMatSQTrEGp72MrhCIeQ=s64",
      "userId": "15910273739366067110"
     },
     "user_tz": -420
    },
    "id": "7tZuPpwqBi2M",
    "outputId": "6657174d-8844-42f5-a333-cc1d99e57fac"
   },
   "outputs": [],
   "source": [
    "# upload IMDb CSV\n",
    "from google.colab import files\n",
    "\n",
    "uploaded = files.upload()\n",
    "%ls"
   ]
  },
  {
   "cell_type": "code",
   "execution_count": null,
   "metadata": {
    "id": "-X-1SXr-noTZ"
   },
   "outputs": [],
   "source": [
    "df = pd.read_csv('IMDB Dataset.csv', encoding='utf-8') \n",
    "df.head()"
   ]
  },
  {
   "cell_type": "code",
   "execution_count": null,
   "metadata": {
    "colab": {
     "base_uri": "https://localhost:8080/",
     "height": 359
    },
    "executionInfo": {
     "elapsed": 359,
     "status": "ok",
     "timestamp": 1634963352378,
     "user": {
      "displayName": "JKob San",
      "photoUrl": "https://lh3.googleusercontent.com/a-/AOh14GgnClMV_IVnXVunt7D1mXXMatSQTrEGp72MrhCIeQ=s64",
      "userId": "15910273739366067110"
     },
     "user_tz": -420
    },
    "id": "ZsHWDnzpqKvw",
    "outputId": "ecf945e1-f2e5-4262-e303-e7a6151d8226"
   },
   "outputs": [],
   "source": [
    "df['label'] = np.where(df.sentiment == 'positive', 1, 0)\n",
    "df.sample(10)"
   ]
  },
  {
   "cell_type": "markdown",
   "metadata": {
    "id": "G9_gH3qDbMKb"
   },
   "source": [
    " Preprocess and Tokenizer"
   ]
  },
  {
   "cell_type": "code",
   "execution_count": null,
   "metadata": {
    "executionInfo": {
     "elapsed": 395,
     "status": "ok",
     "timestamp": 1634963363917,
     "user": {
      "displayName": "JKob San",
      "photoUrl": "https://lh3.googleusercontent.com/a-/AOh14GgnClMV_IVnXVunt7D1mXXMatSQTrEGp72MrhCIeQ=s64",
      "userId": "15910273739366067110"
     },
     "user_tz": -420
    },
    "id": "xYxh1-lnBzbc"
   },
   "outputs": [],
   "source": [
    "df['review2'] = df.review.str.lower()"
   ]
  },
  {
   "cell_type": "code",
   "execution_count": null,
   "metadata": {
    "colab": {
     "base_uri": "https://localhost:8080/",
     "height": 173
    },
    "executionInfo": {
     "elapsed": 861,
     "status": "ok",
     "timestamp": 1634963367028,
     "user": {
      "displayName": "JKob San",
      "photoUrl": "https://lh3.googleusercontent.com/a-/AOh14GgnClMV_IVnXVunt7D1mXXMatSQTrEGp72MrhCIeQ=s64",
      "userId": "15910273739366067110"
     },
     "user_tz": -420
    },
    "id": "aJJmPzdvMje4",
    "outputId": "56d07963-e0ea-43b7-8cf8-ee2e951a05de"
   },
   "outputs": [],
   "source": [
    "df.iloc[[1,25319,19574,49804]]"
   ]
  },
  {
   "cell_type": "code",
   "execution_count": null,
   "metadata": {
    "executionInfo": {
     "elapsed": 14752,
     "status": "ok",
     "timestamp": 1634963383819,
     "user": {
      "displayName": "JKob San",
      "photoUrl": "https://lh3.googleusercontent.com/a-/AOh14GgnClMV_IVnXVunt7D1mXXMatSQTrEGp72MrhCIeQ=s64",
      "userId": "15910273739366067110"
     },
     "user_tz": -420
    },
    "id": "04ua24CGHDQi"
   },
   "outputs": [],
   "source": [
    "# !pip install beautifulsoup4\n",
    "from bs4 import BeautifulSoup\n",
    "\n",
    "def remove_tag(x):\n",
    "    soup = BeautifulSoup(x)\n",
    "    return soup.get_text()\n",
    "\n",
    "df['review2'] = df.review2.apply(remove_tag)"
   ]
  },
  {
   "cell_type": "code",
   "execution_count": null,
   "metadata": {
    "executionInfo": {
     "elapsed": 2327,
     "status": "ok",
     "timestamp": 1634963387707,
     "user": {
      "displayName": "JKob San",
      "photoUrl": "https://lh3.googleusercontent.com/a-/AOh14GgnClMV_IVnXVunt7D1mXXMatSQTrEGp72MrhCIeQ=s64",
      "userId": "15910273739366067110"
     },
     "user_tz": -420
    },
    "id": "BFuSUQQv-m6Z"
   },
   "outputs": [],
   "source": [
    "from gensim.parsing.preprocessing import remove_stopwords\n",
    "df['review2'] = df.review2.apply(remove_stopwords) # "
   ]
  },
  {
   "cell_type": "code",
   "execution_count": null,
   "metadata": {
    "executionInfo": {
     "elapsed": 5936,
     "status": "ok",
     "timestamp": 1634955594654,
     "user": {
      "displayName": "JKob San",
      "photoUrl": "https://lh3.googleusercontent.com/a-/AOh14GgnClMV_IVnXVunt7D1mXXMatSQTrEGp72MrhCIeQ=s64",
      "userId": "15910273739366067110"
     },
     "user_tz": -420
    },
    "id": "RAhUgibsqKf2"
   },
   "outputs": [],
   "source": [
    "tk = Tokenizer() # \n",
    "\n",
    "tk.fit_on_texts(df.review2)  "
   ]
  },
  {
   "cell_type": "code",
   "execution_count": null,
   "metadata": {
    "id": "haO4edKJ8l5p"
   },
   "outputs": [],
   "source": [
    "tk.word_index\n"
   ]
  },
  {
   "cell_type": "code",
   "execution_count": null,
   "metadata": {
    "colab": {
     "base_uri": "https://localhost:8080/"
    },
    "executionInfo": {
     "elapsed": 343,
     "status": "ok",
     "timestamp": 1634530205298,
     "user": {
      "displayName": "JKob San",
      "photoUrl": "https://lh3.googleusercontent.com/a-/AOh14GgnClMV_IVnXVunt7D1mXXMatSQTrEGp72MrhCIeQ=s64",
      "userId": "15910273739366067110"
     },
     "user_tz": -420
    },
    "id": "-gNM7hH6M29A",
    "outputId": "4be035ac-4cc3-4885-a926-d835fddc1494"
   },
   "outputs": [],
   "source": [
    "tk.word_index['this']\n",
    "testwords = ['this','movie','is','great']\n",
    "testwords = ['i','like','this','movie']\n",
    "for i in testwords:\n",
    "    print(tk.word_index[i])\n",
    "\n",
    "[tk.word_index[w] for w in testwords]"
   ]
  },
  {
   "cell_type": "code",
   "execution_count": null,
   "metadata": {
    "colab": {
     "base_uri": "https://localhost:8080/"
    },
    "executionInfo": {
     "elapsed": 386,
     "status": "ok",
     "timestamp": 1634530213040,
     "user": {
      "displayName": "JKob San",
      "photoUrl": "https://lh3.googleusercontent.com/a-/AOh14GgnClMV_IVnXVunt7D1mXXMatSQTrEGp72MrhCIeQ=s64",
      "userId": "15910273739366067110"
     },
     "user_tz": -420
    },
    "id": "zRaC2_9irVBu",
    "outputId": "e8eb5b4a-2f1c-45ae-8221-8eaba009ebc9"
   },
   "outputs": [],
   "source": [
    "vocab_size = len(tk.word_index)+1\n",
    "vocab_size      # "
   ]
  },
  {
   "cell_type": "code",
   "execution_count": null,
   "metadata": {
    "id": "nyuz1g0RrWbO"
   },
   "outputs": [],
   "source": [
    "sents_enc = tk.texts_to_sequences(df.review2)"
   ]
  },
  {
   "cell_type": "code",
   "execution_count": null,
   "metadata": {
    "colab": {
     "base_uri": "https://localhost:8080/"
    },
    "executionInfo": {
     "elapsed": 382,
     "status": "ok",
     "timestamp": 1634530229306,
     "user": {
      "displayName": "JKob San",
      "photoUrl": "https://lh3.googleusercontent.com/a-/AOh14GgnClMV_IVnXVunt7D1mXXMatSQTrEGp72MrhCIeQ=s64",
      "userId": "15910273739366067110"
     },
     "user_tz": -420
    },
    "id": "OwuzW1Vnrg6f",
    "outputId": "f0565a98-56ac-4cd5-a01c-d3493fdbf616"
   },
   "outputs": [],
   "source": [
    "sents_enc[1][:15]"
   ]
  },
  {
   "cell_type": "code",
   "execution_count": null,
   "metadata": {
    "colab": {
     "base_uri": "https://localhost:8080/"
    },
    "executionInfo": {
     "elapsed": 407,
     "status": "ok",
     "timestamp": 1634530232451,
     "user": {
      "displayName": "JKob San",
      "photoUrl": "https://lh3.googleusercontent.com/a-/AOh14GgnClMV_IVnXVunt7D1mXXMatSQTrEGp72MrhCIeQ=s64",
      "userId": "15910273739366067110"
     },
     "user_tz": -420
    },
    "id": "48-h-nACYPNn",
    "outputId": "c2f76f5b-800c-401e-f210-e1828d5c22fc"
   },
   "outputs": [],
   "source": [
    "sents_len = [len(i) for i in sents_enc]\n",
    "\n",
    "print(\"Average Review length:\", np.mean(sents_len))\n",
    "print(\"Standard Deviation:\", round(np.std(sents_len)))\n",
    "print('Min length:', np.min(sents_len))\n",
    "print('Max length:', np.max(sents_len))"
   ]
  },
  {
   "cell_type": "code",
   "execution_count": null,
   "metadata": {
    "colab": {
     "base_uri": "https://localhost:8080/"
    },
    "executionInfo": {
     "elapsed": 425,
     "status": "ok",
     "timestamp": 1634530236132,
     "user": {
      "displayName": "JKob San",
      "photoUrl": "https://lh3.googleusercontent.com/a-/AOh14GgnClMV_IVnXVunt7D1mXXMatSQTrEGp72MrhCIeQ=s64",
      "userId": "15910273739366067110"
     },
     "user_tz": -420
    },
    "id": "jZKG7vJRWos5",
    "outputId": "548d1f91-9ba7-4899-fc86-9d50ff253b0e"
   },
   "outputs": [],
   "source": [
    "sents_len[:5]"
   ]
  },
  {
   "cell_type": "code",
   "execution_count": null,
   "metadata": {
    "colab": {
     "base_uri": "https://localhost:8080/",
     "height": 203
    },
    "executionInfo": {
     "elapsed": 395,
     "status": "ok",
     "timestamp": 1634530238340,
     "user": {
      "displayName": "JKob San",
      "photoUrl": "https://lh3.googleusercontent.com/a-/AOh14GgnClMV_IVnXVunt7D1mXXMatSQTrEGp72MrhCIeQ=s64",
      "userId": "15910273739366067110"
     },
     "user_tz": -420
    },
    "id": "mJ8LHF6uW1CT",
    "outputId": "aa7e7539-c1e9-4048-c245-6574d8e8b405"
   },
   "outputs": [],
   "source": [
    "import pandas as pd\n",
    "df2 = pd.DataFrame(sents_len, columns=['words'])\n",
    "df2.describe().round(2)\n",
    "df2.head()"
   ]
  },
  {
   "cell_type": "code",
   "execution_count": null,
   "metadata": {
    "colab": {
     "base_uri": "https://localhost:8080/",
     "height": 314
    },
    "executionInfo": {
     "elapsed": 1360,
     "status": "ok",
     "timestamp": 1634530242688,
     "user": {
      "displayName": "JKob San",
      "photoUrl": "https://lh3.googleusercontent.com/a-/AOh14GgnClMV_IVnXVunt7D1mXXMatSQTrEGp72MrhCIeQ=s64",
      "userId": "15910273739366067110"
     },
     "user_tz": -420
    },
    "id": "n6_hMhXAXGd4",
    "outputId": "68921453-c548-4c5d-a0ce-7368541a6990"
   },
   "outputs": [],
   "source": [
    "df2.hist(bins=50)"
   ]
  },
  {
   "cell_type": "code",
   "execution_count": null,
   "metadata": {
    "colab": {
     "base_uri": "https://localhost:8080/"
    },
    "executionInfo": {
     "elapsed": 479,
     "status": "ok",
     "timestamp": 1634530244999,
     "user": {
      "displayName": "JKob San",
      "photoUrl": "https://lh3.googleusercontent.com/a-/AOh14GgnClMV_IVnXVunt7D1mXXMatSQTrEGp72MrhCIeQ=s64",
      "userId": "15910273739366067110"
     },
     "user_tz": -420
    },
    "id": "jnDJD4TLZPuM",
    "outputId": "b51247fa-be5c-462a-979d-c81224e4baee"
   },
   "outputs": [],
   "source": [
    "sents_len[:10]"
   ]
  },
  {
   "cell_type": "code",
   "execution_count": null,
   "metadata": {
    "id": "vwnqSnt8rnjC"
   },
   "outputs": [],
   "source": [
    "max_len = 200 # "
   ]
  },
  {
   "cell_type": "code",
   "execution_count": null,
   "metadata": {
    "id": "9N83mJ1drvmT"
   },
   "outputs": [],
   "source": [
    "sents_pad = pad_sequences(sents_enc, truncating='post', padding='post', maxlen=max_len)"
   ]
  },
  {
   "cell_type": "code",
   "execution_count": null,
   "metadata": {
    "colab": {
     "base_uri": "https://localhost:8080/"
    },
    "executionInfo": {
     "elapsed": 321,
     "status": "ok",
     "timestamp": 1634364962222,
     "user": {
      "displayName": "JKob San",
      "photoUrl": "https://lh3.googleusercontent.com/a-/AOh14GgnClMV_IVnXVunt7D1mXXMatSQTrEGp72MrhCIeQ=s64",
      "userId": "15910273739366067110"
     },
     "user_tz": -420
    },
    "id": "PxFwe5cnryx7",
    "outputId": "bba58d56-e94e-4df5-b7b1-93989986f74c"
   },
   "outputs": [],
   "source": [
    "check_reviews = sents_pad[:2]\n",
    "tk.sequences_to_texts(check_reviews)  # "
   ]
  },
  {
   "cell_type": "markdown",
   "metadata": {
    "id": "gdPq7eXmSY2w"
   },
   "source": [
    "### save and load Tokenizer tk"
   ]
  },
  {
   "cell_type": "code",
   "execution_count": null,
   "metadata": {
    "id": "6vYGf6-ASOjm"
   },
   "outputs": [],
   "source": [
    "import pickle\n",
    "\n",
    "with open('IMDB_tokenizer.pickle', 'wb') as handle:\n",
    "    pickle.dump(tk, handle, protocol=pickle.HIGHEST_PROTOCOL)"
   ]
  },
  {
   "cell_type": "code",
   "execution_count": null,
   "metadata": {
    "id": "Segm5BFHSXd5"
   },
   "outputs": [],
   "source": [
    "# load\n",
    "with open('IMDB_tokenizer.pickle', 'rb') as handle:\n",
    "    tk2 = pickle.load(handle)"
   ]
  },
  {
   "cell_type": "markdown",
   "metadata": {
    "id": "ktX1t8SWnXps"
   },
   "source": [
    "# Train test"
   ]
  },
  {
   "cell_type": "code",
   "execution_count": null,
   "metadata": {
    "colab": {
     "base_uri": "https://localhost:8080/",
     "height": 195
    },
    "executionInfo": {
     "elapsed": 312,
     "status": "error",
     "timestamp": 1634533776098,
     "user": {
      "displayName": "JKob San",
      "photoUrl": "https://lh3.googleusercontent.com/a-/AOh14GgnClMV_IVnXVunt7D1mXXMatSQTrEGp72MrhCIeQ=s64",
      "userId": "15910273739366067110"
     },
     "user_tz": -420
    },
    "id": "Q9GqQIf6r2XH",
    "outputId": "a7b84bff-818a-42f7-c3c3-fc1ed65126bb"
   },
   "outputs": [],
   "source": [
    "from sklearn.model_selection import train_test_split\n",
    "\n",
    "X_train, X_test, y_train, y_test = train_test_split(sents_pad, df.label, test_size=.5, random_state=1)"
   ]
  },
  {
   "cell_type": "code",
   "execution_count": null,
   "metadata": {
    "colab": {
     "base_uri": "https://localhost:8080/"
    },
    "executionInfo": {
     "elapsed": 308,
     "status": "ok",
     "timestamp": 1634364970525,
     "user": {
      "displayName": "JKob San",
      "photoUrl": "https://lh3.googleusercontent.com/a-/AOh14GgnClMV_IVnXVunt7D1mXXMatSQTrEGp72MrhCIeQ=s64",
      "userId": "15910273739366067110"
     },
     "user_tz": -420
    },
    "id": "xaAJ3GLPr3rj",
    "outputId": "d49719e3-dcc6-40d9-c74c-b31b56665aea"
   },
   "outputs": [],
   "source": [
    "X_train.shape, X_test.shape"
   ]
  },
  {
   "cell_type": "markdown",
   "metadata": {
    "id": "h4VDSv2ZnuMT"
   },
   "source": [
    "## Embedding matrix"
   ]
  },
  {
   "cell_type": "code",
   "execution_count": null,
   "metadata": {
    "colab": {
     "base_uri": "https://localhost:8080/"
    },
    "executionInfo": {
     "elapsed": 1529,
     "status": "ok",
     "timestamp": 1634364975106,
     "user": {
      "displayName": "JKob San",
      "photoUrl": "https://lh3.googleusercontent.com/a-/AOh14GgnClMV_IVnXVunt7D1mXXMatSQTrEGp72MrhCIeQ=s64",
      "userId": "15910273739366067110"
     },
     "user_tz": -420
    },
    "id": "1lGGJYs0tGBE",
    "outputId": "a93636b7-bbcc-4604-bedb-cec1b974bcc6"
   },
   "outputs": [],
   "source": [
    "embed_size = wv.vector_size  #   \n",
    "\n",
    "embedding_matrix = np.zeros((vocab_size, embed_size))\n",
    "for word, i in tk.word_index.items():\n",
    "    if i>=vocab_size: \n",
    "        continue\n",
    "    try:\n",
    "        embedding_vector = wv[word]\n",
    "        embedding_matrix[i] = embedding_vector[:embed_size]\n",
    "    except KeyError:\n",
    "        embedding_matrix[i]=np.random.normal(0,np.sqrt(0.25), embed_size)\n",
    "\n",
    "embedding_matrix.shape"
   ]
  },
  {
   "cell_type": "code",
   "execution_count": null,
   "metadata": {
    "colab": {
     "base_uri": "https://localhost:8080/"
    },
    "executionInfo": {
     "elapsed": 312,
     "status": "ok",
     "timestamp": 1634364979026,
     "user": {
      "displayName": "JKob San",
      "photoUrl": "https://lh3.googleusercontent.com/a-/AOh14GgnClMV_IVnXVunt7D1mXXMatSQTrEGp72MrhCIeQ=s64",
      "userId": "15910273739366067110"
     },
     "user_tz": -420
    },
    "id": "Ovc0_niYtobv",
    "outputId": "c0db9e3a-18f8-476c-bd9f-f6fb6297d86b"
   },
   "outputs": [],
   "source": [
    "embedding_matrix.shape"
   ]
  },
  {
   "cell_type": "code",
   "execution_count": null,
   "metadata": {
    "id": "CsnhjGfCn_I0"
   },
   "outputs": [],
   "source": [
    "embedding_matrix[0][:25]"
   ]
  },
  {
   "cell_type": "markdown",
   "metadata": {
    "id": "ZIBT3L8VN4ig"
   },
   "source": [
    "Model"
   ]
  },
  {
   "cell_type": "markdown",
   "metadata": {
    "id": "IR_4XWdJwd_Q"
   },
   "source": [
    "#### LSTM"
   ]
  },
  {
   "cell_type": "code",
   "execution_count": null,
   "metadata": {
    "colab": {
     "base_uri": "https://localhost:8080/"
    },
    "executionInfo": {
     "elapsed": 873,
     "status": "ok",
     "timestamp": 1634365242072,
     "user": {
      "displayName": "JKob San",
      "photoUrl": "https://lh3.googleusercontent.com/a-/AOh14GgnClMV_IVnXVunt7D1mXXMatSQTrEGp72MrhCIeQ=s64",
      "userId": "15910273739366067110"
     },
     "user_tz": -420
    },
    "id": "cP4M8P-_vN6C",
    "outputId": "0ee098ca-333f-4564-9343-2f017c47dfe1"
   },
   "outputs": [],
   "source": [
    "# model=Sequential()\n",
    "# model.add(Embedding(vocab_size, embed_size, \n",
    "#                      weights=[embedding_matrix],\n",
    "#                      trainable=True # False #,\n",
    "#                 #    input_shape=(X_train.shape[1],) #\n",
    "#                     ))\n",
    "# # model.add(LSTM(units=128, activation='tanh'))\n",
    "# model.add(Bidirectional(LSTM(units=128, activation='tanh')))\n",
    "# model.add(Dense(units=1, activation='sigmoid'))\n",
    "# model.summary()"
   ]
  },
  {
   "cell_type": "markdown",
   "metadata": {
    "id": "CVwe_64zzg5U"
   },
   "source": [
    "#### GRU"
   ]
  },
  {
   "cell_type": "code",
   "execution_count": null,
   "metadata": {
    "colab": {
     "base_uri": "https://localhost:8080/"
    },
    "executionInfo": {
     "elapsed": 7205,
     "status": "ok",
     "timestamp": 1634364456750,
     "user": {
      "displayName": "JKob San",
      "photoUrl": "https://lh3.googleusercontent.com/a-/AOh14GgnClMV_IVnXVunt7D1mXXMatSQTrEGp72MrhCIeQ=s64",
      "userId": "15910273739366067110"
     },
     "user_tz": -420
    },
    "id": "qESFAsjpxo5E",
    "outputId": "71da3f35-b6cf-4f4b-8ea8-7a03b6722746"
   },
   "outputs": [],
   "source": [
    "from keras.layers import GRU, Bidirectional\n",
    "\n",
    "model=Sequential()\n",
    "model.add(Embedding(vocab_size, embed_size, \n",
    "                     weights=[embedding_matrix],\n",
    "                     trainable=True \n",
    "                #    input_shape=(X_train.shape[1],) # \n",
    "                    ))\n",
    "model.add(Bidirectional(GRU(units=128, activation='tanh')))\n",
    "model.add(Dense(units=1, activation='sigmoid'))\n",
    "model.summary()"
   ]
  },
  {
   "cell_type": "code",
   "execution_count": null,
   "metadata": {
    "colab": {
     "base_uri": "https://localhost:8080/"
    },
    "executionInfo": {
     "elapsed": 145669,
     "status": "ok",
     "timestamp": 1634365396475,
     "user": {
      "displayName": "JKob San",
      "photoUrl": "https://lh3.googleusercontent.com/a-/AOh14GgnClMV_IVnXVunt7D1mXXMatSQTrEGp72MrhCIeQ=s64",
      "userId": "15910273739366067110"
     },
     "user_tz": -420
    },
    "id": "3riLeGPHr8ow",
    "outputId": "42552933-3b41-41c4-c99c-ece4786930f0"
   },
   "outputs": [],
   "source": [
    "model.compile(optimizer='adam', loss='binary_crossentropy', metrics=['accuracy']) #\n",
    "\n",
    "history = model.fit(X_train, y_train, epochs=10, batch_size=128,\n",
    "                    verbose=1, validation_data=(X_test,y_test))"
   ]
  },
  {
   "cell_type": "code",
   "execution_count": null,
   "metadata": {
    "colab": {
     "base_uri": "https://localhost:8080/"
    },
    "executionInfo": {
     "elapsed": 26060,
     "status": "ok",
     "timestamp": 1634359957394,
     "user": {
      "displayName": "JKob San",
      "photoUrl": "https://lh3.googleusercontent.com/a-/AOh14GgnClMV_IVnXVunt7D1mXXMatSQTrEGp72MrhCIeQ=s64",
      "userId": "15910273739366067110"
     },
     "user_tz": -420
    },
    "id": "1a0Z9-4wsEsu",
    "outputId": "97b9debd-146b-46e4-93f2-faf42ef9e089"
   },
   "outputs": [],
   "source": [
    "loss, acurracy = model.evaluate(X_test, y_test)\n",
    "print(\"Test accuracy: {:.3f}\".format(acurracy))"
   ]
  },
  {
   "cell_type": "code",
   "execution_count": null,
   "metadata": {
    "colab": {
     "base_uri": "https://localhost:8080/",
     "height": 261
    },
    "executionInfo": {
     "elapsed": 1041,
     "status": "ok",
     "timestamp": 1634365787568,
     "user": {
      "displayName": "JKob San",
      "photoUrl": "https://lh3.googleusercontent.com/a-/AOh14GgnClMV_IVnXVunt7D1mXXMatSQTrEGp72MrhCIeQ=s64",
      "userId": "15910273739366067110"
     },
     "user_tz": -420
    },
    "id": "KKQ5_PgMvHfT",
    "outputId": "f71ba6fa-8d7e-4732-9aeb-f87fabd20abd"
   },
   "outputs": [],
   "source": [
    "import matplotlib.pyplot as plt\n",
    "\n",
    "plt.figure(figsize=(10, 3.5))\n",
    "plt.subplot(1, 2, 1)\n",
    "\n",
    "plt.title('Loss')\n",
    "plt.plot(history.history['loss'], label='Training Loss')\n",
    "plt.plot(history.history['val_loss'],'r', lw=3.2, label='Validation loss')\n",
    "plt.legend()\n",
    "\n",
    "plt.subplot(1, 2, 2)\n",
    "plt.title('Accuracy')\n",
    "\n",
    "plt.plot(history.history['accuracy'], label='Training')\n",
    "plt.plot(history.history['val_accuracy'], 'r', lw=3.2, label='Validation')\n",
    "plt.legend()\n",
    "plt.show()"
   ]
  },
  {
   "cell_type": "markdown",
   "metadata": {
    "id": "MJiEJoHfRMBs"
   },
   "source": [
    "## Predict"
   ]
  },
  {
   "cell_type": "code",
   "execution_count": null,
   "metadata": {
    "colab": {
     "base_uri": "https://localhost:8080/"
    },
    "executionInfo": {
     "elapsed": 2018,
     "status": "ok",
     "timestamp": 1634388101099,
     "user": {
      "displayName": "JKob San",
      "photoUrl": "https://lh3.googleusercontent.com/a-/AOh14GgnClMV_IVnXVunt7D1mXXMatSQTrEGp72MrhCIeQ=s64",
      "userId": "15910273739366067110"
     },
     "user_tz": -420
    },
    "id": "EvuA0NTNRp7C",
    "outputId": "a0a82b70-9ad2-41b3-cacf-e04a5df54bf6"
   },
   "outputs": [],
   "source": [
    "from keras.preprocessing.text import text_to_word_sequence\n",
    "\n",
    "# define the document\n",
    "comment1 = 'this film is about politics. i do not like it. It sucks, horrible. Can i get money back i do not recommend it'\n",
    "comment2 = 'this film is about politics. people talk about it. the film is not good. i do not recommend it'\n",
    "comment3= 'this film is about politics. people like it. my opinion is different.'\n",
    "\n",
    "words_tk = text_to_word_sequence(comment1)\n",
    "words_tk"
   ]
  },
  {
   "cell_type": "code",
   "execution_count": null,
   "metadata": {
    "colab": {
     "base_uri": "https://localhost:8080/",
     "height": 162
    },
    "executionInfo": {
     "elapsed": 456,
     "status": "error",
     "timestamp": 1634388107281,
     "user": {
      "displayName": "JKob San",
      "photoUrl": "https://lh3.googleusercontent.com/a-/AOh14GgnClMV_IVnXVunt7D1mXXMatSQTrEGp72MrhCIeQ=s64",
      "userId": "15910273739366067110"
     },
     "user_tz": -420
    },
    "id": "KS3nXfMyQEme",
    "outputId": "6b9a85f5-bcd5-450d-cce9-3d7c7b8fe156"
   },
   "outputs": [],
   "source": [
    "tk.word_index['this'] , tk.word_index['film']"
   ]
  },
  {
   "cell_type": "code",
   "execution_count": null,
   "metadata": {
    "colab": {
     "base_uri": "https://localhost:8080/"
    },
    "executionInfo": {
     "elapsed": 8,
     "status": "ok",
     "timestamp": 1634365885262,
     "user": {
      "displayName": "JKob San",
      "photoUrl": "https://lh3.googleusercontent.com/a-/AOh14GgnClMV_IVnXVunt7D1mXXMatSQTrEGp72MrhCIeQ=s64",
      "userId": "15910273739366067110"
     },
     "user_tz": -420
    },
    "id": "miOhsvbNR5Eu",
    "outputId": "2bde8ab2-a240-48fb-92ad-1dbe48fa5681"
   },
   "outputs": [],
   "source": [
    "new_words_enc = tk.texts_to_sequences([comment2])\n",
    "new_words_enc"
   ]
  },
  {
   "cell_type": "code",
   "execution_count": null,
   "metadata": {
    "colab": {
     "base_uri": "https://localhost:8080/"
    },
    "executionInfo": {
     "elapsed": 313,
     "status": "ok",
     "timestamp": 1634365887864,
     "user": {
      "displayName": "JKob San",
      "photoUrl": "https://lh3.googleusercontent.com/a-/AOh14GgnClMV_IVnXVunt7D1mXXMatSQTrEGp72MrhCIeQ=s64",
      "userId": "15910273739366067110"
     },
     "user_tz": -420
    },
    "id": "gKjvtydIRHl0",
    "outputId": "958b4e0d-ec03-4303-ef0b-c4549be3c3d8"
   },
   "outputs": [],
   "source": [
    "\n",
    "X_new = pad_sequences(new_words_enc, truncating='post', padding='post', maxlen=max_len)\n",
    "\n",
    "X_new"
   ]
  },
  {
   "cell_type": "code",
   "execution_count": null,
   "metadata": {
    "colab": {
     "base_uri": "https://localhost:8080/"
    },
    "executionInfo": {
     "elapsed": 321,
     "status": "ok",
     "timestamp": 1634365892653,
     "user": {
      "displayName": "JKob San",
      "photoUrl": "https://lh3.googleusercontent.com/a-/AOh14GgnClMV_IVnXVunt7D1mXXMatSQTrEGp72MrhCIeQ=s64",
      "userId": "15910273739366067110"
     },
     "user_tz": -420
    },
    "id": "IFTSik9TTN1j",
    "outputId": "6a97f994-abb8-438a-e9aa-a86e4c177e88"
   },
   "outputs": [],
   "source": [
    "\n",
    "tk.sequences_to_texts(X_new) "
   ]
  },
  {
   "cell_type": "code",
   "execution_count": null,
   "metadata": {
    "colab": {
     "base_uri": "https://localhost:8080/"
    },
    "executionInfo": {
     "elapsed": 340,
     "status": "ok",
     "timestamp": 1634365895712,
     "user": {
      "displayName": "JKob San",
      "photoUrl": "https://lh3.googleusercontent.com/a-/AOh14GgnClMV_IVnXVunt7D1mXXMatSQTrEGp72MrhCIeQ=s64",
      "userId": "15910273739366067110"
     },
     "user_tz": -420
    },
    "id": "i3qQhPx7S62V",
    "outputId": "324cadf3-e8a9-47af-b2ac-53ddd1310f4f"
   },
   "outputs": [],
   "source": [
    "result = model.predict(X_new)\n",
    "print(np.squeeze(result).round(3))\n",
    "print('Positive' if result[0] > 0.5 else 'Negative')"
   ]
  },
  {
   "cell_type": "code",
   "execution_count": null,
   "metadata": {
    "colab": {
     "base_uri": "https://localhost:8080/"
    },
    "executionInfo": {
     "elapsed": 531,
     "status": "ok",
     "timestamp": 1634365897677,
     "user": {
      "displayName": "JKob San",
      "photoUrl": "https://lh3.googleusercontent.com/a-/AOh14GgnClMV_IVnXVunt7D1mXXMatSQTrEGp72MrhCIeQ=s64",
      "userId": "15910273739366067110"
     },
     "user_tz": -420
    },
    "id": "58BJW0EvTBOU",
    "outputId": "107f6e4e-7427-4d37-8f55-370306f31f94"
   },
   "outputs": [],
   "source": [
    "reviews_new = [comment1, comment2, comment3]\n",
    "# print(reviews_new)\n",
    "\n",
    "for i in reviews_new:\n",
    "    print(i)"
   ]
  },
  {
   "cell_type": "code",
   "execution_count": null,
   "metadata": {
    "colab": {
     "base_uri": "https://localhost:8080/"
    },
    "executionInfo": {
     "elapsed": 323,
     "status": "ok",
     "timestamp": 1634365900293,
     "user": {
      "displayName": "JKob San",
      "photoUrl": "https://lh3.googleusercontent.com/a-/AOh14GgnClMV_IVnXVunt7D1mXXMatSQTrEGp72MrhCIeQ=s64",
      "userId": "15910273739366067110"
     },
     "user_tz": -420
    },
    "id": "yUx8XvQRTffN",
    "outputId": "1ed6d871-1252-48e8-acb1-5446478df3ac"
   },
   "outputs": [],
   "source": [
    "new_words_enc = tk.texts_to_sequences(reviews_new)\n",
    "# new_words_enc\n",
    "X_new = pad_sequences(new_words_enc, truncating='post', padding='post', maxlen=max_len)\n",
    "results = model.predict(X_new)\n",
    "print(results.round(3))"
   ]
  },
  {
   "cell_type": "code",
   "execution_count": null,
   "metadata": {
    "colab": {
     "base_uri": "https://localhost:8080/"
    },
    "executionInfo": {
     "elapsed": 384,
     "status": "ok",
     "timestamp": 1634365916755,
     "user": {
      "displayName": "JKob San",
      "photoUrl": "https://lh3.googleusercontent.com/a-/AOh14GgnClMV_IVnXVunt7D1mXXMatSQTrEGp72MrhCIeQ=s64",
      "userId": "15910273739366067110"
     },
     "user_tz": -420
    },
    "id": "bKZRM7AlTwdu",
    "outputId": "0f9e467c-4266-42a4-8666-3af7596929b0"
   },
   "outputs": [],
   "source": [
    "y_test[:15].tolist()"
   ]
  },
  {
   "cell_type": "code",
   "execution_count": null,
   "metadata": {
    "colab": {
     "base_uri": "https://localhost:8080/"
    },
    "executionInfo": {
     "elapsed": 310,
     "status": "ok",
     "timestamp": 1634364799391,
     "user": {
      "displayName": "JKob San",
      "photoUrl": "https://lh3.googleusercontent.com/a-/AOh14GgnClMV_IVnXVunt7D1mXXMatSQTrEGp72MrhCIeQ=s64",
      "userId": "15910273739366067110"
     },
     "user_tz": -420
    },
    "id": "GY8jLSeOTxtQ",
    "outputId": "ca93c307-e63c-4191-f50c-a4b2f7539f70"
   },
   "outputs": [],
   "source": [
    "result = model.predict(X_test[:15])\n",
    "print(np.squeeze(result).round(2))"
   ]
  },
  {
   "cell_type": "code",
   "execution_count": null,
   "metadata": {
    "id": "vqkdVf7KiT6S"
   },
   "outputs": [],
   "source": []
  }
 ],
 "metadata": {
  "colab": {
   "authorship_tag": "ABX9TyPpgDrbd6+3J3vSGoJI7JVW",
   "collapsed_sections": [
    "3DQ7tuYQWKqw",
    "9ubFbpp1WCd7",
    "2w6JjoAGfJVs",
    "h4VDSv2ZnuMT",
    "IR_4XWdJwd_Q",
    "CVwe_64zzg5U",
    "iqVpQkLb5JTA",
    "CX2zMFGraLLV"
   ],
   "name": "Sentiment IMDB csv.ipynb",
   "provenance": [],
   "toc_visible": true
  },
  "kernelspec": {
   "display_name": "Python 3 (ipykernel)",
   "language": "python",
   "name": "python3"
  },
  "language_info": {
   "codemirror_mode": {
    "name": "ipython",
    "version": 3
   },
   "file_extension": ".py",
   "mimetype": "text/x-python",
   "name": "python",
   "nbconvert_exporter": "python",
   "pygments_lexer": "ipython3",
   "version": "3.9.7"
  },
  "widgets": {
   "application/vnd.jupyter.widget-state+json": {
    "01c05c5edd96404bb95edf5924dba749": {
     "model_module": "@jupyter-widgets/base",
     "model_module_version": "1.2.0",
     "model_name": "LayoutModel",
     "state": {
      "_model_module": "@jupyter-widgets/base",
      "_model_module_version": "1.2.0",
      "_model_name": "LayoutModel",
      "_view_count": null,
      "_view_module": "@jupyter-widgets/base",
      "_view_module_version": "1.2.0",
      "_view_name": "LayoutView",
      "align_content": null,
      "align_items": null,
      "align_self": null,
      "border": null,
      "bottom": null,
      "display": null,
      "flex": null,
      "flex_flow": null,
      "grid_area": null,
      "grid_auto_columns": null,
      "grid_auto_flow": null,
      "grid_auto_rows": null,
      "grid_column": null,
      "grid_gap": null,
      "grid_row": null,
      "grid_template_areas": null,
      "grid_template_columns": null,
      "grid_template_rows": null,
      "height": null,
      "justify_content": null,
      "justify_items": null,
      "left": null,
      "margin": null,
      "max_height": null,
      "max_width": null,
      "min_height": null,
      "min_width": null,
      "object_fit": null,
      "object_position": null,
      "order": null,
      "overflow": null,
      "overflow_x": null,
      "overflow_y": null,
      "padding": null,
      "right": null,
      "top": null,
      "visibility": null,
      "width": null
     }
    },
    "03d0d7c55f88493f8ba519bd22351b66": {
     "model_module": "@jupyter-widgets/base",
     "model_module_version": "1.2.0",
     "model_name": "LayoutModel",
     "state": {
      "_model_module": "@jupyter-widgets/base",
      "_model_module_version": "1.2.0",
      "_model_name": "LayoutModel",
      "_view_count": null,
      "_view_module": "@jupyter-widgets/base",
      "_view_module_version": "1.2.0",
      "_view_name": "LayoutView",
      "align_content": null,
      "align_items": null,
      "align_self": null,
      "border": null,
      "bottom": null,
      "display": null,
      "flex": null,
      "flex_flow": null,
      "grid_area": null,
      "grid_auto_columns": null,
      "grid_auto_flow": null,
      "grid_auto_rows": null,
      "grid_column": null,
      "grid_gap": null,
      "grid_row": null,
      "grid_template_areas": null,
      "grid_template_columns": null,
      "grid_template_rows": null,
      "height": null,
      "justify_content": null,
      "justify_items": null,
      "left": null,
      "margin": null,
      "max_height": null,
      "max_width": null,
      "min_height": null,
      "min_width": null,
      "object_fit": null,
      "object_position": null,
      "order": null,
      "overflow": null,
      "overflow_x": null,
      "overflow_y": null,
      "padding": null,
      "right": null,
      "top": null,
      "visibility": null,
      "width": null
     }
    },
    "044b1feadf954f15a7d0c329439c6501": {
     "model_module": "@jupyter-widgets/controls",
     "model_module_version": "1.5.0",
     "model_name": "ProgressStyleModel",
     "state": {
      "_model_module": "@jupyter-widgets/controls",
      "_model_module_version": "1.5.0",
      "_model_name": "ProgressStyleModel",
      "_view_count": null,
      "_view_module": "@jupyter-widgets/base",
      "_view_module_version": "1.2.0",
      "_view_name": "StyleView",
      "bar_color": null,
      "description_width": ""
     }
    },
    "06277842fe244da28a0f1535336fe94d": {
     "model_module": "@jupyter-widgets/controls",
     "model_module_version": "1.5.0",
     "model_name": "ProgressStyleModel",
     "state": {
      "_model_module": "@jupyter-widgets/controls",
      "_model_module_version": "1.5.0",
      "_model_name": "ProgressStyleModel",
      "_view_count": null,
      "_view_module": "@jupyter-widgets/base",
      "_view_module_version": "1.2.0",
      "_view_name": "StyleView",
      "bar_color": null,
      "description_width": ""
     }
    },
    "06f4cef42ffc49578e74f139ce09934e": {
     "model_module": "@jupyter-widgets/controls",
     "model_module_version": "1.5.0",
     "model_name": "DescriptionStyleModel",
     "state": {
      "_model_module": "@jupyter-widgets/controls",
      "_model_module_version": "1.5.0",
      "_model_name": "DescriptionStyleModel",
      "_view_count": null,
      "_view_module": "@jupyter-widgets/base",
      "_view_module_version": "1.2.0",
      "_view_name": "StyleView",
      "description_width": ""
     }
    },
    "0a4a9835893e4a618e2f720a3b22b051": {
     "model_module": "@jupyter-widgets/base",
     "model_module_version": "1.2.0",
     "model_name": "LayoutModel",
     "state": {
      "_model_module": "@jupyter-widgets/base",
      "_model_module_version": "1.2.0",
      "_model_name": "LayoutModel",
      "_view_count": null,
      "_view_module": "@jupyter-widgets/base",
      "_view_module_version": "1.2.0",
      "_view_name": "LayoutView",
      "align_content": null,
      "align_items": null,
      "align_self": null,
      "border": null,
      "bottom": null,
      "display": null,
      "flex": null,
      "flex_flow": null,
      "grid_area": null,
      "grid_auto_columns": null,
      "grid_auto_flow": null,
      "grid_auto_rows": null,
      "grid_column": null,
      "grid_gap": null,
      "grid_row": null,
      "grid_template_areas": null,
      "grid_template_columns": null,
      "grid_template_rows": null,
      "height": null,
      "justify_content": null,
      "justify_items": null,
      "left": null,
      "margin": null,
      "max_height": null,
      "max_width": null,
      "min_height": null,
      "min_width": null,
      "object_fit": null,
      "object_position": null,
      "order": null,
      "overflow": null,
      "overflow_x": null,
      "overflow_y": null,
      "padding": null,
      "right": null,
      "top": null,
      "visibility": null,
      "width": null
     }
    },
    "0acf8e577ccc4bca82e3ea0549c8dec5": {
     "model_module": "@jupyter-widgets/controls",
     "model_module_version": "1.5.0",
     "model_name": "HBoxModel",
     "state": {
      "_dom_classes": [],
      "_model_module": "@jupyter-widgets/controls",
      "_model_module_version": "1.5.0",
      "_model_name": "HBoxModel",
      "_view_count": null,
      "_view_module": "@jupyter-widgets/controls",
      "_view_module_version": "1.5.0",
      "_view_name": "HBoxView",
      "box_style": "",
      "children": [
       "IPY_MODEL_c8e9bcb8ce6548b7b3ec16bbeffa2ccd",
       "IPY_MODEL_9c93fd5e24884bd7b878da937cef8785",
       "IPY_MODEL_f5b348eb8b2549238f4247f1e886fff5"
      ],
      "layout": "IPY_MODEL_8e04214bac7145c2be6979815bc31318"
     }
    },
    "0d4a372414b24eefbf49b63de1cf761d": {
     "model_module": "@jupyter-widgets/controls",
     "model_module_version": "1.5.0",
     "model_name": "HTMLModel",
     "state": {
      "_dom_classes": [],
      "_model_module": "@jupyter-widgets/controls",
      "_model_module_version": "1.5.0",
      "_model_name": "HTMLModel",
      "_view_count": null,
      "_view_module": "@jupyter-widgets/controls",
      "_view_module_version": "1.5.0",
      "_view_name": "HTMLView",
      "description": "",
      "description_tooltip": null,
      "layout": "IPY_MODEL_77dd3e19ff524bc699770f5ad540fe38",
      "placeholder": "​",
      "style": "IPY_MODEL_91584b435e234a2daef09f0c50c1f0ba",
      "value": " 10000/10000 [30:47&lt;00:00,  5.51it/s]"
     }
    },
    "198b9a1865f74436979c474794b776c8": {
     "model_module": "@jupyter-widgets/controls",
     "model_module_version": "1.5.0",
     "model_name": "FloatProgressModel",
     "state": {
      "_dom_classes": [],
      "_model_module": "@jupyter-widgets/controls",
      "_model_module_version": "1.5.0",
      "_model_name": "FloatProgressModel",
      "_view_count": null,
      "_view_module": "@jupyter-widgets/controls",
      "_view_module_version": "1.5.0",
      "_view_name": "ProgressView",
      "bar_style": "success",
      "description": "",
      "description_tooltip": null,
      "layout": "IPY_MODEL_1a099021cf18495f8bb1c550b1051936",
      "max": 112,
      "min": 0,
      "orientation": "horizontal",
      "style": "IPY_MODEL_06277842fe244da28a0f1535336fe94d",
      "value": 112
     }
    },
    "1a099021cf18495f8bb1c550b1051936": {
     "model_module": "@jupyter-widgets/base",
     "model_module_version": "1.2.0",
     "model_name": "LayoutModel",
     "state": {
      "_model_module": "@jupyter-widgets/base",
      "_model_module_version": "1.2.0",
      "_model_name": "LayoutModel",
      "_view_count": null,
      "_view_module": "@jupyter-widgets/base",
      "_view_module_version": "1.2.0",
      "_view_name": "LayoutView",
      "align_content": null,
      "align_items": null,
      "align_self": null,
      "border": null,
      "bottom": null,
      "display": null,
      "flex": null,
      "flex_flow": null,
      "grid_area": null,
      "grid_auto_columns": null,
      "grid_auto_flow": null,
      "grid_auto_rows": null,
      "grid_column": null,
      "grid_gap": null,
      "grid_row": null,
      "grid_template_areas": null,
      "grid_template_columns": null,
      "grid_template_rows": null,
      "height": null,
      "justify_content": null,
      "justify_items": null,
      "left": null,
      "margin": null,
      "max_height": null,
      "max_width": null,
      "min_height": null,
      "min_width": null,
      "object_fit": null,
      "object_position": null,
      "order": null,
      "overflow": null,
      "overflow_x": null,
      "overflow_y": null,
      "padding": null,
      "right": null,
      "top": null,
      "visibility": null,
      "width": null
     }
    },
    "1b46d00e130540fe802ee7154139d301": {
     "model_module": "@jupyter-widgets/controls",
     "model_module_version": "1.5.0",
     "model_name": "DescriptionStyleModel",
     "state": {
      "_model_module": "@jupyter-widgets/controls",
      "_model_module_version": "1.5.0",
      "_model_name": "DescriptionStyleModel",
      "_view_count": null,
      "_view_module": "@jupyter-widgets/base",
      "_view_module_version": "1.2.0",
      "_view_name": "StyleView",
      "description_width": ""
     }
    },
    "2257268a0db34a55acb05001cc620f6c": {
     "model_module": "@jupyter-widgets/controls",
     "model_module_version": "1.5.0",
     "model_name": "ProgressStyleModel",
     "state": {
      "_model_module": "@jupyter-widgets/controls",
      "_model_module_version": "1.5.0",
      "_model_name": "ProgressStyleModel",
      "_view_count": null,
      "_view_module": "@jupyter-widgets/base",
      "_view_module_version": "1.2.0",
      "_view_name": "StyleView",
      "bar_color": null,
      "description_width": ""
     }
    },
    "2879e5b19d2948e895f692836fe9c990": {
     "model_module": "@jupyter-widgets/controls",
     "model_module_version": "1.5.0",
     "model_name": "HTMLModel",
     "state": {
      "_dom_classes": [],
      "_model_module": "@jupyter-widgets/controls",
      "_model_module_version": "1.5.0",
      "_model_name": "HTMLModel",
      "_view_count": null,
      "_view_module": "@jupyter-widgets/controls",
      "_view_module_version": "1.5.0",
      "_view_name": "HTMLView",
      "description": "",
      "description_tooltip": null,
      "layout": "IPY_MODEL_dbcaa8f3bbd743329f651105623951e7",
      "placeholder": "​",
      "style": "IPY_MODEL_06f4cef42ffc49578e74f139ce09934e",
      "value": " 418M/418M [00:12&lt;00:00, 39.9MB/s]"
     }
    },
    "312a7a38b5b44046919b129e93370bc2": {
     "model_module": "@jupyter-widgets/base",
     "model_module_version": "1.2.0",
     "model_name": "LayoutModel",
     "state": {
      "_model_module": "@jupyter-widgets/base",
      "_model_module_version": "1.2.0",
      "_model_name": "LayoutModel",
      "_view_count": null,
      "_view_module": "@jupyter-widgets/base",
      "_view_module_version": "1.2.0",
      "_view_name": "LayoutView",
      "align_content": null,
      "align_items": null,
      "align_self": null,
      "border": null,
      "bottom": null,
      "display": null,
      "flex": null,
      "flex_flow": null,
      "grid_area": null,
      "grid_auto_columns": null,
      "grid_auto_flow": null,
      "grid_auto_rows": null,
      "grid_column": null,
      "grid_gap": null,
      "grid_row": null,
      "grid_template_areas": null,
      "grid_template_columns": null,
      "grid_template_rows": null,
      "height": null,
      "justify_content": null,
      "justify_items": null,
      "left": null,
      "margin": null,
      "max_height": null,
      "max_width": null,
      "min_height": null,
      "min_width": null,
      "object_fit": null,
      "object_position": null,
      "order": null,
      "overflow": null,
      "overflow_x": null,
      "overflow_y": null,
      "padding": null,
      "right": null,
      "top": null,
      "visibility": null,
      "width": null
     }
    },
    "34917561a28447a9badc6b04f8d371b3": {
     "model_module": "@jupyter-widgets/base",
     "model_module_version": "1.2.0",
     "model_name": "LayoutModel",
     "state": {
      "_model_module": "@jupyter-widgets/base",
      "_model_module_version": "1.2.0",
      "_model_name": "LayoutModel",
      "_view_count": null,
      "_view_module": "@jupyter-widgets/base",
      "_view_module_version": "1.2.0",
      "_view_name": "LayoutView",
      "align_content": null,
      "align_items": null,
      "align_self": null,
      "border": null,
      "bottom": null,
      "display": null,
      "flex": null,
      "flex_flow": null,
      "grid_area": null,
      "grid_auto_columns": null,
      "grid_auto_flow": null,
      "grid_auto_rows": null,
      "grid_column": null,
      "grid_gap": null,
      "grid_row": null,
      "grid_template_areas": null,
      "grid_template_columns": null,
      "grid_template_rows": null,
      "height": null,
      "justify_content": null,
      "justify_items": null,
      "left": null,
      "margin": null,
      "max_height": null,
      "max_width": null,
      "min_height": null,
      "min_width": null,
      "object_fit": null,
      "object_position": null,
      "order": null,
      "overflow": null,
      "overflow_x": null,
      "overflow_y": null,
      "padding": null,
      "right": null,
      "top": null,
      "visibility": null,
      "width": null
     }
    },
    "3a56ee8d835f4ceb921408a2a76cff5a": {
     "model_module": "@jupyter-widgets/controls",
     "model_module_version": "1.5.0",
     "model_name": "FloatProgressModel",
     "state": {
      "_dom_classes": [],
      "_model_module": "@jupyter-widgets/controls",
      "_model_module_version": "1.5.0",
      "_model_name": "FloatProgressModel",
      "_view_count": null,
      "_view_module": "@jupyter-widgets/controls",
      "_view_module_version": "1.5.0",
      "_view_name": "ProgressView",
      "bar_style": "success",
      "description": "",
      "description_tooltip": null,
      "layout": "IPY_MODEL_fb7637d741e54334b31efd51ed0c0ef5",
      "max": 511,
      "min": 0,
      "orientation": "horizontal",
      "style": "IPY_MODEL_66b7d51f86b64dbd8c96652b29022ac6",
      "value": 511
     }
    },
    "3ef572a444f944298cc04938310d65a6": {
     "model_module": "@jupyter-widgets/controls",
     "model_module_version": "1.5.0",
     "model_name": "FloatProgressModel",
     "state": {
      "_dom_classes": [],
      "_model_module": "@jupyter-widgets/controls",
      "_model_module_version": "1.5.0",
      "_model_name": "FloatProgressModel",
      "_view_count": null,
      "_view_module": "@jupyter-widgets/controls",
      "_view_module_version": "1.5.0",
      "_view_name": "ProgressView",
      "bar_style": "success",
      "description": "",
      "description_tooltip": null,
      "layout": "IPY_MODEL_e706fbd2ccd141b1b297803f8a631a21",
      "max": 437985387,
      "min": 0,
      "orientation": "horizontal",
      "style": "IPY_MODEL_044b1feadf954f15a7d0c329439c6501",
      "value": 437985387
     }
    },
    "400a2074d566407cb1e9fca6b6b1c885": {
     "model_module": "@jupyter-widgets/base",
     "model_module_version": "1.2.0",
     "model_name": "LayoutModel",
     "state": {
      "_model_module": "@jupyter-widgets/base",
      "_model_module_version": "1.2.0",
      "_model_name": "LayoutModel",
      "_view_count": null,
      "_view_module": "@jupyter-widgets/base",
      "_view_module_version": "1.2.0",
      "_view_name": "LayoutView",
      "align_content": null,
      "align_items": null,
      "align_self": null,
      "border": null,
      "bottom": null,
      "display": null,
      "flex": null,
      "flex_flow": null,
      "grid_area": null,
      "grid_auto_columns": null,
      "grid_auto_flow": null,
      "grid_auto_rows": null,
      "grid_column": null,
      "grid_gap": null,
      "grid_row": null,
      "grid_template_areas": null,
      "grid_template_columns": null,
      "grid_template_rows": null,
      "height": null,
      "justify_content": null,
      "justify_items": null,
      "left": null,
      "margin": null,
      "max_height": null,
      "max_width": null,
      "min_height": null,
      "min_width": null,
      "object_fit": null,
      "object_position": null,
      "order": null,
      "overflow": null,
      "overflow_x": null,
      "overflow_y": null,
      "padding": null,
      "right": null,
      "top": null,
      "visibility": null,
      "width": null
     }
    },
    "4056f4c413464395b14f50e201ecd202": {
     "model_module": "@jupyter-widgets/base",
     "model_module_version": "1.2.0",
     "model_name": "LayoutModel",
     "state": {
      "_model_module": "@jupyter-widgets/base",
      "_model_module_version": "1.2.0",
      "_model_name": "LayoutModel",
      "_view_count": null,
      "_view_module": "@jupyter-widgets/base",
      "_view_module_version": "1.2.0",
      "_view_name": "LayoutView",
      "align_content": null,
      "align_items": null,
      "align_self": null,
      "border": null,
      "bottom": null,
      "display": null,
      "flex": null,
      "flex_flow": null,
      "grid_area": null,
      "grid_auto_columns": null,
      "grid_auto_flow": null,
      "grid_auto_rows": null,
      "grid_column": null,
      "grid_gap": null,
      "grid_row": null,
      "grid_template_areas": null,
      "grid_template_columns": null,
      "grid_template_rows": null,
      "height": null,
      "justify_content": null,
      "justify_items": null,
      "left": null,
      "margin": null,
      "max_height": null,
      "max_width": null,
      "min_height": null,
      "min_width": null,
      "object_fit": null,
      "object_position": null,
      "order": null,
      "overflow": null,
      "overflow_x": null,
      "overflow_y": null,
      "padding": null,
      "right": null,
      "top": null,
      "visibility": null,
      "width": null
     }
    },
    "4216c7e1b310499aaa2af779a3add1c0": {
     "model_module": "@jupyter-widgets/controls",
     "model_module_version": "1.5.0",
     "model_name": "DescriptionStyleModel",
     "state": {
      "_model_module": "@jupyter-widgets/controls",
      "_model_module_version": "1.5.0",
      "_model_name": "DescriptionStyleModel",
      "_view_count": null,
      "_view_module": "@jupyter-widgets/base",
      "_view_module_version": "1.2.0",
      "_view_name": "StyleView",
      "description_width": ""
     }
    },
    "48a8ad5f00384bd1a0a96b6a322b9147": {
     "model_module": "@jupyter-widgets/base",
     "model_module_version": "1.2.0",
     "model_name": "LayoutModel",
     "state": {
      "_model_module": "@jupyter-widgets/base",
      "_model_module_version": "1.2.0",
      "_model_name": "LayoutModel",
      "_view_count": null,
      "_view_module": "@jupyter-widgets/base",
      "_view_module_version": "1.2.0",
      "_view_name": "LayoutView",
      "align_content": null,
      "align_items": null,
      "align_self": null,
      "border": null,
      "bottom": null,
      "display": null,
      "flex": null,
      "flex_flow": null,
      "grid_area": null,
      "grid_auto_columns": null,
      "grid_auto_flow": null,
      "grid_auto_rows": null,
      "grid_column": null,
      "grid_gap": null,
      "grid_row": null,
      "grid_template_areas": null,
      "grid_template_columns": null,
      "grid_template_rows": null,
      "height": null,
      "justify_content": null,
      "justify_items": null,
      "left": null,
      "margin": null,
      "max_height": null,
      "max_width": null,
      "min_height": null,
      "min_width": null,
      "object_fit": null,
      "object_position": null,
      "order": null,
      "overflow": null,
      "overflow_x": null,
      "overflow_y": null,
      "padding": null,
      "right": null,
      "top": null,
      "visibility": null,
      "width": null
     }
    },
    "4be0f0d48efd49e8a6f7290c29851f11": {
     "model_module": "@jupyter-widgets/base",
     "model_module_version": "1.2.0",
     "model_name": "LayoutModel",
     "state": {
      "_model_module": "@jupyter-widgets/base",
      "_model_module_version": "1.2.0",
      "_model_name": "LayoutModel",
      "_view_count": null,
      "_view_module": "@jupyter-widgets/base",
      "_view_module_version": "1.2.0",
      "_view_name": "LayoutView",
      "align_content": null,
      "align_items": null,
      "align_self": null,
      "border": null,
      "bottom": null,
      "display": null,
      "flex": null,
      "flex_flow": null,
      "grid_area": null,
      "grid_auto_columns": null,
      "grid_auto_flow": null,
      "grid_auto_rows": null,
      "grid_column": null,
      "grid_gap": null,
      "grid_row": null,
      "grid_template_areas": null,
      "grid_template_columns": null,
      "grid_template_rows": null,
      "height": null,
      "justify_content": null,
      "justify_items": null,
      "left": null,
      "margin": null,
      "max_height": null,
      "max_width": null,
      "min_height": null,
      "min_width": null,
      "object_fit": null,
      "object_position": null,
      "order": null,
      "overflow": null,
      "overflow_x": null,
      "overflow_y": null,
      "padding": null,
      "right": null,
      "top": null,
      "visibility": null,
      "width": null
     }
    },
    "4dca8f35ed3c4904b271113ccc4dcb43": {
     "model_module": "@jupyter-widgets/base",
     "model_module_version": "1.2.0",
     "model_name": "LayoutModel",
     "state": {
      "_model_module": "@jupyter-widgets/base",
      "_model_module_version": "1.2.0",
      "_model_name": "LayoutModel",
      "_view_count": null,
      "_view_module": "@jupyter-widgets/base",
      "_view_module_version": "1.2.0",
      "_view_name": "LayoutView",
      "align_content": null,
      "align_items": null,
      "align_self": null,
      "border": null,
      "bottom": null,
      "display": null,
      "flex": null,
      "flex_flow": null,
      "grid_area": null,
      "grid_auto_columns": null,
      "grid_auto_flow": null,
      "grid_auto_rows": null,
      "grid_column": null,
      "grid_gap": null,
      "grid_row": null,
      "grid_template_areas": null,
      "grid_template_columns": null,
      "grid_template_rows": null,
      "height": null,
      "justify_content": null,
      "justify_items": null,
      "left": null,
      "margin": null,
      "max_height": null,
      "max_width": null,
      "min_height": null,
      "min_width": null,
      "object_fit": null,
      "object_position": null,
      "order": null,
      "overflow": null,
      "overflow_x": null,
      "overflow_y": null,
      "padding": null,
      "right": null,
      "top": null,
      "visibility": null,
      "width": null
     }
    },
    "4f43299f09174782b2e535e35370fe76": {
     "model_module": "@jupyter-widgets/controls",
     "model_module_version": "1.5.0",
     "model_name": "FloatProgressModel",
     "state": {
      "_dom_classes": [],
      "_model_module": "@jupyter-widgets/controls",
      "_model_module_version": "1.5.0",
      "_model_name": "FloatProgressModel",
      "_view_count": null,
      "_view_module": "@jupyter-widgets/controls",
      "_view_module_version": "1.5.0",
      "_view_name": "ProgressView",
      "bar_style": "success",
      "description": "",
      "description_tooltip": null,
      "layout": "IPY_MODEL_4be0f0d48efd49e8a6f7290c29851f11",
      "max": 10000,
      "min": 0,
      "orientation": "horizontal",
      "style": "IPY_MODEL_dd46519b19fc44858da16e4fb78068f4",
      "value": 10000
     }
    },
    "514e86a22e6041978bfe7900f6c9dc78": {
     "model_module": "@jupyter-widgets/controls",
     "model_module_version": "1.5.0",
     "model_name": "HTMLModel",
     "state": {
      "_dom_classes": [],
      "_model_module": "@jupyter-widgets/controls",
      "_model_module_version": "1.5.0",
      "_model_name": "HTMLModel",
      "_view_count": null,
      "_view_module": "@jupyter-widgets/controls",
      "_view_module_version": "1.5.0",
      "_view_name": "HTMLView",
      "description": "",
      "description_tooltip": null,
      "layout": "IPY_MODEL_312a7a38b5b44046919b129e93370bc2",
      "placeholder": "​",
      "style": "IPY_MODEL_57f5df4df0f14700be699d1ba4bee4aa",
      "value": " 112/112 [00:00&lt;00:00, 2.85kB/s]"
     }
    },
    "5248a58d526c42f8aaa2b4d93027cf06": {
     "model_module": "@jupyter-widgets/base",
     "model_module_version": "1.2.0",
     "model_name": "LayoutModel",
     "state": {
      "_model_module": "@jupyter-widgets/base",
      "_model_module_version": "1.2.0",
      "_model_name": "LayoutModel",
      "_view_count": null,
      "_view_module": "@jupyter-widgets/base",
      "_view_module_version": "1.2.0",
      "_view_name": "LayoutView",
      "align_content": null,
      "align_items": null,
      "align_self": null,
      "border": null,
      "bottom": null,
      "display": null,
      "flex": null,
      "flex_flow": null,
      "grid_area": null,
      "grid_auto_columns": null,
      "grid_auto_flow": null,
      "grid_auto_rows": null,
      "grid_column": null,
      "grid_gap": null,
      "grid_row": null,
      "grid_template_areas": null,
      "grid_template_columns": null,
      "grid_template_rows": null,
      "height": null,
      "justify_content": null,
      "justify_items": null,
      "left": null,
      "margin": null,
      "max_height": null,
      "max_width": null,
      "min_height": null,
      "min_width": null,
      "object_fit": null,
      "object_position": null,
      "order": null,
      "overflow": null,
      "overflow_x": null,
      "overflow_y": null,
      "padding": null,
      "right": null,
      "top": null,
      "visibility": null,
      "width": null
     }
    },
    "55cc1a3b6d9646b1b079dd326dc8ded6": {
     "model_module": "@jupyter-widgets/controls",
     "model_module_version": "1.5.0",
     "model_name": "DescriptionStyleModel",
     "state": {
      "_model_module": "@jupyter-widgets/controls",
      "_model_module_version": "1.5.0",
      "_model_name": "DescriptionStyleModel",
      "_view_count": null,
      "_view_module": "@jupyter-widgets/base",
      "_view_module_version": "1.2.0",
      "_view_name": "StyleView",
      "description_width": ""
     }
    },
    "57f5df4df0f14700be699d1ba4bee4aa": {
     "model_module": "@jupyter-widgets/controls",
     "model_module_version": "1.5.0",
     "model_name": "DescriptionStyleModel",
     "state": {
      "_model_module": "@jupyter-widgets/controls",
      "_model_module_version": "1.5.0",
      "_model_name": "DescriptionStyleModel",
      "_view_count": null,
      "_view_module": "@jupyter-widgets/base",
      "_view_module_version": "1.2.0",
      "_view_name": "StyleView",
      "description_width": ""
     }
    },
    "66b7d51f86b64dbd8c96652b29022ac6": {
     "model_module": "@jupyter-widgets/controls",
     "model_module_version": "1.5.0",
     "model_name": "ProgressStyleModel",
     "state": {
      "_model_module": "@jupyter-widgets/controls",
      "_model_module_version": "1.5.0",
      "_model_name": "ProgressStyleModel",
      "_view_count": null,
      "_view_module": "@jupyter-widgets/base",
      "_view_module_version": "1.2.0",
      "_view_name": "StyleView",
      "bar_color": null,
      "description_width": ""
     }
    },
    "6749834c5d634fb489f9caa40d06e919": {
     "model_module": "@jupyter-widgets/base",
     "model_module_version": "1.2.0",
     "model_name": "LayoutModel",
     "state": {
      "_model_module": "@jupyter-widgets/base",
      "_model_module_version": "1.2.0",
      "_model_name": "LayoutModel",
      "_view_count": null,
      "_view_module": "@jupyter-widgets/base",
      "_view_module_version": "1.2.0",
      "_view_name": "LayoutView",
      "align_content": null,
      "align_items": null,
      "align_self": null,
      "border": null,
      "bottom": null,
      "display": null,
      "flex": null,
      "flex_flow": null,
      "grid_area": null,
      "grid_auto_columns": null,
      "grid_auto_flow": null,
      "grid_auto_rows": null,
      "grid_column": null,
      "grid_gap": null,
      "grid_row": null,
      "grid_template_areas": null,
      "grid_template_columns": null,
      "grid_template_rows": null,
      "height": null,
      "justify_content": null,
      "justify_items": null,
      "left": null,
      "margin": null,
      "max_height": null,
      "max_width": null,
      "min_height": null,
      "min_width": null,
      "object_fit": null,
      "object_position": null,
      "order": null,
      "overflow": null,
      "overflow_x": null,
      "overflow_y": null,
      "padding": null,
      "right": null,
      "top": null,
      "visibility": null,
      "width": null
     }
    },
    "71e9650bc46d4e96b60079fd89cd4bd3": {
     "model_module": "@jupyter-widgets/controls",
     "model_module_version": "1.5.0",
     "model_name": "HTMLModel",
     "state": {
      "_dom_classes": [],
      "_model_module": "@jupyter-widgets/controls",
      "_model_module_version": "1.5.0",
      "_model_name": "HTMLModel",
      "_view_count": null,
      "_view_module": "@jupyter-widgets/controls",
      "_view_module_version": "1.5.0",
      "_view_name": "HTMLView",
      "description": "",
      "description_tooltip": null,
      "layout": "IPY_MODEL_5248a58d526c42f8aaa2b4d93027cf06",
      "placeholder": "​",
      "style": "IPY_MODEL_d683fce67c3e4830a80fa7ba9dd89c3d",
      "value": "Downloading: 100%"
     }
    },
    "77dd3e19ff524bc699770f5ad540fe38": {
     "model_module": "@jupyter-widgets/base",
     "model_module_version": "1.2.0",
     "model_name": "LayoutModel",
     "state": {
      "_model_module": "@jupyter-widgets/base",
      "_model_module_version": "1.2.0",
      "_model_name": "LayoutModel",
      "_view_count": null,
      "_view_module": "@jupyter-widgets/base",
      "_view_module_version": "1.2.0",
      "_view_name": "LayoutView",
      "align_content": null,
      "align_items": null,
      "align_self": null,
      "border": null,
      "bottom": null,
      "display": null,
      "flex": null,
      "flex_flow": null,
      "grid_area": null,
      "grid_auto_columns": null,
      "grid_auto_flow": null,
      "grid_auto_rows": null,
      "grid_column": null,
      "grid_gap": null,
      "grid_row": null,
      "grid_template_areas": null,
      "grid_template_columns": null,
      "grid_template_rows": null,
      "height": null,
      "justify_content": null,
      "justify_items": null,
      "left": null,
      "margin": null,
      "max_height": null,
      "max_width": null,
      "min_height": null,
      "min_width": null,
      "object_fit": null,
      "object_position": null,
      "order": null,
      "overflow": null,
      "overflow_x": null,
      "overflow_y": null,
      "padding": null,
      "right": null,
      "top": null,
      "visibility": null,
      "width": null
     }
    },
    "78fddbfe93e04c4d90b39cda932148a9": {
     "model_module": "@jupyter-widgets/controls",
     "model_module_version": "1.5.0",
     "model_name": "HBoxModel",
     "state": {
      "_dom_classes": [],
      "_model_module": "@jupyter-widgets/controls",
      "_model_module_version": "1.5.0",
      "_model_name": "HBoxModel",
      "_view_count": null,
      "_view_module": "@jupyter-widgets/controls",
      "_view_module_version": "1.5.0",
      "_view_name": "HBoxView",
      "box_style": "",
      "children": [
       "IPY_MODEL_9d56b28f4bfa4dfc9056472cc2e8fbb1",
       "IPY_MODEL_3a56ee8d835f4ceb921408a2a76cff5a",
       "IPY_MODEL_7e5d15dbfe234db3be2b41a77ef3121e"
      ],
      "layout": "IPY_MODEL_bebe4c104b634d83aef7bb3a13160d33"
     }
    },
    "7b7eb117f3014f3e93e93273fdaca946": {
     "model_module": "@jupyter-widgets/controls",
     "model_module_version": "1.5.0",
     "model_name": "HTMLModel",
     "state": {
      "_dom_classes": [],
      "_model_module": "@jupyter-widgets/controls",
      "_model_module_version": "1.5.0",
      "_model_name": "HTMLModel",
      "_view_count": null,
      "_view_module": "@jupyter-widgets/controls",
      "_view_module_version": "1.5.0",
      "_view_name": "HTMLView",
      "description": "",
      "description_tooltip": null,
      "layout": "IPY_MODEL_8b33dd6f175e4f1dbc7eb88b3907c390",
      "placeholder": "​",
      "style": "IPY_MODEL_cafb3249fca54272a238e38a326d06e7",
      "value": " 226k/226k [00:00&lt;00:00, 828kB/s]"
     }
    },
    "7cde0b5bda4444939bac293134266733": {
     "model_module": "@jupyter-widgets/controls",
     "model_module_version": "1.5.0",
     "model_name": "HBoxModel",
     "state": {
      "_dom_classes": [],
      "_model_module": "@jupyter-widgets/controls",
      "_model_module_version": "1.5.0",
      "_model_name": "HBoxModel",
      "_view_count": null,
      "_view_module": "@jupyter-widgets/controls",
      "_view_module_version": "1.5.0",
      "_view_name": "HBoxView",
      "box_style": "",
      "children": [
       "IPY_MODEL_ac23417c8a664d9faacf3ac36f799274",
       "IPY_MODEL_3ef572a444f944298cc04938310d65a6",
       "IPY_MODEL_2879e5b19d2948e895f692836fe9c990"
      ],
      "layout": "IPY_MODEL_d2afd14d8be745c0b966347052bf9bc2"
     }
    },
    "7e5d15dbfe234db3be2b41a77ef3121e": {
     "model_module": "@jupyter-widgets/controls",
     "model_module_version": "1.5.0",
     "model_name": "HTMLModel",
     "state": {
      "_dom_classes": [],
      "_model_module": "@jupyter-widgets/controls",
      "_model_module_version": "1.5.0",
      "_model_name": "HTMLModel",
      "_view_count": null,
      "_view_module": "@jupyter-widgets/controls",
      "_view_module_version": "1.5.0",
      "_view_name": "HTMLView",
      "description": "",
      "description_tooltip": null,
      "layout": "IPY_MODEL_34917561a28447a9badc6b04f8d371b3",
      "placeholder": "​",
      "style": "IPY_MODEL_fc3caf8532054143aa8987ee2cf5287d",
      "value": " 511/511 [00:00&lt;00:00, 12.1kB/s]"
     }
    },
    "852b3a2cb22a48aba1180695eb928f5d": {
     "model_module": "@jupyter-widgets/controls",
     "model_module_version": "1.5.0",
     "model_name": "HBoxModel",
     "state": {
      "_dom_classes": [],
      "_model_module": "@jupyter-widgets/controls",
      "_model_module_version": "1.5.0",
      "_model_name": "HBoxModel",
      "_view_count": null,
      "_view_module": "@jupyter-widgets/controls",
      "_view_module_version": "1.5.0",
      "_view_name": "HBoxView",
      "box_style": "",
      "children": [
       "IPY_MODEL_71e9650bc46d4e96b60079fd89cd4bd3",
       "IPY_MODEL_198b9a1865f74436979c474794b776c8",
       "IPY_MODEL_514e86a22e6041978bfe7900f6c9dc78"
      ],
      "layout": "IPY_MODEL_4dca8f35ed3c4904b271113ccc4dcb43"
     }
    },
    "8b33dd6f175e4f1dbc7eb88b3907c390": {
     "model_module": "@jupyter-widgets/base",
     "model_module_version": "1.2.0",
     "model_name": "LayoutModel",
     "state": {
      "_model_module": "@jupyter-widgets/base",
      "_model_module_version": "1.2.0",
      "_model_name": "LayoutModel",
      "_view_count": null,
      "_view_module": "@jupyter-widgets/base",
      "_view_module_version": "1.2.0",
      "_view_name": "LayoutView",
      "align_content": null,
      "align_items": null,
      "align_self": null,
      "border": null,
      "bottom": null,
      "display": null,
      "flex": null,
      "flex_flow": null,
      "grid_area": null,
      "grid_auto_columns": null,
      "grid_auto_flow": null,
      "grid_auto_rows": null,
      "grid_column": null,
      "grid_gap": null,
      "grid_row": null,
      "grid_template_areas": null,
      "grid_template_columns": null,
      "grid_template_rows": null,
      "height": null,
      "justify_content": null,
      "justify_items": null,
      "left": null,
      "margin": null,
      "max_height": null,
      "max_width": null,
      "min_height": null,
      "min_width": null,
      "object_fit": null,
      "object_position": null,
      "order": null,
      "overflow": null,
      "overflow_x": null,
      "overflow_y": null,
      "padding": null,
      "right": null,
      "top": null,
      "visibility": null,
      "width": null
     }
    },
    "8e04214bac7145c2be6979815bc31318": {
     "model_module": "@jupyter-widgets/base",
     "model_module_version": "1.2.0",
     "model_name": "LayoutModel",
     "state": {
      "_model_module": "@jupyter-widgets/base",
      "_model_module_version": "1.2.0",
      "_model_name": "LayoutModel",
      "_view_count": null,
      "_view_module": "@jupyter-widgets/base",
      "_view_module_version": "1.2.0",
      "_view_name": "LayoutView",
      "align_content": null,
      "align_items": null,
      "align_self": null,
      "border": null,
      "bottom": null,
      "display": null,
      "flex": null,
      "flex_flow": null,
      "grid_area": null,
      "grid_auto_columns": null,
      "grid_auto_flow": null,
      "grid_auto_rows": null,
      "grid_column": null,
      "grid_gap": null,
      "grid_row": null,
      "grid_template_areas": null,
      "grid_template_columns": null,
      "grid_template_rows": null,
      "height": null,
      "justify_content": null,
      "justify_items": null,
      "left": null,
      "margin": null,
      "max_height": null,
      "max_width": null,
      "min_height": null,
      "min_width": null,
      "object_fit": null,
      "object_position": null,
      "order": null,
      "overflow": null,
      "overflow_x": null,
      "overflow_y": null,
      "padding": null,
      "right": null,
      "top": null,
      "visibility": null,
      "width": null
     }
    },
    "91584b435e234a2daef09f0c50c1f0ba": {
     "model_module": "@jupyter-widgets/controls",
     "model_module_version": "1.5.0",
     "model_name": "DescriptionStyleModel",
     "state": {
      "_model_module": "@jupyter-widgets/controls",
      "_model_module_version": "1.5.0",
      "_model_name": "DescriptionStyleModel",
      "_view_count": null,
      "_view_module": "@jupyter-widgets/base",
      "_view_module_version": "1.2.0",
      "_view_name": "StyleView",
      "description_width": ""
     }
    },
    "9c93fd5e24884bd7b878da937cef8785": {
     "model_module": "@jupyter-widgets/controls",
     "model_module_version": "1.5.0",
     "model_name": "FloatProgressModel",
     "state": {
      "_dom_classes": [],
      "_model_module": "@jupyter-widgets/controls",
      "_model_module_version": "1.5.0",
      "_model_name": "FloatProgressModel",
      "_view_count": null,
      "_view_module": "@jupyter-widgets/controls",
      "_view_module_version": "1.5.0",
      "_view_name": "ProgressView",
      "bar_style": "success",
      "description": "",
      "description_tooltip": null,
      "layout": "IPY_MODEL_e76bcd4243ed405ba5f1a6a8fcc8d23c",
      "max": 48,
      "min": 0,
      "orientation": "horizontal",
      "style": "IPY_MODEL_e1fbb4183d80453c9d93df246f181738",
      "value": 48
     }
    },
    "9d56b28f4bfa4dfc9056472cc2e8fbb1": {
     "model_module": "@jupyter-widgets/controls",
     "model_module_version": "1.5.0",
     "model_name": "HTMLModel",
     "state": {
      "_dom_classes": [],
      "_model_module": "@jupyter-widgets/controls",
      "_model_module_version": "1.5.0",
      "_model_name": "HTMLModel",
      "_view_count": null,
      "_view_module": "@jupyter-widgets/controls",
      "_view_module_version": "1.5.0",
      "_view_name": "HTMLView",
      "description": "",
      "description_tooltip": null,
      "layout": "IPY_MODEL_6749834c5d634fb489f9caa40d06e919",
      "placeholder": "​",
      "style": "IPY_MODEL_b3da0876012a4776a8e5111b7a5124e7",
      "value": "Downloading: 100%"
     }
    },
    "a984548b7913464e84e34ae164572344": {
     "model_module": "@jupyter-widgets/controls",
     "model_module_version": "1.5.0",
     "model_name": "FloatProgressModel",
     "state": {
      "_dom_classes": [],
      "_model_module": "@jupyter-widgets/controls",
      "_model_module_version": "1.5.0",
      "_model_name": "FloatProgressModel",
      "_view_count": null,
      "_view_module": "@jupyter-widgets/controls",
      "_view_module_version": "1.5.0",
      "_view_name": "ProgressView",
      "bar_style": "success",
      "description": "",
      "description_tooltip": null,
      "layout": "IPY_MODEL_abff3b1eea404a279e19a4d18e53ef25",
      "max": 231508,
      "min": 0,
      "orientation": "horizontal",
      "style": "IPY_MODEL_2257268a0db34a55acb05001cc620f6c",
      "value": 231508
     }
    },
    "abff3b1eea404a279e19a4d18e53ef25": {
     "model_module": "@jupyter-widgets/base",
     "model_module_version": "1.2.0",
     "model_name": "LayoutModel",
     "state": {
      "_model_module": "@jupyter-widgets/base",
      "_model_module_version": "1.2.0",
      "_model_name": "LayoutModel",
      "_view_count": null,
      "_view_module": "@jupyter-widgets/base",
      "_view_module_version": "1.2.0",
      "_view_name": "LayoutView",
      "align_content": null,
      "align_items": null,
      "align_self": null,
      "border": null,
      "bottom": null,
      "display": null,
      "flex": null,
      "flex_flow": null,
      "grid_area": null,
      "grid_auto_columns": null,
      "grid_auto_flow": null,
      "grid_auto_rows": null,
      "grid_column": null,
      "grid_gap": null,
      "grid_row": null,
      "grid_template_areas": null,
      "grid_template_columns": null,
      "grid_template_rows": null,
      "height": null,
      "justify_content": null,
      "justify_items": null,
      "left": null,
      "margin": null,
      "max_height": null,
      "max_width": null,
      "min_height": null,
      "min_width": null,
      "object_fit": null,
      "object_position": null,
      "order": null,
      "overflow": null,
      "overflow_x": null,
      "overflow_y": null,
      "padding": null,
      "right": null,
      "top": null,
      "visibility": null,
      "width": null
     }
    },
    "ac23417c8a664d9faacf3ac36f799274": {
     "model_module": "@jupyter-widgets/controls",
     "model_module_version": "1.5.0",
     "model_name": "HTMLModel",
     "state": {
      "_dom_classes": [],
      "_model_module": "@jupyter-widgets/controls",
      "_model_module_version": "1.5.0",
      "_model_name": "HTMLModel",
      "_view_count": null,
      "_view_module": "@jupyter-widgets/controls",
      "_view_module_version": "1.5.0",
      "_view_name": "HTMLView",
      "description": "",
      "description_tooltip": null,
      "layout": "IPY_MODEL_01c05c5edd96404bb95edf5924dba749",
      "placeholder": "​",
      "style": "IPY_MODEL_4216c7e1b310499aaa2af779a3add1c0",
      "value": "Downloading: 100%"
     }
    },
    "b3da0876012a4776a8e5111b7a5124e7": {
     "model_module": "@jupyter-widgets/controls",
     "model_module_version": "1.5.0",
     "model_name": "DescriptionStyleModel",
     "state": {
      "_model_module": "@jupyter-widgets/controls",
      "_model_module_version": "1.5.0",
      "_model_name": "DescriptionStyleModel",
      "_view_count": null,
      "_view_module": "@jupyter-widgets/base",
      "_view_module_version": "1.2.0",
      "_view_name": "StyleView",
      "description_width": ""
     }
    },
    "bebe4c104b634d83aef7bb3a13160d33": {
     "model_module": "@jupyter-widgets/base",
     "model_module_version": "1.2.0",
     "model_name": "LayoutModel",
     "state": {
      "_model_module": "@jupyter-widgets/base",
      "_model_module_version": "1.2.0",
      "_model_name": "LayoutModel",
      "_view_count": null,
      "_view_module": "@jupyter-widgets/base",
      "_view_module_version": "1.2.0",
      "_view_name": "LayoutView",
      "align_content": null,
      "align_items": null,
      "align_self": null,
      "border": null,
      "bottom": null,
      "display": null,
      "flex": null,
      "flex_flow": null,
      "grid_area": null,
      "grid_auto_columns": null,
      "grid_auto_flow": null,
      "grid_auto_rows": null,
      "grid_column": null,
      "grid_gap": null,
      "grid_row": null,
      "grid_template_areas": null,
      "grid_template_columns": null,
      "grid_template_rows": null,
      "height": null,
      "justify_content": null,
      "justify_items": null,
      "left": null,
      "margin": null,
      "max_height": null,
      "max_width": null,
      "min_height": null,
      "min_width": null,
      "object_fit": null,
      "object_position": null,
      "order": null,
      "overflow": null,
      "overflow_x": null,
      "overflow_y": null,
      "padding": null,
      "right": null,
      "top": null,
      "visibility": null,
      "width": null
     }
    },
    "c4195ee9e1474d9f90537e58c13c53e7": {
     "model_module": "@jupyter-widgets/controls",
     "model_module_version": "1.5.0",
     "model_name": "HBoxModel",
     "state": {
      "_dom_classes": [],
      "_model_module": "@jupyter-widgets/controls",
      "_model_module_version": "1.5.0",
      "_model_name": "HBoxModel",
      "_view_count": null,
      "_view_module": "@jupyter-widgets/controls",
      "_view_module_version": "1.5.0",
      "_view_name": "HBoxView",
      "box_style": "",
      "children": [
       "IPY_MODEL_f12d629acd084852a1de509e3fefc6a0",
       "IPY_MODEL_4f43299f09174782b2e535e35370fe76",
       "IPY_MODEL_0d4a372414b24eefbf49b63de1cf761d"
      ],
      "layout": "IPY_MODEL_4056f4c413464395b14f50e201ecd202"
     }
    },
    "c8e9bcb8ce6548b7b3ec16bbeffa2ccd": {
     "model_module": "@jupyter-widgets/controls",
     "model_module_version": "1.5.0",
     "model_name": "HTMLModel",
     "state": {
      "_dom_classes": [],
      "_model_module": "@jupyter-widgets/controls",
      "_model_module_version": "1.5.0",
      "_model_name": "HTMLModel",
      "_view_count": null,
      "_view_module": "@jupyter-widgets/controls",
      "_view_module_version": "1.5.0",
      "_view_name": "HTMLView",
      "description": "",
      "description_tooltip": null,
      "layout": "IPY_MODEL_400a2074d566407cb1e9fca6b6b1c885",
      "placeholder": "​",
      "style": "IPY_MODEL_55cc1a3b6d9646b1b079dd326dc8ded6",
      "value": "Downloading: 100%"
     }
    },
    "cafb3249fca54272a238e38a326d06e7": {
     "model_module": "@jupyter-widgets/controls",
     "model_module_version": "1.5.0",
     "model_name": "DescriptionStyleModel",
     "state": {
      "_model_module": "@jupyter-widgets/controls",
      "_model_module_version": "1.5.0",
      "_model_name": "DescriptionStyleModel",
      "_view_count": null,
      "_view_module": "@jupyter-widgets/base",
      "_view_module_version": "1.2.0",
      "_view_name": "StyleView",
      "description_width": ""
     }
    },
    "cb8a658772604cb380d8923e24d1ed8a": {
     "model_module": "@jupyter-widgets/controls",
     "model_module_version": "1.5.0",
     "model_name": "HTMLModel",
     "state": {
      "_dom_classes": [],
      "_model_module": "@jupyter-widgets/controls",
      "_model_module_version": "1.5.0",
      "_model_name": "HTMLModel",
      "_view_count": null,
      "_view_module": "@jupyter-widgets/controls",
      "_view_module_version": "1.5.0",
      "_view_name": "HTMLView",
      "description": "",
      "description_tooltip": null,
      "layout": "IPY_MODEL_48a8ad5f00384bd1a0a96b6a322b9147",
      "placeholder": "​",
      "style": "IPY_MODEL_dd806d460957499e8c06e9b5affe5b44",
      "value": "Downloading: 100%"
     }
    },
    "d2afd14d8be745c0b966347052bf9bc2": {
     "model_module": "@jupyter-widgets/base",
     "model_module_version": "1.2.0",
     "model_name": "LayoutModel",
     "state": {
      "_model_module": "@jupyter-widgets/base",
      "_model_module_version": "1.2.0",
      "_model_name": "LayoutModel",
      "_view_count": null,
      "_view_module": "@jupyter-widgets/base",
      "_view_module_version": "1.2.0",
      "_view_name": "LayoutView",
      "align_content": null,
      "align_items": null,
      "align_self": null,
      "border": null,
      "bottom": null,
      "display": null,
      "flex": null,
      "flex_flow": null,
      "grid_area": null,
      "grid_auto_columns": null,
      "grid_auto_flow": null,
      "grid_auto_rows": null,
      "grid_column": null,
      "grid_gap": null,
      "grid_row": null,
      "grid_template_areas": null,
      "grid_template_columns": null,
      "grid_template_rows": null,
      "height": null,
      "justify_content": null,
      "justify_items": null,
      "left": null,
      "margin": null,
      "max_height": null,
      "max_width": null,
      "min_height": null,
      "min_width": null,
      "object_fit": null,
      "object_position": null,
      "order": null,
      "overflow": null,
      "overflow_x": null,
      "overflow_y": null,
      "padding": null,
      "right": null,
      "top": null,
      "visibility": null,
      "width": null
     }
    },
    "d683fce67c3e4830a80fa7ba9dd89c3d": {
     "model_module": "@jupyter-widgets/controls",
     "model_module_version": "1.5.0",
     "model_name": "DescriptionStyleModel",
     "state": {
      "_model_module": "@jupyter-widgets/controls",
      "_model_module_version": "1.5.0",
      "_model_name": "DescriptionStyleModel",
      "_view_count": null,
      "_view_module": "@jupyter-widgets/base",
      "_view_module_version": "1.2.0",
      "_view_name": "StyleView",
      "description_width": ""
     }
    },
    "dbcaa8f3bbd743329f651105623951e7": {
     "model_module": "@jupyter-widgets/base",
     "model_module_version": "1.2.0",
     "model_name": "LayoutModel",
     "state": {
      "_model_module": "@jupyter-widgets/base",
      "_model_module_version": "1.2.0",
      "_model_name": "LayoutModel",
      "_view_count": null,
      "_view_module": "@jupyter-widgets/base",
      "_view_module_version": "1.2.0",
      "_view_name": "LayoutView",
      "align_content": null,
      "align_items": null,
      "align_self": null,
      "border": null,
      "bottom": null,
      "display": null,
      "flex": null,
      "flex_flow": null,
      "grid_area": null,
      "grid_auto_columns": null,
      "grid_auto_flow": null,
      "grid_auto_rows": null,
      "grid_column": null,
      "grid_gap": null,
      "grid_row": null,
      "grid_template_areas": null,
      "grid_template_columns": null,
      "grid_template_rows": null,
      "height": null,
      "justify_content": null,
      "justify_items": null,
      "left": null,
      "margin": null,
      "max_height": null,
      "max_width": null,
      "min_height": null,
      "min_width": null,
      "object_fit": null,
      "object_position": null,
      "order": null,
      "overflow": null,
      "overflow_x": null,
      "overflow_y": null,
      "padding": null,
      "right": null,
      "top": null,
      "visibility": null,
      "width": null
     }
    },
    "dd46519b19fc44858da16e4fb78068f4": {
     "model_module": "@jupyter-widgets/controls",
     "model_module_version": "1.5.0",
     "model_name": "ProgressStyleModel",
     "state": {
      "_model_module": "@jupyter-widgets/controls",
      "_model_module_version": "1.5.0",
      "_model_name": "ProgressStyleModel",
      "_view_count": null,
      "_view_module": "@jupyter-widgets/base",
      "_view_module_version": "1.2.0",
      "_view_name": "StyleView",
      "bar_color": null,
      "description_width": ""
     }
    },
    "dd806d460957499e8c06e9b5affe5b44": {
     "model_module": "@jupyter-widgets/controls",
     "model_module_version": "1.5.0",
     "model_name": "DescriptionStyleModel",
     "state": {
      "_model_module": "@jupyter-widgets/controls",
      "_model_module_version": "1.5.0",
      "_model_name": "DescriptionStyleModel",
      "_view_count": null,
      "_view_module": "@jupyter-widgets/base",
      "_view_module_version": "1.2.0",
      "_view_name": "StyleView",
      "description_width": ""
     }
    },
    "e1fbb4183d80453c9d93df246f181738": {
     "model_module": "@jupyter-widgets/controls",
     "model_module_version": "1.5.0",
     "model_name": "ProgressStyleModel",
     "state": {
      "_model_module": "@jupyter-widgets/controls",
      "_model_module_version": "1.5.0",
      "_model_name": "ProgressStyleModel",
      "_view_count": null,
      "_view_module": "@jupyter-widgets/base",
      "_view_module_version": "1.2.0",
      "_view_name": "StyleView",
      "bar_color": null,
      "description_width": ""
     }
    },
    "e32349c271fd4636a7a2606dea59ff5c": {
     "model_module": "@jupyter-widgets/controls",
     "model_module_version": "1.5.0",
     "model_name": "DescriptionStyleModel",
     "state": {
      "_model_module": "@jupyter-widgets/controls",
      "_model_module_version": "1.5.0",
      "_model_name": "DescriptionStyleModel",
      "_view_count": null,
      "_view_module": "@jupyter-widgets/base",
      "_view_module_version": "1.2.0",
      "_view_name": "StyleView",
      "description_width": ""
     }
    },
    "e706fbd2ccd141b1b297803f8a631a21": {
     "model_module": "@jupyter-widgets/base",
     "model_module_version": "1.2.0",
     "model_name": "LayoutModel",
     "state": {
      "_model_module": "@jupyter-widgets/base",
      "_model_module_version": "1.2.0",
      "_model_name": "LayoutModel",
      "_view_count": null,
      "_view_module": "@jupyter-widgets/base",
      "_view_module_version": "1.2.0",
      "_view_name": "LayoutView",
      "align_content": null,
      "align_items": null,
      "align_self": null,
      "border": null,
      "bottom": null,
      "display": null,
      "flex": null,
      "flex_flow": null,
      "grid_area": null,
      "grid_auto_columns": null,
      "grid_auto_flow": null,
      "grid_auto_rows": null,
      "grid_column": null,
      "grid_gap": null,
      "grid_row": null,
      "grid_template_areas": null,
      "grid_template_columns": null,
      "grid_template_rows": null,
      "height": null,
      "justify_content": null,
      "justify_items": null,
      "left": null,
      "margin": null,
      "max_height": null,
      "max_width": null,
      "min_height": null,
      "min_width": null,
      "object_fit": null,
      "object_position": null,
      "order": null,
      "overflow": null,
      "overflow_x": null,
      "overflow_y": null,
      "padding": null,
      "right": null,
      "top": null,
      "visibility": null,
      "width": null
     }
    },
    "e76bcd4243ed405ba5f1a6a8fcc8d23c": {
     "model_module": "@jupyter-widgets/base",
     "model_module_version": "1.2.0",
     "model_name": "LayoutModel",
     "state": {
      "_model_module": "@jupyter-widgets/base",
      "_model_module_version": "1.2.0",
      "_model_name": "LayoutModel",
      "_view_count": null,
      "_view_module": "@jupyter-widgets/base",
      "_view_module_version": "1.2.0",
      "_view_name": "LayoutView",
      "align_content": null,
      "align_items": null,
      "align_self": null,
      "border": null,
      "bottom": null,
      "display": null,
      "flex": null,
      "flex_flow": null,
      "grid_area": null,
      "grid_auto_columns": null,
      "grid_auto_flow": null,
      "grid_auto_rows": null,
      "grid_column": null,
      "grid_gap": null,
      "grid_row": null,
      "grid_template_areas": null,
      "grid_template_columns": null,
      "grid_template_rows": null,
      "height": null,
      "justify_content": null,
      "justify_items": null,
      "left": null,
      "margin": null,
      "max_height": null,
      "max_width": null,
      "min_height": null,
      "min_width": null,
      "object_fit": null,
      "object_position": null,
      "order": null,
      "overflow": null,
      "overflow_x": null,
      "overflow_y": null,
      "padding": null,
      "right": null,
      "top": null,
      "visibility": null,
      "width": null
     }
    },
    "ed558a3538c84a558fc76485a472f317": {
     "model_module": "@jupyter-widgets/controls",
     "model_module_version": "1.5.0",
     "model_name": "HBoxModel",
     "state": {
      "_dom_classes": [],
      "_model_module": "@jupyter-widgets/controls",
      "_model_module_version": "1.5.0",
      "_model_name": "HBoxModel",
      "_view_count": null,
      "_view_module": "@jupyter-widgets/controls",
      "_view_module_version": "1.5.0",
      "_view_name": "HBoxView",
      "box_style": "",
      "children": [
       "IPY_MODEL_cb8a658772604cb380d8923e24d1ed8a",
       "IPY_MODEL_a984548b7913464e84e34ae164572344",
       "IPY_MODEL_7b7eb117f3014f3e93e93273fdaca946"
      ],
      "layout": "IPY_MODEL_f509b4f18e6d4fc2a269b0b26851c4d8"
     }
    },
    "f12d629acd084852a1de509e3fefc6a0": {
     "model_module": "@jupyter-widgets/controls",
     "model_module_version": "1.5.0",
     "model_name": "HTMLModel",
     "state": {
      "_dom_classes": [],
      "_model_module": "@jupyter-widgets/controls",
      "_model_module_version": "1.5.0",
      "_model_name": "HTMLModel",
      "_view_count": null,
      "_view_module": "@jupyter-widgets/controls",
      "_view_module_version": "1.5.0",
      "_view_name": "HTMLView",
      "description": "",
      "description_tooltip": null,
      "layout": "IPY_MODEL_03d0d7c55f88493f8ba519bd22351b66",
      "placeholder": "​",
      "style": "IPY_MODEL_e32349c271fd4636a7a2606dea59ff5c",
      "value": "100%"
     }
    },
    "f509b4f18e6d4fc2a269b0b26851c4d8": {
     "model_module": "@jupyter-widgets/base",
     "model_module_version": "1.2.0",
     "model_name": "LayoutModel",
     "state": {
      "_model_module": "@jupyter-widgets/base",
      "_model_module_version": "1.2.0",
      "_model_name": "LayoutModel",
      "_view_count": null,
      "_view_module": "@jupyter-widgets/base",
      "_view_module_version": "1.2.0",
      "_view_name": "LayoutView",
      "align_content": null,
      "align_items": null,
      "align_self": null,
      "border": null,
      "bottom": null,
      "display": null,
      "flex": null,
      "flex_flow": null,
      "grid_area": null,
      "grid_auto_columns": null,
      "grid_auto_flow": null,
      "grid_auto_rows": null,
      "grid_column": null,
      "grid_gap": null,
      "grid_row": null,
      "grid_template_areas": null,
      "grid_template_columns": null,
      "grid_template_rows": null,
      "height": null,
      "justify_content": null,
      "justify_items": null,
      "left": null,
      "margin": null,
      "max_height": null,
      "max_width": null,
      "min_height": null,
      "min_width": null,
      "object_fit": null,
      "object_position": null,
      "order": null,
      "overflow": null,
      "overflow_x": null,
      "overflow_y": null,
      "padding": null,
      "right": null,
      "top": null,
      "visibility": null,
      "width": null
     }
    },
    "f5b348eb8b2549238f4247f1e886fff5": {
     "model_module": "@jupyter-widgets/controls",
     "model_module_version": "1.5.0",
     "model_name": "HTMLModel",
     "state": {
      "_dom_classes": [],
      "_model_module": "@jupyter-widgets/controls",
      "_model_module_version": "1.5.0",
      "_model_name": "HTMLModel",
      "_view_count": null,
      "_view_module": "@jupyter-widgets/controls",
      "_view_module_version": "1.5.0",
      "_view_name": "HTMLView",
      "description": "",
      "description_tooltip": null,
      "layout": "IPY_MODEL_0a4a9835893e4a618e2f720a3b22b051",
      "placeholder": "​",
      "style": "IPY_MODEL_1b46d00e130540fe802ee7154139d301",
      "value": " 48.0/48.0 [00:00&lt;00:00, 1.11kB/s]"
     }
    },
    "fb7637d741e54334b31efd51ed0c0ef5": {
     "model_module": "@jupyter-widgets/base",
     "model_module_version": "1.2.0",
     "model_name": "LayoutModel",
     "state": {
      "_model_module": "@jupyter-widgets/base",
      "_model_module_version": "1.2.0",
      "_model_name": "LayoutModel",
      "_view_count": null,
      "_view_module": "@jupyter-widgets/base",
      "_view_module_version": "1.2.0",
      "_view_name": "LayoutView",
      "align_content": null,
      "align_items": null,
      "align_self": null,
      "border": null,
      "bottom": null,
      "display": null,
      "flex": null,
      "flex_flow": null,
      "grid_area": null,
      "grid_auto_columns": null,
      "grid_auto_flow": null,
      "grid_auto_rows": null,
      "grid_column": null,
      "grid_gap": null,
      "grid_row": null,
      "grid_template_areas": null,
      "grid_template_columns": null,
      "grid_template_rows": null,
      "height": null,
      "justify_content": null,
      "justify_items": null,
      "left": null,
      "margin": null,
      "max_height": null,
      "max_width": null,
      "min_height": null,
      "min_width": null,
      "object_fit": null,
      "object_position": null,
      "order": null,
      "overflow": null,
      "overflow_x": null,
      "overflow_y": null,
      "padding": null,
      "right": null,
      "top": null,
      "visibility": null,
      "width": null
     }
    },
    "fc3caf8532054143aa8987ee2cf5287d": {
     "model_module": "@jupyter-widgets/controls",
     "model_module_version": "1.5.0",
     "model_name": "DescriptionStyleModel",
     "state": {
      "_model_module": "@jupyter-widgets/controls",
      "_model_module_version": "1.5.0",
      "_model_name": "DescriptionStyleModel",
      "_view_count": null,
      "_view_module": "@jupyter-widgets/base",
      "_view_module_version": "1.2.0",
      "_view_name": "StyleView",
      "description_width": ""
     }
    }
   }
  }
 },
 "nbformat": 4,
 "nbformat_minor": 4
}
