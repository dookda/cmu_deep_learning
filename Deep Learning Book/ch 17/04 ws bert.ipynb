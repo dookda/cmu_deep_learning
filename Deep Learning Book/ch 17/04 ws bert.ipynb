{
 "cells": [
  {
   "cell_type": "markdown",
   "metadata": {
    "id": "hBV0eIBPsQl7"
   },
   "source": [
    "# ws 04 BERT"
   ]
  },
  {
   "cell_type": "code",
   "execution_count": null,
   "metadata": {
    "colab": {
     "base_uri": "https://localhost:8080/"
    },
    "executionInfo": {
     "elapsed": 35101,
     "status": "ok",
     "timestamp": 1634731019160,
     "user": {
      "displayName": "InterMedia",
      "photoUrl": "https://lh3.googleusercontent.com/a/default-user=s64",
      "userId": "14142613053779683115"
     },
     "user_tz": -420
    },
    "id": "ugpOb8N0kCKO",
    "outputId": "4b338d81-c4ac-4e59-a7eb-d9e973b5331c"
   },
   "outputs": [],
   "source": [
    "!pip install ktrain -q"
   ]
  },
  {
   "cell_type": "code",
   "execution_count": null,
   "metadata": {
    "colab": {
     "base_uri": "https://localhost:8080/",
     "height": 35
    },
    "executionInfo": {
     "elapsed": 318,
     "status": "ok",
     "timestamp": 1634732135446,
     "user": {
      "displayName": "InterMedia",
      "photoUrl": "https://lh3.googleusercontent.com/a/default-user=s64",
      "userId": "14142613053779683115"
     },
     "user_tz": -420
    },
    "id": "5Oq3KNAujOpL",
    "outputId": "e8c472d5-2376-45f7-aadf-6f30d4d28e2f"
   },
   "outputs": [],
   "source": [
    "import pandas as pd\n",
    "import numpy as np\n",
    "import ktrain\n",
    "from ktrain import text\n",
    "ktrain.__version__   # 0.28.2"
   ]
  },
  {
   "cell_type": "code",
   "execution_count": null,
   "metadata": {
    "colab": {
     "base_uri": "https://localhost:8080/"
    },
    "executionInfo": {
     "elapsed": 399,
     "status": "ok",
     "timestamp": 1634732236965,
     "user": {
      "displayName": "InterMedia",
      "photoUrl": "https://lh3.googleusercontent.com/a/default-user=s64",
      "userId": "14142613053779683115"
     },
     "user_tz": -420
    },
    "id": "hEYyC8niswt1",
    "outputId": "bc684bab-9a0c-4194-928a-65a8d25c1dff"
   },
   "outputs": [],
   "source": [
    "!nvidia-smi"
   ]
  },
  {
   "cell_type": "code",
   "execution_count": null,
   "metadata": {
    "colab": {
     "base_uri": "https://localhost:8080/"
    },
    "executionInfo": {
     "elapsed": 23543,
     "status": "ok",
     "timestamp": 1634731161411,
     "user": {
      "displayName": "InterMedia",
      "photoUrl": "https://lh3.googleusercontent.com/a/default-user=s64",
      "userId": "14142613053779683115"
     },
     "user_tz": -420
    },
    "id": "yJymCFCUkgwY",
    "outputId": "cb2ed2a1-fade-4d49-8d07-c52f2d6ebf01"
   },
   "outputs": [],
   "source": [
    "# mount drive \n",
    "from google.colab import drive\n",
    "drive.mount('/content/drive')\n",
    "\n",
    "%ls '/content/drive/MyDrive/Colab Notebooks/datasets'"
   ]
  },
  {
   "cell_type": "code",
   "execution_count": null,
   "metadata": {
    "colab": {
     "base_uri": "https://localhost:8080/",
     "height": 202
    },
    "executionInfo": {
     "elapsed": 2783,
     "status": "ok",
     "timestamp": 1634731168478,
     "user": {
      "displayName": "InterMedia",
      "photoUrl": "https://lh3.googleusercontent.com/a/default-user=s64",
      "userId": "14142613053779683115"
     },
     "user_tz": -420
    },
    "id": "EHAcOxnRk1Yn",
    "outputId": "20195441-91c9-441f-c0e7-5d7c6be47c8f"
   },
   "outputs": [],
   "source": [
    "uri = '/content/drive/MyDrive/Colab Notebooks/datasets/IMDB Dataset.csv'\n",
    "df = pd.read_csv(uri, encoding='utf-8')\n",
    "df.head()"
   ]
  },
  {
   "cell_type": "code",
   "execution_count": null,
   "metadata": {
    "colab": {
     "base_uri": "https://localhost:8080/"
    },
    "executionInfo": {
     "elapsed": 336,
     "status": "ok",
     "timestamp": 1634726162013,
     "user": {
      "displayName": "InterMedia",
      "photoUrl": "https://lh3.googleusercontent.com/a/default-user=s64",
      "userId": "14142613053779683115"
     },
     "user_tz": -420
    },
    "id": "akPtQqsjYqbg",
    "outputId": "6ea640c9-94f5-4017-d84e-0ae789a6df6d"
   },
   "outputs": [],
   "source": [
    "df.sentiment.unique()"
   ]
  },
  {
   "cell_type": "code",
   "execution_count": null,
   "metadata": {
    "colab": {
     "base_uri": "https://localhost:8080/",
     "height": 142
    },
    "executionInfo": {
     "elapsed": 304,
     "status": "ok",
     "timestamp": 1634726167498,
     "user": {
      "displayName": "InterMedia",
      "photoUrl": "https://lh3.googleusercontent.com/a/default-user=s64",
      "userId": "14142613053779683115"
     },
     "user_tz": -420
    },
    "id": "c029gXerYqJr",
    "outputId": "4f932694-0543-4c37-cfde-c7efc35e16db"
   },
   "outputs": [],
   "source": [
    "df.groupby('sentiment').count()"
   ]
  },
  {
   "cell_type": "code",
   "execution_count": null,
   "metadata": {
    "colab": {
     "base_uri": "https://localhost:8080/"
    },
    "executionInfo": {
     "elapsed": 327,
     "status": "ok",
     "timestamp": 1634731197972,
     "user": {
      "displayName": "InterMedia",
      "photoUrl": "https://lh3.googleusercontent.com/a/default-user=s64",
      "userId": "14142613053779683115"
     },
     "user_tz": -420
    },
    "id": "-HaBTqstdIBx",
    "outputId": "85d74f5d-52f4-46e5-8f4f-17c08ad2c7b2"
   },
   "outputs": [],
   "source": [
    "_, class_names = pd.factorize(df.sentiment)\n",
    "class_names.to_list()"
   ]
  },
  {
   "cell_type": "code",
   "execution_count": null,
   "metadata": {
    "colab": {
     "base_uri": "https://localhost:8080/"
    },
    "executionInfo": {
     "elapsed": 316,
     "status": "ok",
     "timestamp": 1634731219816,
     "user": {
      "displayName": "InterMedia",
      "photoUrl": "https://lh3.googleusercontent.com/a/default-user=s64",
      "userId": "14142613053779683115"
     },
     "user_tz": -420
    },
    "id": "B-Mml2IukpOa",
    "outputId": "4e4c7f8e-7ca3-493c-ce72-a5dc7515a655"
   },
   "outputs": [],
   "source": [
    "idx.shape"
   ]
  },
  {
   "cell_type": "markdown",
   "metadata": {
    "id": "DQhSbVzTXW0U"
   },
   "source": [
    "Train test "
   ]
  },
  {
   "cell_type": "code",
   "execution_count": null,
   "metadata": {
    "executionInfo": {
     "elapsed": 342,
     "status": "ok",
     "timestamp": 1634733218083,
     "user": {
      "displayName": "InterMedia",
      "photoUrl": "https://lh3.googleusercontent.com/a/default-user=s64",
      "userId": "14142613053779683115"
     },
     "user_tz": -420
    },
    "id": "7qXyehsGXUYa"
   },
   "outputs": [],
   "source": [
    "from sklearn.model_selection import train_test_split\n",
    "\n",
    "# X_train, X_test, y_train, y_test = train_test_split(df.review, df.sentiment, \n",
    "#                                                     test_size=.5, random_state=1)\n",
    "\n",
    "X_train, X_test, y_train, y_test = train_test_split(df.review[:2000],\n",
    "                                                    df.sentiment[:2000], \n",
    "                                                    test_size=.5, random_state=1)"
   ]
  },
  {
   "cell_type": "code",
   "execution_count": null,
   "metadata": {
    "colab": {
     "base_uri": "https://localhost:8080/"
    },
    "executionInfo": {
     "elapsed": 310,
     "status": "ok",
     "timestamp": 1634733222124,
     "user": {
      "displayName": "InterMedia",
      "photoUrl": "https://lh3.googleusercontent.com/a/default-user=s64",
      "userId": "14142613053779683115"
     },
     "user_tz": -420
    },
    "id": "pqe0bcl3mTOw",
    "outputId": "254b408a-7354-42b9-8ebe-41d3ec27db57"
   },
   "outputs": [],
   "source": [
    "X_train.shape, y_train.shape"
   ]
  },
  {
   "cell_type": "markdown",
   "metadata": {
    "id": "7MHWb8G3XS_4"
   },
   "source": []
  },
  {
   "cell_type": "code",
   "execution_count": null,
   "metadata": {
    "colab": {
     "base_uri": "https://localhost:8080/"
    },
    "executionInfo": {
     "elapsed": 334,
     "status": "ok",
     "timestamp": 1634733233272,
     "user": {
      "displayName": "InterMedia",
      "photoUrl": "https://lh3.googleusercontent.com/a/default-user=s64",
      "userId": "14142613053779683115"
     },
     "user_tz": -420
    },
    "id": "FLIzDCeIXVDj",
    "outputId": "515afcad-8aa6-43f9-8ecd-070098b07cff"
   },
   "outputs": [],
   "source": [
    "# Transformer Model\n",
    "pretrain_model = 'distilbert-base-uncased'\n",
    "transformer = text.Transformer(pretrain_model, maxlen=250,  # 400\n",
    "                               classes=class_names.to_list()) #  = [0,1])"
   ]
  },
  {
   "cell_type": "code",
   "execution_count": null,
   "metadata": {
    "colab": {
     "base_uri": "https://localhost:8080/",
     "height": 288
    },
    "executionInfo": {
     "elapsed": 4707,
     "status": "ok",
     "timestamp": 1634733240776,
     "user": {
      "displayName": "InterMedia",
      "photoUrl": "https://lh3.googleusercontent.com/a/default-user=s64",
      "userId": "14142613053779683115"
     },
     "user_tz": -420
    },
    "id": "Kz6FZedfeXsC",
    "outputId": "68d54b42-a897-46d3-ebd4-1ba289deccaa"
   },
   "outputs": [],
   "source": [
    "train = transformer.preprocess_train(X_train.to_list(), y_train.to_list())\n",
    "test = transformer.preprocess_test(X_test.to_list(), y_test.to_list())"
   ]
  },
  {
   "cell_type": "code",
   "execution_count": null,
   "metadata": {
    "colab": {
     "base_uri": "https://localhost:8080/"
    },
    "executionInfo": {
     "elapsed": 318,
     "status": "ok",
     "timestamp": 1634733243875,
     "user": {
      "displayName": "InterMedia",
      "photoUrl": "https://lh3.googleusercontent.com/a/default-user=s64",
      "userId": "14142613053779683115"
     },
     "user_tz": -420
    },
    "id": "CeH04006rKcK",
    "outputId": "a792c88a-cb84-4d4f-f539-24c815d29fdf"
   },
   "outputs": [],
   "source": [
    "train.x.shape"
   ]
  },
  {
   "cell_type": "code",
   "execution_count": null,
   "metadata": {
    "colab": {
     "base_uri": "https://localhost:8080/"
    },
    "executionInfo": {
     "elapsed": 308,
     "status": "ok",
     "timestamp": 1634733257651,
     "user": {
      "displayName": "InterMedia",
      "photoUrl": "https://lh3.googleusercontent.com/a/default-user=s64",
      "userId": "14142613053779683115"
     },
     "user_tz": -420
    },
    "id": "M996vtvirAI7",
    "outputId": "43976794-9990-4133-e2c6-12464cc670ec"
   },
   "outputs": [],
   "source": [
    "train.x[:2]"
   ]
  },
  {
   "cell_type": "code",
   "execution_count": null,
   "metadata": {
    "colab": {
     "base_uri": "https://localhost:8080/"
    },
    "executionInfo": {
     "elapsed": 292,
     "status": "ok",
     "timestamp": 1634733262239,
     "user": {
      "displayName": "InterMedia",
      "photoUrl": "https://lh3.googleusercontent.com/a/default-user=s64",
      "userId": "14142613053779683115"
     },
     "user_tz": -420
    },
    "id": "LQOjCep6tT5Y",
    "outputId": "010d6600-794a-45de-f6d3-93fe4196b5f2"
   },
   "outputs": [],
   "source": [
    "train.y.shape"
   ]
  },
  {
   "cell_type": "markdown",
   "metadata": {
    "id": "WpYhUQzYn1lN"
   },
   "source": [
    "Model"
   ]
  },
  {
   "cell_type": "code",
   "execution_count": null,
   "metadata": {
    "executionInfo": {
     "elapsed": 808,
     "status": "ok",
     "timestamp": 1634733264919,
     "user": {
      "displayName": "InterMedia",
      "photoUrl": "https://lh3.googleusercontent.com/a/default-user=s64",
      "userId": "14142613053779683115"
     },
     "user_tz": -420
    },
    "id": "z9-Qqmvnm6_z"
   },
   "outputs": [],
   "source": [
    "model = transformer.get_classifier()"
   ]
  },
  {
   "cell_type": "code",
   "execution_count": null,
   "metadata": {
    "colab": {
     "base_uri": "https://localhost:8080/"
    },
    "executionInfo": {
     "elapsed": 8,
     "status": "ok",
     "timestamp": 1634733266163,
     "user": {
      "displayName": "InterMedia",
      "photoUrl": "https://lh3.googleusercontent.com/a/default-user=s64",
      "userId": "14142613053779683115"
     },
     "user_tz": -420
    },
    "id": "4bvWG1lLn-i9",
    "outputId": "f2da502a-a7a6-495e-bab8-b9d89ecd42ef"
   },
   "outputs": [],
   "source": [
    "model.summary()"
   ]
  },
  {
   "cell_type": "code",
   "execution_count": null,
   "metadata": {
    "executionInfo": {
     "elapsed": 856,
     "status": "ok",
     "timestamp": 1634733268353,
     "user": {
      "displayName": "InterMedia",
      "photoUrl": "https://lh3.googleusercontent.com/a/default-user=s64",
      "userId": "14142613053779683115"
     },
     "user_tz": -420
    },
    "id": "lGYi1tNvnIWY"
   },
   "outputs": [],
   "source": [
    "learner = ktrain.get_learner(model, train_data=train, \n",
    "                             val_data=test,\n",
    "                             batch_size=16)"
   ]
  },
  {
   "cell_type": "code",
   "execution_count": null,
   "metadata": {
    "colab": {
     "base_uri": "https://localhost:8080/"
    },
    "executionInfo": {
     "elapsed": 274098,
     "status": "ok",
     "timestamp": 1634733544080,
     "user": {
      "displayName": "InterMedia",
      "photoUrl": "https://lh3.googleusercontent.com/a/default-user=s64",
      "userId": "14142613053779683115"
     },
     "user_tz": -420
    },
    "id": "RlCFOWhMno0_",
    "outputId": "f5a8d4aa-d505-48fb-fef7-9f8b713e516c"
   },
   "outputs": [],
   "source": [
    "learner.lr_find()  "
   ]
  },
  {
   "cell_type": "code",
   "execution_count": null,
   "metadata": {
    "colab": {
     "base_uri": "https://localhost:8080/",
     "height": 283
    },
    "executionInfo": {
     "elapsed": 1054,
     "status": "ok",
     "timestamp": 1634733156386,
     "user": {
      "displayName": "InterMedia",
      "photoUrl": "https://lh3.googleusercontent.com/a/default-user=s64",
      "userId": "14142613053779683115"
     },
     "user_tz": -420
    },
    "id": "r_U5XHxvsFaS",
    "outputId": "561a5cae-e05f-4e1b-8b54-ff6327f6a035"
   },
   "outputs": [],
   "source": [
    "learner.lr_plot()"
   ]
  },
  {
   "cell_type": "code",
   "execution_count": null,
   "metadata": {
    "colab": {
     "base_uri": "https://localhost:8080/"
    },
    "id": "iK2HHMmTnoqe",
    "outputId": "3d9d27d0-b18f-4e8c-b92e-a4f5b37ffa0a"
   },
   "outputs": [],
   "source": [
    "learner.fit_onecycle(2e-5, 1) #"
   ]
  },
  {
   "cell_type": "code",
   "execution_count": null,
   "metadata": {
    "colab": {
     "base_uri": "https://localhost:8080/"
    },
    "id": "UyOO2sG7oRE-",
    "outputId": "962c6b39-de13-4856-994b-0dce3dd6e22b"
   },
   "outputs": [],
   "source": [
    "# transformer.get_classes"
   ]
  },
  {
   "cell_type": "code",
   "execution_count": null,
   "metadata": {
    "colab": {
     "base_uri": "https://localhost:8080/"
    },
    "id": "iYhy_gAto284",
    "outputId": "f0d2d860-8d3c-4d9e-f2be-e8f04bb08658"
   },
   "outputs": [],
   "source": [
    "learner.validate(class_names=transformer.get_classes()) "
   ]
  },
  {
   "cell_type": "code",
   "execution_count": null,
   "metadata": {
    "colab": {
     "base_uri": "https://localhost:8080/"
    },
    "id": "9B4QLztv5NFI",
    "outputId": "b57bf591-9253-40ca-eecf-21f33ea55303"
   },
   "outputs": [],
   "source": [
    "learner.view_top_losses(n=3, preproc=transformer) # "
   ]
  },
  {
   "cell_type": "code",
   "execution_count": null,
   "metadata": {
    "colab": {
     "base_uri": "https://localhost:8080/"
    },
    "id": "4O79MskT-qK1",
    "outputId": "29891f97-f591-4d76-c340-7054525ea0ef"
   },
   "outputs": [],
   "source": [
    "test.x[3629]"
   ]
  },
  {
   "cell_type": "code",
   "execution_count": null,
   "metadata": {
    "colab": {
     "base_uri": "https://localhost:8080/",
     "height": 86
    },
    "id": "EyYUDaK2-0j6",
    "outputId": "dbf89e40-b0af-490e-de78-0ebde71d5552"
   },
   "outputs": [],
   "source": [
    "X_test[3629]"
   ]
  },
  {
   "cell_type": "code",
   "execution_count": null,
   "metadata": {
    "colab": {
     "base_uri": "https://localhost:8080/",
     "height": 120
    },
    "id": "-BIUNMKSBP6p",
    "outputId": "78bc45b6-d40e-4367-ae3d-7228a61e8afc"
   },
   "outputs": [],
   "source": [
    "X_test[22232]"
   ]
  },
  {
   "cell_type": "code",
   "execution_count": null,
   "metadata": {
    "colab": {
     "base_uri": "https://localhost:8080/",
     "height": 185
    },
    "id": "ZkkeS64mC1yH",
    "outputId": "001b352c-dde9-484e-dfb6-9d0ef77f1307"
   },
   "outputs": [],
   "source": [
    "test_preprocess = transformer.preprocess_test(['this movie is great'])[0]\n",
    "test_preprocess"
   ]
  },
  {
   "cell_type": "markdown",
   "metadata": {
    "id": "RwZohpmA7W72"
   },
   "source": [
    "Prediction"
   ]
  },
  {
   "cell_type": "code",
   "execution_count": null,
   "metadata": {
    "id": "Cov0HTxY7Ck1"
   },
   "outputs": [],
   "source": [
    "predictor = ktrain.get_predictor(learner.model, transformer) "
   ]
  },
  {
   "cell_type": "code",
   "execution_count": null,
   "metadata": {
    "id": "YMxmkI7u7GZP"
   },
   "outputs": [],
   "source": [
    "new_reviews = [ 'This movie was horrible! The plot was boring. Acting was okay, though.',\n",
    "         'The film really sucked. I want my money back.',\n",
    "        'The plot had too many holes.',\n",
    "        'What a beautiful romantic comedy. 10/10 would see again!', ]\n",
    "\n",
    "comment1 = 'this film is about politics. waste my time and money.'\n",
    "comment2 = 'this film is about politics. It sucks, horrible. Can i get money back'\n",
    "comment3 = 'this film is about politics. i give 5 stars'\n",
    "comment4 = 'this film is about politics. you should watch it.'\n",
    "\n",
    "new_reviews = [comment1, comment2, comment3, comment4]   "
   ]
  },
  {
   "cell_type": "code",
   "execution_count": null,
   "metadata": {
    "colab": {
     "base_uri": "https://localhost:8080/"
    },
    "id": "2xNSaaoD7Jsw",
    "outputId": "9da43d31-f54d-43e5-dda2-9b4669152cc3"
   },
   "outputs": [],
   "source": [
    "predictor.predict(new_reviews)"
   ]
  },
  {
   "cell_type": "code",
   "execution_count": null,
   "metadata": {
    "colab": {
     "base_uri": "https://localhost:8080/"
    },
    "id": "SqWkdCAf7JTe",
    "outputId": "d65a1518-430f-4cb6-e7ae-0c7f228debbf"
   },
   "outputs": [],
   "source": [
    "preds = predictor.predict(new_reviews, return_proba=True)\n",
    "print(preds)"
   ]
  },
  {
   "cell_type": "code",
   "execution_count": null,
   "metadata": {
    "colab": {
     "base_uri": "https://localhost:8080/"
    },
    "id": "6Rs-ycKP7NjT",
    "outputId": "39cd70f2-6b89-4d8d-ffcb-c9eab3ca053a"
   },
   "outputs": [],
   "source": [
    "results = [np.argmax(p) for p in preds]\n",
    "results"
   ]
  },
  {
   "cell_type": "code",
   "execution_count": null,
   "metadata": {
    "colab": {
     "base_uri": "https://localhost:8080/",
     "height": 35
    },
    "id": "NY8FgAyYA_hc",
    "outputId": "751e717c-384e-41e5-d1a3-f98a8541017f"
   },
   "outputs": [],
   "source": [
    "predictor.predict(X_test[3629])"
   ]
  },
  {
   "cell_type": "markdown",
   "metadata": {
    "id": "2Or96q8h6o9y"
   },
   "source": [
    " save the model"
   ]
  },
  {
   "cell_type": "code",
   "execution_count": null,
   "metadata": {
    "id": "veQbRx1i6raL"
   },
   "outputs": [],
   "source": [
    "predictor.save('my_predictor')\n",
    "reload_predictor = ktrain.load_predictor('my_predictor')"
   ]
  },
  {
   "cell_type": "code",
   "execution_count": null,
   "metadata": {
    "id": "odsZXSPR6hcc"
   },
   "outputs": [],
   "source": [
    "# copy to Gdrive\n",
    "# Mount drive\n",
    "# !cp -r 'my_predictor' '/content/drive/MyDrive/Colab Notebooks/distilBERT_imdb'"
   ]
  },
  {
   "cell_type": "code",
   "execution_count": null,
   "metadata": {
    "colab": {
     "base_uri": "https://localhost:8080/"
    },
    "id": "oBErD3nQAWsk",
    "outputId": "01c4c209-a6c6-4f4b-fe0c-ddc11c6d47ee"
   },
   "outputs": [],
   "source": [
    "# !ls '/content/drive/MyDrive/Colab Notebooks/distilBERT_imdb'"
   ]
  }
 ],
 "metadata": {
  "accelerator": "GPU",
  "colab": {
   "collapsed_sections": [],
   "name": "imdb_ktrain_1_4_ (1).ipynb",
   "provenance": [],
   "toc_visible": true
  },
  "kernelspec": {
   "display_name": "Python 3 (ipykernel)",
   "language": "python",
   "name": "python3"
  },
  "language_info": {
   "codemirror_mode": {
    "name": "ipython",
    "version": 3
   },
   "file_extension": ".py",
   "mimetype": "text/x-python",
   "name": "python",
   "nbconvert_exporter": "python",
   "pygments_lexer": "ipython3",
   "version": "3.9.7"
  }
 },
 "nbformat": 4,
 "nbformat_minor": 4
}
