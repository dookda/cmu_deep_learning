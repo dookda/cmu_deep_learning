{
 "cells": [
  {
   "cell_type": "markdown",
   "id": "178a4b84-a5d5-4bbb-a45a-bf7e21fc65ad",
   "metadata": {},
   "source": [
    "# ws 06 IBM stock\n",
    "\n",
    "download - https://www.kaggle.com/thebrownviking20/intro-to-recurrent-neural-networks-lstm-gru/data?select=IBM_2006-01-01_to_2018-01-01.csv"
   ]
  },
  {
   "cell_type": "code",
   "execution_count": null,
   "id": "147532e7-a41a-433b-8ecb-febf2b35ec08",
   "metadata": {},
   "outputs": [],
   "source": [
    "import numpy as np\n",
    "import pandas as pd\n",
    "import matplotlib.pyplot as plt\n",
    "\n",
    "from tensorflow.keras import Sequential\n",
    "from tensorflow.keras.layers import LSTM, GRU, Dense, Dropout #"
   ]
  },
  {
   "cell_type": "code",
   "execution_count": null,
   "id": "2d828b26-6b66-4fbd-97e6-72eb3e0bbd96",
   "metadata": {},
   "outputs": [],
   "source": [
    "df = pd.read_csv('./datasets/IBM_2006-01-01_to_2018-01-01.csv',index_col='Date')\n",
    "df.index = pd.to_datetime(df.index)\n",
    "\n",
    "df.head()"
   ]
  },
  {
   "cell_type": "code",
   "execution_count": null,
   "id": "7a33e607-c32c-485d-b92d-acf575a288c9",
   "metadata": {},
   "outputs": [],
   "source": [
    "df.isnull().sum()"
   ]
  },
  {
   "cell_type": "code",
   "execution_count": null,
   "id": "696f643d-c1e3-4a6c-be20-406f4f8cdb01",
   "metadata": {},
   "outputs": [],
   "source": [
    "df = df.Close\n",
    "\n",
    "df.head()\n"
   ]
  },
  {
   "cell_type": "code",
   "execution_count": null,
   "id": "9f9a7f46-7992-4114-8e24-13b3dd1dd7bb",
   "metadata": {},
   "outputs": [],
   "source": [
    "df[:'2016'].plot(figsize=(10, 3.5),legend=True) \n",
    "df['2017':].plot(figsize=(10, 3.5),legend=True)\n",
    "plt.legend(['Training set (before 2017)','Test set (since 2017)'])\n",
    "plt.title('IBM stock price')\n",
    "\n",
    "plt.show()"
   ]
  },
  {
   "cell_type": "code",
   "execution_count": null,
   "id": "a50627c2-aedb-4567-929c-79769b3dc914",
   "metadata": {},
   "outputs": [],
   "source": [
    "print('Samples:', df.shape)\n",
    "print('Train set:', df[:'2016'].shape)"
   ]
  },
  {
   "cell_type": "code",
   "execution_count": null,
   "id": "b10c4090-e1d9-4a15-9619-aaee77cd219f",
   "metadata": {},
   "outputs": [],
   "source": [
    "from sklearn.preprocessing import MinMaxScaler\n",
    "\n",
    "data = df.values.reshape(-1, 1)\n",
    "sc = MinMaxScaler()\n",
    "data_sc = sc.fit_transform(data)\n",
    "data_sc[:5]"
   ]
  },
  {
   "cell_type": "code",
   "execution_count": null,
   "id": "fd3e5112-7e91-4052-a319-a74bf65263af",
   "metadata": {},
   "outputs": [],
   "source": [
    "def convertToMatrix(data, step=1):\n",
    "    X, Y = [], []\n",
    "    for i in range(len(data)-step):\n",
    "        d = i + step  \n",
    "        X.append(data[i:d,])\n",
    "        Y.append(data[d,])\n",
    "    return np.array(X), np.array(Y)"
   ]
  },
  {
   "cell_type": "code",
   "execution_count": null,
   "id": "f32ced6c-c0f6-4436-b389-95ce3f57b9ea",
   "metadata": {},
   "outputs": [],
   "source": [
    "n_train = 2769\n",
    "\n",
    "train, test = data_sc[0:n_train], data_sc[n_train:]\n",
    "train.shape, test.shape"
   ]
  },
  {
   "cell_type": "code",
   "execution_count": null,
   "id": "57d92fc2-18c2-4ebe-93ed-9cbacbcdec2d",
   "metadata": {},
   "outputs": [],
   "source": [
    "step = 60 \n",
    "\n",
    "X_train, y_train = convertToMatrix(train, step)  \n",
    "X_test, y_test = convertToMatrix(test, step)\n",
    "\n",
    "print('X Train, Test (after conversion):', X_train.shape, X_test.shape)\n",
    "print('y Train, Test (after conversion):', y_train.shape, y_test.shape)"
   ]
  },
  {
   "cell_type": "markdown",
   "id": "448baa3a-5414-4a66-831c-3fef9cf9efda",
   "metadata": {},
   "source": [
    "### Model"
   ]
  },
  {
   "cell_type": "code",
   "execution_count": null,
   "id": "7382b7e4-6bd9-4900-8e6e-b44688df3afe",
   "metadata": {},
   "outputs": [],
   "source": [
    "model = Sequential()\n",
    "\n",
    "# model.add(LSTM(units=50, return_sequences=True, input_shape=(step, 1), activation='relu'))\n",
    "# model.add(Dropout(0.2))\n",
    "# model.add(LSTM(units=40, activation='relu'))\n",
    "# model.add(Dropout(0.2))\n",
    "# model.add(Dense(units=1))  # output\n",
    "\n",
    "# GRU\n",
    "model.add(GRU(units=50, return_sequences=True, input_shape=(step, 1), activation='relu'))\n",
    "model.add(Dropout(0.2))\n",
    "model.add(GRU(units=40, activation='relu'))\n",
    "model.add(Dropout(0.2))\n",
    "model.add(Dense(units=1))\n",
    "\n",
    "model.compile(loss='mean_squared_error', optimizer='rmsprop')\n",
    "model.summary()"
   ]
  },
  {
   "cell_type": "code",
   "execution_count": null,
   "id": "0c7cd68c-5bac-4fb6-ba61-30ea98d07764",
   "metadata": {},
   "outputs": [],
   "source": [
    "history = model.fit(X_train, y_train,epochs=50, batch_size=32, verbose=1)"
   ]
  },
  {
   "cell_type": "code",
   "execution_count": null,
   "id": "c59676c9-8b95-4a8b-a904-da22200c070f",
   "metadata": {},
   "outputs": [],
   "source": [
    "plt.plot(history.history['loss'], label='Train loss')\n",
    "plt.legend()\n",
    "plt.show()"
   ]
  },
  {
   "cell_type": "code",
   "execution_count": null,
   "id": "01caf776-8664-4304-bcae-f8e8e5edcbbc",
   "metadata": {},
   "outputs": [],
   "source": [
    "testPredict = model.predict(X_test) \n",
    "\n",
    "testPredict.shape"
   ]
  },
  {
   "cell_type": "code",
   "execution_count": null,
   "id": "9e1476ee-d998-44ac-bb31-0e23dfb5d054",
   "metadata": {},
   "outputs": [],
   "source": [
    "y_test.shape"
   ]
  },
  {
   "cell_type": "code",
   "execution_count": null,
   "id": "c29a58ce-34d7-42bd-98f3-d2c105456492",
   "metadata": {},
   "outputs": [],
   "source": [
    "print(y_train.shape)\n",
    "sc.inverse_transform(y_train.reshape(-1,1))[:5]"
   ]
  },
  {
   "cell_type": "code",
   "execution_count": null,
   "id": "44ef7674-317e-4408-87ce-a8b1eb24b4c6",
   "metadata": {},
   "outputs": [],
   "source": [
    "from sklearn.metrics import mean_squared_error, r2_score\n",
    "\n",
    "testPredict_inv = sc.inverse_transform(testPredict)\n",
    "\n",
    "y_test_inv = sc.inverse_transform(y_test)\n",
    "\n",
    "r2_test = r2_score(y_test_inv, testPredict_inv) #\n",
    "\n",
    "rmse_test = np.sqrt(mean_squared_error(y_test_inv, testPredict_inv))\n",
    "\n",
    "print('R2 Test: {:.3f}'. format(r2_test))\n",
    "print('RMSE Test: {:.3f}'. format(rmse_test))"
   ]
  },
  {
   "cell_type": "code",
   "execution_count": null,
   "id": "f1db6278-b3a8-4b5d-8395-90c038bc1f5e",
   "metadata": {},
   "outputs": [],
   "source": [
    "plt.figure(figsize=(12-4,3.1))\n",
    "\n",
    "plt.plot(y_test_inv, lw=1.3, label='Dataset (Test)')\n",
    "\n",
    "plt.plot(testPredict_inv, 'r', lw=2.4, label='Prediction')\n",
    "plt.legend()\n",
    "plt.show()"
   ]
  },
  {
   "cell_type": "code",
   "execution_count": null,
   "id": "e70f1818-118c-4b0a-ad0f-fd2d65fa4ddd",
   "metadata": {},
   "outputs": [],
   "source": []
  }
 ],
 "metadata": {
  "kernelspec": {
   "display_name": "Python 3 (ipykernel)",
   "language": "python",
   "name": "python3"
  },
  "language_info": {
   "codemirror_mode": {
    "name": "ipython",
    "version": 3
   },
   "file_extension": ".py",
   "mimetype": "text/x-python",
   "name": "python",
   "nbconvert_exporter": "python",
   "pygments_lexer": "ipython3",
   "version": "3.9.7"
  }
 },
 "nbformat": 4,
 "nbformat_minor": 5
}
