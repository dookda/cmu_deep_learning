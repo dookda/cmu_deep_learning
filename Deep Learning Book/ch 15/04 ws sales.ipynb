{
 "cells": [
  {
   "cell_type": "markdown",
   "id": "16f53bb9-7810-418d-a05e-96e3857b5171",
   "metadata": {},
   "source": [
    "# WS 04, 05"
   ]
  },
  {
   "cell_type": "code",
   "execution_count": null,
   "id": "27f3a687-fac7-46d8-b7b7-ac0eb5e1bcfe",
   "metadata": {},
   "outputs": [],
   "source": [
    "import numpy as np\n",
    "import pandas as pd\n",
    "import matplotlib.pyplot as plt\n",
    "\n",
    "from tensorflow.keras import Sequential\n",
    "from tensorflow.keras.layers import LSTM, Dense "
   ]
  },
  {
   "cell_type": "code",
   "execution_count": null,
   "id": "be6d47bd-0a8c-46c3-8c1d-f8273770b537",
   "metadata": {},
   "outputs": [],
   "source": [
    "# load the dataset\n",
    "path = 'https://raw.githubusercontent.com/jbrownlee/Datasets/master/monthly-car-sales.csv'\n",
    "df = pd.read_csv(path, usecols=['Sales']) \n",
    "df.head()\n",
    "# df.describe()"
   ]
  },
  {
   "cell_type": "code",
   "execution_count": null,
   "id": "58dc2531-dbc1-48bb-9026-58508d7f930b",
   "metadata": {},
   "outputs": [],
   "source": [
    "df.isnull().sum()"
   ]
  },
  {
   "cell_type": "code",
   "execution_count": null,
   "id": "f90d80db-4674-49ab-964a-8e86213b8257",
   "metadata": {},
   "outputs": [],
   "source": [
    "df.shape"
   ]
  },
  {
   "cell_type": "code",
   "execution_count": null,
   "id": "bd703c96-fd10-4cbe-a71a-20ab9908c40c",
   "metadata": {},
   "outputs": [],
   "source": [
    "n_train = int(df.shape[0] * 0.80) \n",
    "n_train"
   ]
  },
  {
   "cell_type": "code",
   "execution_count": null,
   "id": "e4528de8-c397-42a6-abfb-4953523822c7",
   "metadata": {},
   "outputs": [],
   "source": [
    "df.plot()\n",
    "plt.axvline(n_train, c='m', lw=1.0)\n",
    "plt.show()"
   ]
  },
  {
   "cell_type": "code",
   "execution_count": null,
   "id": "a5d7df2e-a9f9-4728-909b-cb9844d29b31",
   "metadata": {},
   "outputs": [],
   "source": [
    "from sklearn.preprocessing import MinMaxScaler\n",
    "\n",
    "sc = MinMaxScaler()\n",
    "data_sc = sc.fit_transform(df.values)\n",
    "data_sc[:5]"
   ]
  },
  {
   "cell_type": "code",
   "execution_count": null,
   "id": "630063fd-7a24-495f-9d46-329999861a8e",
   "metadata": {},
   "outputs": [],
   "source": [
    "plt.figure(figsize=(9,3.5))\n",
    "plt.plot(data_sc)\n",
    "plt.axvline(n_train-1, c='m', lw=1.0)\n",
    "plt.show()"
   ]
  },
  {
   "cell_type": "code",
   "execution_count": null,
   "id": "e4b691d2-0be6-4020-99ca-72c79f619628",
   "metadata": {},
   "outputs": [],
   "source": [
    "# convert into dataset matrix\n",
    "def convertToMatrix(data, step=1): \n",
    "    X, Y = [], []\n",
    "    for i in range(len(data)-step):\n",
    "        d = i + step  \n",
    "        X.append(data[i:d,])\n",
    "        Y.append(data[d,])\n",
    "    return np.array(X), np.array(Y)"
   ]
  },
  {
   "cell_type": "code",
   "execution_count": null,
   "id": "58e90a1e-ff1f-4bf9-abcc-ab8c07d63bf6",
   "metadata": {},
   "outputs": [],
   "source": [
    "train, test = data_sc[0:n_train], data_sc[n_train:]\n",
    "train.shape, test.shape\n"
   ]
  },
  {
   "cell_type": "code",
   "execution_count": null,
   "id": "33300181-ae01-44ca-a5c5-b64c1c167caa",
   "metadata": {},
   "outputs": [],
   "source": [
    "step = 1  #  \n",
    "\n",
    "X_train, y_train = convertToMatrix(train, step)  \n",
    "X_test, y_test = convertToMatrix(test, step)\n",
    "\n",
    "print('Train Test (after conversion):', X_train.shape, X_test.shape)"
   ]
  },
  {
   "cell_type": "code",
   "execution_count": null,
   "id": "82dbdb03-5944-4267-92ce-6d92c9bd6fe7",
   "metadata": {},
   "outputs": [],
   "source": [
    "print(X_train[:5])"
   ]
  },
  {
   "cell_type": "code",
   "execution_count": null,
   "id": "bbd12c65-e3f8-4561-9551-a0ecbb7e2fa2",
   "metadata": {},
   "outputs": [],
   "source": [
    "print(y_train[:7])"
   ]
  },
  {
   "cell_type": "code",
   "execution_count": null,
   "id": "538ef9a5-752f-4dee-a6b4-f41ddc4dbf15",
   "metadata": {},
   "outputs": [],
   "source": [
    "\n",
    "y_train.shape, y_test.shape"
   ]
  },
  {
   "cell_type": "markdown",
   "id": "9d43cc51-2f86-496b-b42a-f3f965370ead",
   "metadata": {},
   "source": [
    "## Model"
   ]
  },
  {
   "cell_type": "code",
   "execution_count": null,
   "id": "87c49fdb-3b4b-4cbd-95d3-dd4afbcddeeb",
   "metadata": {},
   "outputs": [],
   "source": [
    "from tensorflow.keras.layers import GRU\n",
    "\n",
    "model = Sequential()\n",
    "\n",
    "model.add(GRU(units=32, input_shape=(step, 1), activation=\"relu\"))\n",
    "model.add(Dense(1))\n",
    "model.compile(loss='mean_squared_error', optimizer='adam') \n",
    "\n",
    "model.summary()"
   ]
  },
  {
   "cell_type": "code",
   "execution_count": null,
   "id": "ad573d71-b1bf-483b-8ddd-67f723a5ad3b",
   "metadata": {},
   "outputs": [],
   "source": [
    "from tensorflow.keras.utils import plot_model\n",
    "plot_model(model, 'model-car-sales.png', show_shapes=True, show_layer_names=False)# , show_dtype=True, "
   ]
  },
  {
   "cell_type": "code",
   "execution_count": null,
   "id": "07ccc9b4-8fcf-423c-9925-c786148417fd",
   "metadata": {},
   "outputs": [],
   "source": [
    "history = model.fit(X_train, y_train, epochs=20, batch_size=1, verbose=0)"
   ]
  },
  {
   "cell_type": "code",
   "execution_count": null,
   "id": "08521476-1683-4034-a61c-cfc4f4b673cb",
   "metadata": {},
   "outputs": [],
   "source": [
    "plt.plot(history.history['loss'], label='Train loss')\n",
    "plt.legend()\n",
    "plt.show()"
   ]
  },
  {
   "cell_type": "code",
   "execution_count": null,
   "id": "3fcb3860-c03d-4889-878b-bbc219375608",
   "metadata": {},
   "outputs": [],
   "source": [
    "score = model.evaluate(X_test, y_test, verbose=0)\n",
    "print(score)"
   ]
  },
  {
   "cell_type": "code",
   "execution_count": null,
   "id": "20ec8b3c-b325-48e6-aa72-9fc2d0f2a6cf",
   "metadata": {},
   "outputs": [],
   "source": [
    "trainPredict = model.predict(X_train)\n",
    "testPredict = model.predict(X_test)\n",
    "trainPredict.shape, testPredict.shape"
   ]
  },
  {
   "cell_type": "code",
   "execution_count": null,
   "id": "6474d244-9389-444c-b3ab-aeaf7b673383",
   "metadata": {},
   "outputs": [],
   "source": [
    "from sklearn.metrics import mean_squared_error, r2_score\n",
    "\n",
    "trainPredict_inv = sc.inverse_transform(trainPredict)\n",
    "testPredict_inv = sc.inverse_transform(testPredict)\n",
    "y_train_inv = sc.inverse_transform(y_train)\n",
    "y_test_inv = sc.inverse_transform(y_test)\n",
    "\n",
    "r2_train = r2_score(y_train_inv, trainPredict_inv)\n",
    "r2_test = r2_score(y_test_inv, testPredict_inv) #\n",
    "\n",
    "rmse_train = np.sqrt(mean_squared_error(y_train_inv, trainPredict_inv))\n",
    "rmse_test = np.sqrt(mean_squared_error(y_test_inv, testPredict_inv))\n",
    "\n",
    "print('R2 Train: {:.3f}'. format(r2_train))\n",
    "print('R2 Test: {:.3f}'. format(r2_test))\n",
    "\n",
    "print('RMSE Train: {:.3f}'. format(rmse_train))\n",
    "print('RMSE Test: {:.3f}'. format(rmse_test))"
   ]
  },
  {
   "cell_type": "code",
   "execution_count": null,
   "id": "e15e98a4-f343-4f0f-9db3-232f4d0c6640",
   "metadata": {},
   "outputs": [],
   "source": [
    "\n",
    "prefix = np.empty(step).reshape(-1, 1)\n",
    "prefix.fill(np.nan)\n",
    "\n",
    "trainPredict_inv = np.concatenate((prefix, trainPredict_inv), axis=0) \n",
    "testPredict_inv = np.concatenate((prefix, testPredict_inv), axis=0) \n",
    "\n",
    "predict_inv = np.concatenate((trainPredict_inv,testPredict_inv),axis=0)"
   ]
  },
  {
   "cell_type": "code",
   "execution_count": null,
   "id": "a600dde9-4606-4577-910d-0453e6a1bf59",
   "metadata": {},
   "outputs": [],
   "source": [
    "plt.figure(figsize=(8,3.1))\n",
    "plt.plot(df.values, lw=1.0, label='Dataset')\n",
    "\n",
    "plt.plot(predict_inv,'r', lw=2.4, label='Predict')\n",
    "plt.axvline(n_train-step-1, c='m', lw=1.0)\n",
    "plt.legend()\n",
    "plt.show()"
   ]
  },
  {
   "cell_type": "markdown",
   "id": "5bd21575-2cad-4fce-bfbf-35ac5c6cd9f7",
   "metadata": {},
   "source": [
    "### Predict"
   ]
  },
  {
   "cell_type": "code",
   "execution_count": null,
   "id": "d2b703d0-048b-429f-9c1e-38d8300d86a5",
   "metadata": {},
   "outputs": [],
   "source": [
    "X_input = X_train[-step:]\n",
    "\n",
    "print(X_input)\n",
    "X_input.shape"
   ]
  },
  {
   "cell_type": "code",
   "execution_count": null,
   "id": "54ff77aa-0822-42f6-91b8-d49e8e8bf1e6",
   "metadata": {},
   "outputs": [],
   "source": [
    "pred = model.predict(X_input)\n",
    "print(pred.shape)\n",
    "print(pred)\n",
    "pred_inv = sc.inverse_transform(pred)\n",
    "\n",
    "print('Prediction:', pred_inv[-1][-1])"
   ]
  },
  {
   "cell_type": "code",
   "execution_count": null,
   "id": "223623cd-56f6-46a4-a22c-1001152e317b",
   "metadata": {},
   "outputs": [],
   "source": [
    "X_train.shape"
   ]
  },
  {
   "cell_type": "code",
   "execution_count": null,
   "id": "c083abf7-2277-4f03-90f9-cdc9a9a4b733",
   "metadata": {},
   "outputs": [],
   "source": [
    "end = X_train.shape[0] + 1\n",
    "n_back = 6\n",
    "avg_cal = df[end-n_back-1:end-1].sum() / df[end-n_back-1:end-1].count()\n",
    "avg_cal = avg_cal.values[0]\n",
    "print('Estimate the Average: ', avg_cal.round(2))"
   ]
  },
  {
   "cell_type": "code",
   "execution_count": null,
   "id": "f1630190-757e-4342-8e29-eaf1b5cbfb84",
   "metadata": {},
   "outputs": [],
   "source": [
    "y_true = y_train[-1].reshape(-1,1)\n",
    "y_true = sc.inverse_transform(y_true)\n",
    "y_true = np.squeeze(y_true)\n",
    "print('Actual:', y_true)"
   ]
  },
  {
   "cell_type": "code",
   "execution_count": null,
   "id": "c0f604dc-d8f8-4e64-a872-79a944de0b37",
   "metadata": {},
   "outputs": [],
   "source": [
    "h_axis = X_train.shape[0] + 1  #+ step -1\n",
    "print(h_axis)\n",
    "\n",
    "train_inv = sc.inverse_transform(train)\n",
    "\n",
    "plt.figure(figsize=(8-1,3.3))\n",
    "plt.plot(df[:n_train-step], lw=1.0, label='Dataset (Train)')\n",
    "\n",
    "plt.scatter(h_axis, y_true, s=75, label='True')\n",
    "plt.scatter(h_axis, pred_inv[-1], c='r' , marker='s', s=40, label='Prediction')\n",
    "plt.scatter(h_axis, avg_cal, c='m' , marker='x', s=100, label='Average')\n",
    "\n",
    "plt.legend()\n",
    "plt.show()"
   ]
  },
  {
   "cell_type": "code",
   "execution_count": null,
   "id": "12592d70-90aa-453d-9bb0-42c622130127",
   "metadata": {},
   "outputs": [],
   "source": [
    "X_new_inv = sc.inverse_transform(X_new.reshape(-1,1))\n",
    "print('X new input:', np.squeeze(X_new_inv))"
   ]
  },
  {
   "cell_type": "code",
   "execution_count": null,
   "id": "b92b7231-8fc0-439b-a805-fe13497f1b57",
   "metadata": {},
   "outputs": [],
   "source": [
    "df[end-5:end+5]"
   ]
  },
  {
   "cell_type": "code",
   "execution_count": null,
   "id": "19eb2f77-55c7-42b6-800f-d5c55de217e1",
   "metadata": {},
   "outputs": [],
   "source": [
    "\n",
    "h_axis = df.shape[0] + step -1\n",
    "print(h_axis)\n",
    "\n",
    "X_new = X_test[-step:]\n",
    "X_new.shape\n",
    "\n",
    "pred = model.predict(X_new)\n",
    "pred_inv = sc.inverse_transform(pred)\n",
    "print('Prediction:', pred_inv[-1][-1])"
   ]
  },
  {
   "cell_type": "code",
   "execution_count": null,
   "id": "e85a3195-7a61-4aa3-ac98-d258c4c76254",
   "metadata": {},
   "outputs": [],
   "source": [
    "n_back = 6\n",
    "avg_cal = df[- n_back:].sum() / n_back\n",
    "avg_cal = avg_cal.values[0]\n",
    "print('Estimate the Average: ', avg_cal.round(2))"
   ]
  },
  {
   "cell_type": "code",
   "execution_count": null,
   "id": "088a8d59-e3f6-4dcb-82b7-5e437a4fd763",
   "metadata": {},
   "outputs": [],
   "source": [
    "plt.figure(figsize=(9,3.5))\n",
    "\n",
    "plt.plot(df, lw=1.0, label='Dataset')\n",
    "# plt.plot(predict_inv,'g--', label='Pred')\n",
    "plt.plot(predict_inv,'r-',lw=2.0, label='Predict')\n",
    "plt.scatter(h_axis, pred_inv[-1], c='r' , marker='s', s=40, label='Prediction')\n",
    "plt.scatter(h_axis, avg_cal, c='m' , marker='x', s=100, label='Average')\n",
    "plt.axvline(n_train-step-1, c='m', lw=.5)\n",
    "plt.legend()\n",
    "plt.show()\n",
    "\n",
    "# plt.plot(pred_inv)\n",
    "plt.show()\n"
   ]
  },
  {
   "cell_type": "markdown",
   "id": "f3344a08-eab1-4700-bd23-ba813ace1cda",
   "metadata": {},
   "source": [
    "### Poly"
   ]
  },
  {
   "cell_type": "code",
   "execution_count": null,
   "id": "32c8beb1-c8eb-4f44-b6a5-ff49c6612cb7",
   "metadata": {},
   "outputs": [],
   "source": [
    "X = df.index.values.reshape(-1,1)\n",
    "y = df.values     "
   ]
  },
  {
   "cell_type": "code",
   "execution_count": null,
   "id": "52599dc8-5e61-490a-9974-28670be580ff",
   "metadata": {},
   "outputs": [],
   "source": [
    "X[:5]\n",
    "X.shape"
   ]
  },
  {
   "cell_type": "code",
   "execution_count": null,
   "id": "24dcb4ce-7b6c-40e2-a039-ec7ba24989e8",
   "metadata": {},
   "outputs": [],
   "source": [
    "y[:5]\n",
    "y.shape"
   ]
  },
  {
   "cell_type": "code",
   "execution_count": null,
   "id": "7b97f039-e57b-407f-8dc7-61ec9ba7ed67",
   "metadata": {},
   "outputs": [],
   "source": [
    "from sklearn.linear_model import LinearRegression\n",
    "from sklearn.preprocessing import PolynomialFeatures\n",
    "\n",
    "poly_features = PolynomialFeatures(degree=2)\n",
    "x_poly = poly_features.fit_transform(X)\n",
    "\n",
    "model_poly = LinearRegression()\n",
    "model_poly.fit(x_poly, y)"
   ]
  },
  {
   "cell_type": "code",
   "execution_count": null,
   "id": "740871a8-a9fa-4d6b-86f4-b24c7a3e8fa7",
   "metadata": {},
   "outputs": [],
   "source": [
    "h_axis = X_train.shape[0] + 1 \n",
    "print(h_axis)\n",
    "\n",
    "y_poly_pred = model_poly.predict(x_poly)\n",
    "\n",
    "train_inv = sc.inverse_transform(train)\n",
    "\n",
    "plt.figure(figsize=(8-1,3.3))\n",
    "plt.plot(df[:n_train-step], lw=1.0, label='Dataset')\n",
    "\n",
    "plt.scatter(h_axis, y_true, s=75, label='True')\n",
    "plt.scatter(h_axis, pred_inv[-1], c='r' , marker='s', s=40, label='Predict')\n",
    "plt.scatter(h_axis, avg_cal, c='m' , marker='x', s=100, label='Average')\n",
    "\n",
    "plt.plot(X, y_poly_pred, lw=1.5, color='r', label='Poly Reg')  \n",
    "\n",
    "plt.legend(loc=4)\n",
    "\n",
    "plt.show()"
   ]
  },
  {
   "cell_type": "code",
   "execution_count": null,
   "id": "405408b1-fcac-47e9-81cc-5df7b39b4e7e",
   "metadata": {},
   "outputs": [],
   "source": [
    "\n",
    "x_input = [[141]]\n",
    "x_input = [[109]]  \n",
    "y_poly_pred2 = model_poly.predict(poly_features.fit_transform(x_input))\n",
    "y_poly_pred2 = np.squeeze(y_poly_pred2)\n",
    "print('Prediction', y_poly_pred2.round(3))\n",
    "\n"
   ]
  },
  {
   "cell_type": "code",
   "execution_count": null,
   "id": "7dcda270-4381-46cd-807c-9d313bd96b54",
   "metadata": {},
   "outputs": [],
   "source": [
    "print('Actual data:', y_true)\n",
    "print('LSTM Prediction:', pred_inv[-1][-1].round(2))\n",
    "print('Poly Prediction:', y_poly_pred2.round(2))\n",
    "print('Averge Prediction:', avg_cal.round(2))"
   ]
  },
  {
   "cell_type": "code",
   "execution_count": null,
   "id": "90bf1a52-0a4c-4540-8fbb-9b0f64a93898",
   "metadata": {},
   "outputs": [],
   "source": []
  }
 ],
 "metadata": {
  "kernelspec": {
   "display_name": "Python 3 (ipykernel)",
   "language": "python",
   "name": "python3"
  },
  "language_info": {
   "codemirror_mode": {
    "name": "ipython",
    "version": 3
   },
   "file_extension": ".py",
   "mimetype": "text/x-python",
   "name": "python",
   "nbconvert_exporter": "python",
   "pygments_lexer": "ipython3",
   "version": "3.9.7"
  }
 },
 "nbformat": 4,
 "nbformat_minor": 5
}
