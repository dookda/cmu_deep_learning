{
 "cells": [
  {
   "cell_type": "markdown",
   "id": "5446c4e7-718a-46aa-9897-3c1fbc5bc061",
   "metadata": {
    "id": "5446c4e7-718a-46aa-9897-3c1fbc5bc061"
   },
   "source": [
    "# ws 01"
   ]
  },
  {
   "cell_type": "code",
   "execution_count": null,
   "id": "776f888d-7c96-4baa-aa07-96254485f960",
   "metadata": {
    "executionInfo": {
     "elapsed": 2701,
     "status": "ok",
     "timestamp": 1637066713783,
     "user": {
      "displayName": "JKob San",
      "photoUrl": "https://lh3.googleusercontent.com/a-/AOh14GgnClMV_IVnXVunt7D1mXXMatSQTrEGp72MrhCIeQ=s64",
      "userId": "15910273739366067110"
     },
     "user_tz": -420
    },
    "id": "776f888d-7c96-4baa-aa07-96254485f960"
   },
   "outputs": [],
   "source": [
    "from tensorflow.keras.models import Sequential\n",
    "from tensorflow.keras.layers import Dense"
   ]
  },
  {
   "cell_type": "code",
   "execution_count": null,
   "id": "354edd0d-1b9d-4003-ada7-fdce46d8acfd",
   "metadata": {
    "colab": {
     "base_uri": "https://localhost:8080/"
    },
    "executionInfo": {
     "elapsed": 313,
     "status": "ok",
     "timestamp": 1637066793714,
     "user": {
      "displayName": "JKob San",
      "photoUrl": "https://lh3.googleusercontent.com/a-/AOh14GgnClMV_IVnXVunt7D1mXXMatSQTrEGp72MrhCIeQ=s64",
      "userId": "15910273739366067110"
     },
     "user_tz": -420
    },
    "id": "354edd0d-1b9d-4003-ada7-fdce46d8acfd",
    "outputId": "c9b653ed-bdaa-4ff7-8bb5-dc57e4b8b718"
   },
   "outputs": [],
   "source": [
    "model = Sequential()\n",
    "model.add(Dense(1, input_shape=(1,))) \n",
    "\n",
    "model.summary()"
   ]
  },
  {
   "cell_type": "code",
   "execution_count": null,
   "id": "e9907f10-9162-4f96-8a07-8558f94bf526",
   "metadata": {
    "colab": {
     "base_uri": "https://localhost:8080/"
    },
    "executionInfo": {
     "elapsed": 338,
     "status": "ok",
     "timestamp": 1637066796464,
     "user": {
      "displayName": "JKob San",
      "photoUrl": "https://lh3.googleusercontent.com/a-/AOh14GgnClMV_IVnXVunt7D1mXXMatSQTrEGp72MrhCIeQ=s64",
      "userId": "15910273739366067110"
     },
     "user_tz": -420
    },
    "id": "e9907f10-9162-4f96-8a07-8558f94bf526",
    "outputId": "ae8300d2-9abd-4ec0-9d83-f6944af417df"
   },
   "outputs": [],
   "source": [
    "model.get_config()"
   ]
  },
  {
   "cell_type": "code",
   "execution_count": null,
   "id": "bb8b69c3-9be6-40ef-b6c0-dca99f9280ba",
   "metadata": {
    "colab": {
     "base_uri": "https://localhost:8080/"
    },
    "executionInfo": {
     "elapsed": 524,
     "status": "ok",
     "timestamp": 1637066799903,
     "user": {
      "displayName": "JKob San",
      "photoUrl": "https://lh3.googleusercontent.com/a-/AOh14GgnClMV_IVnXVunt7D1mXXMatSQTrEGp72MrhCIeQ=s64",
      "userId": "15910273739366067110"
     },
     "user_tz": -420
    },
    "id": "bb8b69c3-9be6-40ef-b6c0-dca99f9280ba",
    "outputId": "ef7a1eaa-2eee-4545-fa52-bc8f7b9397bc"
   },
   "outputs": [],
   "source": [
    "len(model.layers[0].get_weights())"
   ]
  },
  {
   "cell_type": "code",
   "execution_count": null,
   "id": "e0853dbf-cc11-4f27-934a-a3a12bc7082c",
   "metadata": {
    "colab": {
     "base_uri": "https://localhost:8080/",
     "height": 201
    },
    "executionInfo": {
     "elapsed": 388,
     "status": "ok",
     "timestamp": 1637066802552,
     "user": {
      "displayName": "JKob San",
      "photoUrl": "https://lh3.googleusercontent.com/a-/AOh14GgnClMV_IVnXVunt7D1mXXMatSQTrEGp72MrhCIeQ=s64",
      "userId": "15910273739366067110"
     },
     "user_tz": -420
    },
    "id": "e0853dbf-cc11-4f27-934a-a3a12bc7082c",
    "outputId": "7f63a0a4-f72c-4748-8b01-96f081e04f01"
   },
   "outputs": [],
   "source": [
    "from tensorflow.keras.utils import plot_model\n",
    "plot_model(model, 'MLP1.png', show_shapes=True, show_layer_names=True)"
   ]
  },
  {
   "cell_type": "code",
   "execution_count": null,
   "id": "8d23e184-f143-4b8f-9c7a-250bd03fd22e",
   "metadata": {
    "id": "8d23e184-f143-4b8f-9c7a-250bd03fd22e",
    "outputId": "b5a5f4ba-c3bc-40db-c717-390b158cd30f"
   },
   "outputs": [],
   "source": [
    "for wi in model.layers[0].get_weights():\n",
    "    print(wi.shape, wi)"
   ]
  },
  {
   "cell_type": "markdown",
   "id": "833eb857-7b69-4e3a-8c42-f79916418ef5",
   "metadata": {
    "id": "833eb857-7b69-4e3a-8c42-f79916418ef5"
   },
   "source": [
    "### RNN"
   ]
  },
  {
   "cell_type": "code",
   "execution_count": null,
   "id": "0639cc6c-3fbd-49f1-8c21-3e0ef3188c09",
   "metadata": {
    "colab": {
     "base_uri": "https://localhost:8080/"
    },
    "executionInfo": {
     "elapsed": 425,
     "status": "ok",
     "timestamp": 1637066811099,
     "user": {
      "displayName": "JKob San",
      "photoUrl": "https://lh3.googleusercontent.com/a-/AOh14GgnClMV_IVnXVunt7D1mXXMatSQTrEGp72MrhCIeQ=s64",
      "userId": "15910273739366067110"
     },
     "user_tz": -420
    },
    "id": "0639cc6c-3fbd-49f1-8c21-3e0ef3188c09",
    "outputId": "f02f8ca7-6239-4962-e695-311e2aff6c92"
   },
   "outputs": [],
   "source": [
    "from tensorflow.keras.layers import SimpleRNN \n",
    "\n",
    "model = Sequential()\n",
    "\n",
    "model.add(SimpleRNN(units=1, input_shape=(1, 1), activation=\"relu\"))\n",
    "\n",
    "model.summary()"
   ]
  },
  {
   "cell_type": "code",
   "execution_count": null,
   "id": "8171eb5b-a245-441a-99c4-ce1dbf21d2c1",
   "metadata": {
    "colab": {
     "base_uri": "https://localhost:8080/"
    },
    "executionInfo": {
     "elapsed": 477,
     "status": "ok",
     "timestamp": 1637066814283,
     "user": {
      "displayName": "JKob San",
      "photoUrl": "https://lh3.googleusercontent.com/a-/AOh14GgnClMV_IVnXVunt7D1mXXMatSQTrEGp72MrhCIeQ=s64",
      "userId": "15910273739366067110"
     },
     "user_tz": -420
    },
    "id": "8171eb5b-a245-441a-99c4-ce1dbf21d2c1",
    "outputId": "89a4e615-e2eb-4d3b-ff7c-9ed4ba6e6e6d"
   },
   "outputs": [],
   "source": [
    "model.get_config()"
   ]
  },
  {
   "cell_type": "code",
   "execution_count": null,
   "id": "66ece277-611c-42aa-8aa6-89d753dd59a4",
   "metadata": {
    "colab": {
     "base_uri": "https://localhost:8080/",
     "height": 201
    },
    "executionInfo": {
     "elapsed": 12,
     "status": "ok",
     "timestamp": 1637066817104,
     "user": {
      "displayName": "JKob San",
      "photoUrl": "https://lh3.googleusercontent.com/a-/AOh14GgnClMV_IVnXVunt7D1mXXMatSQTrEGp72MrhCIeQ=s64",
      "userId": "15910273739366067110"
     },
     "user_tz": -420
    },
    "id": "66ece277-611c-42aa-8aa6-89d753dd59a4",
    "outputId": "18db0742-9227-47f6-c32c-ebff5d7bfad0"
   },
   "outputs": [],
   "source": [
    "from tensorflow.keras.utils import plot_model\n",
    "plot_model(model, 'RNN1.png', show_shapes=True, show_layer_names=True)"
   ]
  },
  {
   "cell_type": "code",
   "execution_count": null,
   "id": "7d33b1cc-1be0-45f5-ac73-a73e7115b0b3",
   "metadata": {
    "id": "7d33b1cc-1be0-45f5-ac73-a73e7115b0b3",
    "outputId": "941d891f-b85a-4d58-ddf9-0c01dc358723"
   },
   "outputs": [],
   "source": [
    "for wi in model.layers[0].get_weights():\n",
    "    print(wi.shape, wi)"
   ]
  },
  {
   "cell_type": "code",
   "execution_count": null,
   "id": "fb3e17fe-6317-4781-aeb1-91e0d99c0d52",
   "metadata": {
    "id": "fb3e17fe-6317-4781-aeb1-91e0d99c0d52"
   },
   "outputs": [],
   "source": []
  }
 ],
 "metadata": {
  "colab": {
   "name": "RNN1.ipynb",
   "provenance": []
  },
  "kernelspec": {
   "display_name": "Python 3 (ipykernel)",
   "language": "python",
   "name": "python3"
  },
  "language_info": {
   "codemirror_mode": {
    "name": "ipython",
    "version": 3
   },
   "file_extension": ".py",
   "mimetype": "text/x-python",
   "name": "python",
   "nbconvert_exporter": "python",
   "pygments_lexer": "ipython3",
   "version": "3.9.7"
  }
 },
 "nbformat": 4,
 "nbformat_minor": 5
}
