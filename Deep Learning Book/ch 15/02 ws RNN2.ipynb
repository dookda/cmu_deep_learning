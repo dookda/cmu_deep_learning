{
 "cells": [
  {
   "cell_type": "markdown",
   "id": "2cef309e-696f-4177-943f-0acfd6635353",
   "metadata": {},
   "source": [
    "# ws 02 03"
   ]
  },
  {
   "cell_type": "code",
   "execution_count": null,
   "id": "65775dd8-b6d1-477b-9f63-6f99cdc9bb88",
   "metadata": {},
   "outputs": [],
   "source": [
    "import numpy as np\n",
    "import matplotlib.pyplot as plt\n",
    "from tensorflow.keras.models import Sequential\n",
    "from tensorflow.keras.layers import Dense, SimpleRNN "
   ]
  },
  {
   "cell_type": "code",
   "execution_count": null,
   "id": "9b1f07c8-a9d5-495d-b0eb-6cdac1dce31c",
   "metadata": {},
   "outputs": [],
   "source": [
    "pitch = 20\n",
    "step =  1\n",
    "N = 100\n",
    "n_train = int(N * 0.7)   \n",
    "\n",
    "def gen_data(x):\n",
    "    return (x % pitch ) / pitch \n",
    "\n",
    "\n",
    "t = np.arange(1, N+1) \n",
    "\n",
    "y = [gen_data(i) for i in t]\n",
    "\n",
    "y = np.array(y)\n",
    "\n",
    "print(f' max: {np.max(y)}')\n",
    "print(y[:15])"
   ]
  },
  {
   "cell_type": "code",
   "execution_count": null,
   "id": "f5f51ee6-a0a1-4158-a718-bf20972fffb0",
   "metadata": {},
   "outputs": [],
   "source": [
    "plt.figure(figsize=(7,3.2))\n",
    "plt.plot(y)\n",
    "plt.show()"
   ]
  },
  {
   "cell_type": "code",
   "execution_count": null,
   "id": "9d06e084-b0e8-4a55-a2f2-41776fca1d17",
   "metadata": {},
   "outputs": [],
   "source": [
    "# convert into dataset matrix\n",
    "def convertToMatrix(data, step=1):  \n",
    "    X, Y = [], []\n",
    "    for i in range(len(data)-step):\n",
    "        d = i + step  \n",
    "        X.append(data[i:d,])\n",
    "        Y.append(data[d,])\n",
    "    return np.array(X), np.array(Y)"
   ]
  },
  {
   "cell_type": "code",
   "execution_count": null,
   "id": "a5b568fd-6391-4c7e-93ed-20fa09fc71eb",
   "metadata": {},
   "outputs": [],
   "source": [
    "\n",
    "train, test = y[0:n_train], y[n_train:N]\n",
    "\n",
    "print('train test (before conversion):', train.shape, test.shape)\n",
    " \n",
    "X_train, y_train = convertToMatrix(train, step) \n",
    "X_test, y_test = convertToMatrix(test, step)\n",
    "\n",
    "print('train test (after conversion):', X_train.shape, X_test.shape)"
   ]
  },
  {
   "cell_type": "code",
   "execution_count": null,
   "id": "8c4b4980-c021-47eb-8e99-6d7f05ca20e0",
   "metadata": {},
   "outputs": [],
   "source": [
    "print(X_train[:7])"
   ]
  },
  {
   "cell_type": "code",
   "execution_count": null,
   "id": "c643aaac-3bad-4507-ba61-402afbcff602",
   "metadata": {},
   "outputs": [],
   "source": [
    "print(y_train[:6])"
   ]
  },
  {
   "cell_type": "code",
   "execution_count": null,
   "id": "194ef4c1-f009-478f-8f04-dc8429219b5e",
   "metadata": {},
   "outputs": [],
   "source": [
    "\n",
    "X_train = np.expand_dims(X_train, -1) \n",
    "X_test = np.expand_dims(X_test, -1) \n",
    "\n",
    "X_train.shape, y_train.shape"
   ]
  },
  {
   "cell_type": "code",
   "execution_count": null,
   "id": "8cab3832-3658-4c3e-b59f-4658e228be61",
   "metadata": {},
   "outputs": [],
   "source": [
    "X_train[:5]\n"
   ]
  },
  {
   "cell_type": "code",
   "execution_count": null,
   "id": "74ce4ed5-124f-46b8-ad8c-231f1f8276f7",
   "metadata": {},
   "outputs": [],
   "source": [
    "y_train[:10]"
   ]
  },
  {
   "cell_type": "code",
   "execution_count": null,
   "id": "21c50f33-e784-4aab-b1c5-a57dc4dc58c6",
   "metadata": {},
   "outputs": [],
   "source": [
    "y_train.shape"
   ]
  },
  {
   "cell_type": "markdown",
   "id": "e7f2de42-aabf-4bc3-b6dc-528e10ecf815",
   "metadata": {},
   "source": [
    "## Model"
   ]
  },
  {
   "cell_type": "code",
   "execution_count": null,
   "id": "2376a6e6-5399-4947-9079-2663d0a83e70",
   "metadata": {},
   "outputs": [],
   "source": [
    "model = Sequential()\n",
    "model.add(SimpleRNN(units=32, input_shape=(step, 1), activation=\"relu\"))\n",
    "\n",
    "model.add(Dense(1))\n",
    "\n",
    "model.compile(loss='mean_squared_error')\n",
    "model.summary()"
   ]
  },
  {
   "cell_type": "code",
   "execution_count": null,
   "id": "c511de00-b4e1-48fb-81fd-aabf553c50cf",
   "metadata": {},
   "outputs": [],
   "source": [
    "from tensorflow.keras.utils import plot_model\n",
    "plot_model(model, 'rnn2.png', show_shapes=True, show_layer_names=False)"
   ]
  },
  {
   "cell_type": "code",
   "execution_count": null,
   "id": "ef704d03-7c7f-496d-ba5a-7fcd42dfa395",
   "metadata": {},
   "outputs": [],
   "source": [
    "\n",
    "history = model.fit(X_train, y_train, epochs=20+10, batch_size=1, verbose=0)"
   ]
  },
  {
   "cell_type": "code",
   "execution_count": null,
   "id": "44d36049-8f00-4152-a6fd-b0d91860cf3f",
   "metadata": {},
   "outputs": [],
   "source": [
    "plt.plot(history.history['loss'])\n",
    "plt.show()"
   ]
  },
  {
   "cell_type": "markdown",
   "id": "fe997b5a-d446-4810-a4e4-fe7bb480e5d6",
   "metadata": {},
   "source": [
    "## Eval"
   ]
  },
  {
   "cell_type": "code",
   "execution_count": null,
   "id": "6c76742b-931e-48bf-98d0-080e94eac58f",
   "metadata": {},
   "outputs": [],
   "source": [
    "trainScore = model.evaluate(X_train, y_train, verbose=0)\n",
    "trainScore"
   ]
  },
  {
   "cell_type": "code",
   "execution_count": null,
   "id": "d4aeaa1e-d465-4bc1-9ddf-626c80a3cc21",
   "metadata": {},
   "outputs": [],
   "source": [
    "from sklearn.metrics import r2_score"
   ]
  },
  {
   "cell_type": "code",
   "execution_count": null,
   "id": "a0e20815-c760-4dd7-9bb8-a0267642981e",
   "metadata": {},
   "outputs": [],
   "source": [
    "trainPredict = model.predict(X_train)\n",
    "testPredict = model.predict(X_test)\n",
    "\n",
    "y_pred_train = np.squeeze(trainPredict)\n",
    "print('Y train shape:', y_train.shape, y_pred_train.shape)\n",
    "\n",
    "y_pred_test = np.squeeze(testPredict)\n",
    "print('Y test shape:',y_test.shape, y_pred_test.shape)\n",
    "\n",
    "r2_train = r2_score(y_train, y_pred_train)  \n",
    "r2_test = r2_score(y_test, y_pred_test)\n",
    "\n",
    "print('R2 Train: {:.3f}'. format(r2_train))\n",
    "print('R2 Test: {:.3f}'. format(r2_test))"
   ]
  },
  {
   "cell_type": "code",
   "execution_count": null,
   "id": "56a8cb58-6e28-44dc-9fb5-7925ec363dc2",
   "metadata": {},
   "outputs": [],
   "source": [
    "prefix = np.empty(step).reshape(-1, 1)\n",
    "prefix.fill(np.nan)\n",
    "\n",
    "trainPredict = np.concatenate((prefix, trainPredict), axis=0) \n",
    "testPredict = np.concatenate((prefix, testPredict), axis=0) \n",
    "\n",
    "predicted = np.concatenate((trainPredict,testPredict),axis=0)\n"
   ]
  },
  {
   "cell_type": "code",
   "execution_count": null,
   "id": "c6e31fbf-1626-44ac-bf73-878af85d894c",
   "metadata": {},
   "outputs": [],
   "source": [
    "\n",
    "plt.figure(figsize=(9,3.5))\n",
    "\n",
    "plt.plot(y * pitch , lw=1.2, label='Dataset')  # dataset\n",
    "plt.plot(predicted * pitch , 'r--', lw=2.5, label='Prediction')\n",
    "plt.axvline(n_train, c='m', lw=2.5)\n",
    "\n",
    "plt.legend(loc=2)\n",
    "plt.show()"
   ]
  },
  {
   "cell_type": "code",
   "execution_count": null,
   "id": "ba626dd5-8b54-47ba-8f4f-2968a64379b8",
   "metadata": {},
   "outputs": [],
   "source": [
    "new_x = 1\n",
    "new_x = np.array(new_x).reshape(1, 1, 1)\n",
    "pred = model.predict(new_x / pitch) \n",
    "prediction = pred * pitch\n",
    "print(pred)"
   ]
  },
  {
   "cell_type": "code",
   "execution_count": null,
   "id": "d65ba594-5fe6-4f55-9d67-a6a69eb9c2f5",
   "metadata": {},
   "outputs": [],
   "source": [
    "new_x/pitch"
   ]
  },
  {
   "cell_type": "code",
   "execution_count": null,
   "id": "6358d3d8-35bb-46bd-b0ec-9947698e1114",
   "metadata": {},
   "outputs": [],
   "source": [
    "X_test"
   ]
  },
  {
   "cell_type": "code",
   "execution_count": null,
   "id": "2725d995-5b80-4470-93bb-99f99b0f9130",
   "metadata": {},
   "outputs": [],
   "source": [
    "y_test[:10] * pitch"
   ]
  },
  {
   "cell_type": "code",
   "execution_count": null,
   "id": "2bbce4ab-9a12-42da-b1a0-a2fde4fa343c",
   "metadata": {},
   "outputs": [],
   "source": [
    "# pred = model.predict(X_train) * pitch\n",
    "pred = model.predict(X_test) * pitch\n",
    "np.squeeze(pred)[:10].round(1)"
   ]
  },
  {
   "cell_type": "code",
   "execution_count": null,
   "id": "67839ce3-f326-4c89-a727-9bf467cb2bda",
   "metadata": {},
   "outputs": [],
   "source": []
  }
 ],
 "metadata": {
  "kernelspec": {
   "display_name": "Python 3 (ipykernel)",
   "language": "python",
   "name": "python3"
  },
  "language_info": {
   "codemirror_mode": {
    "name": "ipython",
    "version": 3
   },
   "file_extension": ".py",
   "mimetype": "text/x-python",
   "name": "python",
   "nbconvert_exporter": "python",
   "pygments_lexer": "ipython3",
   "version": "3.9.7"
  }
 },
 "nbformat": 4,
 "nbformat_minor": 5
}
