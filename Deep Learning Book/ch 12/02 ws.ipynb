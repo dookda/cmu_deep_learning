{
 "cells": [
  {
   "cell_type": "markdown",
   "metadata": {
    "id": "lXqMsYBajAEK"
   },
   "source": [
    "# ws 02 Face embedding\n",
    "\n",
    "download .h5 at https://www.kaggle.com/suicaokhoailang/facenet-keras "
   ]
  },
  {
   "cell_type": "code",
   "execution_count": null,
   "metadata": {
    "colab": {
     "base_uri": "https://localhost:8080/"
    },
    "executionInfo": {
     "elapsed": 4219,
     "status": "ok",
     "timestamp": 1636332328282,
     "user": {
      "displayName": "JKob San",
      "photoUrl": "https://lh3.googleusercontent.com/a-/AOh14GgnClMV_IVnXVunt7D1mXXMatSQTrEGp72MrhCIeQ=s64",
      "userId": "15910273739366067110"
     },
     "user_tz": -420
    },
    "id": "IuaUlcpqoluR",
    "outputId": "00916fe2-03b6-4b6c-af60-31de30d0ac1a"
   },
   "outputs": [],
   "source": [
    "!pip install mtcnn -q"
   ]
  },
  {
   "cell_type": "code",
   "execution_count": null,
   "metadata": {
    "colab": {
     "base_uri": "https://localhost:8080/"
    },
    "executionInfo": {
     "elapsed": 27592,
     "status": "ok",
     "timestamp": 1636332455651,
     "user": {
      "displayName": "JKob San",
      "photoUrl": "https://lh3.googleusercontent.com/a-/AOh14GgnClMV_IVnXVunt7D1mXXMatSQTrEGp72MrhCIeQ=s64",
      "userId": "15910273739366067110"
     },
     "user_tz": -420
    },
    "id": "cDme7EZluHe1",
    "outputId": "0a4a3d96-a9fc-4cd8-edeb-0be860e0b85b"
   },
   "outputs": [],
   "source": [
    "from google.colab import drive\n",
    "drive.mount('/content/drive/')\n",
    "\n",
    "!ls '/content/drive/MyDrive/Colab Notebooks/datasets'"
   ]
  },
  {
   "cell_type": "code",
   "execution_count": null,
   "metadata": {
    "executionInfo": {
     "elapsed": 3405,
     "status": "ok",
     "timestamp": 1636332464841,
     "user": {
      "displayName": "JKob San",
      "photoUrl": "https://lh3.googleusercontent.com/a-/AOh14GgnClMV_IVnXVunt7D1mXXMatSQTrEGp72MrhCIeQ=s64",
      "userId": "15910273739366067110"
     },
     "user_tz": -420
    },
    "id": "buYy-gsHoktv"
   },
   "outputs": [],
   "source": [
    "import numpy as np\n",
    "\n",
    "from PIL import Image \n",
    "from mtcnn.mtcnn import MTCNN\n",
    "from tqdm import tqdm\n",
    "\n",
    "\n",
    "from os import listdir\n",
    "from tensorflow.keras.models import load_model\n"
   ]
  },
  {
   "cell_type": "code",
   "execution_count": null,
   "metadata": {
    "colab": {
     "base_uri": "https://localhost:8080/",
     "height": 290
    },
    "executionInfo": {
     "elapsed": 3039,
     "status": "ok",
     "timestamp": 1636332473120,
     "user": {
      "displayName": "JKob San",
      "photoUrl": "https://lh3.googleusercontent.com/a-/AOh14GgnClMV_IVnXVunt7D1mXXMatSQTrEGp72MrhCIeQ=s64",
      "userId": "15910273739366067110"
     },
     "user_tz": -420
    },
    "id": "wLb4AUlRuWpz",
    "outputId": "fd93f028-fe58-4147-f97c-e9415107331b"
   },
   "outputs": [],
   "source": [
    "rootdir = \"/content/drive/MyDrive/Colab Notebooks/datasets/face/\"\n",
    "\n",
    "filename = rootdir + 'train/Kobkiat/kobkiat1.jpg' \n",
    "\n",
    "im = Image.open(filename).convert(\"RGB\")\n",
    "print('img size:', im.size)\n",
    "\n",
    "scale = 0.4\n",
    "\n",
    "im = im.resize((round(im.size[0]*scale), round(im.size[1]*scale)))\n",
    "print('img size:', im.size)\n",
    "im"
   ]
  },
  {
   "cell_type": "code",
   "execution_count": null,
   "metadata": {
    "executionInfo": {
     "elapsed": 949,
     "status": "ok",
     "timestamp": 1636332480214,
     "user": {
      "displayName": "JKob San",
      "photoUrl": "https://lh3.googleusercontent.com/a-/AOh14GgnClMV_IVnXVunt7D1mXXMatSQTrEGp72MrhCIeQ=s64",
      "userId": "15910273739366067110"
     },
     "user_tz": -420
    },
    "id": "O6Asbu-p21YW"
   },
   "outputs": [],
   "source": [
    "detector = MTCNN()\n",
    "\n",
    "def extract_face(filename, required_size=(160, 160), detector=detector):\n",
    "    image = Image.open(filename).convert('RGB')\n",
    "    im_arr = np.array(image)\n",
    "    faces = detector.detect_faces(im_arr) \n",
    "\n",
    "    x1, y1, width, height = faces[0]['box']\n",
    "    x2, y2 = x1 + width, y1 + height\n",
    "    face = im_arr[y1:y2, x1:x2]\n",
    "\n",
    "    image = Image.fromarray(face)\n",
    "    image = image.resize(required_size)\n",
    "    face_array = np.asarray(image)\n",
    "    return face_array"
   ]
  },
  {
   "cell_type": "code",
   "execution_count": null,
   "metadata": {
    "colab": {
     "base_uri": "https://localhost:8080/",
     "height": 194
    },
    "executionInfo": {
     "elapsed": 2386,
     "status": "ok",
     "timestamp": 1636246320995,
     "user": {
      "displayName": "JKob San",
      "photoUrl": "https://lh3.googleusercontent.com/a-/AOh14GgnClMV_IVnXVunt7D1mXXMatSQTrEGp72MrhCIeQ=s64",
      "userId": "15910273739366067110"
     },
     "user_tz": -420
    },
    "id": "_Ha8EPeR27xt",
    "outputId": "4472659d-5568-4e06-f2d4-dbaaf40866ba"
   },
   "outputs": [],
   "source": [
    "face_pixels = extract_face(filename)\n",
    "print(face_pixels.shape)\n",
    "Image.fromarray(face_pixels)"
   ]
  },
  {
   "cell_type": "markdown",
   "metadata": {
    "id": "bYR2yBs55HTE"
   },
   "source": [
    "## Embedding"
   ]
  },
  {
   "cell_type": "code",
   "execution_count": null,
   "metadata": {
    "colab": {
     "base_uri": "https://localhost:8080/"
    },
    "executionInfo": {
     "elapsed": 4770,
     "status": "ok",
     "timestamp": 1636173965172,
     "user": {
      "displayName": "JKob San",
      "photoUrl": "https://lh3.googleusercontent.com/a-/AOh14GgnClMV_IVnXVunt7D1mXXMatSQTrEGp72MrhCIeQ=s64",
      "userId": "15910273739366067110"
     },
     "user_tz": -420
    },
    "id": "FBs52S1_i9e-",
    "outputId": "66612f1f-29ef-40e4-dce9-e852962554dc"
   },
   "outputs": [],
   "source": [
    "modelpath = '/content/drive/MyDrive/Colab Notebooks/'\n",
    "\n",
    "facenet_model = load_model(modelpath + 'facenet_keras.h5')\n",
    "\n",
    "print(facenet_model.inputs)\n",
    "print(facenet_model.outputs)"
   ]
  },
  {
   "cell_type": "code",
   "execution_count": null,
   "metadata": {
    "id": "UNyQToICFv3t"
   },
   "outputs": [],
   "source": [
    "print('min max:', face_pixels.min(), face_pixels.max())"
   ]
  },
  {
   "cell_type": "code",
   "execution_count": null,
   "metadata": {
    "colab": {
     "base_uri": "https://localhost:8080/"
    },
    "executionInfo": {
     "elapsed": 2150,
     "status": "ok",
     "timestamp": 1636173978465,
     "user": {
      "displayName": "JKob San",
      "photoUrl": "https://lh3.googleusercontent.com/a-/AOh14GgnClMV_IVnXVunt7D1mXXMatSQTrEGp72MrhCIeQ=s64",
      "userId": "15910273739366067110"
     },
     "user_tz": -420
    },
    "id": "CDUnygGM5i-d",
    "outputId": "cc646c19-320e-4ed3-fe70-8c781f2c7489"
   },
   "outputs": [],
   "source": [
    "face_pixels = face_pixels.astype('float32')  \n",
    "mean = face_pixels.mean()                   \n",
    "std = face_pixels.std()               \n",
    "face_pixels = (face_pixels - mean)/std       \n",
    "sample = np.expand_dims(face_pixels, axis=0)\n",
    "emb_face = facenet_model.predict(sample)\n",
    "emb_face.shape"
   ]
  },
  {
   "cell_type": "code",
   "execution_count": null,
   "metadata": {
    "colab": {
     "base_uri": "https://localhost:8080/"
    },
    "executionInfo": {
     "elapsed": 400,
     "status": "ok",
     "timestamp": 1636116982188,
     "user": {
      "displayName": "JKob San",
      "photoUrl": "https://lh3.googleusercontent.com/a-/AOh14GgnClMV_IVnXVunt7D1mXXMatSQTrEGp72MrhCIeQ=s64",
      "userId": "15910273739366067110"
     },
     "user_tz": -420
    },
    "id": "ZQaHqg-v6qzB",
    "outputId": "5e491c6d-1be8-4f70-9e9c-baa5d700eb43"
   },
   "outputs": [],
   "source": [
    "emb_face[0][:10]"
   ]
  },
  {
   "cell_type": "code",
   "execution_count": null,
   "metadata": {
    "colab": {
     "base_uri": "https://localhost:8080/"
    },
    "executionInfo": {
     "elapsed": 14,
     "status": "ok",
     "timestamp": 1636116983835,
     "user": {
      "displayName": "JKob San",
      "photoUrl": "https://lh3.googleusercontent.com/a-/AOh14GgnClMV_IVnXVunt7D1mXXMatSQTrEGp72MrhCIeQ=s64",
      "userId": "15910273739366067110"
     },
     "user_tz": -420
    },
    "id": "PgwuAA6xAuxn",
    "outputId": "54b9a882-bb1d-4f01-bb5a-b542ec93479f"
   },
   "outputs": [],
   "source": [
    "np.min(emb_face), np.max(emb_face) "
   ]
  },
  {
   "cell_type": "markdown",
   "metadata": {
    "id": "XtDVmuPJ_1nv"
   },
   "source": [
    "## ws03 similarity"
   ]
  },
  {
   "cell_type": "code",
   "execution_count": null,
   "metadata": {
    "executionInfo": {
     "elapsed": 406,
     "status": "ok",
     "timestamp": 1636332515399,
     "user": {
      "displayName": "JKob San",
      "photoUrl": "https://lh3.googleusercontent.com/a-/AOh14GgnClMV_IVnXVunt7D1mXXMatSQTrEGp72MrhCIeQ=s64",
      "userId": "15910273739366067110"
     },
     "user_tz": -420
    },
    "id": "SSEwDPtgDxuN"
   },
   "outputs": [],
   "source": [
    "def get_embedding(facenet_model, face):\n",
    "    face_pixels = face.astype('float32') \n",
    "    mean = face_pixels.mean()                  \n",
    "    std = face_pixels.std()                    \n",
    "    face_pixels = (face_pixels - mean)/std       \n",
    "    sample = np.expand_dims(face_pixels, axis=0)\n",
    "    emb_face = facenet_model.predict(sample)\n",
    "    return emb_face[0]\n",
    "\n",
    "def euclideanDistance(source_represent, test_represent):\n",
    "    euclidean_dist = source_represent - test_represent\n",
    "    euclidean_dist = np.sum(np.multiply(euclidean_dist, euclidean_dist))\n",
    "    euclidean_dist = np.sqrt(euclidean_dist)\n",
    "    return euclidean_dist\n",
    "\n",
    "def dist_face(model, file1, file2):\n",
    "    im_arr1 = extract_face(file1)\n",
    "    emd1 = get_embedding(model, im_arr1)\n",
    "\n",
    "    im_arr2 = extract_face(file2)\n",
    "    emd2 = get_embedding(model, im_arr2)\n",
    "    return euclideanDistance(emd1, emd2)"
   ]
  },
  {
   "cell_type": "code",
   "execution_count": null,
   "metadata": {
    "colab": {
     "base_uri": "https://localhost:8080/"
    },
    "executionInfo": {
     "elapsed": 1881,
     "status": "ok",
     "timestamp": 1636093620338,
     "user": {
      "displayName": "JKob San",
      "photoUrl": "https://lh3.googleusercontent.com/a-/AOh14GgnClMV_IVnXVunt7D1mXXMatSQTrEGp72MrhCIeQ=s64",
      "userId": "15910273739366067110"
     },
     "user_tz": -420
    },
    "id": "CP3zEd83dwZj",
    "outputId": "8fa5fd1b-d060-405e-e2f1-4cedfb8bfeea"
   },
   "outputs": [],
   "source": [
    "kob1 = rootdir + 'kobkiat7.jpg'\n",
    "kob2 = rootdir + 'kobkiat9.jpg'\n",
    "\n",
    "print(dist_face(facenet_model, kob1, kob2))"
   ]
  },
  {
   "cell_type": "code",
   "execution_count": null,
   "metadata": {
    "colab": {
     "base_uri": "https://localhost:8080/"
    },
    "executionInfo": {
     "elapsed": 5239,
     "status": "ok",
     "timestamp": 1636097308760,
     "user": {
      "displayName": "JKob San",
      "photoUrl": "https://lh3.googleusercontent.com/a-/AOh14GgnClMV_IVnXVunt7D1mXXMatSQTrEGp72MrhCIeQ=s64",
      "userId": "15910273739366067110"
     },
     "user_tz": -420
    },
    "id": "YX2YKKWkRkxG",
    "outputId": "f59bce8d-91ab-4c43-be18-b42c03ba4f8b"
   },
   "outputs": [],
   "source": [
    "def cosineSimilarity(source_represent, test_represent):\n",
    "    a = np.matmul(np.transpose(source_represent), test_represent)\n",
    "    b = np.sum(np.multiply(source_represent, source_represent))\n",
    "    c = np.sum(np.multiply(test_represent, test_represent))\n",
    "    return (a / (np.sqrt(b) * np.sqrt(c)))\n",
    " \n",
    "def cosine_face(model, file1, file2):\n",
    "    im_arr1 = extract_face(file1)\n",
    "    emd1 = get_embedding(model, im_arr1)\n",
    "\n",
    "    im_arr2 = extract_face(file2)\n",
    "    emd2 = get_embedding(model, im_arr2)\n",
    "    return cosineSimilarity(emd1, emd2)\n",
    "\n",
    "print(cosine_face(facenet_model, kob1, kob2))\n",
    "print(cosine_face(facenet_model, kob1, ben1))\n",
    "\n",
    "cosine_similar = cosine_face(facenet_model, kob1, kob2)\n",
    "\n",
    "print(\"cosine similarity: \", cosine_similar)\n",
    "threshold = 0.5\n",
    "if cosine_similar >= threshold:\n",
    "    print(\"verified...  same person\")\n",
    "else:\n",
    "    print(\"unverified!  Different person!\")"
   ]
  },
  {
   "cell_type": "code",
   "execution_count": null,
   "metadata": {
    "id": "vdXkGSLO-T2M"
   },
   "outputs": [],
   "source": []
  },
  {
   "cell_type": "markdown",
   "metadata": {
    "id": "0_gg1ZQpmCsx"
   },
   "source": [
    "# ws 04 recog\n",
    "\n",
    "download faces at https://www.kaggle.com/dansbecker/5-celebrity-faces-dataset"
   ]
  },
  {
   "cell_type": "code",
   "execution_count": null,
   "metadata": {
    "id": "ePXkjNN4jgEn"
   },
   "outputs": [],
   "source": [
    "# upload then unzip \n",
    "\n",
    "!unzip -q \"/content/drive/MyDrive/Colab Notebooks/datasets/face_celebs_110.zip\" -d \"/content/drive/MyDrive/Colab Notebooks/datasets/\""
   ]
  },
  {
   "cell_type": "code",
   "execution_count": null,
   "metadata": {
    "colab": {
     "base_uri": "https://localhost:8080/"
    },
    "executionInfo": {
     "elapsed": 422,
     "status": "ok",
     "timestamp": 1636332545571,
     "user": {
      "displayName": "JKob San",
      "photoUrl": "https://lh3.googleusercontent.com/a-/AOh14GgnClMV_IVnXVunt7D1mXXMatSQTrEGp72MrhCIeQ=s64",
      "userId": "15910273739366067110"
     },
     "user_tz": -420
    },
    "id": "stLQmO9djf7X",
    "outputId": "a22241cd-a8a5-4df6-93b2-4d16845cc7fc"
   },
   "outputs": [],
   "source": [
    "!ls \"/content/drive/MyDrive/Colab Notebooks/datasets/face_celebs_110/train/\""
   ]
  },
  {
   "cell_type": "code",
   "execution_count": null,
   "metadata": {
    "executionInfo": {
     "elapsed": 424,
     "status": "ok",
     "timestamp": 1636332776009,
     "user": {
      "displayName": "JKob San",
      "photoUrl": "https://lh3.googleusercontent.com/a-/AOh14GgnClMV_IVnXVunt7D1mXXMatSQTrEGp72MrhCIeQ=s64",
      "userId": "15910273739366067110"
     },
     "user_tz": -420
    },
    "id": "osdj9r76kjdW"
   },
   "outputs": [],
   "source": [
    "rootdir = \"/content/drive/MyDrive/Colab Notebooks/datasets/face_celebs_110/\""
   ]
  },
  {
   "cell_type": "markdown",
   "metadata": {
    "id": "Ie1aQHX7kFCw"
   },
   "source": [
    "30 mins for train (1s / face)"
   ]
  },
  {
   "cell_type": "code",
   "execution_count": null,
   "metadata": {
    "colab": {
     "base_uri": "https://localhost:8080/"
    },
    "executionInfo": {
     "elapsed": 1911109,
     "status": "ok",
     "timestamp": 1636356434968,
     "user": {
      "displayName": "JKob San",
      "photoUrl": "https://lh3.googleusercontent.com/a-/AOh14GgnClMV_IVnXVunt7D1mXXMatSQTrEGp72MrhCIeQ=s64",
      "userId": "15910273739366067110"
     },
     "user_tz": -420
    },
    "id": "qlpJq5_Op_La",
    "outputId": "a8ca7bc3-60fb-4440-8f86-c4b644f9f9b1"
   },
   "outputs": [],
   "source": [
    "def load_face(dir):\n",
    "    faces = list()\n",
    "    for filename in tqdm(listdir(dir)):\n",
    "        path = dir + filename\n",
    "        face = extract_face(path) \n",
    "        faces.append(face)\n",
    "    return faces\n",
    "\n",
    "def load_dataset(dir):\n",
    "    X, y = list(), list()\n",
    "    for subdir in sorted(listdir(dir)):\n",
    "        path = dir + subdir + '/'\n",
    "        faces = load_face(path)\n",
    "        labels = [subdir for i in range(len(faces))]\n",
    "        print(\"loaded %d sample(s) for class: %s\" % (len(faces),subdir) ) \n",
    "        X.extend(faces)\n",
    "        y.extend(labels)\n",
    "    return np.asarray(X), np.asarray(y)\n",
    "\n",
    "# load train dataset\n",
    "trainX, trainy = load_dataset(rootdir + 'train/')\n",
    "print('X shape, y shape:', trainX.shape, trainy.shape)\n",
    "# load test dataset\n",
    "testX, testy = load_dataset(rootdir + 'val/')\n",
    "print(testX.shape, testy.shape)\n",
    "\n",
    "np.savez_compressed('5_cele_faces_dataset.npz', trainX, trainy, testX, testy)"
   ]
  },
  {
   "cell_type": "code",
   "execution_count": null,
   "metadata": {
    "colab": {
     "base_uri": "https://localhost:8080/"
    },
    "executionInfo": {
     "elapsed": 1444,
     "status": "ok",
     "timestamp": 1636357715959,
     "user": {
      "displayName": "JKob San",
      "photoUrl": "https://lh3.googleusercontent.com/a-/AOh14GgnClMV_IVnXVunt7D1mXXMatSQTrEGp72MrhCIeQ=s64",
      "userId": "15910273739366067110"
     },
     "user_tz": -420
    },
    "id": "GbLpjaqostaC",
    "outputId": "7c6597ee-fc95-4e4b-894f-e86c47d98bd7"
   },
   "outputs": [],
   "source": [
    "# load the face dataset\n",
    "data = np.load('5_cele_faces_dataset.npz')\n",
    "\n",
    "trainX, trainy, testX, testy = data['arr_0'], data['arr_1'], data['arr_2'], data['arr_3'] \n",
    "print('Loaded: ', trainX.shape, trainy.shape, testX.shape, testy.shape)"
   ]
  },
  {
   "cell_type": "markdown",
   "metadata": {
    "id": "DZMWxB3n7N9k"
   },
   "source": [
    "## Embedding"
   ]
  },
  {
   "cell_type": "code",
   "execution_count": null,
   "metadata": {
    "colab": {
     "base_uri": "https://localhost:8080/"
    },
    "executionInfo": {
     "elapsed": 9013,
     "status": "ok",
     "timestamp": 1636269691246,
     "user": {
      "displayName": "JKob San",
      "photoUrl": "https://lh3.googleusercontent.com/a-/AOh14GgnClMV_IVnXVunt7D1mXXMatSQTrEGp72MrhCIeQ=s64",
      "userId": "15910273739366067110"
     },
     "user_tz": -420
    },
    "id": "QBe3rvv4tB1r",
    "outputId": "5e9210ef-283b-4127-f228-4725a971965e"
   },
   "outputs": [],
   "source": [
    "modelpath = '/content/drive/MyDrive/Colab Notebooks/'\n",
    "\n",
    "facenet_model = load_model(modelpath + 'facenet_keras.h5')\n",
    "print('Loaded Model')"
   ]
  },
  {
   "cell_type": "code",
   "execution_count": null,
   "metadata": {
    "colab": {
     "base_uri": "https://localhost:8080/"
    },
    "executionInfo": {
     "elapsed": 391,
     "status": "ok",
     "timestamp": 1636356917037,
     "user": {
      "displayName": "JKob San",
      "photoUrl": "https://lh3.googleusercontent.com/a-/AOh14GgnClMV_IVnXVunt7D1mXXMatSQTrEGp72MrhCIeQ=s64",
      "userId": "15910273739366067110"
     },
     "user_tz": -420
    },
    "id": "wDbiZKGoVHaS",
    "outputId": "1922381f-a720-4093-a742-9274c6e749e6"
   },
   "outputs": [],
   "source": [
    "model= facenet_model\n",
    "print(model.layers[0].input_shape[0])\n",
    "print(model.layers[-1].output_shape[-1])"
   ]
  },
  {
   "cell_type": "code",
   "execution_count": null,
   "metadata": {
    "colab": {
     "base_uri": "https://localhost:8080/"
    },
    "executionInfo": {
     "elapsed": 215581,
     "status": "ok",
     "timestamp": 1636357136474,
     "user": {
      "displayName": "JKob San",
      "photoUrl": "https://lh3.googleusercontent.com/a-/AOh14GgnClMV_IVnXVunt7D1mXXMatSQTrEGp72MrhCIeQ=s64",
      "userId": "15910273739366067110"
     },
     "user_tz": -420
    },
    "id": "EKQ_fdlXtBsO",
    "outputId": "79c31ab8-73c7-4c19-9aa7-13869c04d53e"
   },
   "outputs": [],
   "source": [
    "#  train set\n",
    "emdTrainX = list()\n",
    "for face in tqdm(trainX):\n",
    "    emd = get_embedding(facenet_model, face)\n",
    "    emdTrainX.append(emd)\n",
    "    \n",
    "emdTrainX = np.asarray(emdTrainX)\n",
    "print('Train Embedding shape', emdTrainX.shape)\n",
    "\n",
    "# test set \n",
    "emdTestX = list()\n",
    "for face in tqdm(testX):\n",
    "    emd = get_embedding(facenet_model, face)\n",
    "    emdTestX.append(emd)\n",
    "emdTestX = np.asarray(emdTestX)\n",
    "print('\\nTest Embedding shape',emdTestX.shape)\n",
    "\n",
    "# save arrays \n",
    "np.savez_compressed('5_celeb_faces_embeddings.npz', \n",
    "                    emdTrainX, trainy, emdTestX, testy)"
   ]
  },
  {
   "cell_type": "code",
   "execution_count": null,
   "metadata": {
    "colab": {
     "base_uri": "https://localhost:8080/"
    },
    "executionInfo": {
     "elapsed": 17,
     "status": "ok",
     "timestamp": 1636357206944,
     "user": {
      "displayName": "JKob San",
      "photoUrl": "https://lh3.googleusercontent.com/a-/AOh14GgnClMV_IVnXVunt7D1mXXMatSQTrEGp72MrhCIeQ=s64",
      "userId": "15910273739366067110"
     },
     "user_tz": -420
    },
    "id": "50GjupSpyHjQ",
    "outputId": "fe4192c9-d26a-46c1-d05b-55957ce6bcad"
   },
   "outputs": [],
   "source": [
    "print(emdTrainX.shape, trainy.shape)\n",
    "print(emdTestX.shape, testy.shape)"
   ]
  },
  {
   "cell_type": "code",
   "execution_count": null,
   "metadata": {
    "colab": {
     "base_uri": "https://localhost:8080/"
    },
    "executionInfo": {
     "elapsed": 16,
     "status": "ok",
     "timestamp": 1636347877751,
     "user": {
      "displayName": "JKob San",
      "photoUrl": "https://lh3.googleusercontent.com/a-/AOh14GgnClMV_IVnXVunt7D1mXXMatSQTrEGp72MrhCIeQ=s64",
      "userId": "15910273739366067110"
     },
     "user_tz": -420
    },
    "id": "1DfxwxZReIAE",
    "outputId": "247ff4f3-d889-470a-ad06-d6e4f8067e86"
   },
   "outputs": [],
   "source": [
    "np.unique(trainy)[:5]"
   ]
  },
  {
   "cell_type": "code",
   "execution_count": null,
   "metadata": {
    "colab": {
     "base_uri": "https://localhost:8080/"
    },
    "executionInfo": {
     "elapsed": 382,
     "status": "ok",
     "timestamp": 1636357212469,
     "user": {
      "displayName": "JKob San",
      "photoUrl": "https://lh3.googleusercontent.com/a-/AOh14GgnClMV_IVnXVunt7D1mXXMatSQTrEGp72MrhCIeQ=s64",
      "userId": "15910273739366067110"
     },
     "user_tz": -420
    },
    "id": "AKSg18E7kJiw",
    "outputId": "e49bc5e9-69dd-4ea9-cbff-df8b587cfd09"
   },
   "outputs": [],
   "source": [
    "len(np.unique(trainy))  # classes"
   ]
  },
  {
   "cell_type": "markdown",
   "metadata": {
    "id": "qXnBrQ0T3yNW"
   },
   "source": [
    "## Train"
   ]
  },
  {
   "cell_type": "code",
   "execution_count": null,
   "metadata": {
    "colab": {
     "base_uri": "https://localhost:8080/"
    },
    "executionInfo": {
     "elapsed": 4193,
     "status": "ok",
     "timestamp": 1636357231428,
     "user": {
      "displayName": "JKob San",
      "photoUrl": "https://lh3.googleusercontent.com/a-/AOh14GgnClMV_IVnXVunt7D1mXXMatSQTrEGp72MrhCIeQ=s64",
      "userId": "15910273739366067110"
     },
     "user_tz": -420
    },
    "id": "f65I4OIfuc5b",
    "outputId": "6f9de27b-5d0c-460a-f43d-fee71b53321a"
   },
   "outputs": [],
   "source": [
    "from sklearn.metrics import accuracy_score\n",
    "from sklearn.preprocessing import LabelEncoder\n",
    "from sklearn.preprocessing import Normalizer\n",
    "from sklearn.svm import SVC\n",
    "\n",
    "in_encoder = Normalizer()\n",
    "emdTrainX_norm = in_encoder.transform(emdTrainX)\n",
    "emdTestX_norm = in_encoder.transform(emdTestX)\n",
    "\n",
    "out_encoder = LabelEncoder()\n",
    "out_encoder.fit(trainy)\n",
    "trainy_enc = out_encoder.transform(trainy)\n",
    "testy_enc = out_encoder.transform(testy)\n",
    "\n",
    "# fit model\n",
    "model = SVC(kernel='linear', probability=True)\n",
    "model.fit(emdTrainX_norm, trainy_enc)\n",
    "\n",
    "# predict\n",
    "yhat_train = model.predict(emdTrainX_norm)\n",
    "yhat_test = model.predict(emdTestX_norm)\n",
    "\n",
    "# score\n",
    "score_train = accuracy_score(trainy_enc, yhat_train)\n",
    "score_test = accuracy_score(testy_enc, yhat_test)\n",
    "\n",
    "print('Accuracy: train=%.3f, test=%.3f' % (score_train*100, score_test*100))"
   ]
  },
  {
   "cell_type": "code",
   "execution_count": null,
   "metadata": {
    "colab": {
     "base_uri": "https://localhost:8080/",
     "height": 1000
    },
    "executionInfo": {
     "elapsed": 1019,
     "status": "ok",
     "timestamp": 1636344556120,
     "user": {
      "displayName": "JKob San",
      "photoUrl": "https://lh3.googleusercontent.com/a-/AOh14GgnClMV_IVnXVunt7D1mXXMatSQTrEGp72MrhCIeQ=s64",
      "userId": "15910273739366067110"
     },
     "user_tz": -420
    },
    "id": "f3vCSR1Fucs8",
    "outputId": "575d4346-9ba1-4d01-bddb-811129c3dc18"
   },
   "outputs": [],
   "source": [
    "from random import choice\n",
    "import matplotlib.pyplot as plt\n",
    "\n",
    "selection = choice([i for i in range(testX.shape[0])])\n",
    "random_face = testX[selection]\n",
    "random_face_emd = emdTestX_norm[selection]\n",
    "random_face_class = testy_enc[selection]\n",
    "random_face_name = out_encoder.inverse_transform([random_face_class])\n",
    "\n",
    "# prediction\n",
    "samples = np.expand_dims(random_face_emd, axis=0)\n",
    "yhat_class = model.predict(samples)\n",
    "yhat_prob = model.predict_proba(samples)\n",
    "\n",
    "#  name\n",
    "class_index = yhat_class[0]\n",
    "class_probability = yhat_prob[0,class_index] * 100\n",
    "predict_names = out_encoder.inverse_transform(yhat_class)\n",
    "\n",
    "all_names = out_encoder.inverse_transform(np.unique(trainy_enc))  # \n",
    "\n",
    "print('Predicted: \\n%s \\n%s' % (all_names, yhat_prob[0]*100))\n",
    "print('Expected: %s' % random_face_name[0])\n",
    "\n",
    "# plot face\n",
    "plt.imshow(random_face)\n",
    "\n",
    "title = f'{predict_names[0]} {class_probability:.2f}'\n",
    "plt.title(title)\n",
    "plt.show()"
   ]
  },
  {
   "cell_type": "code",
   "execution_count": null,
   "metadata": {
    "colab": {
     "base_uri": "https://localhost:8080/",
     "height": 252
    },
    "executionInfo": {
     "elapsed": 13,
     "status": "ok",
     "timestamp": 1636344572058,
     "user": {
      "displayName": "JKob San",
      "photoUrl": "https://lh3.googleusercontent.com/a-/AOh14GgnClMV_IVnXVunt7D1mXXMatSQTrEGp72MrhCIeQ=s64",
      "userId": "15910273739366067110"
     },
     "user_tz": -420
    },
    "id": "Xk5o4nX_tBd8",
    "outputId": "7b399e6f-97f5-46f7-af84-f74b7b442eb6"
   },
   "outputs": [],
   "source": [
    "filename = rootdir + 'val/name/kobkiat.jpg'\n",
    "\n",
    "im = Image.open(filename).convert(\"RGB\")\n",
    "print('img size:', im.size)\n",
    "im"
   ]
  },
  {
   "cell_type": "code",
   "execution_count": null,
   "metadata": {
    "colab": {
     "base_uri": "https://localhost:8080/",
     "height": 194
    },
    "executionInfo": {
     "elapsed": 1652,
     "status": "ok",
     "timestamp": 1636344577603,
     "user": {
      "displayName": "JKob San",
      "photoUrl": "https://lh3.googleusercontent.com/a-/AOh14GgnClMV_IVnXVunt7D1mXXMatSQTrEGp72MrhCIeQ=s64",
      "userId": "15910273739366067110"
     },
     "user_tz": -420
    },
    "id": "2aniwOJds5mP",
    "outputId": "830c5cfb-1eb8-4049-f976-dc25dbc0bfa0"
   },
   "outputs": [],
   "source": [
    "im_arr = extract_face(filename)\n",
    "print(im_arr.shape)\n",
    "Image.fromarray(im_arr)"
   ]
  },
  {
   "cell_type": "code",
   "execution_count": null,
   "metadata": {
    "colab": {
     "base_uri": "https://localhost:8080/"
    },
    "executionInfo": {
     "elapsed": 32,
     "status": "ok",
     "timestamp": 1636340628211,
     "user": {
      "displayName": "JKob San",
      "photoUrl": "https://lh3.googleusercontent.com/a-/AOh14GgnClMV_IVnXVunt7D1mXXMatSQTrEGp72MrhCIeQ=s64",
      "userId": "15910273739366067110"
     },
     "user_tz": -420
    },
    "id": "xi7nyTSKJYIp",
    "outputId": "6738c4c6-e745-4739-dbae-7ebef7cbb4ab"
   },
   "outputs": [],
   "source": [
    "print(emdTestX.shape, emdTestX_norm.shape)\n",
    "print(emd.shape)"
   ]
  },
  {
   "cell_type": "code",
   "execution_count": null,
   "metadata": {
    "colab": {
     "base_uri": "https://localhost:8080/"
    },
    "executionInfo": {
     "elapsed": 1278,
     "status": "ok",
     "timestamp": 1636344585667,
     "user": {
      "displayName": "JKob San",
      "photoUrl": "https://lh3.googleusercontent.com/a-/AOh14GgnClMV_IVnXVunt7D1mXXMatSQTrEGp72MrhCIeQ=s64",
      "userId": "15910273739366067110"
     },
     "user_tz": -420
    },
    "id": "ruwMN6OtwuIR",
    "outputId": "038ec759-adaf-4c5b-ac55-513f39e88348"
   },
   "outputs": [],
   "source": [
    "emd = get_embedding(facenet_model, im_arr)\n",
    "emd = np.expand_dims(emd, axis=0)  # \n",
    "emd_norm = in_encoder.transform(emd)\n",
    "\n",
    "yhat_class = model.predict(emd_norm)\n",
    "yhat_prob = model.predict_proba(emd_norm)\n",
    "\n",
    "class_index = yhat_class[0]\n",
    "class_probability = yhat_prob[0,class_index] * 100\n",
    "predict_names = out_encoder.inverse_transform(yhat_class)\n",
    "print(f'predicted: {predict_names[0]} {class_probability:.2f}%') # "
   ]
  },
  {
   "cell_type": "code",
   "execution_count": null,
   "metadata": {
    "id": "r56fYN9E2Wj3"
   },
   "outputs": [],
   "source": [
    "print('Predicted: \\n%s \\n%s' % (all_names, (yhat_prob[0]*100).round(2)))"
   ]
  },
  {
   "cell_type": "code",
   "execution_count": null,
   "metadata": {
    "colab": {
     "base_uri": "https://localhost:8080/"
    },
    "executionInfo": {
     "elapsed": 352,
     "status": "ok",
     "timestamp": 1636344628788,
     "user": {
      "displayName": "JKob San",
      "photoUrl": "https://lh3.googleusercontent.com/a-/AOh14GgnClMV_IVnXVunt7D1mXXMatSQTrEGp72MrhCIeQ=s64",
      "userId": "15910273739366067110"
     },
     "user_tz": -420
    },
    "id": "bhfFhKX5boXw",
    "outputId": "9731bf3d-cab3-4974-87c0-f7fb222aca92"
   },
   "outputs": [],
   "source": [
    "emd = get_embedding(facenet_model, im_arr)\n",
    "emd = np.expand_dims(emd, axis=0)  #  from (128,) -> (1,128)\n",
    "emd_norm = in_encoder.transform(emd)\n",
    "\n",
    "yhat_class = model.predict(emd_norm)\n",
    "yhat_prob = model.predict_proba(emd_norm)\n",
    "\n",
    "class_index = yhat_class[0]\n",
    "class_probability = yhat_prob[0,class_index] * 100\n",
    "predict_names = out_encoder.inverse_transform(yhat_class)\n",
    "print(f'predicted: {predict_names[0]} {class_probability:.2f}%') # "
   ]
  },
  {
   "cell_type": "markdown",
   "metadata": {
    "id": "PImN0ahepaoc"
   },
   "source": [
    "## TNSE"
   ]
  },
  {
   "cell_type": "code",
   "execution_count": null,
   "metadata": {
    "colab": {
     "base_uri": "https://localhost:8080/"
    },
    "executionInfo": {
     "elapsed": 501,
     "status": "ok",
     "timestamp": 1636260727433,
     "user": {
      "displayName": "JKob San",
      "photoUrl": "https://lh3.googleusercontent.com/a-/AOh14GgnClMV_IVnXVunt7D1mXXMatSQTrEGp72MrhCIeQ=s64",
      "userId": "15910273739366067110"
     },
     "user_tz": -420
    },
    "id": "VFQABzxM3osx",
    "outputId": "557615e4-0e45-4af9-f40e-e3aab24879e4"
   },
   "outputs": [],
   "source": [
    "from sklearn.preprocessing import LabelEncoder\n",
    "\n",
    "out_encoder = LabelEncoder()\n",
    "out_encoder.fit(trainy)\n",
    "trainy_enc = out_encoder.transform(trainy)\n",
    "\n",
    "trainy_enc.shape, np.unique(trainy_enc)"
   ]
  },
  {
   "cell_type": "code",
   "execution_count": null,
   "metadata": {
    "id": "kvueb6tQa8Ka"
   },
   "outputs": [],
   "source": [
    "from sklearn.preprocessing import Normalizer\n",
    "\n",
    "in_encoder = Normalizer()\n",
    "emdTrainX_norm = in_encoder.transform(emdTrainX)\n",
    "emdTestX_norm = in_encoder.transform(emdTestX)"
   ]
  },
  {
   "cell_type": "code",
   "execution_count": null,
   "metadata": {
    "colab": {
     "base_uri": "https://localhost:8080/",
     "height": 1000
    },
    "executionInfo": {
     "elapsed": 39627,
     "status": "ok",
     "timestamp": 1636352694535,
     "user": {
      "displayName": "JKob San",
      "photoUrl": "https://lh3.googleusercontent.com/a-/AOh14GgnClMV_IVnXVunt7D1mXXMatSQTrEGp72MrhCIeQ=s64",
      "userId": "15910273739366067110"
     },
     "user_tz": -420
    },
    "id": "1qI7Totr5EnH",
    "outputId": "4ce57b6f-98d1-4e58-dc16-5717e238fb96"
   },
   "outputs": [],
   "source": [
    "from sklearn.manifold import TSNE\n",
    "\n",
    "import seaborn as sns\n",
    "import pandas as pd\n",
    "\n",
    "n_classes = len(np.unique(trainy_enc))\n",
    "\n",
    "plt.figure(figsize=(6.5,4.5))\n",
    "\n",
    "y_train = trainy_enc\n",
    "\n",
    "x_mnist = emdTrainX_norm  \n",
    "\n",
    "print('X shape', x_mnist.shape)\n",
    "\n",
    "tsne = TSNE(n_components=2, verbose=1, random_state=123)\n",
    "z = tsne.fit_transform(x_mnist)\n",
    " \n",
    "df = pd.DataFrame()\n",
    "df[\"y\"] = y_train\n",
    "df['y_cls'] = trainy\n",
    "df[\"comp-1\"] = z[:,0]\n",
    "df[\"comp-2\"] = z[:,1]\n",
    "\n",
    "\n",
    "sns.scatterplot(x=\"comp-1\", y=\"comp-2\", s=30, hue=df.y_cls.tolist(), #7\n",
    "                palette=sns.color_palette(\"hls\", n_classes),\n",
    "                # legend=False,\n",
    "                data=df).set(title=\"t-SNE projection\")\n",
    "\n",
    "# Put the legend out of the figure\n",
    "plt.legend(bbox_to_anchor=(1.02, 1), loc=2, borderaxespad=0.)\n"
   ]
  },
  {
   "cell_type": "code",
   "execution_count": null,
   "metadata": {
    "id": "nrYxdS4Rsgv7"
   },
   "outputs": [],
   "source": []
  }
 ],
 "metadata": {
  "colab": {
   "authorship_tag": "ABX9TyM4n04q+tBaTe/IwVodTsV0",
   "name": "FaceNet recog celebs.ipynb",
   "provenance": [],
   "toc_visible": true
  },
  "kernelspec": {
   "display_name": "Python 3 (ipykernel)",
   "language": "python",
   "name": "python3"
  },
  "language_info": {
   "codemirror_mode": {
    "name": "ipython",
    "version": 3
   },
   "file_extension": ".py",
   "mimetype": "text/x-python",
   "name": "python",
   "nbconvert_exporter": "python",
   "pygments_lexer": "ipython3",
   "version": "3.9.7"
  }
 },
 "nbformat": 4,
 "nbformat_minor": 4
}
