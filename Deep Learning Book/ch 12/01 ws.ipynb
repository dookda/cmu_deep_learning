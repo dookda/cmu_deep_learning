{
 "cells": [
  {
   "cell_type": "markdown",
   "metadata": {
    "id": "q7KL1sdPcmlc"
   },
   "source": [
    "# ws 01 Detect"
   ]
  },
  {
   "cell_type": "code",
   "execution_count": null,
   "metadata": {
    "colab": {
     "base_uri": "https://localhost:8080/"
    },
    "executionInfo": {
     "elapsed": 6709,
     "status": "ok",
     "timestamp": 1636109695327,
     "user": {
      "displayName": "JKob San",
      "photoUrl": "https://lh3.googleusercontent.com/a-/AOh14GgnClMV_IVnXVunt7D1mXXMatSQTrEGp72MrhCIeQ=s64",
      "userId": "15910273739366067110"
     },
     "user_tz": -420
    },
    "id": "iEhOh3Xcc1x4",
    "outputId": "df627880-7fdc-4d15-c753-3aaee545a7d8"
   },
   "outputs": [],
   "source": [
    "!pip install mtcnn\n",
    "!pip install Pillow"
   ]
  },
  {
   "cell_type": "code",
   "execution_count": 5,
   "metadata": {
    "colab": {
     "base_uri": "https://localhost:8080/"
    },
    "executionInfo": {
     "elapsed": 322,
     "status": "ok",
     "timestamp": 1636110449202,
     "user": {
      "displayName": "JKob San",
      "photoUrl": "https://lh3.googleusercontent.com/a-/AOh14GgnClMV_IVnXVunt7D1mXXMatSQTrEGp72MrhCIeQ=s64",
      "userId": "15910273739366067110"
     },
     "user_tz": -420
    },
    "id": "mnX_sTuKcgfQ",
    "outputId": "a9116070-ac0f-4374-aef2-44819fd5b085"
   },
   "outputs": [],
   "source": [
    "import numpy as np\n",
    "from mtcnn.mtcnn import MTCNN\n",
    "from PIL import Image, ImageDraw\n"
   ]
  },
  {
   "cell_type": "code",
   "execution_count": null,
   "metadata": {
    "colab": {
     "base_uri": "https://localhost:8080/"
    },
    "executionInfo": {
     "elapsed": 24430,
     "status": "ok",
     "timestamp": 1636109820340,
     "user": {
      "displayName": "JKob San",
      "photoUrl": "https://lh3.googleusercontent.com/a-/AOh14GgnClMV_IVnXVunt7D1mXXMatSQTrEGp72MrhCIeQ=s64",
      "userId": "15910273739366067110"
     },
     "user_tz": -420
    },
    "id": "9Dny1tUVel0V",
    "outputId": "f969f533-bccd-4b95-f8e9-09fa69d241e7"
   },
   "outputs": [],
   "source": [
    "from google.colab import drive\n",
    "drive.mount('/content/drive/')\n",
    "\n",
    "!ls '/content/drive/MyDrive/Colab Notebooks'"
   ]
  },
  {
   "cell_type": "code",
   "execution_count": null,
   "metadata": {
    "colab": {
     "base_uri": "https://localhost:8080/",
     "height": 463
    },
    "executionInfo": {
     "elapsed": 3185,
     "status": "ok",
     "timestamp": 1636113125635,
     "user": {
      "displayName": "JKob San",
      "photoUrl": "https://lh3.googleusercontent.com/a-/AOh14GgnClMV_IVnXVunt7D1mXXMatSQTrEGp72MrhCIeQ=s64",
      "userId": "15910273739366067110"
     },
     "user_tz": -420
    },
    "id": "2Armu6HNUen1",
    "outputId": "ecc48007-8084-45cc-9266-3c564962e8f5"
   },
   "outputs": [],
   "source": [
    "path = '/content/drive/MyDrive/Colab Notebooks/datasets/face/'\n",
    "filename = path + 'IMG_20.jpg'\n",
    "\n",
    "im = Image.open(filename) # .convert(\"RGB\")\n",
    "print('img size:', im.size)\n",
    "\n",
    "imgW, imgH = (400, 220)\n",
    "\n",
    "scale = 0.4\n",
    "im = im.resize((round(im.size[0]*scale), round(im.size[1]*scale)))\n",
    "\n",
    "print('img size:', im.size)\n",
    "im"
   ]
  },
  {
   "cell_type": "code",
   "execution_count": null,
   "metadata": {
    "colab": {
     "base_uri": "https://localhost:8080/"
    },
    "executionInfo": {
     "elapsed": 2727,
     "status": "ok",
     "timestamp": 1636113134591,
     "user": {
      "displayName": "JKob San",
      "photoUrl": "https://lh3.googleusercontent.com/a-/AOh14GgnClMV_IVnXVunt7D1mXXMatSQTrEGp72MrhCIeQ=s64",
      "userId": "15910273739366067110"
     },
     "user_tz": -420
    },
    "id": "apTUPWgyXs-0",
    "outputId": "6175f20a-23bc-4052-d02b-c121e135a175"
   },
   "outputs": [],
   "source": [
    "detector = MTCNN()\n",
    "\n",
    "im_arr = np.array(im)\n",
    "\n",
    "faces = detector.detect_faces(im_arr)  \n",
    "print(f'Found {len(faces)} face(s)')\n",
    "faces"
   ]
  },
  {
   "cell_type": "code",
   "execution_count": 53,
   "metadata": {
    "id": "hoe9QI0CcNsa"
   },
   "outputs": [],
   "source": [
    "x1, y1, width, height = faces[0]['box']\n",
    "x2, y2 = x1 + width, y1 + height\n",
    "\n",
    "draw = ImageDraw.Draw(im)\n",
    "draw.rectangle([(x1,y1), (x2,y2)], outline=(0,255,0), width=4)\n",
    "im"
   ]
  },
  {
   "cell_type": "code",
   "execution_count": 55,
   "metadata": {
    "colab": {
     "base_uri": "https://localhost:8080/",
     "height": 224
    },
    "executionInfo": {
     "elapsed": 707,
     "status": "ok",
     "timestamp": 1636113305764,
     "user": {
      "displayName": "JKob San",
      "photoUrl": "https://lh3.googleusercontent.com/a-/AOh14GgnClMV_IVnXVunt7D1mXXMatSQTrEGp72MrhCIeQ=s64",
      "userId": "15910273739366067110"
     },
     "user_tz": -420
    },
    "id": "wmNkuJTk8lnK",
    "outputId": "afd5dcb1-cbf2-4369-9da5-ab6f4a9123f6"
   },
   "outputs": [],
   "source": [
    "im.save('face_1.jpg')"
   ]
  },
  {
   "cell_type": "code",
   "execution_count": null,
   "metadata": {
    "colab": {
     "base_uri": "https://localhost:8080/",
     "height": 224
    },
    "executionInfo": {
     "elapsed": 707,
     "status": "ok",
     "timestamp": 1636113305764,
     "user": {
      "displayName": "JKob San",
      "photoUrl": "https://lh3.googleusercontent.com/a-/AOh14GgnClMV_IVnXVunt7D1mXXMatSQTrEGp72MrhCIeQ=s64",
      "userId": "15910273739366067110"
     },
     "user_tz": -420
    },
    "id": "wmNkuJTk8lnK",
    "outputId": "afd5dcb1-cbf2-4369-9da5-ab6f4a9123f6"
   },
   "outputs": [],
   "source": [
    "face = im_arr[y1:y2, x1:x2]\n",
    "im_face = Image.fromarray(face)\n",
    "im_face"
   ]
  },
  {
   "cell_type": "code",
   "execution_count": 38,
   "metadata": {
    "id": "gyUCCNw89NjU"
   },
   "outputs": [],
   "source": [
    "im_face.save('face1.jpg')"
   ]
  },
  {
   "cell_type": "code",
   "execution_count": null,
   "metadata": {
    "colab": {
     "base_uri": "https://localhost:8080/",
     "height": 430
    },
    "executionInfo": {
     "elapsed": 2259,
     "status": "ok",
     "timestamp": 1636113322793,
     "user": {
      "displayName": "JKob San",
      "photoUrl": "https://lh3.googleusercontent.com/a-/AOh14GgnClMV_IVnXVunt7D1mXXMatSQTrEGp72MrhCIeQ=s64",
      "userId": "15910273739366067110"
     },
     "user_tz": -420
    },
    "id": "ovDimEhOfYzv",
    "outputId": "082ca688-8b9f-4faa-c181-c3c4913c93d7"
   },
   "outputs": [],
   "source": [
    "faces[0]['box']\n",
    "faces[0]['keypoints']['left_eye']\n",
    "kp1 = faces[0]['keypoints']['left_eye']\n",
    "kp2 = faces[0]['keypoints']['right_eye']  \n",
    "kp3 = faces[0]['keypoints']['nose']  \n",
    "kp4 = faces[0]['keypoints']['mouth_left'] \n",
    "kp5 = faces[0]['keypoints']['mouth_right']   \n",
    "\n",
    "draw.line((kp1, kp2, kp3,kp4,kp5, kp1), fill=(0,255,0), width=4) \n",
    "im"
   ]
  },
  {
   "cell_type": "code",
   "execution_count": null,
   "metadata": {
    "id": "wdls6_rGYn5J"
   },
   "outputs": [],
   "source": []
  }
 ],
 "metadata": {
  "colab": {
   "authorship_tag": "ABX9TyN0lfDkzKgh9PEABe7+kXXM",
   "name": "Face detect 1 mytest.ipynb",
   "provenance": [],
   "toc_visible": true
  },
  "kernelspec": {
   "display_name": "Python 3 (ipykernel)",
   "language": "python",
   "name": "python3"
  },
  "language_info": {
   "codemirror_mode": {
    "name": "ipython",
    "version": 3
   },
   "file_extension": ".py",
   "mimetype": "text/x-python",
   "name": "python",
   "nbconvert_exporter": "python",
   "pygments_lexer": "ipython3",
   "version": "3.9.7"
  }
 },
 "nbformat": 4,
 "nbformat_minor": 4
}
