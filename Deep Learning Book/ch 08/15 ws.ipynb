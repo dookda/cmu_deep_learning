{
 "cells": [
  {
   "cell_type": "markdown",
   "id": "438bdc07-9582-4f09-9e7b-40a130d3b5b6",
   "metadata": {},
   "source": [
    "# ws 15"
   ]
  },
  {
   "cell_type": "code",
   "execution_count": 125,
   "id": "a92361be-245d-410d-bd50-3d40b5f60036",
   "metadata": {},
   "outputs": [],
   "source": [
    "from tensorflow.keras.models import load_model\n",
    "\n",
    "model = load_model('digitmodel.h5') # "
   ]
  },
  {
   "cell_type": "code",
   "execution_count": null,
   "id": "78b56d17-7a0f-4b08-ae11-3c11aa02702e",
   "metadata": {},
   "outputs": [],
   "source": [
    "model.summary()\n",
    "model.get_config()['layers'][0]"
   ]
  },
  {
   "cell_type": "code",
   "execution_count": null,
   "id": "768c83d5-4237-4152-badd-446380eba4a1",
   "metadata": {},
   "outputs": [],
   "source": [
    "import tensorflow as tf\n",
    "converter = tf.lite.TFLiteConverter.from_keras_model(model)\n",
    "tflite_float_model = converter.convert()\n",
    "\n",
    "f = open('digit_float.tflite', \"wb\")\n",
    "f.write(tflite_float_model)\n",
    "f.close()\n",
    "\n",
    "float_model_size = len(tflite_float_model) / 1024\n",
    "print('Float model size = %d KBs.' % float_model_size)"
   ]
  },
  {
   "cell_type": "code",
   "execution_count": null,
   "id": "d8b3dcd8-b9ae-4dca-a977-d2199c119ade",
   "metadata": {},
   "outputs": [],
   "source": [
    "converter.optimizations = [tf.lite.Optimize.DEFAULT]\n",
    "tflite_quantized_model = converter.convert()\n",
    "\n",
    "quantized_model_size = len(tflite_quantized_model) / 1024\n",
    "print('Quantized model size = %d KBs,' % quantized_model_size)\n",
    "print('which is about %d%% of the float model size.'\\\n",
    "      % (quantized_model_size * 100 / float_model_size))\n",
    "\n",
    "f = open('digit_quantized.tflite', \"wb\")\n",
    "f.write(tflite_quantized_model)\n",
    "f.close()"
   ]
  },
  {
   "cell_type": "code",
   "execution_count": null,
   "id": "224012ea-8402-4fbe-9991-4b7e04f71f2e",
   "metadata": {},
   "outputs": [],
   "source": [
    "import numpy as np\n",
    "import matplotlib.pyplot as plt \n",
    "from tensorflow.keras.preprocessing.image import load_img, img_to_array\n",
    "from tensorflow.image import rgb_to_grayscale\n",
    "from PIL import Image, ImageOps\n",
    "\n",
    "img = load_img('../digit2-1.png', target_size=(28, 28)) # \n",
    "\n",
    "img = ImageOps.invert(img)\n",
    "img = img_to_array(img)\n",
    "img = rgb_to_grayscale(img)\n",
    "img = img / 255.0\n",
    "\n",
    "test_image = np.expand_dims(img, axis=0) \n",
    "\n",
    "print('shape=',test_image.shape)\n",
    "print('max pixel value=',np.min(img),np.max(img))\n",
    "print(test_image.shape)"
   ]
  },
  {
   "cell_type": "code",
   "execution_count": null,
   "id": "c716cfa6-6b60-42ed-a020-11fb6be393c7",
   "metadata": {},
   "outputs": [],
   "source": [
    "import tensorflow as tf\n",
    "from time import time\n",
    "\n",
    "tflite_path = 'digit_float.tflite' \n",
    "\n",
    "\n",
    "interpreter = tf.lite.Interpreter(model_path=tflite_path)\n",
    "interpreter.allocate_tensors()\n",
    "\n",
    "input = interpreter.get_input_details()\n",
    "input_shape = input[0]['shape']\n",
    "print('input shape:', input_shape)\n",
    "\n",
    "input_tensor_index = input[0][\"index\"]\n",
    "output = interpreter.tensor(interpreter.get_output_details()[0][\"index\"])\n",
    "\n",
    "interpreter.set_tensor(input_tensor_index, test_image) # \n",
    "\n",
    "time_start = time()\n",
    "interpreter.invoke()\n",
    "\n",
    "time_end = time()\n",
    "total_tflite_time = time_end - time_start\n",
    "print(\"Total prediction time: \", total_tflite_time)\n",
    "\n",
    "digit = np.argmax(output()[0])\n",
    "print(digit)\n",
    "print(output().round(2))\n",
    "\n",
    "plt.figure(figsize=(2, 2))\n",
    "plt.imshow(test_image[0], cmap=plt.cm.gray_r)\n",
    "plt.title('Predicted:{}'. format(digit))\n",
    "plt.xticks([]) ; plt.yticks([])\n",
    "plt.show()"
   ]
  },
  {
   "cell_type": "code",
   "execution_count": null,
   "id": "bdf69da5-3c2f-44af-aac0-bd34bffa581d",
   "metadata": {},
   "outputs": [],
   "source": []
  }
 ],
 "metadata": {
  "kernelspec": {
   "display_name": "Python 3 (ipykernel)",
   "language": "python",
   "name": "python3"
  },
  "language_info": {
   "codemirror_mode": {
    "name": "ipython",
    "version": 3
   },
   "file_extension": ".py",
   "mimetype": "text/x-python",
   "name": "python",
   "nbconvert_exporter": "python",
   "pygments_lexer": "ipython3",
   "version": "3.9.7"
  }
 },
 "nbformat": 4,
 "nbformat_minor": 5
}
