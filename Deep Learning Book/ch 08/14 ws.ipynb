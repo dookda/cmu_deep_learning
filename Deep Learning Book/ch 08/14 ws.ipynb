{
 "cells": [
  {
   "cell_type": "markdown",
   "id": "26f41f21-4e3e-467c-a17f-a1a172fc8175",
   "metadata": {},
   "source": [
    "# ws 14"
   ]
  },
  {
   "cell_type": "code",
   "execution_count": null,
   "id": "08f802ed-ce87-40e9-abdb-f4b0d1f8ef93",
   "metadata": {},
   "outputs": [],
   "source": [
    "import numpy as np\n",
    "import json\n",
    "from flask import Flask, request\n",
    "from tensorflow.keras.models import load_model\n",
    "from PIL import Image, ImageOps\n",
    "\n",
    "model = load_model('modeldigit.h5') \n",
    "print('model: ', model.get_config()['layers'][0]['config']['batch_input_shape'])\n",
    "\n",
    "\n",
    "app = Flask(__name__)\n",
    " \n",
    "@app.route('/model', methods=['POST'])\n",
    "def run_model():\n",
    "    req_data = request.get_json(force=True)\n",
    "    image_data = req_data['img']\n",
    "    img = np.array(image_data).reshape(28,28,1)\n",
    "\n",
    "    image = np.array(image_data).reshape(1,28,28,1)\n",
    "    pred = model.predict(image)  \n",
    "    digit = np.argmax(pred)\n",
    "    return str(digit) \n",
    "\n",
    "if __name__ == '__main__':\n",
    "    app.run()"
   ]
  }
 ],
 "metadata": {
  "kernelspec": {
   "display_name": "Python 3 (ipykernel)",
   "language": "python",
   "name": "python3"
  },
  "language_info": {
   "codemirror_mode": {
    "name": "ipython",
    "version": 3
   },
   "file_extension": ".py",
   "mimetype": "text/x-python",
   "name": "python",
   "nbconvert_exporter": "python",
   "pygments_lexer": "ipython3",
   "version": "3.9.7"
  }
 },
 "nbformat": 4,
 "nbformat_minor": 5
}
