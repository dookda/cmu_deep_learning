{
 "cells": [
  {
   "cell_type": "markdown",
   "id": "d796070e-937a-48ea-9953-7d5269402c5b",
   "metadata": {},
   "source": [
    "# WS 01"
   ]
  },
  {
   "cell_type": "code",
   "execution_count": null,
   "id": "20e388fb-282b-4309-8192-c172b0553ca3",
   "metadata": {},
   "outputs": [],
   "source": [
    "import cv2\n",
    "import numpy as np"
   ]
  },
  {
   "cell_type": "code",
   "execution_count": null,
   "id": "fadf4733-76e7-481b-9b82-c1f4efd08ec1",
   "metadata": {},
   "outputs": [],
   "source": [
    "image = np.array([[1, 0, 2, 1, 0],\n",
    "                  [0, 2, 3, 0, 1],\n",
    "                  [1, 0, 1, 1, 2],\n",
    "                  [0, 2, 2, 0, 3],                \n",
    "                  [0, 4, 1, 2, 0]])\n",
    "\n",
    "image = image / 5.0"
   ]
  },
  {
   "cell_type": "code",
   "execution_count": null,
   "id": "793e482e-4b6f-42a5-9d83-c95162d0caaa",
   "metadata": {},
   "outputs": [],
   "source": [
    "kernel1 = np.array([[-1, 0, 1],\n",
    "                    [-1, 0, 1],\n",
    "                    [-1, 0, 1]])\n",
    "\n",
    "im2 = cv2.filter2D(src=image, ddepth=-1, kernel=kernel1)"
   ]
  },
  {
   "cell_type": "code",
   "execution_count": null,
   "id": "527a1526-fe4b-42ad-bf08-d48a91cbfb85",
   "metadata": {},
   "outputs": [],
   "source": [
    "im2_int = (im2*5).astype('int')\n",
    "im2_int"
   ]
  },
  {
   "cell_type": "markdown",
   "id": "53d6518b-cc62-4eb0-bf23-f84e870a3703",
   "metadata": {},
   "source": [
    "# ws 02"
   ]
  },
  {
   "cell_type": "code",
   "execution_count": null,
   "id": "6b46feb0-0621-48c9-a451-7ac675da68ef",
   "metadata": {},
   "outputs": [],
   "source": [
    "image = cv2.imread('../building1.jpg')\n",
    "\n",
    "if image is None:\n",
    "    print('Could not read image')\n",
    "\n",
    "    \n",
    "kernel1 = np.array([[-1, 0, 1], # \n",
    "                    [-3, 0, 3],\n",
    "                    [-1, 0, 1]])\n",
    "    \n",
    "# kernel1 = np.array([[-1,-3, -1], # \n",
    "#                     [0,  0,  0],\n",
    "#                     [1,  3,  1]])\n",
    "\n",
    "\n",
    "# kernel1 = np.array([[0,  1,  3], # \n",
    "#                     [-1,  0, 1],\n",
    "#                     [-3,-1,  0]])\n",
    "\n",
    "# kernel1 = np.array([[-3, -1, 0], # \n",
    "#                     [-1,  0, 1],\n",
    "#                     [0,  1, 3]])\n",
    "\n",
    "# kernel1 = np.array([[-1, -1, -1], # \n",
    "#                     [-1, 8, -1],\n",
    "#                     [-1, -1, -1]])\n",
    "\n",
    "fea_map = cv2.filter2D(src=image, ddepth=-1, kernel=kernel1)\n",
    "\n",
    "cv2.imshow('Original', image)\n",
    "cv2.imshow('Feature Map', fea_map)\n",
    "cv2.imwrite('feature_map1.jpg', fea_map)\n",
    "cv2.waitKey()\n",
    "cv2.destroyAllWindows()"
   ]
  },
  {
   "cell_type": "markdown",
   "id": "d6de44dd-697d-4b12-b53e-512c594ff321",
   "metadata": {},
   "source": [
    "# ws 03"
   ]
  },
  {
   "cell_type": "code",
   "execution_count": null,
   "id": "8dd4fa42-82c1-4eeb-b8aa-0b500b1036d4",
   "metadata": {},
   "outputs": [],
   "source": [
    "import numpy as np\n",
    "from tensorflow.keras import Sequential\n",
    "from tensorflow.keras.layers import MaxPool2D, AveragePooling2D \n",
    " \n",
    "image = np.array([[2, 3, 4, 2], \n",
    "                  [8, 5, 5, 1], \n",
    "                  [6, 7, 9, 4], \n",
    "                  [3, 1, 4, 5]]) \n",
    " \n",
    "arr = image.reshape(1, 4, 4, 1) \n",
    "   \n",
    "model = Sequential() \n",
    "model.add(MaxPool2D(pool_size=(2, 2) )) \n",
    "# model.add(AveragePooling2D(pool_size=(2, 2))) \n",
    " \n",
    "output = model.predict(arr) \n",
    "output = np.squeeze(output) \n",
    "print(output)"
   ]
  },
  {
   "cell_type": "markdown",
   "id": "d3a4ebff-2471-4abe-af35-87f211b6097a",
   "metadata": {},
   "source": [
    "# ws 04"
   ]
  },
  {
   "cell_type": "code",
   "execution_count": null,
   "id": "31b47120-fc30-463b-b094-029a6e75d897",
   "metadata": {},
   "outputs": [],
   "source": [
    "import numpy as np\n",
    "from PIL import Image, ImageOps\n",
    "\n",
    "imgfile = 'feature_map1.jpg'\n",
    "\n",
    "image = Image.open(imgfile).convert('L')\n",
    "image"
   ]
  },
  {
   "cell_type": "code",
   "execution_count": null,
   "id": "28798fb3-c3e7-498b-9406-444cd471bd17",
   "metadata": {},
   "outputs": [],
   "source": [
    "pixel = np.array(image)\n",
    "pixel.shape"
   ]
  },
  {
   "cell_type": "code",
   "execution_count": null,
   "id": "12333dfa-d97c-4f1d-919a-f672d28cedc1",
   "metadata": {},
   "outputs": [],
   "source": [
    "from tensorflow.keras import Sequential\n",
    "from tensorflow.keras.layers import MaxPool2D, AveragePooling2D \n",
    "\n",
    "arr = pixel.reshape(1, 188, 268, 1)  \n",
    "   \n",
    "model = Sequential() \n",
    "model.add(MaxPool2D(pool_size=(2, 2)))\n",
    "# model.add(MaxPool2D(pool_size=(3, 3)))\n",
    "   \n",
    "output = model.predict(arr) \n",
    " \n",
    "output = np.squeeze(output) \n",
    "Image.fromarray(output)"
   ]
  },
  {
   "cell_type": "code",
   "execution_count": null,
   "id": "90bbe913-1c89-42a7-a24a-424041dcae48",
   "metadata": {},
   "outputs": [],
   "source": [
    "output.shape"
   ]
  }
 ],
 "metadata": {
  "kernelspec": {
   "display_name": "Python 3 (ipykernel)",
   "language": "python",
   "name": "python3"
  },
  "language_info": {
   "codemirror_mode": {
    "name": "ipython",
    "version": 3
   },
   "file_extension": ".py",
   "mimetype": "text/x-python",
   "name": "python",
   "nbconvert_exporter": "python",
   "pygments_lexer": "ipython3",
   "version": "3.9.7"
  }
 },
 "nbformat": 4,
 "nbformat_minor": 5
}
