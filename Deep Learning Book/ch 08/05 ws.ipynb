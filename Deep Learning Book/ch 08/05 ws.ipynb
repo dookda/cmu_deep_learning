{
 "cells": [
  {
   "cell_type": "markdown",
   "id": "b271787c-03eb-4b27-a1fe-13c8f489c1c5",
   "metadata": {},
   "source": [
    "# WS 05"
   ]
  },
  {
   "cell_type": "code",
   "execution_count": null,
   "id": "232b654d-dab2-488c-88af-49a3df504913",
   "metadata": {},
   "outputs": [],
   "source": [
    "from tensorflow.keras import Sequential\n",
    "from tensorflow.keras.layers import Dense, Conv2D, MaxPool2D, Flatten \n",
    "import matplotlib.pyplot as plt\n",
    "import numpy as np\n",
    "\n",
    "in_shape = (100, 100, 3)\n",
    "\n",
    "model = Sequential()\n",
    "model.add(Conv2D(32, (3,3), activation='relu', input_shape=in_shape)) \n",
    "model.add(MaxPool2D((2, 2)))\n",
    "\n",
    "model.add(Conv2D(64, (3,3), activation='relu')) \n",
    "model.add(MaxPool2D((2, 2)))\n",
    "\n",
    "model.add(Conv2D(128, (3,3), activation='relu')) \n",
    "model.add(MaxPool2D((2, 2)))\n",
    "\n",
    "model.add(Flatten())\n",
    "\n",
    "model.add(Dense(3, activation='softmax'))\n",
    "model.summary()"
   ]
  },
  {
   "cell_type": "code",
   "execution_count": null,
   "id": "eaf30c83-7d5d-4cbf-95b8-839671ed3825",
   "metadata": {},
   "outputs": [],
   "source": [
    "from tensorflow.keras.utils import plot_model\n",
    "plot_model(model, to_file='model.png', show_shapes=True, show_layer_names=True, dpi=120)"
   ]
  },
  {
   "cell_type": "markdown",
   "id": "ba50fbca-4b0c-4ebe-acc7-c58aa74e76f2",
   "metadata": {},
   "source": [
    "### Kernel"
   ]
  },
  {
   "cell_type": "code",
   "execution_count": null,
   "id": "625b50a3-a1ca-4f00-af54-ff04524f4280",
   "metadata": {},
   "outputs": [],
   "source": [
    "for layer in model.layers:\n",
    "    if 'conv' not in layer.name:\n",
    "        continue\n",
    "    kernels, biases = layer.get_weights()\n",
    "    print(layer.name, ' shape:', kernels.shape)"
   ]
  },
  {
   "cell_type": "code",
   "execution_count": null,
   "id": "c9f0f5d1-a2f7-41ec-a118-e43eec94e271",
   "metadata": {},
   "outputs": [],
   "source": [
    "model_layer_idx = 0\n",
    "kernels, biases = model.layers[model_layer_idx].get_weights()\n",
    "kernels.shape"
   ]
  },
  {
   "cell_type": "code",
   "execution_count": null,
   "id": "bf95ff90-a5b8-41ad-aece-e19edfc4919d",
   "metadata": {},
   "outputs": [],
   "source": [
    "k_min, k_max = kernels.min(), kernels.max()\n",
    "kernels = (kernels - k_min) / (k_max - k_min)"
   ]
  },
  {
   "cell_type": "code",
   "execution_count": null,
   "id": "606e6169-86af-45fe-bda6-10abfc68a883",
   "metadata": {},
   "outputs": [],
   "source": [
    "kernel_idx = 0\n",
    "kernel_i = kernels[:, :, 0, kernel_idx]\n",
    "print(kernel_i.round(2))"
   ]
  },
  {
   "cell_type": "code",
   "execution_count": null,
   "id": "16bbff2a-95a5-41f7-ac25-a9fa262502c8",
   "metadata": {},
   "outputs": [],
   "source": [
    "plt.imshow(kernel_i, cmap=plt.cm.gray) \n",
    "plt.xticks([])\n",
    "plt.yticks([])\n",
    "plt.show()"
   ]
  },
  {
   "cell_type": "code",
   "execution_count": null,
   "id": "e111d0e9-8171-4771-a9bb-960268f39fce",
   "metadata": {},
   "outputs": [],
   "source": [
    "nplots = 20 \n",
    "fig = plt.figure(figsize=(8, 6.8))\n",
    "for j in range(nplots):\n",
    "    plt.subplot(4, 5, j+1)\n",
    "    plt.imshow(kernels[:, :, 0, j], cmap=plt.cm.gray)\n",
    "    plt.title(j)\n",
    "    plt.xticks([]); plt.yticks([])\n",
    "\n",
    "plt.show()"
   ]
  },
  {
   "cell_type": "markdown",
   "id": "2ad8c50d-1e97-4e62-a090-cf071b8ad7d4",
   "metadata": {},
   "source": [
    "# ws 06"
   ]
  },
  {
   "cell_type": "code",
   "execution_count": null,
   "id": "55182772-9ff4-47f6-9d49-4747a58d6325",
   "metadata": {},
   "outputs": [],
   "source": [
    "from tensorflow.keras.preprocessing.image import load_img, img_to_array\n",
    "\n",
    "from tensorflow.keras.models import Model\n",
    "from matplotlib import pyplot\n",
    "\n",
    "image = load_img('../building1.jpg', target_size=(100, 100))\n",
    "\n",
    "plt.imshow(image)\n",
    "plt.xticks([]), plt.yticks([])\n",
    "\n",
    "plt.show()"
   ]
  },
  {
   "cell_type": "code",
   "execution_count": null,
   "id": "7dd01ec1-d182-4fad-ab48-b9d174f6cd93",
   "metadata": {},
   "outputs": [],
   "source": [
    "img = img_to_array(image)\n",
    "print('shape=',img.shape)\n",
    "print('max pixel value=',np.max(img))"
   ]
  },
  {
   "cell_type": "code",
   "execution_count": null,
   "id": "ec60ede9-81f5-4ce3-b945-3801ff1c7593",
   "metadata": {},
   "outputs": [],
   "source": [
    "img = np.expand_dims(img, axis=0)\n",
    "img.shape"
   ]
  },
  {
   "cell_type": "code",
   "execution_count": null,
   "id": "3a5ed8d5-e1ef-4482-a6fc-c0fff676a549",
   "metadata": {},
   "outputs": [],
   "source": [
    "from tensorflow.keras.models import Model\n",
    "\n",
    "layer_idx = 0\n",
    "md = Model(inputs=model.inputs, outputs=model.layers[layer_idx].output)\n",
    "\n",
    "feature_maps = md.predict(img)\n",
    "feature_maps.shape"
   ]
  },
  {
   "cell_type": "code",
   "execution_count": null,
   "id": "e75a6a9b-211a-412e-8065-ca76109ae435",
   "metadata": {},
   "outputs": [],
   "source": [
    "feature_maps.min(), feature_maps.max()"
   ]
  },
  {
   "cell_type": "code",
   "execution_count": null,
   "id": "5faa4f0b-d489-4e39-a6ba-e36be04f4cd8",
   "metadata": {},
   "outputs": [],
   "source": [
    "f_min, f_max = feature_maps.min(), feature_maps.max()\n",
    "feature_maps = (feature_maps - f_min) / (f_max - f_min)\n",
    "feature_maps.min(), feature_maps.max()"
   ]
  },
  {
   "cell_type": "code",
   "execution_count": null,
   "id": "2f9981a6-526c-4a40-960e-ad689b027124",
   "metadata": {},
   "outputs": [],
   "source": [
    "sample_idx = 0\n",
    "fea_idx = 10\n",
    "feature_map_i = feature_maps[sample_idx, :, :, fea_idx]\n",
    "\n",
    "plt.title('{}x{}'.format(feature_map_i.shape[0],feature_map_i.shape[0]))\n",
    "plt.imshow(feature_map_i, cmap=plt.cm.gray)\n",
    "plt.show()"
   ]
  },
  {
   "cell_type": "code",
   "execution_count": null,
   "id": "54a9261b-097b-4b54-a85c-93271b752e34",
   "metadata": {},
   "outputs": [],
   "source": [
    "nplots = 30\n",
    "fig = plt.figure(figsize=(12, 10)) \n",
    "for j in range(nplots):\n",
    "    plt.subplot(6, 5, j+1)\n",
    "    plt.imshow(feature_maps[sample_idx, :, :, j], cmap=plt.cm.gray)\n",
    "    plt.title(j)\n",
    "    plt.xticks([]) # ; plt.yticks([])\n",
    "\n",
    "plt.show()"
   ]
  },
  {
   "cell_type": "code",
   "execution_count": null,
   "id": "251f0d07-8a98-40b5-9daf-0f9b2017450c",
   "metadata": {},
   "outputs": [],
   "source": []
  }
 ],
 "metadata": {
  "kernelspec": {
   "display_name": "Python 3 (ipykernel)",
   "language": "python",
   "name": "python3"
  },
  "language_info": {
   "codemirror_mode": {
    "name": "ipython",
    "version": 3
   },
   "file_extension": ".py",
   "mimetype": "text/x-python",
   "name": "python",
   "nbconvert_exporter": "python",
   "pygments_lexer": "ipython3",
   "version": "3.9.7"
  }
 },
 "nbformat": 4,
 "nbformat_minor": 5
}
