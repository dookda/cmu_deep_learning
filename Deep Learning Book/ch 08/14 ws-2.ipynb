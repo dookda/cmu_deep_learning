{
 "cells": [
  {
   "cell_type": "markdown",
   "id": "1bf3adc9-2eb7-4f3a-a499-684b727c0934",
   "metadata": {},
   "source": [
    "# ws 14 client"
   ]
  },
  {
   "cell_type": "code",
   "execution_count": null,
   "id": "d46db842-cd3b-471c-97a0-10d90374b958",
   "metadata": {},
   "outputs": [],
   "source": [
    "import numpy as np\n",
    "import json\n",
    "import matplotlib.pyplot as plt \n",
    "from tensorflow.keras.preprocessing.image import load_img, img_to_array\n",
    "from tensorflow.image import rgb_to_grayscale\n",
    "from PIL import Image, ImageOps\n",
    "\n",
    "img = load_img('../digit2-1.png', target_size=(28, 28)) # \n",
    "img = ImageOps.invert(img)\n",
    "img = img_to_array(img)\n",
    "img = rgb_to_grayscale(img)\n",
    "img = img / 255.0\n",
    "\n",
    "print('max pixel value=',np.min(img),np.max(img))\n",
    "\n",
    "plt.figure(figsize=(2, 2))\n",
    "plt.imshow(img, cmap=plt.cm.gray_r)\n",
    "\n",
    "plt.xticks([])\n",
    "plt.yticks([])\n",
    "plt.show()"
   ]
  },
  {
   "cell_type": "code",
   "execution_count": null,
   "id": "3d2ef2b8-e659-43e9-bdb8-4837c2bc5754",
   "metadata": {},
   "outputs": [],
   "source": [
    "img_lst = np.squeeze(img).tolist()\n",
    "\n",
    "data = json.dumps({'img':img_lst})\n",
    "url = 'http://127.0.0.1:5000/model'\n",
    "\n",
    "response = requests.post(url, data)\n",
    "\n",
    "print('Digit =' , response.text)"
   ]
  }
 ],
 "metadata": {
  "kernelspec": {
   "display_name": "Python 3 (ipykernel)",
   "language": "python",
   "name": "python3"
  },
  "language_info": {
   "codemirror_mode": {
    "name": "ipython",
    "version": 3
   },
   "file_extension": ".py",
   "mimetype": "text/x-python",
   "name": "python",
   "nbconvert_exporter": "python",
   "pygments_lexer": "ipython3",
   "version": "3.9.7"
  }
 },
 "nbformat": 4,
 "nbformat_minor": 5
}
