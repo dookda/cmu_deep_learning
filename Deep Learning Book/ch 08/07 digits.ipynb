{
 "cells": [
  {
   "cell_type": "markdown",
   "id": "b271787c-03eb-4b27-a1fe-13c8f489c1c5",
   "metadata": {},
   "source": [
    "# WS 07"
   ]
  },
  {
   "cell_type": "code",
   "execution_count": null,
   "id": "e300983c-7431-4438-86e5-75e3dffd09b1",
   "metadata": {},
   "outputs": [],
   "source": [
    "import numpy as np\n",
    "from tensorflow.keras.datasets.mnist import load_data\n",
    "\n",
    "(X_train, y_train), (X_test, y_test) = load_data()"
   ]
  },
  {
   "cell_type": "code",
   "execution_count": null,
   "id": "678444ce-b1cd-4ea6-bd39-733ad78e5dab",
   "metadata": {},
   "outputs": [],
   "source": [
    "print(X_train.shape)\n",
    "print(X_test.shape)"
   ]
  },
  {
   "cell_type": "code",
   "execution_count": null,
   "id": "eaff61f1-0e9f-4b39-b400-4333ed324071",
   "metadata": {},
   "outputs": [],
   "source": [
    "print(y_train.shape)\n",
    "print(y_test.shape)"
   ]
  },
  {
   "cell_type": "code",
   "execution_count": null,
   "id": "1a0b839d-2272-4a3b-9e41-4cc933cd5fce",
   "metadata": {},
   "outputs": [],
   "source": [
    "X_test.shape , y_test.shape"
   ]
  },
  {
   "cell_type": "code",
   "execution_count": null,
   "id": "b298802d-8999-4c6d-ac65-df5d1bd85c5f",
   "metadata": {},
   "outputs": [],
   "source": [
    "X_train[0][:, 7:20]\n",
    "X_train[0,:, 7:20]"
   ]
  },
  {
   "cell_type": "code",
   "execution_count": null,
   "id": "2399d264-98a6-416a-a6bb-ecb4e4b78bee",
   "metadata": {},
   "outputs": [],
   "source": [
    "y_train[0:10]"
   ]
  },
  {
   "cell_type": "code",
   "execution_count": null,
   "id": "fac4b23c-4caf-4058-b15d-15334d7c490f",
   "metadata": {},
   "outputs": [],
   "source": [
    "np.min(X_train), np.max(X_train)"
   ]
  },
  {
   "cell_type": "code",
   "execution_count": null,
   "id": "948bd45d-b6ac-43a9-a3c9-38b3142c6c46",
   "metadata": {},
   "outputs": [],
   "source": [
    "np.isnan(X_train).sum()"
   ]
  },
  {
   "cell_type": "code",
   "execution_count": null,
   "id": "9915eee8-c62b-4019-acc9-abea6b3bc4e7",
   "metadata": {},
   "outputs": [],
   "source": [
    "print(np.unique(y_train))"
   ]
  },
  {
   "cell_type": "markdown",
   "id": "92d471b5-9949-4b8a-a4f4-4ff5d05e5d47",
   "metadata": {},
   "source": [
    "# Ws 08"
   ]
  },
  {
   "cell_type": "code",
   "execution_count": null,
   "id": "4a99ea9f-d547-45d0-9fb4-fba49a0501e4",
   "metadata": {},
   "outputs": [],
   "source": [
    "import matplotlib.pyplot as plt\n",
    "\n",
    "img = X_train[0]\n",
    "plt.imshow(img, cmap=plt.cm.gray_r) \n",
    "\n",
    "plt.grid()\n",
    "plt.show()"
   ]
  },
  {
   "cell_type": "code",
   "execution_count": null,
   "id": "c8789260-cfcb-42e9-bdf5-d16c6deeb6f4",
   "metadata": {},
   "outputs": [],
   "source": [
    "def visual_multi(i):\n",
    "    nplots = 40\n",
    "    fig = plt.figure(figsize=(8, 4)) \n",
    "    for j in range(nplots):\n",
    "        plt.subplot(4, 10, j+1)\n",
    "        plt.imshow(X_train[i+j], cmap=plt.cm.gray_r)\n",
    "        plt.title(y_train[i+j])\n",
    "    plt.show()\n",
    "\n",
    "visual_multi(0)"
   ]
  },
  {
   "cell_type": "markdown",
   "id": "cfd00e7d-b9c5-4246-8b4c-001128de5345",
   "metadata": {},
   "source": [
    "# ws 09"
   ]
  },
  {
   "cell_type": "code",
   "execution_count": null,
   "id": "455dce2e-e8c4-4799-b65a-e6303db0603b",
   "metadata": {},
   "outputs": [],
   "source": [
    "print(X_train.shape)\n",
    "print(X_test.shape) "
   ]
  },
  {
   "cell_type": "code",
   "execution_count": null,
   "id": "fb9808a3-707c-427a-ba1b-19f6342d8149",
   "metadata": {},
   "outputs": [],
   "source": [
    "# X_train = X_train.reshape((X_train.shape[0], X_train.shape[1], X_train.shape[2], 1)) # \n",
    "# X_test = X_test.reshape((X_test.shape[0], X_test.shape[1], X_test.shape[2], 1))\n",
    "\n",
    "# X_train = X_train.reshape((60000, 28, 28, 1)) # \n",
    "# X_test = X_test.reshape((10000, 28, 28, 1))\n",
    "\n",
    "# X_train = X_train.reshape(-1, 28, 28, 1)\n",
    "# X_test = X_test.reshape(-1, 28, 28, 1)\n",
    "\n",
    "X_train = np.expand_dims(X_train, -1) # \n",
    "X_test = np.expand_dims(X_test, -1)"
   ]
  },
  {
   "cell_type": "code",
   "execution_count": null,
   "id": "53e0a35a-8111-4c0a-ae46-315fed5e5bf6",
   "metadata": {},
   "outputs": [],
   "source": [
    "X_train = X_train.astype('float32') / 255.0\n",
    "X_test = X_test.astype('float32') / 255.0\n"
   ]
  },
  {
   "cell_type": "code",
   "execution_count": null,
   "id": "55c9c458-0d18-47c5-84c4-f9495d20e80e",
   "metadata": {},
   "outputs": [],
   "source": [
    "np.min(X_train), np.max(X_train)"
   ]
  },
  {
   "cell_type": "code",
   "execution_count": null,
   "id": "2eaf2251-7406-4f78-87ca-2746aaeb2213",
   "metadata": {},
   "outputs": [],
   "source": [
    "X_train[0,10,10:15]"
   ]
  },
  {
   "cell_type": "markdown",
   "id": "1c90060c-13f8-45e3-9b35-d6d606d03e3e",
   "metadata": {},
   "source": [
    "select samples"
   ]
  },
  {
   "cell_type": "code",
   "execution_count": null,
   "id": "f49f1c43-a308-4229-9d57-47f80a853651",
   "metadata": {},
   "outputs": [],
   "source": [
    "num_samples = 10000\n",
    "\n",
    "X_train = X_train[:num_samples]\n",
    "y_train = y_train[:num_samples]"
   ]
  },
  {
   "cell_type": "code",
   "execution_count": null,
   "id": "67e385d4-e51c-4e62-8a43-aaaa07045651",
   "metadata": {},
   "outputs": [],
   "source": [
    "X_train.shape"
   ]
  },
  {
   "cell_type": "code",
   "execution_count": null,
   "id": "cf6b1080-20e9-4c60-9d6e-d701a0806de5",
   "metadata": {},
   "outputs": [],
   "source": [
    "import warnings\n",
    "warnings.filterwarnings(\"ignore\")\n",
    "import matplotlib.pyplot as plt\n",
    "import seaborn as sns\n",
    "\n",
    "sns.countplot(y_test)\n",
    "\n",
    "plt.show()\n",
    "del sns, warnings"
   ]
  },
  {
   "cell_type": "code",
   "execution_count": null,
   "id": "cb61d752-5e33-4a5c-a3c3-e7552d8f3381",
   "metadata": {},
   "outputs": [],
   "source": [
    "print('Train: X={}, y={}'.format(X_train.shape, y_train.shape))\n",
    "print('Test: X={}, y={}'.format(X_test.shape, y_test.shape))"
   ]
  },
  {
   "cell_type": "markdown",
   "id": "f2e6dad5-d8cf-4e3b-b8b9-421ac752276b",
   "metadata": {},
   "source": [
    "# ws 10"
   ]
  },
  {
   "cell_type": "code",
   "execution_count": null,
   "id": "a050c1a0-072c-46fd-bd14-69829fd09b7e",
   "metadata": {},
   "outputs": [],
   "source": [
    "num_classes = len(np.unique(y_train))\n",
    "num_classes"
   ]
  },
  {
   "cell_type": "code",
   "execution_count": null,
   "id": "7e6f93a8-5260-4567-b948-32061538a873",
   "metadata": {},
   "outputs": [],
   "source": [
    "in_shape = X_train.shape[1:]\n",
    "in_shape"
   ]
  },
  {
   "cell_type": "code",
   "execution_count": null,
   "id": "31eda112-ae1b-467c-b1d1-76e4cc2669a3",
   "metadata": {},
   "outputs": [],
   "source": [
    "from tensorflow.keras import Sequential\n",
    "from tensorflow.keras.layers import Dense, Conv2D, MaxPool2D, Flatten, Dropout\n",
    "\n",
    "model = Sequential()\n",
    "model.add(Conv2D(32, (3,3), activation='relu', input_shape=in_shape)) \n",
    "model.add(MaxPool2D((2, 2)))\n",
    "\n",
    "model.add(Conv2D(64, (3,3), activation='relu'))\n",
    "model.add(MaxPool2D((2, 2)))\n",
    "\n",
    "model.add(Flatten())\n",
    "\n",
    "model.add(Dropout(0.5)) \n",
    "model.add(Dense(128, activation='relu')) \n",
    "model.add(Dropout(0.5)) \n",
    "\n",
    "model.add(Dense(num_classes, activation='softmax'))"
   ]
  },
  {
   "cell_type": "code",
   "execution_count": null,
   "id": "30565b23-8ce1-45c7-b43c-7593d67700a1",
   "metadata": {},
   "outputs": [],
   "source": [
    "model.summary()"
   ]
  },
  {
   "cell_type": "code",
   "execution_count": null,
   "id": "f3ba39c6-5090-48fc-ae36-207afadb9e97",
   "metadata": {},
   "outputs": [],
   "source": [
    "from tensorflow.keras.utils import plot_model\n",
    "\n",
    "plot_model(model, 'digit.png', show_shapes=True, show_layer_names=True)"
   ]
  },
  {
   "cell_type": "code",
   "execution_count": null,
   "id": "2ea5aac6-db42-46ea-b7b2-4e39c41bfd15",
   "metadata": {},
   "outputs": [],
   "source": [
    "model.compile(optimizer='adam', loss='sparse_categorical_crossentropy', metrics=['accuracy'])\n",
    "\n",
    "import time\n",
    "start = time.time()\n",
    "\n",
    "history = model.fit(X_train, y_train, epochs=15, batch_size=128, verbose=1, validation_split=0.1) \n",
    "\n",
    "end = time.time()\n",
    "\n",
    "print(\"Time Taken: {:.2f} minutes\".format((end - start)/60))"
   ]
  },
  {
   "cell_type": "code",
   "execution_count": null,
   "id": "a2e331c6-adb6-4171-8a1e-9af7437a335f",
   "metadata": {},
   "outputs": [],
   "source": [
    "score = model.evaluate(X_test, y_test, verbose=1)\n",
    "print('Accuracy: {:.3f}'.format(score[1]))"
   ]
  },
  {
   "cell_type": "code",
   "execution_count": null,
   "id": "42aa6284-5073-4616-a2cd-3db9c65ba072",
   "metadata": {},
   "outputs": [],
   "source": [
    "plt.figure(figsize=(4.7, 3.5))\n",
    "plt.plot(history.history['loss'], color='b', label=\"Training\")\n",
    "plt.plot(history.history['val_loss'], 'r--', label=\"validation\")\n",
    "plt.title('Loss')\n",
    "plt.legend()\n",
    "plt.show()"
   ]
  },
  {
   "cell_type": "markdown",
   "id": "c0272737-9400-434e-8d02-d0e5b293b36a",
   "metadata": {
    "tags": []
   },
   "source": [
    "# ws11"
   ]
  },
  {
   "cell_type": "code",
   "execution_count": null,
   "id": "60eda0d8-6cd2-462f-befb-15abbd2f0963",
   "metadata": {},
   "outputs": [],
   "source": [
    "y_pred = model.predict(X_test)\n",
    "\n",
    "y_pred_cls = np.argmax(y_pred, axis=1) "
   ]
  },
  {
   "cell_type": "code",
   "execution_count": null,
   "id": "576edfcc-cc3a-4d6c-9e41-e8d8c6ef8782",
   "metadata": {},
   "outputs": [],
   "source": [
    "idx_miss = np.where(y_pred_cls != y_test)\n",
    "\n",
    "print(len(idx_miss[0]))"
   ]
  },
  {
   "cell_type": "code",
   "execution_count": null,
   "id": "ee378ae4-f339-47ed-a69c-8567e7de4255",
   "metadata": {},
   "outputs": [],
   "source": [
    "print(idx_miss[0][:15])"
   ]
  },
  {
   "cell_type": "code",
   "execution_count": null,
   "id": "2e132a18-0e45-4551-94b0-a3f4e61fa9c1",
   "metadata": {},
   "outputs": [],
   "source": [
    "y_test[idx_miss][:15]"
   ]
  },
  {
   "cell_type": "code",
   "execution_count": null,
   "id": "08dcb93c-1a19-4008-9893-c931b6d3470f",
   "metadata": {},
   "outputs": [],
   "source": [
    "y_pred_cls[idx_miss][:15]"
   ]
  },
  {
   "cell_type": "code",
   "execution_count": null,
   "id": "214db290-fea1-47f8-b025-fa6b97aa1eff",
   "metadata": {},
   "outputs": [],
   "source": [
    "fig = plt.figure(figsize=(2, 2)) \n",
    "plt.imshow(X_test[idx_miss][0].reshape(28,28), cmap=plt.cm.gray_r)\n",
    "plt.show()"
   ]
  },
  {
   "cell_type": "code",
   "execution_count": null,
   "id": "dc885341-c75d-4c96-9b0d-c71d628cfe0e",
   "metadata": {},
   "outputs": [],
   "source": [
    "nplots = 16 \n",
    "\n",
    "fig = plt.figure(figsize=(10, 3.4)) \n",
    "for j,k in enumerate(idx_miss[0]):\n",
    "    plt.subplot(2, 8, j+1)\n",
    "    plt.imshow(X_test[k].reshape(28, 28), cmap=plt.cm.gray_r)\n",
    "    plt.title('p--> {}'.format(y_pred_cls[k]))\n",
    "    plt.xticks([])\n",
    "    plt.yticks([])\n",
    "    plt.xlabel(y_test[k])\n",
    "    if j >= nplots-1:\n",
    "        break\n",
    "#     plt.axis('off')\n",
    "\n",
    "plt.show()"
   ]
  },
  {
   "cell_type": "markdown",
   "id": "e5f06228-dc58-442e-a5f0-cc54b8466190",
   "metadata": {},
   "source": [
    "# ws 12"
   ]
  },
  {
   "cell_type": "code",
   "execution_count": null,
   "id": "399414bf-9a77-4a43-96d5-1dae790bb318",
   "metadata": {},
   "outputs": [],
   "source": [
    "from tensorflow.keras.preprocessing.image import load_img, img_to_array\n",
    "from tensorflow.image import rgb_to_grayscale\n",
    "\n",
    "img = load_img('../digit2-1.png', target_size=(28, 28))\n",
    "img"
   ]
  },
  {
   "cell_type": "code",
   "execution_count": null,
   "id": "1f1a26d4-e42c-4b22-864b-f678636ff2f4",
   "metadata": {},
   "outputs": [],
   "source": [
    "from PIL import Image, ImageOps\n",
    "\n",
    "img = ImageOps.invert(img)\n",
    "img = img_to_array(img)\n",
    "img = rgb_to_grayscale(img)\n",
    "\n",
    "print('shape=',img.shape)\n",
    "print('max pixel value=',np.max(img))"
   ]
  },
  {
   "cell_type": "code",
   "execution_count": null,
   "id": "e82b7306-74db-4d34-b222-633e4a9078b3",
   "metadata": {},
   "outputs": [],
   "source": [
    "img = img /255.0\n",
    "print('max pixel value=',np.max(img))"
   ]
  },
  {
   "cell_type": "code",
   "execution_count": null,
   "id": "7530850c-d07b-4664-8de3-a961c07b10f7",
   "metadata": {},
   "outputs": [],
   "source": [
    "img = np.expand_dims(img, axis=0)\n",
    "img.shape"
   ]
  },
  {
   "cell_type": "code",
   "execution_count": null,
   "id": "f5534287-893c-48e3-aaf4-ae9ead1e0ee5",
   "metadata": {},
   "outputs": [],
   "source": [
    "y_pred = model.predict(img)\n",
    "y_pred.round(3)"
   ]
  },
  {
   "cell_type": "code",
   "execution_count": null,
   "id": "647a2745-9efc-4cdb-a6b6-8370bbf0df5a",
   "metadata": {},
   "outputs": [],
   "source": [
    "predicted = np.argmax(y_pred, -1) \n",
    "print(predicted)"
   ]
  },
  {
   "cell_type": "code",
   "execution_count": null,
   "id": "37f02170-874d-433f-acee-c76f35e32dc5",
   "metadata": {},
   "outputs": [],
   "source": [
    "plt.figure(figsize=(2, 2))\n",
    "plt.imshow(img[0], cmap=plt.cm.gray_r)\n",
    "plt.title('Predicted:{}'. format(predicted[0]))\n",
    "plt.xticks([])\n",
    "plt.yticks([])\n",
    "plt.show()"
   ]
  },
  {
   "cell_type": "code",
   "execution_count": null,
   "id": "1f65ac37-72a0-4f29-9fb7-51269d6d9153",
   "metadata": {},
   "outputs": [],
   "source": [
    "def predict_digit(imgs):\n",
    "    y_pred = [] ; y_pred_cls = []; img_lst = []\n",
    "    for i in imgs:\n",
    "        img = load_img(i, target_size=(28, 28))\n",
    "        img = ImageOps.invert(img)\n",
    "        img = img_to_array(img)\n",
    "        img = rgb_to_grayscale(img)\n",
    "\n",
    "        img = img / 255.0\n",
    "        img_lst.append(img)\n",
    "        img = np.expand_dims(img, axis=0)\n",
    "\n",
    "        y_pred_i = model.predict(img)\n",
    "        y_pred_cls_i = np.argmax(y_pred_i, -1)\n",
    "        y_pred.append(y_pred_i)\n",
    "        y_pred_cls.append(y_pred_cls_i)\n",
    "\n",
    "    return img_lst, y_pred_cls, y_pred\n",
    "\n",
    "imgfiles = ['../digit2-1.png','../digit4-1.png']\n",
    "\n",
    "img_lst,y_pred_cls,y_pred = predict_digit(imgfiles) "
   ]
  },
  {
   "cell_type": "code",
   "execution_count": null,
   "id": "e098c6fa-86cb-4578-b152-ea3d455b6228",
   "metadata": {},
   "outputs": [],
   "source": [
    "fig = plt.figure(figsize=(9, 2.6)) \n",
    "\n",
    "for i, k in enumerate(img_lst):\n",
    "    plt.subplot(2, 8, i+1)\n",
    "    plt.imshow(k, cmap=plt.cm.gray_r)\n",
    "    plt.title('p--> {}'.format(y_pred_cls[i][0]))\n",
    "    plt.xticks([])\n",
    "    plt.yticks([])\n",
    "\n",
    "plt.show()"
   ]
  },
  {
   "cell_type": "code",
   "execution_count": null,
   "id": "0814f212-9d1d-48a9-85da-5314f68ea9fe",
   "metadata": {},
   "outputs": [],
   "source": [
    "model.save('digitmodel.h5')"
   ]
  }
 ],
 "metadata": {
  "kernelspec": {
   "display_name": "Python 3 (ipykernel)",
   "language": "python",
   "name": "python3"
  },
  "language_info": {
   "codemirror_mode": {
    "name": "ipython",
    "version": 3
   },
   "file_extension": ".py",
   "mimetype": "text/x-python",
   "name": "python",
   "nbconvert_exporter": "python",
   "pygments_lexer": "ipython3",
   "version": "3.9.7"
  }
 },
 "nbformat": 4,
 "nbformat_minor": 5
}
