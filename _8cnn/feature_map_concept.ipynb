{
 "cells": [
  {
   "cell_type": "code",
   "execution_count": 5,
   "metadata": {},
   "outputs": [],
   "source": [
    "import cv2\n",
    "import numpy as np"
   ]
  },
  {
   "cell_type": "code",
   "execution_count": 8,
   "metadata": {},
   "outputs": [],
   "source": [
    "image = cv2.imread('./maxresdefault.jpg')\n",
    "\n",
    "if image is None:\n",
    "    print('Image load failed!')\n",
    "\n",
    "kernel = np.array([[0, -1, 0],\n",
    "                    [-3, 0, 3],\n",
    "                    [-1, 0, 1]])"
   ]
  },
  {
   "cell_type": "code",
   "execution_count": 10,
   "metadata": {},
   "outputs": [],
   "source": [
    "fmap = cv2.filter2D(image, -1, kernel)\n",
    "\n",
    "cv2.imshow('image', image)\n",
    "cv2.imshow('fmap', fmap) \n",
    "cv2.imwrite('fmap.jpg', fmap)\n",
    "cv2.waitKey()\n",
    "cv2.destroyAllWindows()\n",
    " \n",
    " "
   ]
  }
 ],
 "metadata": {
  "kernelspec": {
   "display_name": "tf",
   "language": "python",
   "name": "python3"
  },
  "language_info": {
   "codemirror_mode": {
    "name": "ipython",
    "version": 3
   },
   "file_extension": ".py",
   "mimetype": "text/x-python",
   "name": "python",
   "nbconvert_exporter": "python",
   "pygments_lexer": "ipython3",
   "version": "3.11.5"
  }
 },
 "nbformat": 4,
 "nbformat_minor": 2
}
