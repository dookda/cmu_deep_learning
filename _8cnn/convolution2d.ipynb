{
 "cells": [
  {
   "cell_type": "code",
   "execution_count": 29,
   "metadata": {},
   "outputs": [],
   "source": [
    "import cv2\n",
    "import numpy as np"
   ]
  },
  {
   "cell_type": "code",
   "execution_count": 60,
   "metadata": {},
   "outputs": [
    {
     "data": {
      "text/plain": [
       "array([[0.2, 0. , 0.4, 0.2, 0. ],\n",
       "       [0. , 0.4, 0.6, 0. , 0.2],\n",
       "       [0.2, 0. , 0.2, 0.2, 0.4],\n",
       "       [0. , 0.4, 0.4, 0. , 0.6],\n",
       "       [0. , 0.8, 0.2, 0.4, 0. ]])"
      ]
     },
     "execution_count": 60,
     "metadata": {},
     "output_type": "execute_result"
    }
   ],
   "source": [
    "# create random value of matrix 5x5\n",
    "image = np.array([[ 1, 0, 2, 1, 0],\n",
    "                [0, 2, 3, 0, 1],\n",
    "                [1, 0, 1, 1, 2],\n",
    "                [0, 2, 2, 0, 3],\n",
    "                [0, 4, 1, 2, 0]])\n",
    "\n",
    "image = image / 5.0\n",
    "\n",
    "image"
   ]
  },
  {
   "cell_type": "code",
   "execution_count": 61,
   "metadata": {},
   "outputs": [
    {
     "data": {
      "text/plain": [
       "array([[-1,  0,  1],\n",
       "       [-1,  0,  1],\n",
       "       [-1,  0,  1]])"
      ]
     },
     "execution_count": 61,
     "metadata": {},
     "output_type": "execute_result"
    }
   ],
   "source": [
    "# create kernel 3*3 \n",
    "kernel = np.array([[-1,0,1],\n",
    "                   [-1,0,1],\n",
    "                   [-1,0,1]])\n",
    "\n",
    "kernel"
   ]
  },
  {
   "cell_type": "code",
   "execution_count": 62,
   "metadata": {},
   "outputs": [
    {
     "data": {
      "text/plain": [
       "array([[ 0. ,  1.4, -0.6, -1.2,  0. ],\n",
       "       [ 0. ,  0.8,  0. , -0.6,  0. ],\n",
       "       [ 0. ,  1. , -0.6,  0. ,  0. ],\n",
       "       [ 0. ,  0.6, -0.6,  0.2,  0. ],\n",
       "       [ 0. ,  1. , -1.2,  0.2,  0. ]])"
      ]
     },
     "execution_count": 62,
     "metadata": {},
     "output_type": "execute_result"
    }
   ],
   "source": [
    "# create convolution 2D\n",
    "im2 = cv2.filter2D(src=image, ddepth=-1, kernel=kernel)\n",
    "im2\n"
   ]
  },
  {
   "cell_type": "code",
   "execution_count": 64,
   "metadata": {},
   "outputs": [
    {
     "data": {
      "text/plain": [
       "array([[ 0,  7, -3, -6,  0],\n",
       "       [ 0,  4,  0, -3,  0],\n",
       "       [ 0,  5, -3,  0,  0],\n",
       "       [ 0,  3, -3,  0,  0],\n",
       "       [ 0,  5, -6,  0,  0]])"
      ]
     },
     "execution_count": 64,
     "metadata": {},
     "output_type": "execute_result"
    }
   ],
   "source": [
    "im2_int = (im2 * 5).astype(int)\n",
    "im2_int"
   ]
  },
  {
   "cell_type": "code",
   "execution_count": 65,
   "metadata": {},
   "outputs": [
    {
     "name": "stdout",
     "output_type": "stream",
     "text": [
      "Help on built-in function filter2D:\n",
      "\n",
      "filter2D(...)\n",
      "    filter2D(src, ddepth, kernel[, dst[, anchor[, delta[, borderType]]]]) -> dst\n",
      "    .   @brief Convolves an image with the kernel.\n",
      "    .   \n",
      "    .   The function applies an arbitrary linear filter to an image. In-place operation is supported. When\n",
      "    .   the aperture is partially outside the image, the function interpolates outlier pixel values\n",
      "    .   according to the specified border mode.\n",
      "    .   \n",
      "    .   The function does actually compute correlation, not the convolution:\n",
      "    .   \n",
      "    .   \\f[\\texttt{dst} (x,y) =  \\sum _{ \\substack{0\\leq x' < \\texttt{kernel.cols}\\\\{0\\leq y' < \\texttt{kernel.rows}}}}  \\texttt{kernel} (x',y')* \\texttt{src} (x+x'- \\texttt{anchor.x} ,y+y'- \\texttt{anchor.y} )\\f]\n",
      "    .   \n",
      "    .   That is, the kernel is not mirrored around the anchor point. If you need a real convolution, flip\n",
      "    .   the kernel using #flip and set the new anchor to `(kernel.cols - anchor.x - 1, kernel.rows -\n",
      "    .   anchor.y - 1)`.\n",
      "    .   \n",
      "    .   The function uses the DFT-based algorithm in case of sufficiently large kernels (~`11 x 11` or\n",
      "    .   larger) and the direct algorithm for small kernels.\n",
      "    .   \n",
      "    .   @param src input image.\n",
      "    .   @param dst output image of the same size and the same number of channels as src.\n",
      "    .   @param ddepth desired depth of the destination image, see @ref filter_depths \"combinations\"\n",
      "    .   @param kernel convolution kernel (or rather a correlation kernel), a single-channel floating point\n",
      "    .   matrix; if you want to apply different kernels to different channels, split the image into\n",
      "    .   separate color planes using split and process them individually.\n",
      "    .   @param anchor anchor of the kernel that indicates the relative position of a filtered point within\n",
      "    .   the kernel; the anchor should lie within the kernel; default value (-1,-1) means that the anchor\n",
      "    .   is at the kernel center.\n",
      "    .   @param delta optional value added to the filtered pixels before storing them in dst.\n",
      "    .   @param borderType pixel extrapolation method, see #BorderTypes. #BORDER_WRAP is not supported.\n",
      "    .   @sa  sepFilter2D, dft, matchTemplate\n",
      "\n"
     ]
    }
   ],
   "source": [
    "help(cv2.filter2D)"
   ]
  }
 ],
 "metadata": {
  "kernelspec": {
   "display_name": "tf",
   "language": "python",
   "name": "python3"
  },
  "language_info": {
   "codemirror_mode": {
    "name": "ipython",
    "version": 3
   },
   "file_extension": ".py",
   "mimetype": "text/x-python",
   "name": "python",
   "nbconvert_exporter": "python",
   "pygments_lexer": "ipython3",
   "version": "3.11.5"
  }
 },
 "nbformat": 4,
 "nbformat_minor": 2
}
