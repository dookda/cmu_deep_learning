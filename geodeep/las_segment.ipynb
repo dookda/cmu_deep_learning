{
 "cells": [
  {
   "cell_type": "code",
   "execution_count": 2,
   "metadata": {},
   "outputs": [],
   "source": [
    "import laspy\n",
    "import numpy as np\n",
    "\n",
    "def load_point_cloud_from_las(file_path):\n",
    "    with laspy.open(file_path) as f:\n",
    "        las = f.read()\n",
    "        points = np.vstack((las.x, las.y, las.z)).transpose()\n",
    "    return points\n",
    "\n",
    "# Example usage\n",
    "file_path = './pole.las'  # Update this path\n",
    "points = load_point_cloud_from_las(file_path)\n"
   ]
  },
  {
   "cell_type": "code",
   "execution_count": 3,
   "metadata": {},
   "outputs": [
    {
     "ename": "",
     "evalue": "",
     "output_type": "error",
     "traceback": [
      "\u001b[1;31mThe Kernel crashed while executing code in the current cell or a previous cell. \n",
      "\u001b[1;31mPlease review the code in the cell(s) to identify a possible cause of the failure. \n",
      "\u001b[1;31mClick <a href='https://aka.ms/vscodeJupyterKernelCrash'>here</a> for more info. \n",
      "\u001b[1;31mView Jupyter <a href='command:jupyter.viewOutput'>log</a> for further details."
     ]
    }
   ],
   "source": [
    "from sklearn.cluster import DBSCAN\n",
    "\n",
    "def segment_point_cloud(points, eps=0.5, min_samples=10):\n",
    "    clustering = DBSCAN(eps=eps, min_samples=min_samples).fit(points)\n",
    "    labels = clustering.labels_\n",
    "    return labels\n",
    "\n",
    "# Adjust eps and min_samples based on your point cloud's density and scale\n",
    "labels = segment_point_cloud(points, eps=1, min_samples=10)\n"
   ]
  },
  {
   "cell_type": "code",
   "execution_count": null,
   "metadata": {},
   "outputs": [],
   "source": [
    "import plotly.graph_objects as go\n",
    "\n",
    "def visualize_segmentation(points, labels):\n",
    "    fig = go.Figure(data=[go.Scatter3d(\n",
    "        x=points[:, 0],\n",
    "        y=points[:, 1],\n",
    "        z=points[:, 2],\n",
    "        mode='markers',\n",
    "        marker=dict(\n",
    "            size=2,\n",
    "            color=labels,  # Assign a color to each point based on its cluster label\n",
    "            colorscale='Viridis',  # Color scale\n",
    "            opacity=0.8\n",
    "        )\n",
    "    )])\n",
    "    fig.update_layout(scene=dict(\n",
    "                        xaxis_title='X Axis',\n",
    "                        yaxis_title='Y Axis',\n",
    "                        zaxis_title='Z Axis'),\n",
    "                      width=700,\n",
    "                      margin=dict(r=20, b=10, l=10, t=10))\n",
    "    fig.show()\n",
    "\n",
    "# Example usage\n",
    "visualize_segmentation(points, labels)\n"
   ]
  }
 ],
 "metadata": {
  "kernelspec": {
   "display_name": "las",
   "language": "python",
   "name": "python3"
  },
  "language_info": {
   "codemirror_mode": {
    "name": "ipython",
    "version": 3
   },
   "file_extension": ".py",
   "mimetype": "text/x-python",
   "name": "python",
   "nbconvert_exporter": "python",
   "pygments_lexer": "ipython3",
   "version": "3.12.2"
  }
 },
 "nbformat": 4,
 "nbformat_minor": 2
}
