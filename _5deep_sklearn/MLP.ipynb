{
 "cells": [
  {
   "cell_type": "code",
   "execution_count": 1,
   "metadata": {},
   "outputs": [],
   "source": [
    "import numpy as np\n",
    "from sklearn.neural_network import MLPClassifier\n"
   ]
  },
  {
   "cell_type": "code",
   "execution_count": 9,
   "metadata": {},
   "outputs": [],
   "source": [
    "# load data 4*2 matrix\n",
    "X_train = np.array([[0,0],[0,1],[1,0],[1,1]])\n",
    "y_train = np.array([0,1,1,0])"
   ]
  },
  {
   "cell_type": "code",
   "execution_count": 27,
   "metadata": {},
   "outputs": [
    {
     "name": "stdout",
     "output_type": "stream",
     "text": [
      "predicted:  [0 1 1 0]\n",
      "actual:  [0 1 1 0]\n",
      "Epochs:  2206\n",
      "score:  1.0\n"
     ]
    }
   ],
   "source": [
    "# create MLP model\n",
    "model = MLPClassifier(hidden_layer_sizes=(4), random_state=1, verbose=False, max_iter=2500)\n",
    "\n",
    "# train model\n",
    "model.fit(X_train, y_train)\n",
    "\n",
    "# predict\n",
    "print(\"predicted: \", model.predict(X_train))\n",
    "print(\"actual: \", y_train)\n",
    "print(\"Epochs: \", model.n_iter_)\n",
    "print(\"score: \", model.score(X_train, y_train))\n",
    "\n"
   ]
  },
  {
   "cell_type": "code",
   "execution_count": 30,
   "metadata": {},
   "outputs": [
    {
     "name": "stdout",
     "output_type": "stream",
     "text": [
      "[array([[ 2.41170158e-40,  1.80859529e+00, -9.92502326e-03,\n",
      "        -1.80455221e+00],\n",
      "       [-2.17257496e-04, -1.80883330e+00, -3.36988677e-05,\n",
      "         1.80426633e+00]]), array([[-5.72179923e-05],\n",
      "       [ 2.82922415e+00],\n",
      "       [-1.32012109e-02],\n",
      "       [ 2.65015779e+00]])]\n",
      "[array([-2.06465052e-01, -7.77751866e-05, -1.61610971e-01,  5.45389354e-05]), array([-2.44929225])]\n"
     ]
    }
   ],
   "source": [
    "[coef.shape for coef in model.coefs_]\n",
    "print(model.coefs_)\n",
    "print(model.intercepts_)"
   ]
  },
  {
   "cell_type": "code",
   "execution_count": null,
   "metadata": {},
   "outputs": [],
   "source": [
    "# save model\n",
    "import pickle\n",
    "pickle.dump(model, open('mlp_model.pkl', 'wb'))"
   ]
  }
 ],
 "metadata": {
  "kernelspec": {
   "display_name": "tf",
   "language": "python",
   "name": "python3"
  },
  "language_info": {
   "codemirror_mode": {
    "name": "ipython",
    "version": 3
   },
   "file_extension": ".py",
   "mimetype": "text/x-python",
   "name": "python",
   "nbconvert_exporter": "python",
   "pygments_lexer": "ipython3",
   "version": "3.11.5"
  }
 },
 "nbformat": 4,
 "nbformat_minor": 2
}
