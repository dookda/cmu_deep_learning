{
 "cells": [
  {
   "cell_type": "code",
   "execution_count": 1,
   "metadata": {},
   "outputs": [],
   "source": [
    "# load libraries\n",
    "import numpy as np\n",
    "import pandas as pd\n",
    "import matplotlib.pyplot as plt\n",
    "from tensorflow.keras.datasets import mnist"
   ]
  },
  {
   "cell_type": "code",
   "execution_count": 13,
   "metadata": {},
   "outputs": [
    {
     "name": "stdout",
     "output_type": "stream",
     "text": [
      "(60000, 28, 28)\n",
      "(60000,)\n",
      "(10000, 28, 28)\n",
      "(10000,)\n",
      "(60000, 32, 32, 1) (10000, 32, 32, 1)\n",
      "0.0 1.0\n"
     ]
    }
   ],
   "source": [
    "# load mnist data\n",
    "(X_train, y_train), (X_test, y_test) = mnist.load_data()\n",
    "\n",
    "# check the shape of the data\n",
    "print(X_train.shape) # 60000 images, 28x28 pixels\n",
    "print(y_train.shape) # 60000 labels, 0-9\n",
    "print(X_test.shape) # 10000 images, 28x28 pixels\n",
    "print(y_test.shape) # 10000 labels, 0-9\n",
    "\n",
    "# add padding the images by 2 pixels\n",
    "X_train = np.pad(X_train, ((0,0),(2,2),(2,2)), 'constant')\n",
    "X_test = np.pad(X_test, ((0,0),(2,2),(2,2)), 'constant')\n",
    "\n",
    "X_train = np.expand_dims(X_train, axis=-1)\n",
    "X_test = np.expand_dims(X_test, axis=-1)\n",
    "\n",
    "print(X_train.shape, X_test.shape)\n",
    "\n",
    "# normalize\n",
    "X_train = X_train.astype('float32')/255\n",
    "X_test = X_test.astype('float32')/255\n",
    "\n",
    "print(X_train.min(), X_test.max())"
   ]
  },
  {
   "cell_type": "code",
   "execution_count": 15,
   "metadata": {},
   "outputs": [
    {
     "name": "stdout",
     "output_type": "stream",
     "text": [
      "(60000, 32, 32, 1)\n",
      "(10000, 32, 32, 1)\n",
      "(32, 32, 1)\n",
      "10\n"
     ]
    }
   ],
   "source": [
    "# check the shape of the data\n",
    "print(X_train.shape) # 60000 images, 32x32 pixels\n",
    "print(X_test.shape) # 10000 images, 32x32 pixels\n",
    "\n",
    "in_shape = X_train.shape[1:]\n",
    "print(in_shape)\n",
    "\n",
    "num_class = len(np.unique(y_train))\n",
    "print(num_class)"
   ]
  },
  {
   "cell_type": "code",
   "execution_count": 16,
   "metadata": {},
   "outputs": [
    {
     "name": "stdout",
     "output_type": "stream",
     "text": [
      "Model: \"sequential\"\n",
      "_________________________________________________________________\n",
      " Layer (type)                Output Shape              Param #   \n",
      "=================================================================\n",
      " conv2d (Conv2D)             (None, 28, 28, 6)         156       \n",
      "                                                                 \n",
      " average_pooling2d (AverageP  (None, 14, 14, 6)        0         \n",
      " ooling2D)                                                       \n",
      "                                                                 \n",
      " conv2d_1 (Conv2D)           (None, 10, 10, 16)        2416      \n",
      "                                                                 \n",
      " average_pooling2d_1 (Averag  (None, 5, 5, 16)         0         \n",
      " ePooling2D)                                                     \n",
      "                                                                 \n",
      " conv2d_2 (Conv2D)           (None, 1, 1, 120)         48120     \n",
      "                                                                 \n",
      " flatten (Flatten)           (None, 120)               0         \n",
      "                                                                 \n",
      " dense (Dense)               (None, 84)                10164     \n",
      "                                                                 \n",
      " dense_1 (Dense)             (None, 10)                850       \n",
      "                                                                 \n",
      "=================================================================\n",
      "Total params: 61,706\n",
      "Trainable params: 61,706\n",
      "Non-trainable params: 0\n",
      "_________________________________________________________________\n"
     ]
    }
   ],
   "source": [
    "# create model\n",
    "from tensorflow.keras.models import Sequential\n",
    "from tensorflow.keras.layers import Dense, Flatten, Conv2D, AveragePooling2D\n",
    "\n",
    "model = Sequential()\n",
    "\n",
    "# Convo2D 6-filter, 5x5 kernel, 1x1 stride, relu activation, input shape 32x32x1\n",
    "model.add(Conv2D(filters=6, kernel_size=(5,5), strides=(1,1), activation='relu', input_shape=in_shape))\n",
    "# Average Pooling2D 2x2 pool size, 2x2 stride\n",
    "model.add(AveragePooling2D(pool_size=(2,2), strides=(2,2)))\n",
    "\n",
    "# Convo2D 16-filter, 5x5 kernel, 1x1 stride, relu activation\n",
    "model.add(Conv2D(filters=16, kernel_size=(5,5), strides=(1,1), activation='relu'))\n",
    "# Average Pooling2D 2x2 pool size, 2x2 stride\n",
    "model.add(AveragePooling2D(pool_size=(2,2), strides=(2,2)))\n",
    "\n",
    "# Convo2D 120-filter, 5x5 kernel, 1x1 stride, relu activation\n",
    "model.add(Conv2D(filters=120, kernel_size=(5,5), strides=(1,1), activation='relu'))\n",
    "\n",
    "# Flatten\n",
    "model.add(Flatten())\n",
    "\n",
    "# Fully connected, Dense 84 units, relu activation\n",
    "model.add(Dense(units=84, activation='relu'))\n",
    "\n",
    "# Output Dense 10 units (from num_class), softmax activation\n",
    "model.add(Dense(units=num_class, activation='softmax'))\n",
    "\n",
    "# summary \n",
    "model.summary()"
   ]
  },
  {
   "cell_type": "code",
   "execution_count": 17,
   "metadata": {},
   "outputs": [
    {
     "name": "stdout",
     "output_type": "stream",
     "text": [
      "Epoch 1/20\n"
     ]
    },
    {
     "name": "stderr",
     "output_type": "stream",
     "text": [
      "2023-10-25 17:18:40.898919: W tensorflow/tsl/platform/profile_utils/cpu_utils.cc:128] Failed to get CPU frequency: 0 Hz\n"
     ]
    },
    {
     "name": "stdout",
     "output_type": "stream",
     "text": [
      "469/469 [==============================] - 6s 12ms/step - loss: 0.3572 - accuracy: 0.8945 - val_loss: 0.1167 - val_accuracy: 0.9637\n",
      "Epoch 2/20\n",
      "469/469 [==============================] - 6s 12ms/step - loss: 0.1018 - accuracy: 0.9683 - val_loss: 0.0630 - val_accuracy: 0.9794\n",
      "Epoch 3/20\n",
      "469/469 [==============================] - 6s 12ms/step - loss: 0.0709 - accuracy: 0.9781 - val_loss: 0.0561 - val_accuracy: 0.9809\n",
      "Epoch 4/20\n",
      "469/469 [==============================] - 6s 12ms/step - loss: 0.0567 - accuracy: 0.9830 - val_loss: 0.0489 - val_accuracy: 0.9842\n",
      "Epoch 5/20\n",
      "469/469 [==============================] - 6s 13ms/step - loss: 0.0468 - accuracy: 0.9856 - val_loss: 0.0401 - val_accuracy: 0.9875\n",
      "Epoch 6/20\n",
      "469/469 [==============================] - 6s 13ms/step - loss: 0.0398 - accuracy: 0.9876 - val_loss: 0.0340 - val_accuracy: 0.9889\n",
      "Epoch 7/20\n",
      "469/469 [==============================] - 6s 13ms/step - loss: 0.0330 - accuracy: 0.9896 - val_loss: 0.0330 - val_accuracy: 0.9898\n",
      "Epoch 8/20\n",
      "469/469 [==============================] - 6s 13ms/step - loss: 0.0296 - accuracy: 0.9909 - val_loss: 0.0342 - val_accuracy: 0.9884\n",
      "Epoch 9/20\n",
      "469/469 [==============================] - 6s 14ms/step - loss: 0.0269 - accuracy: 0.9915 - val_loss: 0.0391 - val_accuracy: 0.9872\n",
      "Epoch 10/20\n",
      "469/469 [==============================] - 7s 15ms/step - loss: 0.0224 - accuracy: 0.9930 - val_loss: 0.0311 - val_accuracy: 0.9907\n",
      "Epoch 11/20\n",
      "469/469 [==============================] - 7s 15ms/step - loss: 0.0207 - accuracy: 0.9933 - val_loss: 0.0325 - val_accuracy: 0.9894\n",
      "Epoch 12/20\n",
      "469/469 [==============================] - 7s 15ms/step - loss: 0.0182 - accuracy: 0.9938 - val_loss: 0.0331 - val_accuracy: 0.9903\n",
      "Epoch 13/20\n",
      "469/469 [==============================] - 7s 15ms/step - loss: 0.0159 - accuracy: 0.9945 - val_loss: 0.0278 - val_accuracy: 0.9916\n",
      "Epoch 14/20\n",
      "469/469 [==============================] - 7s 15ms/step - loss: 0.0155 - accuracy: 0.9948 - val_loss: 0.0366 - val_accuracy: 0.9890\n",
      "Epoch 15/20\n",
      "469/469 [==============================] - 7s 15ms/step - loss: 0.0136 - accuracy: 0.9956 - val_loss: 0.0338 - val_accuracy: 0.9908\n",
      "Epoch 16/20\n",
      "469/469 [==============================] - 7s 15ms/step - loss: 0.0123 - accuracy: 0.9960 - val_loss: 0.0321 - val_accuracy: 0.9903\n",
      "Epoch 17/20\n",
      "469/469 [==============================] - 9s 18ms/step - loss: 0.0109 - accuracy: 0.9964 - val_loss: 0.0377 - val_accuracy: 0.9897\n",
      "Epoch 18/20\n",
      "469/469 [==============================] - 7s 16ms/step - loss: 0.0103 - accuracy: 0.9966 - val_loss: 0.0393 - val_accuracy: 0.9891\n",
      "Epoch 19/20\n",
      "469/469 [==============================] - 7s 15ms/step - loss: 0.0104 - accuracy: 0.9964 - val_loss: 0.0355 - val_accuracy: 0.9898\n",
      "Epoch 20/20\n",
      "469/469 [==============================] - 7s 15ms/step - loss: 0.0081 - accuracy: 0.9973 - val_loss: 0.0454 - val_accuracy: 0.9891\n",
      "Test loss: 0.04541778191924095\n",
      "Test accuracy: 0.9890999794006348\n"
     ]
    },
    {
     "data": {
      "image/png": "[encoded data removed]",
      "text/plain": [
       "<Figure size 640x480 with 1 Axes>"
      ]
     },
     "metadata": {},
     "output_type": "display_data"
    }
   ],
   "source": [
    "# compile model\n",
    "model.compile(optimizer='adam', loss='sparse_categorical_crossentropy', metrics=['accuracy'])\n",
    "\n",
    "# fit model\n",
    "history = model.fit(X_train, y_train, epochs=20, batch_size=128, validation_split=0.2, validation_data=(X_test, y_test), verbose=1)\n",
    "\n",
    "# evaluate model\n",
    "score = model.evaluate(X_test, y_test, verbose=0)\n",
    "print('Test loss:', score[0])\n",
    "print('Test accuracy:', score[1])\n",
    "\n",
    "# plot accuracy and loss\n",
    "plt.plot(history.history['accuracy'])\n",
    "plt.plot(history.history['val_accuracy'])\n",
    "plt.title('Model Accuracy')\n",
    "plt.xlabel('Epoch')\n",
    "plt.ylabel('Accuracy')\n",
    "plt.legend(['Train', 'Validation'], loc='upper left')\n",
    "plt.show()"
   ]
  }
 ],
 "metadata": {
  "kernelspec": {
   "display_name": "tf",
   "language": "python",
   "name": "python3"
  },
  "language_info": {
   "codemirror_mode": {
    "name": "ipython",
    "version": 3
   },
   "file_extension": ".py",
   "mimetype": "text/x-python",
   "name": "python",
   "nbconvert_exporter": "python",
   "pygments_lexer": "ipython3",
   "version": "3.11.5"
  }
 },
 "nbformat": 4,
 "nbformat_minor": 2
}
