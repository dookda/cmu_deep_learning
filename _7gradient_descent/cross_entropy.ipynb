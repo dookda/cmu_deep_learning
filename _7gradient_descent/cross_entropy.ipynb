{
 "cells": [
  {
   "cell_type": "code",
   "execution_count": 1,
   "metadata": {},
   "outputs": [],
   "source": [
    "import numpy as np\n",
    "import tensorflow as tf"
   ]
  },
  {
   "cell_type": "code",
   "execution_count": 8,
   "metadata": {},
   "outputs": [
    {
     "name": "stdout",
     "output_type": "stream",
     "text": [
      "15.379093\n"
     ]
    }
   ],
   "source": [
    "y_true = [0, 0, 1, 1]\n",
    "y_pred = [1, 1, 0, 0]\n",
    "\n",
    "y_pred = np.array(y_pred).astype(np.float32)\n",
    "\n",
    "bce = tf.keras.losses.BinaryCrossentropy()\n",
    "print(bce(y_true, y_pred).numpy())"
   ]
  }
 ],
 "metadata": {
  "kernelspec": {
   "display_name": "tf",
   "language": "python",
   "name": "python3"
  },
  "language_info": {
   "codemirror_mode": {
    "name": "ipython",
    "version": 3
   },
   "file_extension": ".py",
   "mimetype": "text/x-python",
   "name": "python",
   "nbconvert_exporter": "python",
   "pygments_lexer": "ipython3",
   "version": "3.11.5"
  }
 },
 "nbformat": 4,
 "nbformat_minor": 2
}
