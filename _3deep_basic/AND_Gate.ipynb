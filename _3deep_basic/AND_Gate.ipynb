{
 "cells": [
  {
   "cell_type": "code",
   "execution_count": 14,
   "metadata": {},
   "outputs": [
    {
     "name": "stdout",
     "output_type": "stream",
     "text": [
      "output y=0 s=-0.5\n",
      "output y=0 s=-0.09999999999999998\n",
      "output y=0 s=-0.09999999999999998\n",
      "output y=1 s=0.30000000000000004\n"
     ]
    }
   ],
   "source": [
    "w = 0.4\n",
    "def and_gate(x1, x2):\n",
    "    w0 = -0.5\n",
    "    w1 = w\n",
    "    w2 = w\n",
    "    theshold = 0.0\n",
    "\n",
    "    s = w0 + w1 * x1 + w2 * x2\n",
    "\n",
    "    if s >= theshold:\n",
    "        result =  1\n",
    "    else:\n",
    "        result = 0\n",
    "    \n",
    "    print(f\"output y={result} s={s}\")\n",
    "\n",
    "    \n",
    "# Path: AND_Gate.ipynb\n",
    "and_gate(0, 0)\n",
    "and_gate(0, 1)\n",
    "and_gate(1, 0)\n",
    "and_gate(1, 1)\n"
   ]
  },
  {
   "cell_type": "code",
   "execution_count": null,
   "metadata": {},
   "outputs": [],
   "source": [
    "w = 0.4\n",
    "def or_gate(x1, x2):\n",
    "    w0 = -0.5\n",
    "    w1 = w\n",
    "    w2 = w\n",
    "    theshold = 0.0\n",
    "\n",
    "    s = w0 + w1 * x1 + w2 * x2\n",
    "\n",
    "    if s >= theshold:\n",
    "        result =  1\n",
    "    else:\n",
    "        result = 0\n",
    "    \n",
    "    print(f\"output y={result} s={s}\")\n",
    "\n",
    "    \n",
    "# Path: AND_Gate.ipynb\n",
    "or_gate(0, 0)\n",
    "or_gate(0, 1)\n",
    "or_gate(1, 0)\n",
    "or_gate(1, 1)"
   ]
  },
  {
   "cell_type": "code",
   "execution_count": 17,
   "metadata": {},
   "outputs": [
    {
     "name": "stdout",
     "output_type": "stream",
     "text": [
      "output y=0 s=-1.0\n",
      "output y=0 s=-1.9\n",
      "output y=0 s=-0.34999999999999987\n",
      "output y=1 s=0.20000000000000018\n",
      "output y=1 s=1.35\n"
     ]
    }
   ],
   "source": [
    "w = 0.4\n",
    "def is_lemon(x1, x2):\n",
    "    w0 = -3.5\n",
    "    w1 = 0.2\n",
    "    w2 = 0.5\n",
    "    theshold = 0.0\n",
    "\n",
    "    s = w0 + w1 * x1 + w2 * x2\n",
    "\n",
    "    if s >= theshold:\n",
    "        result =  1\n",
    "    else:\n",
    "        result = 0\n",
    "    \n",
    "    print(f\"output y={result} s={s}\")\n",
    "\n",
    "    \n",
    "# Path: AND_Gate.ipynb\n",
    "is_lemon(2, 4.2)\n",
    "is_lemon(3, 2)\n",
    "is_lemon(8, 3.1)\n",
    "is_lemon(8, 4.2)\n",
    "\n",
    "is_lemon(8, 6.5)"
   ]
  }
 ],
 "metadata": {
  "kernelspec": {
   "display_name": "tf",
   "language": "python",
   "name": "python3"
  },
  "language_info": {
   "codemirror_mode": {
    "name": "ipython",
    "version": 3
   },
   "file_extension": ".py",
   "mimetype": "text/x-python",
   "name": "python",
   "nbconvert_exporter": "python",
   "pygments_lexer": "ipython3",
   "version": "3.11.5"
  }
 },
 "nbformat": 4,
 "nbformat_minor": 2
}
